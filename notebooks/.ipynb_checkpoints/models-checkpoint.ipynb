{
 "cells": [
  {
   "cell_type": "code",
   "execution_count": 1,
   "id": "ccdc891c-9eb7-4a6c-893c-6cea7ff55f54",
   "metadata": {},
   "outputs": [],
   "source": [
    "# Load Libraries\n",
    "\n",
    "import pandas as pd\n",
    "import numpy as np\n",
    "import plotly.express as px\n",
    "import matplotlib.pyplot as plt\n",
    "from statsmodels.tsa.ar_model import AutoReg\n",
    "from statsmodels.tsa.arima.model import ARIMA\n",
    "from statsmodels.tsa.statespace.sarimax import SARIMAX\n",
    "from sklearn.metrics import mean_squared_error, mean_absolute_error\n",
    "from pmdarima import auto_arima"
   ]
  },
  {
   "cell_type": "code",
   "execution_count": 2,
   "id": "89e9313e-675f-4908-bc9f-20605e96537b",
   "metadata": {},
   "outputs": [
    {
     "data": {
      "text/plain": [
       "date\n",
       "2023-11-01 12:00:00+01:00    19.000000\n",
       "2023-11-01 18:00:00+01:00    15.610000\n",
       "2023-11-02 00:00:00+01:00    19.867137\n",
       "2023-11-02 06:00:00+01:00    24.124275\n",
       "2023-11-02 12:00:00+01:00    28.381412\n",
       "Freq: 6h, Name: PM2.5, dtype: float64"
      ]
     },
     "execution_count": 2,
     "metadata": {},
     "output_type": "execute_result"
    }
   ],
   "source": [
    "# import sys\n",
    "# import os\n",
    "# scripts_path = os.path.abspath(\"../scripts\")\n",
    "# if scripts_path not in sys.path:\n",
    "#     sys.path.append(scripts_path)\n",
    "\n",
    "# from wrangle import wrangle\n",
    "# df = wrangle(\"../data/air_quality_in_nairobi.csv\")\n",
    "\n",
    "# Load combined dataset\n",
    "\n",
    "# file directory\n",
    "file= \"../data/Air_Quality_Lagos_Combined.csv\"\n",
    "\n",
    "# load into DataFrame\n",
    "df = pd.read_csv(file, index_col=\"date\", parse_dates=True)\n",
    "\n",
    "# resampling the data to 1 hour interval\n",
    "y = df[\"PM2.5\"].resample('6h').mean().interpolate(method = \"time\")\n",
    "\n",
    "y.head()"
   ]
  },
  {
   "cell_type": "code",
   "execution_count": 3,
   "id": "5ccf1e8c-9407-4677-8795-ce072d084abb",
   "metadata": {},
   "outputs": [
    {
     "name": "stdout",
     "output_type": "stream",
     "text": [
      "The Shape of the Dataset is: (2068,)\n",
      "The Dataset has: 2068 historical data\n",
      "The number of missing data is: 0\n"
     ]
    }
   ],
   "source": [
    "# Size of the Dataset\n",
    "shape = y.shape\n",
    "\n",
    "print(f\"The Shape of the Dataset is: {shape}\")\n",
    "print(f\"The Dataset has: {shape[0]} historical data\")\n",
    "print(f\"The number of missing data is: {y.isna().sum()}\")\n",
    "# print(f\"The dataset have {shape[1]} column. For PM2.5 Readings\")"
   ]
  },
  {
   "cell_type": "code",
   "execution_count": 4,
   "id": "b50175bc-4de5-4d1a-bd65-9ed32ae411ac",
   "metadata": {},
   "outputs": [
    {
     "name": "stdout",
     "output_type": "stream",
     "text": [
      "Train split: (1654,)\n",
      "Test split: (414,)\n"
     ]
    }
   ],
   "source": [
    "# Data Split \n",
    "cutt_off = int(len(y) * 0.8)\n",
    "\n",
    "train = y.iloc[:cutt_off]\n",
    "test = y.iloc[cutt_off:]\n",
    "\n",
    "\n",
    "# # train split\n",
    "# train = y.loc[:\"2024-11-24\"]\n",
    "\n",
    "# # test split\n",
    "# test = y.loc[\"2024-11-25\":]\n",
    "\n",
    "print(f\"Train split: {train.shape}\")\n",
    "print(f\"Test split: {test.shape}\")"
   ]
  },
  {
   "cell_type": "markdown",
   "id": "23356647-219e-4a08-b1fa-cffcb1bbb016",
   "metadata": {},
   "source": [
    "# Correct HyperParameter"
   ]
  },
  {
   "cell_type": "code",
   "execution_count": 5,
   "id": "b2dc8824-5cc9-4a9c-9cd8-aecb62cb2e04",
   "metadata": {},
   "outputs": [
    {
     "name": "stderr",
     "output_type": "stream",
     "text": [
      "C:\\Users\\user\\anaconda3\\Lib\\site-packages\\sklearn\\utils\\deprecation.py:151: FutureWarning: 'force_all_finite' was renamed to 'ensure_all_finite' in 1.6 and will be removed in 1.8.\n",
      "  warnings.warn(\n",
      "C:\\Users\\user\\anaconda3\\Lib\\site-packages\\sklearn\\utils\\deprecation.py:151: FutureWarning: 'force_all_finite' was renamed to 'ensure_all_finite' in 1.6 and will be removed in 1.8.\n",
      "  warnings.warn(\n",
      "C:\\Users\\user\\anaconda3\\Lib\\site-packages\\sklearn\\utils\\deprecation.py:151: FutureWarning: 'force_all_finite' was renamed to 'ensure_all_finite' in 1.6 and will be removed in 1.8.\n",
      "  warnings.warn(\n",
      "C:\\Users\\user\\anaconda3\\Lib\\site-packages\\sklearn\\utils\\deprecation.py:151: FutureWarning: 'force_all_finite' was renamed to 'ensure_all_finite' in 1.6 and will be removed in 1.8.\n",
      "  warnings.warn(\n",
      "C:\\Users\\user\\anaconda3\\Lib\\site-packages\\sklearn\\utils\\deprecation.py:151: FutureWarning: 'force_all_finite' was renamed to 'ensure_all_finite' in 1.6 and will be removed in 1.8.\n",
      "  warnings.warn(\n",
      "C:\\Users\\user\\anaconda3\\Lib\\site-packages\\sklearn\\utils\\deprecation.py:151: FutureWarning: 'force_all_finite' was renamed to 'ensure_all_finite' in 1.6 and will be removed in 1.8.\n",
      "  warnings.warn(\n",
      "C:\\Users\\user\\anaconda3\\Lib\\site-packages\\sklearn\\utils\\deprecation.py:151: FutureWarning: 'force_all_finite' was renamed to 'ensure_all_finite' in 1.6 and will be removed in 1.8.\n",
      "  warnings.warn(\n",
      "C:\\Users\\user\\anaconda3\\Lib\\site-packages\\sklearn\\utils\\deprecation.py:151: FutureWarning: 'force_all_finite' was renamed to 'ensure_all_finite' in 1.6 and will be removed in 1.8.\n",
      "  warnings.warn(\n",
      "C:\\Users\\user\\anaconda3\\Lib\\site-packages\\sklearn\\utils\\deprecation.py:151: FutureWarning: 'force_all_finite' was renamed to 'ensure_all_finite' in 1.6 and will be removed in 1.8.\n",
      "  warnings.warn(\n",
      "C:\\Users\\user\\anaconda3\\Lib\\site-packages\\sklearn\\utils\\deprecation.py:151: FutureWarning: 'force_all_finite' was renamed to 'ensure_all_finite' in 1.6 and will be removed in 1.8.\n",
      "  warnings.warn(\n",
      "C:\\Users\\user\\anaconda3\\Lib\\site-packages\\sklearn\\utils\\deprecation.py:151: FutureWarning: 'force_all_finite' was renamed to 'ensure_all_finite' in 1.6 and will be removed in 1.8.\n",
      "  warnings.warn(\n"
     ]
    },
    {
     "name": "stdout",
     "output_type": "stream",
     "text": [
      "Performing stepwise search to minimize aic\n",
      " ARIMA(2,1,2)(1,0,1)[4] intercept   : AIC=inf, Time=5.93 sec\n",
      " ARIMA(0,1,0)(0,0,0)[4] intercept   : AIC=12620.394, Time=0.11 sec\n"
     ]
    },
    {
     "name": "stderr",
     "output_type": "stream",
     "text": [
      "C:\\Users\\user\\anaconda3\\Lib\\site-packages\\sklearn\\utils\\deprecation.py:151: FutureWarning: 'force_all_finite' was renamed to 'ensure_all_finite' in 1.6 and will be removed in 1.8.\n",
      "  warnings.warn(\n",
      "C:\\Users\\user\\anaconda3\\Lib\\site-packages\\sklearn\\utils\\deprecation.py:151: FutureWarning: 'force_all_finite' was renamed to 'ensure_all_finite' in 1.6 and will be removed in 1.8.\n",
      "  warnings.warn(\n"
     ]
    },
    {
     "name": "stdout",
     "output_type": "stream",
     "text": [
      " ARIMA(1,1,0)(1,0,0)[4] intercept   : AIC=12549.002, Time=0.72 sec\n"
     ]
    },
    {
     "name": "stderr",
     "output_type": "stream",
     "text": [
      "C:\\Users\\user\\anaconda3\\Lib\\site-packages\\sklearn\\utils\\deprecation.py:151: FutureWarning: 'force_all_finite' was renamed to 'ensure_all_finite' in 1.6 and will be removed in 1.8.\n",
      "  warnings.warn(\n"
     ]
    },
    {
     "name": "stdout",
     "output_type": "stream",
     "text": [
      " ARIMA(0,1,1)(0,0,1)[4] intercept   : AIC=12552.079, Time=0.76 sec\n",
      " ARIMA(0,1,0)(0,0,0)[4]             : AIC=12618.400, Time=0.10 sec\n"
     ]
    },
    {
     "name": "stderr",
     "output_type": "stream",
     "text": [
      "C:\\Users\\user\\anaconda3\\Lib\\site-packages\\sklearn\\utils\\deprecation.py:151: FutureWarning: 'force_all_finite' was renamed to 'ensure_all_finite' in 1.6 and will be removed in 1.8.\n",
      "  warnings.warn(\n",
      "C:\\Users\\user\\anaconda3\\Lib\\site-packages\\sklearn\\utils\\deprecation.py:151: FutureWarning: 'force_all_finite' was renamed to 'ensure_all_finite' in 1.6 and will be removed in 1.8.\n",
      "  warnings.warn(\n"
     ]
    },
    {
     "name": "stdout",
     "output_type": "stream",
     "text": [
      " ARIMA(1,1,0)(0,0,0)[4] intercept   : AIC=12588.976, Time=0.17 sec\n"
     ]
    },
    {
     "name": "stderr",
     "output_type": "stream",
     "text": [
      "C:\\Users\\user\\anaconda3\\Lib\\site-packages\\sklearn\\utils\\deprecation.py:151: FutureWarning: 'force_all_finite' was renamed to 'ensure_all_finite' in 1.6 and will be removed in 1.8.\n",
      "  warnings.warn(\n"
     ]
    },
    {
     "name": "stdout",
     "output_type": "stream",
     "text": [
      " ARIMA(1,1,0)(2,0,0)[4] intercept   : AIC=12443.316, Time=1.37 sec\n"
     ]
    },
    {
     "name": "stderr",
     "output_type": "stream",
     "text": [
      "C:\\Users\\user\\anaconda3\\Lib\\site-packages\\sklearn\\utils\\deprecation.py:151: FutureWarning: 'force_all_finite' was renamed to 'ensure_all_finite' in 1.6 and will be removed in 1.8.\n",
      "  warnings.warn(\n"
     ]
    },
    {
     "name": "stdout",
     "output_type": "stream",
     "text": [
      " ARIMA(1,1,0)(2,0,1)[4] intercept   : AIC=12239.443, Time=2.42 sec\n"
     ]
    },
    {
     "name": "stderr",
     "output_type": "stream",
     "text": [
      "C:\\Users\\user\\anaconda3\\Lib\\site-packages\\sklearn\\utils\\deprecation.py:151: FutureWarning: 'force_all_finite' was renamed to 'ensure_all_finite' in 1.6 and will be removed in 1.8.\n",
      "  warnings.warn(\n"
     ]
    },
    {
     "name": "stdout",
     "output_type": "stream",
     "text": [
      " ARIMA(1,1,0)(1,0,1)[4] intercept   : AIC=12263.217, Time=1.59 sec\n"
     ]
    },
    {
     "name": "stderr",
     "output_type": "stream",
     "text": [
      "C:\\Users\\user\\anaconda3\\Lib\\site-packages\\sklearn\\utils\\deprecation.py:151: FutureWarning: 'force_all_finite' was renamed to 'ensure_all_finite' in 1.6 and will be removed in 1.8.\n",
      "  warnings.warn(\n"
     ]
    },
    {
     "name": "stdout",
     "output_type": "stream",
     "text": [
      " ARIMA(1,1,0)(2,0,2)[4] intercept   : AIC=12241.368, Time=2.33 sec\n"
     ]
    },
    {
     "name": "stderr",
     "output_type": "stream",
     "text": [
      "C:\\Users\\user\\anaconda3\\Lib\\site-packages\\sklearn\\utils\\deprecation.py:151: FutureWarning: 'force_all_finite' was renamed to 'ensure_all_finite' in 1.6 and will be removed in 1.8.\n",
      "  warnings.warn(\n"
     ]
    },
    {
     "name": "stdout",
     "output_type": "stream",
     "text": [
      " ARIMA(1,1,0)(1,0,2)[4] intercept   : AIC=12239.240, Time=2.81 sec\n"
     ]
    },
    {
     "name": "stderr",
     "output_type": "stream",
     "text": [
      "C:\\Users\\user\\anaconda3\\Lib\\site-packages\\sklearn\\utils\\deprecation.py:151: FutureWarning: 'force_all_finite' was renamed to 'ensure_all_finite' in 1.6 and will be removed in 1.8.\n",
      "  warnings.warn(\n"
     ]
    },
    {
     "name": "stdout",
     "output_type": "stream",
     "text": [
      " ARIMA(1,1,0)(0,0,2)[4] intercept   : AIC=12502.594, Time=1.37 sec\n"
     ]
    },
    {
     "name": "stderr",
     "output_type": "stream",
     "text": [
      "C:\\Users\\user\\anaconda3\\Lib\\site-packages\\sklearn\\utils\\deprecation.py:151: FutureWarning: 'force_all_finite' was renamed to 'ensure_all_finite' in 1.6 and will be removed in 1.8.\n",
      "  warnings.warn(\n"
     ]
    },
    {
     "name": "stdout",
     "output_type": "stream",
     "text": [
      " ARIMA(1,1,0)(0,0,1)[4] intercept   : AIC=12563.100, Time=0.71 sec\n"
     ]
    },
    {
     "name": "stderr",
     "output_type": "stream",
     "text": [
      "C:\\Users\\user\\anaconda3\\Lib\\site-packages\\sklearn\\utils\\deprecation.py:151: FutureWarning: 'force_all_finite' was renamed to 'ensure_all_finite' in 1.6 and will be removed in 1.8.\n",
      "  warnings.warn(\n"
     ]
    },
    {
     "name": "stdout",
     "output_type": "stream",
     "text": [
      " ARIMA(0,1,0)(1,0,2)[4] intercept   : AIC=12247.789, Time=1.87 sec\n"
     ]
    },
    {
     "name": "stderr",
     "output_type": "stream",
     "text": [
      "C:\\Users\\user\\anaconda3\\Lib\\site-packages\\sklearn\\utils\\deprecation.py:151: FutureWarning: 'force_all_finite' was renamed to 'ensure_all_finite' in 1.6 and will be removed in 1.8.\n",
      "  warnings.warn(\n"
     ]
    },
    {
     "name": "stdout",
     "output_type": "stream",
     "text": [
      " ARIMA(2,1,0)(1,0,2)[4] intercept   : AIC=12220.178, Time=3.25 sec\n"
     ]
    },
    {
     "name": "stderr",
     "output_type": "stream",
     "text": [
      "C:\\Users\\user\\anaconda3\\Lib\\site-packages\\sklearn\\utils\\deprecation.py:151: FutureWarning: 'force_all_finite' was renamed to 'ensure_all_finite' in 1.6 and will be removed in 1.8.\n",
      "  warnings.warn(\n"
     ]
    },
    {
     "name": "stdout",
     "output_type": "stream",
     "text": [
      " ARIMA(2,1,0)(0,0,2)[4] intercept   : AIC=12477.268, Time=1.52 sec\n"
     ]
    },
    {
     "name": "stderr",
     "output_type": "stream",
     "text": [
      "C:\\Users\\user\\anaconda3\\Lib\\site-packages\\sklearn\\utils\\deprecation.py:151: FutureWarning: 'force_all_finite' was renamed to 'ensure_all_finite' in 1.6 and will be removed in 1.8.\n",
      "  warnings.warn(\n"
     ]
    },
    {
     "name": "stdout",
     "output_type": "stream",
     "text": [
      " ARIMA(2,1,0)(1,0,1)[4] intercept   : AIC=12249.847, Time=2.13 sec\n"
     ]
    },
    {
     "name": "stderr",
     "output_type": "stream",
     "text": [
      "C:\\Users\\user\\anaconda3\\Lib\\site-packages\\sklearn\\utils\\deprecation.py:151: FutureWarning: 'force_all_finite' was renamed to 'ensure_all_finite' in 1.6 and will be removed in 1.8.\n",
      "  warnings.warn(\n"
     ]
    },
    {
     "name": "stdout",
     "output_type": "stream",
     "text": [
      " ARIMA(2,1,0)(2,0,2)[4] intercept   : AIC=12224.662, Time=4.84 sec\n"
     ]
    },
    {
     "name": "stderr",
     "output_type": "stream",
     "text": [
      "C:\\Users\\user\\anaconda3\\Lib\\site-packages\\sklearn\\utils\\deprecation.py:151: FutureWarning: 'force_all_finite' was renamed to 'ensure_all_finite' in 1.6 and will be removed in 1.8.\n",
      "  warnings.warn(\n"
     ]
    },
    {
     "name": "stdout",
     "output_type": "stream",
     "text": [
      " ARIMA(2,1,0)(0,0,1)[4] intercept   : AIC=12533.266, Time=0.94 sec\n"
     ]
    },
    {
     "name": "stderr",
     "output_type": "stream",
     "text": [
      "C:\\Users\\user\\anaconda3\\Lib\\site-packages\\sklearn\\utils\\deprecation.py:151: FutureWarning: 'force_all_finite' was renamed to 'ensure_all_finite' in 1.6 and will be removed in 1.8.\n",
      "  warnings.warn(\n"
     ]
    },
    {
     "name": "stdout",
     "output_type": "stream",
     "text": [
      " ARIMA(2,1,0)(2,0,1)[4] intercept   : AIC=12220.583, Time=3.61 sec\n"
     ]
    },
    {
     "name": "stderr",
     "output_type": "stream",
     "text": [
      "C:\\Users\\user\\anaconda3\\Lib\\site-packages\\sklearn\\utils\\deprecation.py:151: FutureWarning: 'force_all_finite' was renamed to 'ensure_all_finite' in 1.6 and will be removed in 1.8.\n",
      "  warnings.warn(\n"
     ]
    },
    {
     "name": "stdout",
     "output_type": "stream",
     "text": [
      " ARIMA(3,1,0)(1,0,2)[4] intercept   : AIC=12181.879, Time=3.57 sec\n"
     ]
    },
    {
     "name": "stderr",
     "output_type": "stream",
     "text": [
      "C:\\Users\\user\\anaconda3\\Lib\\site-packages\\sklearn\\utils\\deprecation.py:151: FutureWarning: 'force_all_finite' was renamed to 'ensure_all_finite' in 1.6 and will be removed in 1.8.\n",
      "  warnings.warn(\n"
     ]
    },
    {
     "name": "stdout",
     "output_type": "stream",
     "text": [
      " ARIMA(3,1,0)(0,0,2)[4] intercept   : AIC=12407.170, Time=1.87 sec\n"
     ]
    },
    {
     "name": "stderr",
     "output_type": "stream",
     "text": [
      "C:\\Users\\user\\anaconda3\\Lib\\site-packages\\sklearn\\utils\\deprecation.py:151: FutureWarning: 'force_all_finite' was renamed to 'ensure_all_finite' in 1.6 and will be removed in 1.8.\n",
      "  warnings.warn(\n"
     ]
    },
    {
     "name": "stdout",
     "output_type": "stream",
     "text": [
      " ARIMA(3,1,0)(1,0,1)[4] intercept   : AIC=12221.507, Time=2.77 sec\n"
     ]
    },
    {
     "name": "stderr",
     "output_type": "stream",
     "text": [
      "C:\\Users\\user\\anaconda3\\Lib\\site-packages\\sklearn\\utils\\deprecation.py:151: FutureWarning: 'force_all_finite' was renamed to 'ensure_all_finite' in 1.6 and will be removed in 1.8.\n",
      "  warnings.warn(\n"
     ]
    },
    {
     "name": "stdout",
     "output_type": "stream",
     "text": [
      " ARIMA(3,1,0)(2,0,2)[4] intercept   : AIC=12183.771, Time=7.19 sec\n"
     ]
    },
    {
     "name": "stderr",
     "output_type": "stream",
     "text": [
      "C:\\Users\\user\\anaconda3\\Lib\\site-packages\\sklearn\\utils\\deprecation.py:151: FutureWarning: 'force_all_finite' was renamed to 'ensure_all_finite' in 1.6 and will be removed in 1.8.\n",
      "  warnings.warn(\n"
     ]
    },
    {
     "name": "stdout",
     "output_type": "stream",
     "text": [
      " ARIMA(3,1,0)(0,0,1)[4] intercept   : AIC=12454.992, Time=1.24 sec\n"
     ]
    },
    {
     "name": "stderr",
     "output_type": "stream",
     "text": [
      "C:\\Users\\user\\anaconda3\\Lib\\site-packages\\sklearn\\utils\\deprecation.py:151: FutureWarning: 'force_all_finite' was renamed to 'ensure_all_finite' in 1.6 and will be removed in 1.8.\n",
      "  warnings.warn(\n"
     ]
    },
    {
     "name": "stdout",
     "output_type": "stream",
     "text": [
      " ARIMA(3,1,0)(2,0,1)[4] intercept   : AIC=12182.172, Time=4.39 sec\n"
     ]
    },
    {
     "name": "stderr",
     "output_type": "stream",
     "text": [
      "C:\\Users\\user\\anaconda3\\Lib\\site-packages\\sklearn\\utils\\deprecation.py:151: FutureWarning: 'force_all_finite' was renamed to 'ensure_all_finite' in 1.6 and will be removed in 1.8.\n",
      "  warnings.warn(\n"
     ]
    },
    {
     "name": "stdout",
     "output_type": "stream",
     "text": [
      " ARIMA(3,1,1)(1,0,2)[4] intercept   : AIC=12173.509, Time=8.20 sec\n"
     ]
    },
    {
     "name": "stderr",
     "output_type": "stream",
     "text": [
      "C:\\Users\\user\\anaconda3\\Lib\\site-packages\\sklearn\\utils\\deprecation.py:151: FutureWarning: 'force_all_finite' was renamed to 'ensure_all_finite' in 1.6 and will be removed in 1.8.\n",
      "  warnings.warn(\n",
      "C:\\Users\\user\\anaconda3\\Lib\\site-packages\\sklearn\\utils\\deprecation.py:151: FutureWarning: 'force_all_finite' was renamed to 'ensure_all_finite' in 1.6 and will be removed in 1.8.\n",
      "  warnings.warn(\n"
     ]
    },
    {
     "name": "stdout",
     "output_type": "stream",
     "text": [
      " ARIMA(3,1,1)(0,0,2)[4] intercept   : AIC=12350.366, Time=5.38 sec\n",
      " ARIMA(3,1,1)(1,0,1)[4] intercept   : AIC=12112.103, Time=6.30 sec\n"
     ]
    },
    {
     "name": "stderr",
     "output_type": "stream",
     "text": [
      "C:\\Users\\user\\anaconda3\\Lib\\site-packages\\sklearn\\utils\\deprecation.py:151: FutureWarning: 'force_all_finite' was renamed to 'ensure_all_finite' in 1.6 and will be removed in 1.8.\n",
      "  warnings.warn(\n"
     ]
    },
    {
     "name": "stdout",
     "output_type": "stream",
     "text": [
      " ARIMA(3,1,1)(0,0,1)[4] intercept   : AIC=12364.059, Time=3.47 sec\n"
     ]
    },
    {
     "name": "stderr",
     "output_type": "stream",
     "text": [
      "C:\\Users\\user\\anaconda3\\Lib\\site-packages\\sklearn\\utils\\deprecation.py:151: FutureWarning: 'force_all_finite' was renamed to 'ensure_all_finite' in 1.6 and will be removed in 1.8.\n",
      "  warnings.warn(\n"
     ]
    },
    {
     "name": "stdout",
     "output_type": "stream",
     "text": [
      " ARIMA(3,1,1)(1,0,0)[4] intercept   : AIC=12354.950, Time=4.20 sec\n"
     ]
    },
    {
     "name": "stderr",
     "output_type": "stream",
     "text": [
      "C:\\Users\\user\\anaconda3\\Lib\\site-packages\\sklearn\\utils\\deprecation.py:151: FutureWarning: 'force_all_finite' was renamed to 'ensure_all_finite' in 1.6 and will be removed in 1.8.\n",
      "  warnings.warn(\n"
     ]
    },
    {
     "name": "stdout",
     "output_type": "stream",
     "text": [
      " ARIMA(3,1,1)(2,0,1)[4] intercept   : AIC=12177.600, Time=5.96 sec\n"
     ]
    },
    {
     "name": "stderr",
     "output_type": "stream",
     "text": [
      "C:\\Users\\user\\anaconda3\\Lib\\site-packages\\sklearn\\utils\\deprecation.py:151: FutureWarning: 'force_all_finite' was renamed to 'ensure_all_finite' in 1.6 and will be removed in 1.8.\n",
      "  warnings.warn(\n"
     ]
    },
    {
     "name": "stdout",
     "output_type": "stream",
     "text": [
      " ARIMA(3,1,1)(0,0,0)[4] intercept   : AIC=12374.095, Time=2.41 sec\n"
     ]
    },
    {
     "name": "stderr",
     "output_type": "stream",
     "text": [
      "C:\\Users\\user\\anaconda3\\Lib\\site-packages\\sklearn\\utils\\deprecation.py:151: FutureWarning: 'force_all_finite' was renamed to 'ensure_all_finite' in 1.6 and will be removed in 1.8.\n",
      "  warnings.warn(\n"
     ]
    },
    {
     "name": "stdout",
     "output_type": "stream",
     "text": [
      " ARIMA(3,1,1)(2,0,0)[4] intercept   : AIC=12235.349, Time=4.75 sec\n"
     ]
    },
    {
     "name": "stderr",
     "output_type": "stream",
     "text": [
      "C:\\Users\\user\\anaconda3\\Lib\\site-packages\\sklearn\\utils\\deprecation.py:151: FutureWarning: 'force_all_finite' was renamed to 'ensure_all_finite' in 1.6 and will be removed in 1.8.\n",
      "  warnings.warn(\n"
     ]
    },
    {
     "name": "stdout",
     "output_type": "stream",
     "text": [
      " ARIMA(3,1,1)(2,0,2)[4] intercept   : AIC=12097.361, Time=8.94 sec\n"
     ]
    },
    {
     "name": "stderr",
     "output_type": "stream",
     "text": [
      "C:\\Users\\user\\anaconda3\\Lib\\site-packages\\sklearn\\utils\\deprecation.py:151: FutureWarning: 'force_all_finite' was renamed to 'ensure_all_finite' in 1.6 and will be removed in 1.8.\n",
      "  warnings.warn(\n"
     ]
    },
    {
     "name": "stdout",
     "output_type": "stream",
     "text": [
      " ARIMA(2,1,1)(2,0,2)[4] intercept   : AIC=inf, Time=8.39 sec\n"
     ]
    },
    {
     "name": "stderr",
     "output_type": "stream",
     "text": [
      "C:\\Users\\user\\anaconda3\\Lib\\site-packages\\sklearn\\utils\\deprecation.py:151: FutureWarning: 'force_all_finite' was renamed to 'ensure_all_finite' in 1.6 and will be removed in 1.8.\n",
      "  warnings.warn(\n"
     ]
    },
    {
     "name": "stdout",
     "output_type": "stream",
     "text": [
      " ARIMA(3,1,2)(2,0,2)[4] intercept   : AIC=inf, Time=9.24 sec\n"
     ]
    },
    {
     "name": "stderr",
     "output_type": "stream",
     "text": [
      "C:\\Users\\user\\anaconda3\\Lib\\site-packages\\sklearn\\utils\\deprecation.py:151: FutureWarning: 'force_all_finite' was renamed to 'ensure_all_finite' in 1.6 and will be removed in 1.8.\n",
      "  warnings.warn(\n"
     ]
    },
    {
     "name": "stdout",
     "output_type": "stream",
     "text": [
      " ARIMA(2,1,2)(2,0,2)[4] intercept   : AIC=inf, Time=7.81 sec\n"
     ]
    },
    {
     "name": "stderr",
     "output_type": "stream",
     "text": [
      "C:\\Users\\user\\anaconda3\\Lib\\site-packages\\sklearn\\utils\\deprecation.py:151: FutureWarning: 'force_all_finite' was renamed to 'ensure_all_finite' in 1.6 and will be removed in 1.8.\n",
      "  warnings.warn(\n"
     ]
    },
    {
     "name": "stdout",
     "output_type": "stream",
     "text": [
      " ARIMA(3,1,1)(2,0,2)[4]             : AIC=inf, Time=6.46 sec\n",
      "\n",
      "Best model:  ARIMA(3,1,1)(2,0,2)[4] intercept\n",
      "Total fit time: 141.208 seconds\n"
     ]
    }
   ],
   "source": [
    "model = auto_arima(\n",
    "    train,\n",
    "    seasonal=True,\n",
    "    m=4,  # season length (e.g., 4 for 6-hourly data = 1 day)\n",
    "    trace=True,\n",
    "    error_action='ignore',\n",
    "    suppress_warnings=True\n",
    ")"
   ]
  },
  {
   "cell_type": "markdown",
   "id": "7ceb9d28-70be-4238-a5cc-a3879089ad22",
   "metadata": {
    "jp-MarkdownHeadingCollapsed": true
   },
   "source": [
    "# AR (AutoRegressive) Model"
   ]
  },
  {
   "cell_type": "code",
   "execution_count": null,
   "id": "3fc47020-ab05-4ace-b887-67ea432b48f1",
   "metadata": {},
   "outputs": [],
   "source": [
    "# Fit the AR model\n",
    "ar_model = AutoReg(train, lags=29)  # for 24hours or 1 day\n",
    "ar_result = ar_model.fit()"
   ]
  },
  {
   "cell_type": "code",
   "execution_count": null,
   "id": "d14993c9-ec81-41ac-9c2f-8e3158c55d73",
   "metadata": {},
   "outputs": [],
   "source": [
    "# Model summary\n",
    "ar_result.summary()"
   ]
  },
  {
   "cell_type": "code",
   "execution_count": null,
   "id": "b6d169e5-7e16-4e25-a50e-bfc6bbde8d47",
   "metadata": {},
   "outputs": [],
   "source": [
    "# Forecast\n",
    "y_ar_pred = ar_result.predict(test.index.min(), test.index.max())\n",
    "y_ar_pred.head()\n"
   ]
  },
  {
   "cell_type": "code",
   "execution_count": null,
   "id": "6b476019-3b99-420b-8c9a-579fdc6c559b",
   "metadata": {},
   "outputs": [],
   "source": [
    "# Baseline Model Metrics\n",
    "mean = train.mean()\n",
    "y_mean_pred = len(train) * [mean]\n",
    "\n",
    "# MSE and MAE of the Baseline model\n",
    "mse_baseline = mean_squared_error(train, y_mean_pred)\n",
    "mae_baseline = mean_absolute_error(train, y_mean_pred)\n",
    "\n",
    "\n",
    "print(f\"MSE of the baseline model: {round(mse_baseline, 2)}\")\n",
    "print(f\"MAE of the baseline model: {round(mae_baseline, 2)}\")"
   ]
  },
  {
   "cell_type": "code",
   "execution_count": null,
   "id": "c3fc13ce-3bba-46d6-b192-ad0a2fa1debf",
   "metadata": {},
   "outputs": [],
   "source": [
    "# Evaluation\n",
    "mse = mean_squared_error(test, y_ar_pred)\n",
    "mae = mean_absolute_error(test, y_ar_pred)\n",
    "\n",
    "print(f\"AR Model - MSE: {mse:.2f}\")\n",
    "print(f\"AR Model - MAE: {mae:.2f}\")"
   ]
  },
  {
   "cell_type": "code",
   "execution_count": null,
   "id": "df602d42-5e24-4adc-b312-eda6dd3da3f7",
   "metadata": {},
   "outputs": [],
   "source": [
    "# Residual graph\n",
    "fig, ax = plt.subplots(figsize = (15, 5))\n",
    "ar_result.resid.plot(ax = ax)\n",
    "plt.title(\"Residual Plot\")\n",
    "plt.xlabel(\"Date\")\n",
    "plt.show()"
   ]
  },
  {
   "cell_type": "code",
   "execution_count": null,
   "id": "9031386d-7bea-42bf-affe-df6baa6b1fcb",
   "metadata": {},
   "outputs": [],
   "source": [
    "# Residual Histogram\n",
    "ar_result.resid.plot(\n",
    "    kind = \"hist\", \n",
    "    xlabel = \"Residual\",\n",
    "    ylabel = \"frequency\",\n",
    "    title = \"Residual Distribution\"\n",
    ")"
   ]
  },
  {
   "cell_type": "code",
   "execution_count": null,
   "id": "4e356c9e-b5d8-452e-bb1f-e36a745e0d11",
   "metadata": {},
   "outputs": [],
   "source": [
    "# DataFrame for Actual Test data and Predictions\n",
    "\n",
    "df_pred_test = pd.DataFrame({\n",
    "            'y_test':test,\n",
    "            'y_pred':y_ar_pred\n",
    "}, index = test.index)\n",
    "df_pred_test.tail()"
   ]
  },
  {
   "cell_type": "code",
   "execution_count": null,
   "id": "57df9311-de9b-400e-bad9-7b74502eaaca",
   "metadata": {},
   "outputs": [],
   "source": [
    "# Plot results\n",
    "fig = px.line(\n",
    "    data_frame= df_pred_test,\n",
    "    title = \"Prediction vs Actual Test data \",\n",
    "    labels= {\"value\" : \"PM2.5\"}\n",
    ")\n",
    "fig.show()"
   ]
  },
  {
   "cell_type": "code",
   "execution_count": null,
   "id": "5dd82044-474c-4288-814b-bf87588b61ef",
   "metadata": {},
   "outputs": [],
   "source": [
    "# Walk Forward Validation\n",
    "\n",
    "y_pred_wfv = pd.Series()\n",
    "history = train.copy()\n",
    "for i in range(len(test)):\n",
    "    model = AutoReg(history, lags=29).fit()\n",
    "    next_pred = model.forecast()\n",
    "    y_pred_wfv = pd.concat([y_pred_wfv, next_pred])\n",
    "    history = pd.concat([history, test[next_pred.index]]) \n"
   ]
  },
  {
   "cell_type": "code",
   "execution_count": null,
   "id": "2ac564ec-c51b-4b2e-aa71-48acabbcc642",
   "metadata": {},
   "outputs": [],
   "source": [
    "df_pred_wfv = pd.DataFrame({\n",
    "            'y_test':test,\n",
    "            'y_pred':y_pred_wfv\n",
    "}, index = test.index)\n",
    "df_pred_wfv.tail()"
   ]
  },
  {
   "cell_type": "code",
   "execution_count": null,
   "id": "ac3ad8d6-d85b-43d3-9239-034adbccada8",
   "metadata": {},
   "outputs": [],
   "source": [
    "fig = px.line(\n",
    "    data_frame= df_pred_wfv,\n",
    "    title = \"Walk forward Validation Prediction and Actual Test data\",\n",
    "    labels= {\"value\" : \"PM2.5\"}\n",
    ")\n",
    "\n",
    "fig.show()"
   ]
  },
  {
   "cell_type": "code",
   "execution_count": null,
   "id": "f1d08d0c-6c4f-4cfb-bf49-0d59c6f1c65e",
   "metadata": {},
   "outputs": [],
   "source": [
    "# Evaluation of the Walk forward Validation Prediction\n",
    "\n",
    "mse = mean_squared_error(test, y_pred_wfv)\n",
    "mae = mean_absolute_error(test, y_pred_wfv)\n",
    "\n",
    "print(f\"AR Model - MSE: {mse:.2f}\")\n",
    "print(f\"AR Model - MAE: {mae:.2f}\")"
   ]
  },
  {
   "cell_type": "markdown",
   "id": "c11c442e-6dfb-4676-93d3-9f9f6e6d5cc3",
   "metadata": {},
   "source": [
    "## Summary\n",
    "\n",
    "The AR model Underperformed. why:\n",
    "- The forecast (red line) is almost flat, failing to capture the volatility, spikes, and seasonality in the test set.\n",
    "- AR models rely only on past values of the series (lags) and assume a linear relationship, which often fails when: There’s strong seasonality or nonlinearity.\n",
    "- Residuals are not white noise, as we saw earlier from decomposition and ACF plots.\n",
    "\n"
   ]
  },
  {
   "cell_type": "markdown",
   "id": "fd982dbf-8295-410f-bfa6-7a261fd6e922",
   "metadata": {},
   "source": [
    "# ARMA (AutoRegressive Moving Average) Model"
   ]
  },
  {
   "cell_type": "code",
   "execution_count": 6,
   "id": "f6bc2055-003a-45ff-b7c8-97969b4a4dbc",
   "metadata": {},
   "outputs": [],
   "source": [
    "# Fit ARMA(p=2, q=2) on differenced data (you can tune p and q later)\n",
    "arma_model = ARIMA(train, order=(3, 1, 1))  # d=0 because we assume stationary (you can test d=1 if needed)\n",
    "arma_result = arma_model.fit()"
   ]
  },
  {
   "cell_type": "code",
   "execution_count": 7,
   "id": "d9b864e1-bd8b-432c-8ce3-98a216da3eaf",
   "metadata": {},
   "outputs": [
    {
     "data": {
      "text/html": [
       "<table class=\"simpletable\">\n",
       "<caption>SARIMAX Results</caption>\n",
       "<tr>\n",
       "  <th>Dep. Variable:</th>         <td>PM2.5</td>      <th>  No. Observations:  </th>   <td>1654</td>   \n",
       "</tr>\n",
       "<tr>\n",
       "  <th>Model:</th>            <td>ARIMA(3, 1, 1)</td>  <th>  Log Likelihood     </th> <td>-6181.053</td>\n",
       "</tr>\n",
       "<tr>\n",
       "  <th>Date:</th>            <td>Thu, 05 Jun 2025</td> <th>  AIC                </th> <td>12372.107</td>\n",
       "</tr>\n",
       "<tr>\n",
       "  <th>Time:</th>                <td>21:01:16</td>     <th>  BIC                </th> <td>12399.159</td>\n",
       "</tr>\n",
       "<tr>\n",
       "  <th>Sample:</th>             <td>11-01-2023</td>    <th>  HQIC               </th> <td>12382.136</td>\n",
       "</tr>\n",
       "<tr>\n",
       "  <th></th>                   <td>- 12-18-2024</td>   <th>                     </th>     <td> </td>    \n",
       "</tr>\n",
       "<tr>\n",
       "  <th>Covariance Type:</th>        <td>opg</td>       <th>                     </th>     <td> </td>    \n",
       "</tr>\n",
       "</table>\n",
       "<table class=\"simpletable\">\n",
       "<tr>\n",
       "     <td></td>       <th>coef</th>     <th>std err</th>      <th>z</th>      <th>P>|z|</th>  <th>[0.025</th>    <th>0.975]</th>  \n",
       "</tr>\n",
       "<tr>\n",
       "  <th>ar.L1</th>  <td>   -1.0434</td> <td>    0.018</td> <td>  -59.512</td> <td> 0.000</td> <td>   -1.078</td> <td>   -1.009</td>\n",
       "</tr>\n",
       "<tr>\n",
       "  <th>ar.L2</th>  <td>   -0.3263</td> <td>    0.022</td> <td>  -14.929</td> <td> 0.000</td> <td>   -0.369</td> <td>   -0.283</td>\n",
       "</tr>\n",
       "<tr>\n",
       "  <th>ar.L3</th>  <td>   -0.2755</td> <td>    0.017</td> <td>  -16.208</td> <td> 0.000</td> <td>   -0.309</td> <td>   -0.242</td>\n",
       "</tr>\n",
       "<tr>\n",
       "  <th>ma.L1</th>  <td>    0.9537</td> <td>    0.008</td> <td>  121.081</td> <td> 0.000</td> <td>    0.938</td> <td>    0.969</td>\n",
       "</tr>\n",
       "<tr>\n",
       "  <th>sigma2</th> <td>  103.5546</td> <td>    1.508</td> <td>   68.654</td> <td> 0.000</td> <td>  100.598</td> <td>  106.511</td>\n",
       "</tr>\n",
       "</table>\n",
       "<table class=\"simpletable\">\n",
       "<tr>\n",
       "  <th>Ljung-Box (L1) (Q):</th>     <td>1.74</td> <th>  Jarque-Bera (JB):  </th> <td>9984.98</td>\n",
       "</tr>\n",
       "<tr>\n",
       "  <th>Prob(Q):</th>                <td>0.19</td> <th>  Prob(JB):          </th>  <td>0.00</td>  \n",
       "</tr>\n",
       "<tr>\n",
       "  <th>Heteroskedasticity (H):</th> <td>0.33</td> <th>  Skew:              </th>  <td>-0.64</td> \n",
       "</tr>\n",
       "<tr>\n",
       "  <th>Prob(H) (two-sided):</th>    <td>0.00</td> <th>  Kurtosis:          </th>  <td>14.97</td> \n",
       "</tr>\n",
       "</table><br/><br/>Warnings:<br/>[1] Covariance matrix calculated using the outer product of gradients (complex-step)."
      ],
      "text/latex": [
       "\\begin{center}\n",
       "\\begin{tabular}{lclc}\n",
       "\\toprule\n",
       "\\textbf{Dep. Variable:}          &      PM2.5       & \\textbf{  No. Observations:  } &    1654     \\\\\n",
       "\\textbf{Model:}                  &  ARIMA(3, 1, 1)  & \\textbf{  Log Likelihood     } & -6181.053   \\\\\n",
       "\\textbf{Date:}                   & Thu, 05 Jun 2025 & \\textbf{  AIC                } & 12372.107   \\\\\n",
       "\\textbf{Time:}                   &     21:01:16     & \\textbf{  BIC                } & 12399.159   \\\\\n",
       "\\textbf{Sample:}                 &    11-01-2023    & \\textbf{  HQIC               } & 12382.136   \\\\\n",
       "\\textbf{}                        &   - 12-18-2024   & \\textbf{                     } &             \\\\\n",
       "\\textbf{Covariance Type:}        &       opg        & \\textbf{                     } &             \\\\\n",
       "\\bottomrule\n",
       "\\end{tabular}\n",
       "\\begin{tabular}{lcccccc}\n",
       "                & \\textbf{coef} & \\textbf{std err} & \\textbf{z} & \\textbf{P$> |$z$|$} & \\textbf{[0.025} & \\textbf{0.975]}  \\\\\n",
       "\\midrule\n",
       "\\textbf{ar.L1}  &      -1.0434  &        0.018     &   -59.512  &         0.000        &       -1.078    &       -1.009     \\\\\n",
       "\\textbf{ar.L2}  &      -0.3263  &        0.022     &   -14.929  &         0.000        &       -0.369    &       -0.283     \\\\\n",
       "\\textbf{ar.L3}  &      -0.2755  &        0.017     &   -16.208  &         0.000        &       -0.309    &       -0.242     \\\\\n",
       "\\textbf{ma.L1}  &       0.9537  &        0.008     &   121.081  &         0.000        &        0.938    &        0.969     \\\\\n",
       "\\textbf{sigma2} &     103.5546  &        1.508     &    68.654  &         0.000        &      100.598    &      106.511     \\\\\n",
       "\\bottomrule\n",
       "\\end{tabular}\n",
       "\\begin{tabular}{lclc}\n",
       "\\textbf{Ljung-Box (L1) (Q):}     & 1.74 & \\textbf{  Jarque-Bera (JB):  } & 9984.98  \\\\\n",
       "\\textbf{Prob(Q):}                & 0.19 & \\textbf{  Prob(JB):          } &   0.00   \\\\\n",
       "\\textbf{Heteroskedasticity (H):} & 0.33 & \\textbf{  Skew:              } &  -0.64   \\\\\n",
       "\\textbf{Prob(H) (two-sided):}    & 0.00 & \\textbf{  Kurtosis:          } &  14.97   \\\\\n",
       "\\bottomrule\n",
       "\\end{tabular}\n",
       "%\\caption{SARIMAX Results}\n",
       "\\end{center}\n",
       "\n",
       "Warnings: \\newline\n",
       " [1] Covariance matrix calculated using the outer product of gradients (complex-step)."
      ],
      "text/plain": [
       "<class 'statsmodels.iolib.summary.Summary'>\n",
       "\"\"\"\n",
       "                               SARIMAX Results                                \n",
       "==============================================================================\n",
       "Dep. Variable:                  PM2.5   No. Observations:                 1654\n",
       "Model:                 ARIMA(3, 1, 1)   Log Likelihood               -6181.053\n",
       "Date:                Thu, 05 Jun 2025   AIC                          12372.107\n",
       "Time:                        21:01:16   BIC                          12399.159\n",
       "Sample:                    11-01-2023   HQIC                         12382.136\n",
       "                         - 12-18-2024                                         \n",
       "Covariance Type:                  opg                                         \n",
       "==============================================================================\n",
       "                 coef    std err          z      P>|z|      [0.025      0.975]\n",
       "------------------------------------------------------------------------------\n",
       "ar.L1         -1.0434      0.018    -59.512      0.000      -1.078      -1.009\n",
       "ar.L2         -0.3263      0.022    -14.929      0.000      -0.369      -0.283\n",
       "ar.L3         -0.2755      0.017    -16.208      0.000      -0.309      -0.242\n",
       "ma.L1          0.9537      0.008    121.081      0.000       0.938       0.969\n",
       "sigma2       103.5546      1.508     68.654      0.000     100.598     106.511\n",
       "===================================================================================\n",
       "Ljung-Box (L1) (Q):                   1.74   Jarque-Bera (JB):              9984.98\n",
       "Prob(Q):                              0.19   Prob(JB):                         0.00\n",
       "Heteroskedasticity (H):               0.33   Skew:                            -0.64\n",
       "Prob(H) (two-sided):                  0.00   Kurtosis:                        14.97\n",
       "===================================================================================\n",
       "\n",
       "Warnings:\n",
       "[1] Covariance matrix calculated using the outer product of gradients (complex-step).\n",
       "\"\"\""
      ]
     },
     "execution_count": 7,
     "metadata": {},
     "output_type": "execute_result"
    }
   ],
   "source": [
    "arma_result.summary()"
   ]
  },
  {
   "cell_type": "code",
   "execution_count": 8,
   "id": "47acd5ac-95ce-4c80-afcf-26e4bb494d47",
   "metadata": {},
   "outputs": [
    {
     "data": {
      "text/plain": [
       "2024-12-19 00:00:00+01:00    52.042657\n",
       "2024-12-19 06:00:00+01:00    52.001955\n",
       "2024-12-19 12:00:00+01:00    51.980976\n",
       "2024-12-19 18:00:00+01:00    52.097713\n",
       "2024-12-20 00:00:00+01:00    51.993970\n",
       "Freq: 6h, Name: predicted_mean, dtype: float64"
      ]
     },
     "execution_count": 8,
     "metadata": {},
     "output_type": "execute_result"
    }
   ],
   "source": [
    "# Forecast\n",
    "y_arma_pred = arma_result.predict(test.index.min(), test.index.max())\n",
    "y_arma_pred.head()"
   ]
  },
  {
   "cell_type": "code",
   "execution_count": 9,
   "id": "0ed93d9c-8a64-4291-a57c-cdb4a856a3a2",
   "metadata": {},
   "outputs": [
    {
     "name": "stdout",
     "output_type": "stream",
     "text": [
      "MSE of the baseline model: 481.99\n",
      "MAE of the baseline model: 15.79\n"
     ]
    }
   ],
   "source": [
    "# Baseline Model Metrics\n",
    "mean = train.mean()\n",
    "y_mean_pred = len(train) * [mean]\n",
    "\n",
    "# MSE and MAE of the Baseline model\n",
    "mse_baseline = mean_squared_error(train, y_mean_pred)\n",
    "mae_baseline = mean_absolute_error(train, y_mean_pred)\n",
    "\n",
    "\n",
    "print(f\"MSE of the baseline model: {round(mse_baseline, 2)}\")\n",
    "print(f\"MAE of the baseline model: {round(mae_baseline, 2)}\")"
   ]
  },
  {
   "cell_type": "code",
   "execution_count": 10,
   "id": "edeebb59-640b-4637-95ec-a2fc39a17e55",
   "metadata": {},
   "outputs": [
    {
     "name": "stdout",
     "output_type": "stream",
     "text": [
      "ARMA Model - MSE: 584.71\n",
      "ARMA Model - MAE: 20.73\n"
     ]
    }
   ],
   "source": [
    "# Evaluation\n",
    "mse = mean_squared_error(test, y_arma_pred)\n",
    "mae = mean_absolute_error(test, y_arma_pred)\n",
    "\n",
    "print(f\"ARMA Model - MSE: {mse:.2f}\")\n",
    "print(f\"ARMA Model - MAE: {mae:.2f}\")"
   ]
  },
  {
   "cell_type": "code",
   "execution_count": 11,
   "id": "d1cefd2b-6ac5-4d9d-8e2c-664f497c9c44",
   "metadata": {},
   "outputs": [
    {
     "data": {
      "image/png": "[encoded data removed]",
      "text/plain": [
       "<Figure size 1500x500 with 1 Axes>"
      ]
     },
     "metadata": {},
     "output_type": "display_data"
    }
   ],
   "source": [
    "# Residual graph\n",
    "fig, ax = plt.subplots(figsize = (15, 5))\n",
    "arma_result.resid.plot(ax = ax)\n",
    "plt.title(\"Residual Plot\")\n",
    "plt.xlabel(\"Date\")\n",
    "plt.show()"
   ]
  },
  {
   "cell_type": "code",
   "execution_count": 12,
   "id": "feceeeb5-c6c7-46e7-bc3c-dc7181269389",
   "metadata": {},
   "outputs": [
    {
     "data": {
      "text/plain": [
       "<Axes: title={'center': 'Residual Distribution'}, xlabel='Residual', ylabel='frequency'>"
      ]
     },
     "execution_count": 12,
     "metadata": {},
     "output_type": "execute_result"
    },
    {
     "data": {
      "image/png": "[encoded data removed]",
      "text/plain": [
       "<Figure size 640x480 with 1 Axes>"
      ]
     },
     "metadata": {},
     "output_type": "display_data"
    }
   ],
   "source": [
    "# Residual Histogram\n",
    "arma_result.resid.plot(\n",
    "    kind = \"hist\", \n",
    "    xlabel = \"Residual\",\n",
    "    ylabel = \"frequency\",\n",
    "    title = \"Residual Distribution\"\n",
    ")"
   ]
  },
  {
   "cell_type": "code",
   "execution_count": 13,
   "id": "48a1f1d0-3a9b-4b6a-bfd3-99ea7f909471",
   "metadata": {},
   "outputs": [
    {
     "data": {
      "text/html": [
       "<div>\n",
       "<style scoped>\n",
       "    .dataframe tbody tr th:only-of-type {\n",
       "        vertical-align: middle;\n",
       "    }\n",
       "\n",
       "    .dataframe tbody tr th {\n",
       "        vertical-align: top;\n",
       "    }\n",
       "\n",
       "    .dataframe thead th {\n",
       "        text-align: right;\n",
       "    }\n",
       "</style>\n",
       "<table border=\"1\" class=\"dataframe\">\n",
       "  <thead>\n",
       "    <tr style=\"text-align: right;\">\n",
       "      <th></th>\n",
       "      <th>y_test</th>\n",
       "      <th>y_pred</th>\n",
       "    </tr>\n",
       "    <tr>\n",
       "      <th>date</th>\n",
       "      <th></th>\n",
       "      <th></th>\n",
       "    </tr>\n",
       "  </thead>\n",
       "  <tbody>\n",
       "    <tr>\n",
       "      <th>2025-03-31 06:00:00+01:00</th>\n",
       "      <td>8.744196</td>\n",
       "      <td>52.037761</td>\n",
       "    </tr>\n",
       "    <tr>\n",
       "      <th>2025-03-31 12:00:00+01:00</th>\n",
       "      <td>8.608147</td>\n",
       "      <td>52.030501</td>\n",
       "    </tr>\n",
       "    <tr>\n",
       "      <th>2025-03-31 18:00:00+01:00</th>\n",
       "      <td>8.472098</td>\n",
       "      <td>52.037717</td>\n",
       "    </tr>\n",
       "    <tr>\n",
       "      <th>2025-04-01 00:00:00+01:00</th>\n",
       "      <td>8.336049</td>\n",
       "      <td>52.030544</td>\n",
       "    </tr>\n",
       "    <tr>\n",
       "      <th>2025-04-01 06:00:00+01:00</th>\n",
       "      <td>8.200000</td>\n",
       "      <td>52.037674</td>\n",
       "    </tr>\n",
       "  </tbody>\n",
       "</table>\n",
       "</div>"
      ],
      "text/plain": [
       "                             y_test     y_pred\n",
       "date                                          \n",
       "2025-03-31 06:00:00+01:00  8.744196  52.037761\n",
       "2025-03-31 12:00:00+01:00  8.608147  52.030501\n",
       "2025-03-31 18:00:00+01:00  8.472098  52.037717\n",
       "2025-04-01 00:00:00+01:00  8.336049  52.030544\n",
       "2025-04-01 06:00:00+01:00  8.200000  52.037674"
      ]
     },
     "execution_count": 13,
     "metadata": {},
     "output_type": "execute_result"
    }
   ],
   "source": [
    "# DataFrame for Actual Test data and Predictions\n",
    "\n",
    "df_pred_test = pd.DataFrame({\n",
    "            'y_test':test,\n",
    "            'y_pred':y_arma_pred\n",
    "}, index = test.index)\n",
    "df_pred_test.tail()"
   ]
  },
  {
   "cell_type": "code",
   "execution_count": 14,
   "id": "8c02c7ac-7a6d-47c2-bf97-3efb1b09c2ca",
   "metadata": {},
   "outputs": [
    {
     "data": {
      "application/vnd.plotly.v1+json": {
       "config": {
        "plotlyServerURL": "https://plot.ly"
       },
       "data": [
        {
         "hovertemplate": "variable=y_test<br>date=%{x}<br>PM2.5=%{y}<extra></extra>",
         "legendgroup": "y_test",
         "line": {
          "color": "#636efa",
          "dash": "solid"
         },
         "marker": {
          "symbol": "circle"
         },
         "mode": "lines",
         "name": "y_test",
         "orientation": "v",
         "showlegend": true,
         "type": "scatter",
         "x": [
          "2024-12-19T00:00:00.000000000",
          "2024-12-19T06:00:00.000000000",
          "2024-12-19T12:00:00.000000000",
          "2024-12-19T18:00:00.000000000",
          "2024-12-20T00:00:00.000000000",
          "2024-12-20T06:00:00.000000000",
          "2024-12-20T12:00:00.000000000",
          "2024-12-20T18:00:00.000000000",
          "2024-12-21T00:00:00.000000000",
          "2024-12-21T06:00:00.000000000",
          "2024-12-21T12:00:00.000000000",
          "2024-12-21T18:00:00.000000000",
          "2024-12-22T00:00:00.000000000",
          "2024-12-22T06:00:00.000000000",
          "2024-12-22T12:00:00.000000000",
          "2024-12-22T18:00:00.000000000",
          "2024-12-23T00:00:00.000000000",
          "2024-12-23T06:00:00.000000000",
          "2024-12-23T12:00:00.000000000",
          "2024-12-23T18:00:00.000000000",
          "2024-12-24T00:00:00.000000000",
          "2024-12-24T06:00:00.000000000",
          "2024-12-24T12:00:00.000000000",
          "2024-12-24T18:00:00.000000000",
          "2024-12-25T00:00:00.000000000",
          "2024-12-25T06:00:00.000000000",
          "2024-12-25T12:00:00.000000000",
          "2024-12-25T18:00:00.000000000",
          "2024-12-26T00:00:00.000000000",
          "2024-12-26T06:00:00.000000000",
          "2024-12-26T12:00:00.000000000",
          "2024-12-26T18:00:00.000000000",
          "2024-12-27T00:00:00.000000000",
          "2024-12-27T06:00:00.000000000",
          "2024-12-27T12:00:00.000000000",
          "2024-12-27T18:00:00.000000000",
          "2024-12-28T00:00:00.000000000",
          "2024-12-28T06:00:00.000000000",
          "2024-12-28T12:00:00.000000000",
          "2024-12-28T18:00:00.000000000",
          "2024-12-29T00:00:00.000000000",
          "2024-12-29T06:00:00.000000000",
          "2024-12-29T12:00:00.000000000",
          "2024-12-29T18:00:00.000000000",
          "2024-12-30T00:00:00.000000000",
          "2024-12-30T06:00:00.000000000",
          "2024-12-30T12:00:00.000000000",
          "2024-12-30T18:00:00.000000000",
          "2024-12-31T00:00:00.000000000",
          "2024-12-31T06:00:00.000000000",
          "2024-12-31T12:00:00.000000000",
          "2024-12-31T18:00:00.000000000",
          "2025-01-01T00:00:00.000000000",
          "2025-01-01T06:00:00.000000000",
          "2025-01-01T12:00:00.000000000",
          "2025-01-01T18:00:00.000000000",
          "2025-01-02T00:00:00.000000000",
          "2025-01-02T06:00:00.000000000",
          "2025-01-02T12:00:00.000000000",
          "2025-01-02T18:00:00.000000000",
          "2025-01-03T00:00:00.000000000",
          "2025-01-03T06:00:00.000000000",
          "2025-01-03T12:00:00.000000000",
          "2025-01-03T18:00:00.000000000",
          "2025-01-04T00:00:00.000000000",
          "2025-01-04T06:00:00.000000000",
          "2025-01-04T12:00:00.000000000",
          "2025-01-04T18:00:00.000000000",
          "2025-01-05T00:00:00.000000000",
          "2025-01-05T06:00:00.000000000",
          "2025-01-05T12:00:00.000000000",
          "2025-01-05T18:00:00.000000000",
          "2025-01-06T00:00:00.000000000",
          "2025-01-06T06:00:00.000000000",
          "2025-01-06T12:00:00.000000000",
          "2025-01-06T18:00:00.000000000",
          "2025-01-07T00:00:00.000000000",
          "2025-01-07T06:00:00.000000000",
          "2025-01-07T12:00:00.000000000",
          "2025-01-07T18:00:00.000000000",
          "2025-01-08T00:00:00.000000000",
          "2025-01-08T06:00:00.000000000",
          "2025-01-08T12:00:00.000000000",
          "2025-01-08T18:00:00.000000000",
          "2025-01-09T00:00:00.000000000",
          "2025-01-09T06:00:00.000000000",
          "2025-01-09T12:00:00.000000000",
          "2025-01-09T18:00:00.000000000",
          "2025-01-10T00:00:00.000000000",
          "2025-01-10T06:00:00.000000000",
          "2025-01-10T12:00:00.000000000",
          "2025-01-10T18:00:00.000000000",
          "2025-01-11T00:00:00.000000000",
          "2025-01-11T06:00:00.000000000",
          "2025-01-11T12:00:00.000000000",
          "2025-01-11T18:00:00.000000000",
          "2025-01-12T00:00:00.000000000",
          "2025-01-12T06:00:00.000000000",
          "2025-01-12T12:00:00.000000000",
          "2025-01-12T18:00:00.000000000",
          "2025-01-13T00:00:00.000000000",
          "2025-01-13T06:00:00.000000000",
          "2025-01-13T12:00:00.000000000",
          "2025-01-13T18:00:00.000000000",
          "2025-01-14T00:00:00.000000000",
          "2025-01-14T06:00:00.000000000",
          "2025-01-14T12:00:00.000000000",
          "2025-01-14T18:00:00.000000000",
          "2025-01-15T00:00:00.000000000",
          "2025-01-15T06:00:00.000000000",
          "2025-01-15T12:00:00.000000000",
          "2025-01-15T18:00:00.000000000",
          "2025-01-16T00:00:00.000000000",
          "2025-01-16T06:00:00.000000000",
          "2025-01-16T12:00:00.000000000",
          "2025-01-16T18:00:00.000000000",
          "2025-01-17T00:00:00.000000000",
          "2025-01-17T06:00:00.000000000",
          "2025-01-17T12:00:00.000000000",
          "2025-01-17T18:00:00.000000000",
          "2025-01-18T00:00:00.000000000",
          "2025-01-18T06:00:00.000000000",
          "2025-01-18T12:00:00.000000000",
          "2025-01-18T18:00:00.000000000",
          "2025-01-19T00:00:00.000000000",
          "2025-01-19T06:00:00.000000000",
          "2025-01-19T12:00:00.000000000",
          "2025-01-19T18:00:00.000000000",
          "2025-01-20T00:00:00.000000000",
          "2025-01-20T06:00:00.000000000",
          "2025-01-20T12:00:00.000000000",
          "2025-01-20T18:00:00.000000000",
          "2025-01-21T00:00:00.000000000",
          "2025-01-21T06:00:00.000000000",
          "2025-01-21T12:00:00.000000000",
          "2025-01-21T18:00:00.000000000",
          "2025-01-22T00:00:00.000000000",
          "2025-01-22T06:00:00.000000000",
          "2025-01-22T12:00:00.000000000",
          "2025-01-22T18:00:00.000000000",
          "2025-01-23T00:00:00.000000000",
          "2025-01-23T06:00:00.000000000",
          "2025-01-23T12:00:00.000000000",
          "2025-01-23T18:00:00.000000000",
          "2025-01-24T00:00:00.000000000",
          "2025-01-24T06:00:00.000000000",
          "2025-01-24T12:00:00.000000000",
          "2025-01-24T18:00:00.000000000",
          "2025-01-25T00:00:00.000000000",
          "2025-01-25T06:00:00.000000000",
          "2025-01-25T12:00:00.000000000",
          "2025-01-25T18:00:00.000000000",
          "2025-01-26T00:00:00.000000000",
          "2025-01-26T06:00:00.000000000",
          "2025-01-26T12:00:00.000000000",
          "2025-01-26T18:00:00.000000000",
          "2025-01-27T00:00:00.000000000",
          "2025-01-27T06:00:00.000000000",
          "2025-01-27T12:00:00.000000000",
          "2025-01-27T18:00:00.000000000",
          "2025-01-28T00:00:00.000000000",
          "2025-01-28T06:00:00.000000000",
          "2025-01-28T12:00:00.000000000",
          "2025-01-28T18:00:00.000000000",
          "2025-01-29T00:00:00.000000000",
          "2025-01-29T06:00:00.000000000",
          "2025-01-29T12:00:00.000000000",
          "2025-01-29T18:00:00.000000000",
          "2025-01-30T00:00:00.000000000",
          "2025-01-30T06:00:00.000000000",
          "2025-01-30T12:00:00.000000000",
          "2025-01-30T18:00:00.000000000",
          "2025-01-31T00:00:00.000000000",
          "2025-01-31T06:00:00.000000000",
          "2025-01-31T12:00:00.000000000",
          "2025-01-31T18:00:00.000000000",
          "2025-02-01T00:00:00.000000000",
          "2025-02-01T06:00:00.000000000",
          "2025-02-01T12:00:00.000000000",
          "2025-02-01T18:00:00.000000000",
          "2025-02-02T00:00:00.000000000",
          "2025-02-02T06:00:00.000000000",
          "2025-02-02T12:00:00.000000000",
          "2025-02-02T18:00:00.000000000",
          "2025-02-03T00:00:00.000000000",
          "2025-02-03T06:00:00.000000000",
          "2025-02-03T12:00:00.000000000",
          "2025-02-03T18:00:00.000000000",
          "2025-02-04T00:00:00.000000000",
          "2025-02-04T06:00:00.000000000",
          "2025-02-04T12:00:00.000000000",
          "2025-02-04T18:00:00.000000000",
          "2025-02-05T00:00:00.000000000",
          "2025-02-05T06:00:00.000000000",
          "2025-02-05T12:00:00.000000000",
          "2025-02-05T18:00:00.000000000",
          "2025-02-06T00:00:00.000000000",
          "2025-02-06T06:00:00.000000000",
          "2025-02-06T12:00:00.000000000",
          "2025-02-06T18:00:00.000000000",
          "2025-02-07T00:00:00.000000000",
          "2025-02-07T06:00:00.000000000",
          "2025-02-07T12:00:00.000000000",
          "2025-02-07T18:00:00.000000000",
          "2025-02-08T00:00:00.000000000",
          "2025-02-08T06:00:00.000000000",
          "2025-02-08T12:00:00.000000000",
          "2025-02-08T18:00:00.000000000",
          "2025-02-09T00:00:00.000000000",
          "2025-02-09T06:00:00.000000000",
          "2025-02-09T12:00:00.000000000",
          "2025-02-09T18:00:00.000000000",
          "2025-02-10T00:00:00.000000000",
          "2025-02-10T06:00:00.000000000",
          "2025-02-10T12:00:00.000000000",
          "2025-02-10T18:00:00.000000000",
          "2025-02-11T00:00:00.000000000",
          "2025-02-11T06:00:00.000000000",
          "2025-02-11T12:00:00.000000000",
          "2025-02-11T18:00:00.000000000",
          "2025-02-12T00:00:00.000000000",
          "2025-02-12T06:00:00.000000000",
          "2025-02-12T12:00:00.000000000",
          "2025-02-12T18:00:00.000000000",
          "2025-02-13T00:00:00.000000000",
          "2025-02-13T06:00:00.000000000",
          "2025-02-13T12:00:00.000000000",
          "2025-02-13T18:00:00.000000000",
          "2025-02-14T00:00:00.000000000",
          "2025-02-14T06:00:00.000000000",
          "2025-02-14T12:00:00.000000000",
          "2025-02-14T18:00:00.000000000",
          "2025-02-15T00:00:00.000000000",
          "2025-02-15T06:00:00.000000000",
          "2025-02-15T12:00:00.000000000",
          "2025-02-15T18:00:00.000000000",
          "2025-02-16T00:00:00.000000000",
          "2025-02-16T06:00:00.000000000",
          "2025-02-16T12:00:00.000000000",
          "2025-02-16T18:00:00.000000000",
          "2025-02-17T00:00:00.000000000",
          "2025-02-17T06:00:00.000000000",
          "2025-02-17T12:00:00.000000000",
          "2025-02-17T18:00:00.000000000",
          "2025-02-18T00:00:00.000000000",
          "2025-02-18T06:00:00.000000000",
          "2025-02-18T12:00:00.000000000",
          "2025-02-18T18:00:00.000000000",
          "2025-02-19T00:00:00.000000000",
          "2025-02-19T06:00:00.000000000",
          "2025-02-19T12:00:00.000000000",
          "2025-02-19T18:00:00.000000000",
          "2025-02-20T00:00:00.000000000",
          "2025-02-20T06:00:00.000000000",
          "2025-02-20T12:00:00.000000000",
          "2025-02-20T18:00:00.000000000",
          "2025-02-21T00:00:00.000000000",
          "2025-02-21T06:00:00.000000000",
          "2025-02-21T12:00:00.000000000",
          "2025-02-21T18:00:00.000000000",
          "2025-02-22T00:00:00.000000000",
          "2025-02-22T06:00:00.000000000",
          "2025-02-22T12:00:00.000000000",
          "2025-02-22T18:00:00.000000000",
          "2025-02-23T00:00:00.000000000",
          "2025-02-23T06:00:00.000000000",
          "2025-02-23T12:00:00.000000000",
          "2025-02-23T18:00:00.000000000",
          "2025-02-24T00:00:00.000000000",
          "2025-02-24T06:00:00.000000000",
          "2025-02-24T12:00:00.000000000",
          "2025-02-24T18:00:00.000000000",
          "2025-02-25T00:00:00.000000000",
          "2025-02-25T06:00:00.000000000",
          "2025-02-25T12:00:00.000000000",
          "2025-02-25T18:00:00.000000000",
          "2025-02-26T00:00:00.000000000",
          "2025-02-26T06:00:00.000000000",
          "2025-02-26T12:00:00.000000000",
          "2025-02-26T18:00:00.000000000",
          "2025-02-27T00:00:00.000000000",
          "2025-02-27T06:00:00.000000000",
          "2025-02-27T12:00:00.000000000",
          "2025-02-27T18:00:00.000000000",
          "2025-02-28T00:00:00.000000000",
          "2025-02-28T06:00:00.000000000",
          "2025-02-28T12:00:00.000000000",
          "2025-02-28T18:00:00.000000000",
          "2025-03-01T00:00:00.000000000",
          "2025-03-01T06:00:00.000000000",
          "2025-03-01T12:00:00.000000000",
          "2025-03-01T18:00:00.000000000",
          "2025-03-02T00:00:00.000000000",
          "2025-03-02T06:00:00.000000000",
          "2025-03-02T12:00:00.000000000",
          "2025-03-02T18:00:00.000000000",
          "2025-03-03T00:00:00.000000000",
          "2025-03-03T06:00:00.000000000",
          "2025-03-03T12:00:00.000000000",
          "2025-03-03T18:00:00.000000000",
          "2025-03-04T00:00:00.000000000",
          "2025-03-04T06:00:00.000000000",
          "2025-03-04T12:00:00.000000000",
          "2025-03-04T18:00:00.000000000",
          "2025-03-05T00:00:00.000000000",
          "2025-03-05T06:00:00.000000000",
          "2025-03-05T12:00:00.000000000",
          "2025-03-05T18:00:00.000000000",
          "2025-03-06T00:00:00.000000000",
          "2025-03-06T06:00:00.000000000",
          "2025-03-06T12:00:00.000000000",
          "2025-03-06T18:00:00.000000000",
          "2025-03-07T00:00:00.000000000",
          "2025-03-07T06:00:00.000000000",
          "2025-03-07T12:00:00.000000000",
          "2025-03-07T18:00:00.000000000",
          "2025-03-08T00:00:00.000000000",
          "2025-03-08T06:00:00.000000000",
          "2025-03-08T12:00:00.000000000",
          "2025-03-08T18:00:00.000000000",
          "2025-03-09T00:00:00.000000000",
          "2025-03-09T06:00:00.000000000",
          "2025-03-09T12:00:00.000000000",
          "2025-03-09T18:00:00.000000000",
          "2025-03-10T00:00:00.000000000",
          "2025-03-10T06:00:00.000000000",
          "2025-03-10T12:00:00.000000000",
          "2025-03-10T18:00:00.000000000",
          "2025-03-11T00:00:00.000000000",
          "2025-03-11T06:00:00.000000000",
          "2025-03-11T12:00:00.000000000",
          "2025-03-11T18:00:00.000000000",
          "2025-03-12T00:00:00.000000000",
          "2025-03-12T06:00:00.000000000",
          "2025-03-12T12:00:00.000000000",
          "2025-03-12T18:00:00.000000000",
          "2025-03-13T00:00:00.000000000",
          "2025-03-13T06:00:00.000000000",
          "2025-03-13T12:00:00.000000000",
          "2025-03-13T18:00:00.000000000",
          "2025-03-14T00:00:00.000000000",
          "2025-03-14T06:00:00.000000000",
          "2025-03-14T12:00:00.000000000",
          "2025-03-14T18:00:00.000000000",
          "2025-03-15T00:00:00.000000000",
          "2025-03-15T06:00:00.000000000",
          "2025-03-15T12:00:00.000000000",
          "2025-03-15T18:00:00.000000000",
          "2025-03-16T00:00:00.000000000",
          "2025-03-16T06:00:00.000000000",
          "2025-03-16T12:00:00.000000000",
          "2025-03-16T18:00:00.000000000",
          "2025-03-17T00:00:00.000000000",
          "2025-03-17T06:00:00.000000000",
          "2025-03-17T12:00:00.000000000",
          "2025-03-17T18:00:00.000000000",
          "2025-03-18T00:00:00.000000000",
          "2025-03-18T06:00:00.000000000",
          "2025-03-18T12:00:00.000000000",
          "2025-03-18T18:00:00.000000000",
          "2025-03-19T00:00:00.000000000",
          "2025-03-19T06:00:00.000000000",
          "2025-03-19T12:00:00.000000000",
          "2025-03-19T18:00:00.000000000",
          "2025-03-20T00:00:00.000000000",
          "2025-03-20T06:00:00.000000000",
          "2025-03-20T12:00:00.000000000",
          "2025-03-20T18:00:00.000000000",
          "2025-03-21T00:00:00.000000000",
          "2025-03-21T06:00:00.000000000",
          "2025-03-21T12:00:00.000000000",
          "2025-03-21T18:00:00.000000000",
          "2025-03-22T00:00:00.000000000",
          "2025-03-22T06:00:00.000000000",
          "2025-03-22T12:00:00.000000000",
          "2025-03-22T18:00:00.000000000",
          "2025-03-23T00:00:00.000000000",
          "2025-03-23T06:00:00.000000000",
          "2025-03-23T12:00:00.000000000",
          "2025-03-23T18:00:00.000000000",
          "2025-03-24T00:00:00.000000000",
          "2025-03-24T06:00:00.000000000",
          "2025-03-24T12:00:00.000000000",
          "2025-03-24T18:00:00.000000000",
          "2025-03-25T00:00:00.000000000",
          "2025-03-25T06:00:00.000000000",
          "2025-03-25T12:00:00.000000000",
          "2025-03-25T18:00:00.000000000",
          "2025-03-26T00:00:00.000000000",
          "2025-03-26T06:00:00.000000000",
          "2025-03-26T12:00:00.000000000",
          "2025-03-26T18:00:00.000000000",
          "2025-03-27T00:00:00.000000000",
          "2025-03-27T06:00:00.000000000",
          "2025-03-27T12:00:00.000000000",
          "2025-03-27T18:00:00.000000000",
          "2025-03-28T00:00:00.000000000",
          "2025-03-28T06:00:00.000000000",
          "2025-03-28T12:00:00.000000000",
          "2025-03-28T18:00:00.000000000",
          "2025-03-29T00:00:00.000000000",
          "2025-03-29T06:00:00.000000000",
          "2025-03-29T12:00:00.000000000",
          "2025-03-29T18:00:00.000000000",
          "2025-03-30T00:00:00.000000000",
          "2025-03-30T06:00:00.000000000",
          "2025-03-30T12:00:00.000000000",
          "2025-03-30T18:00:00.000000000",
          "2025-03-31T00:00:00.000000000",
          "2025-03-31T06:00:00.000000000",
          "2025-03-31T12:00:00.000000000",
          "2025-03-31T18:00:00.000000000",
          "2025-04-01T00:00:00.000000000",
          "2025-04-01T06:00:00.000000000"
         ],
         "xaxis": "x",
         "y": {
          "bdata": "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",
          "dtype": "f8"
         },
         "yaxis": "y"
        },
        {
         "hovertemplate": "variable=y_pred<br>date=%{x}<br>PM2.5=%{y}<extra></extra>",
         "legendgroup": "y_pred",
         "line": {
          "color": "#EF553B",
          "dash": "solid"
         },
         "marker": {
          "symbol": "circle"
         },
         "mode": "lines",
         "name": "y_pred",
         "orientation": "v",
         "showlegend": true,
         "type": "scatter",
         "x": [
          "2024-12-19T00:00:00.000000000",
          "2024-12-19T06:00:00.000000000",
          "2024-12-19T12:00:00.000000000",
          "2024-12-19T18:00:00.000000000",
          "2024-12-20T00:00:00.000000000",
          "2024-12-20T06:00:00.000000000",
          "2024-12-20T12:00:00.000000000",
          "2024-12-20T18:00:00.000000000",
          "2024-12-21T00:00:00.000000000",
          "2024-12-21T06:00:00.000000000",
          "2024-12-21T12:00:00.000000000",
          "2024-12-21T18:00:00.000000000",
          "2024-12-22T00:00:00.000000000",
          "2024-12-22T06:00:00.000000000",
          "2024-12-22T12:00:00.000000000",
          "2024-12-22T18:00:00.000000000",
          "2024-12-23T00:00:00.000000000",
          "2024-12-23T06:00:00.000000000",
          "2024-12-23T12:00:00.000000000",
          "2024-12-23T18:00:00.000000000",
          "2024-12-24T00:00:00.000000000",
          "2024-12-24T06:00:00.000000000",
          "2024-12-24T12:00:00.000000000",
          "2024-12-24T18:00:00.000000000",
          "2024-12-25T00:00:00.000000000",
          "2024-12-25T06:00:00.000000000",
          "2024-12-25T12:00:00.000000000",
          "2024-12-25T18:00:00.000000000",
          "2024-12-26T00:00:00.000000000",
          "2024-12-26T06:00:00.000000000",
          "2024-12-26T12:00:00.000000000",
          "2024-12-26T18:00:00.000000000",
          "2024-12-27T00:00:00.000000000",
          "2024-12-27T06:00:00.000000000",
          "2024-12-27T12:00:00.000000000",
          "2024-12-27T18:00:00.000000000",
          "2024-12-28T00:00:00.000000000",
          "2024-12-28T06:00:00.000000000",
          "2024-12-28T12:00:00.000000000",
          "2024-12-28T18:00:00.000000000",
          "2024-12-29T00:00:00.000000000",
          "2024-12-29T06:00:00.000000000",
          "2024-12-29T12:00:00.000000000",
          "2024-12-29T18:00:00.000000000",
          "2024-12-30T00:00:00.000000000",
          "2024-12-30T06:00:00.000000000",
          "2024-12-30T12:00:00.000000000",
          "2024-12-30T18:00:00.000000000",
          "2024-12-31T00:00:00.000000000",
          "2024-12-31T06:00:00.000000000",
          "2024-12-31T12:00:00.000000000",
          "2024-12-31T18:00:00.000000000",
          "2025-01-01T00:00:00.000000000",
          "2025-01-01T06:00:00.000000000",
          "2025-01-01T12:00:00.000000000",
          "2025-01-01T18:00:00.000000000",
          "2025-01-02T00:00:00.000000000",
          "2025-01-02T06:00:00.000000000",
          "2025-01-02T12:00:00.000000000",
          "2025-01-02T18:00:00.000000000",
          "2025-01-03T00:00:00.000000000",
          "2025-01-03T06:00:00.000000000",
          "2025-01-03T12:00:00.000000000",
          "2025-01-03T18:00:00.000000000",
          "2025-01-04T00:00:00.000000000",
          "2025-01-04T06:00:00.000000000",
          "2025-01-04T12:00:00.000000000",
          "2025-01-04T18:00:00.000000000",
          "2025-01-05T00:00:00.000000000",
          "2025-01-05T06:00:00.000000000",
          "2025-01-05T12:00:00.000000000",
          "2025-01-05T18:00:00.000000000",
          "2025-01-06T00:00:00.000000000",
          "2025-01-06T06:00:00.000000000",
          "2025-01-06T12:00:00.000000000",
          "2025-01-06T18:00:00.000000000",
          "2025-01-07T00:00:00.000000000",
          "2025-01-07T06:00:00.000000000",
          "2025-01-07T12:00:00.000000000",
          "2025-01-07T18:00:00.000000000",
          "2025-01-08T00:00:00.000000000",
          "2025-01-08T06:00:00.000000000",
          "2025-01-08T12:00:00.000000000",
          "2025-01-08T18:00:00.000000000",
          "2025-01-09T00:00:00.000000000",
          "2025-01-09T06:00:00.000000000",
          "2025-01-09T12:00:00.000000000",
          "2025-01-09T18:00:00.000000000",
          "2025-01-10T00:00:00.000000000",
          "2025-01-10T06:00:00.000000000",
          "2025-01-10T12:00:00.000000000",
          "2025-01-10T18:00:00.000000000",
          "2025-01-11T00:00:00.000000000",
          "2025-01-11T06:00:00.000000000",
          "2025-01-11T12:00:00.000000000",
          "2025-01-11T18:00:00.000000000",
          "2025-01-12T00:00:00.000000000",
          "2025-01-12T06:00:00.000000000",
          "2025-01-12T12:00:00.000000000",
          "2025-01-12T18:00:00.000000000",
          "2025-01-13T00:00:00.000000000",
          "2025-01-13T06:00:00.000000000",
          "2025-01-13T12:00:00.000000000",
          "2025-01-13T18:00:00.000000000",
          "2025-01-14T00:00:00.000000000",
          "2025-01-14T06:00:00.000000000",
          "2025-01-14T12:00:00.000000000",
          "2025-01-14T18:00:00.000000000",
          "2025-01-15T00:00:00.000000000",
          "2025-01-15T06:00:00.000000000",
          "2025-01-15T12:00:00.000000000",
          "2025-01-15T18:00:00.000000000",
          "2025-01-16T00:00:00.000000000",
          "2025-01-16T06:00:00.000000000",
          "2025-01-16T12:00:00.000000000",
          "2025-01-16T18:00:00.000000000",
          "2025-01-17T00:00:00.000000000",
          "2025-01-17T06:00:00.000000000",
          "2025-01-17T12:00:00.000000000",
          "2025-01-17T18:00:00.000000000",
          "2025-01-18T00:00:00.000000000",
          "2025-01-18T06:00:00.000000000",
          "2025-01-18T12:00:00.000000000",
          "2025-01-18T18:00:00.000000000",
          "2025-01-19T00:00:00.000000000",
          "2025-01-19T06:00:00.000000000",
          "2025-01-19T12:00:00.000000000",
          "2025-01-19T18:00:00.000000000",
          "2025-01-20T00:00:00.000000000",
          "2025-01-20T06:00:00.000000000",
          "2025-01-20T12:00:00.000000000",
          "2025-01-20T18:00:00.000000000",
          "2025-01-21T00:00:00.000000000",
          "2025-01-21T06:00:00.000000000",
          "2025-01-21T12:00:00.000000000",
          "2025-01-21T18:00:00.000000000",
          "2025-01-22T00:00:00.000000000",
          "2025-01-22T06:00:00.000000000",
          "2025-01-22T12:00:00.000000000",
          "2025-01-22T18:00:00.000000000",
          "2025-01-23T00:00:00.000000000",
          "2025-01-23T06:00:00.000000000",
          "2025-01-23T12:00:00.000000000",
          "2025-01-23T18:00:00.000000000",
          "2025-01-24T00:00:00.000000000",
          "2025-01-24T06:00:00.000000000",
          "2025-01-24T12:00:00.000000000",
          "2025-01-24T18:00:00.000000000",
          "2025-01-25T00:00:00.000000000",
          "2025-01-25T06:00:00.000000000",
          "2025-01-25T12:00:00.000000000",
          "2025-01-25T18:00:00.000000000",
          "2025-01-26T00:00:00.000000000",
          "2025-01-26T06:00:00.000000000",
          "2025-01-26T12:00:00.000000000",
          "2025-01-26T18:00:00.000000000",
          "2025-01-27T00:00:00.000000000",
          "2025-01-27T06:00:00.000000000",
          "2025-01-27T12:00:00.000000000",
          "2025-01-27T18:00:00.000000000",
          "2025-01-28T00:00:00.000000000",
          "2025-01-28T06:00:00.000000000",
          "2025-01-28T12:00:00.000000000",
          "2025-01-28T18:00:00.000000000",
          "2025-01-29T00:00:00.000000000",
          "2025-01-29T06:00:00.000000000",
          "2025-01-29T12:00:00.000000000",
          "2025-01-29T18:00:00.000000000",
          "2025-01-30T00:00:00.000000000",
          "2025-01-30T06:00:00.000000000",
          "2025-01-30T12:00:00.000000000",
          "2025-01-30T18:00:00.000000000",
          "2025-01-31T00:00:00.000000000",
          "2025-01-31T06:00:00.000000000",
          "2025-01-31T12:00:00.000000000",
          "2025-01-31T18:00:00.000000000",
          "2025-02-01T00:00:00.000000000",
          "2025-02-01T06:00:00.000000000",
          "2025-02-01T12:00:00.000000000",
          "2025-02-01T18:00:00.000000000",
          "2025-02-02T00:00:00.000000000",
          "2025-02-02T06:00:00.000000000",
          "2025-02-02T12:00:00.000000000",
          "2025-02-02T18:00:00.000000000",
          "2025-02-03T00:00:00.000000000",
          "2025-02-03T06:00:00.000000000",
          "2025-02-03T12:00:00.000000000",
          "2025-02-03T18:00:00.000000000",
          "2025-02-04T00:00:00.000000000",
          "2025-02-04T06:00:00.000000000",
          "2025-02-04T12:00:00.000000000",
          "2025-02-04T18:00:00.000000000",
          "2025-02-05T00:00:00.000000000",
          "2025-02-05T06:00:00.000000000",
          "2025-02-05T12:00:00.000000000",
          "2025-02-05T18:00:00.000000000",
          "2025-02-06T00:00:00.000000000",
          "2025-02-06T06:00:00.000000000",
          "2025-02-06T12:00:00.000000000",
          "2025-02-06T18:00:00.000000000",
          "2025-02-07T00:00:00.000000000",
          "2025-02-07T06:00:00.000000000",
          "2025-02-07T12:00:00.000000000",
          "2025-02-07T18:00:00.000000000",
          "2025-02-08T00:00:00.000000000",
          "2025-02-08T06:00:00.000000000",
          "2025-02-08T12:00:00.000000000",
          "2025-02-08T18:00:00.000000000",
          "2025-02-09T00:00:00.000000000",
          "2025-02-09T06:00:00.000000000",
          "2025-02-09T12:00:00.000000000",
          "2025-02-09T18:00:00.000000000",
          "2025-02-10T00:00:00.000000000",
          "2025-02-10T06:00:00.000000000",
          "2025-02-10T12:00:00.000000000",
          "2025-02-10T18:00:00.000000000",
          "2025-02-11T00:00:00.000000000",
          "2025-02-11T06:00:00.000000000",
          "2025-02-11T12:00:00.000000000",
          "2025-02-11T18:00:00.000000000",
          "2025-02-12T00:00:00.000000000",
          "2025-02-12T06:00:00.000000000",
          "2025-02-12T12:00:00.000000000",
          "2025-02-12T18:00:00.000000000",
          "2025-02-13T00:00:00.000000000",
          "2025-02-13T06:00:00.000000000",
          "2025-02-13T12:00:00.000000000",
          "2025-02-13T18:00:00.000000000",
          "2025-02-14T00:00:00.000000000",
          "2025-02-14T06:00:00.000000000",
          "2025-02-14T12:00:00.000000000",
          "2025-02-14T18:00:00.000000000",
          "2025-02-15T00:00:00.000000000",
          "2025-02-15T06:00:00.000000000",
          "2025-02-15T12:00:00.000000000",
          "2025-02-15T18:00:00.000000000",
          "2025-02-16T00:00:00.000000000",
          "2025-02-16T06:00:00.000000000",
          "2025-02-16T12:00:00.000000000",
          "2025-02-16T18:00:00.000000000",
          "2025-02-17T00:00:00.000000000",
          "2025-02-17T06:00:00.000000000",
          "2025-02-17T12:00:00.000000000",
          "2025-02-17T18:00:00.000000000",
          "2025-02-18T00:00:00.000000000",
          "2025-02-18T06:00:00.000000000",
          "2025-02-18T12:00:00.000000000",
          "2025-02-18T18:00:00.000000000",
          "2025-02-19T00:00:00.000000000",
          "2025-02-19T06:00:00.000000000",
          "2025-02-19T12:00:00.000000000",
          "2025-02-19T18:00:00.000000000",
          "2025-02-20T00:00:00.000000000",
          "2025-02-20T06:00:00.000000000",
          "2025-02-20T12:00:00.000000000",
          "2025-02-20T18:00:00.000000000",
          "2025-02-21T00:00:00.000000000",
          "2025-02-21T06:00:00.000000000",
          "2025-02-21T12:00:00.000000000",
          "2025-02-21T18:00:00.000000000",
          "2025-02-22T00:00:00.000000000",
          "2025-02-22T06:00:00.000000000",
          "2025-02-22T12:00:00.000000000",
          "2025-02-22T18:00:00.000000000",
          "2025-02-23T00:00:00.000000000",
          "2025-02-23T06:00:00.000000000",
          "2025-02-23T12:00:00.000000000",
          "2025-02-23T18:00:00.000000000",
          "2025-02-24T00:00:00.000000000",
          "2025-02-24T06:00:00.000000000",
          "2025-02-24T12:00:00.000000000",
          "2025-02-24T18:00:00.000000000",
          "2025-02-25T00:00:00.000000000",
          "2025-02-25T06:00:00.000000000",
          "2025-02-25T12:00:00.000000000",
          "2025-02-25T18:00:00.000000000",
          "2025-02-26T00:00:00.000000000",
          "2025-02-26T06:00:00.000000000",
          "2025-02-26T12:00:00.000000000",
          "2025-02-26T18:00:00.000000000",
          "2025-02-27T00:00:00.000000000",
          "2025-02-27T06:00:00.000000000",
          "2025-02-27T12:00:00.000000000",
          "2025-02-27T18:00:00.000000000",
          "2025-02-28T00:00:00.000000000",
          "2025-02-28T06:00:00.000000000",
          "2025-02-28T12:00:00.000000000",
          "2025-02-28T18:00:00.000000000",
          "2025-03-01T00:00:00.000000000",
          "2025-03-01T06:00:00.000000000",
          "2025-03-01T12:00:00.000000000",
          "2025-03-01T18:00:00.000000000",
          "2025-03-02T00:00:00.000000000",
          "2025-03-02T06:00:00.000000000",
          "2025-03-02T12:00:00.000000000",
          "2025-03-02T18:00:00.000000000",
          "2025-03-03T00:00:00.000000000",
          "2025-03-03T06:00:00.000000000",
          "2025-03-03T12:00:00.000000000",
          "2025-03-03T18:00:00.000000000",
          "2025-03-04T00:00:00.000000000",
          "2025-03-04T06:00:00.000000000",
          "2025-03-04T12:00:00.000000000",
          "2025-03-04T18:00:00.000000000",
          "2025-03-05T00:00:00.000000000",
          "2025-03-05T06:00:00.000000000",
          "2025-03-05T12:00:00.000000000",
          "2025-03-05T18:00:00.000000000",
          "2025-03-06T00:00:00.000000000",
          "2025-03-06T06:00:00.000000000",
          "2025-03-06T12:00:00.000000000",
          "2025-03-06T18:00:00.000000000",
          "2025-03-07T00:00:00.000000000",
          "2025-03-07T06:00:00.000000000",
          "2025-03-07T12:00:00.000000000",
          "2025-03-07T18:00:00.000000000",
          "2025-03-08T00:00:00.000000000",
          "2025-03-08T06:00:00.000000000",
          "2025-03-08T12:00:00.000000000",
          "2025-03-08T18:00:00.000000000",
          "2025-03-09T00:00:00.000000000",
          "2025-03-09T06:00:00.000000000",
          "2025-03-09T12:00:00.000000000",
          "2025-03-09T18:00:00.000000000",
          "2025-03-10T00:00:00.000000000",
          "2025-03-10T06:00:00.000000000",
          "2025-03-10T12:00:00.000000000",
          "2025-03-10T18:00:00.000000000",
          "2025-03-11T00:00:00.000000000",
          "2025-03-11T06:00:00.000000000",
          "2025-03-11T12:00:00.000000000",
          "2025-03-11T18:00:00.000000000",
          "2025-03-12T00:00:00.000000000",
          "2025-03-12T06:00:00.000000000",
          "2025-03-12T12:00:00.000000000",
          "2025-03-12T18:00:00.000000000",
          "2025-03-13T00:00:00.000000000",
          "2025-03-13T06:00:00.000000000",
          "2025-03-13T12:00:00.000000000",
          "2025-03-13T18:00:00.000000000",
          "2025-03-14T00:00:00.000000000",
          "2025-03-14T06:00:00.000000000",
          "2025-03-14T12:00:00.000000000",
          "2025-03-14T18:00:00.000000000",
          "2025-03-15T00:00:00.000000000",
          "2025-03-15T06:00:00.000000000",
          "2025-03-15T12:00:00.000000000",
          "2025-03-15T18:00:00.000000000",
          "2025-03-16T00:00:00.000000000",
          "2025-03-16T06:00:00.000000000",
          "2025-03-16T12:00:00.000000000",
          "2025-03-16T18:00:00.000000000",
          "2025-03-17T00:00:00.000000000",
          "2025-03-17T06:00:00.000000000",
          "2025-03-17T12:00:00.000000000",
          "2025-03-17T18:00:00.000000000",
          "2025-03-18T00:00:00.000000000",
          "2025-03-18T06:00:00.000000000",
          "2025-03-18T12:00:00.000000000",
          "2025-03-18T18:00:00.000000000",
          "2025-03-19T00:00:00.000000000",
          "2025-03-19T06:00:00.000000000",
          "2025-03-19T12:00:00.000000000",
          "2025-03-19T18:00:00.000000000",
          "2025-03-20T00:00:00.000000000",
          "2025-03-20T06:00:00.000000000",
          "2025-03-20T12:00:00.000000000",
          "2025-03-20T18:00:00.000000000",
          "2025-03-21T00:00:00.000000000",
          "2025-03-21T06:00:00.000000000",
          "2025-03-21T12:00:00.000000000",
          "2025-03-21T18:00:00.000000000",
          "2025-03-22T00:00:00.000000000",
          "2025-03-22T06:00:00.000000000",
          "2025-03-22T12:00:00.000000000",
          "2025-03-22T18:00:00.000000000",
          "2025-03-23T00:00:00.000000000",
          "2025-03-23T06:00:00.000000000",
          "2025-03-23T12:00:00.000000000",
          "2025-03-23T18:00:00.000000000",
          "2025-03-24T00:00:00.000000000",
          "2025-03-24T06:00:00.000000000",
          "2025-03-24T12:00:00.000000000",
          "2025-03-24T18:00:00.000000000",
          "2025-03-25T00:00:00.000000000",
          "2025-03-25T06:00:00.000000000",
          "2025-03-25T12:00:00.000000000",
          "2025-03-25T18:00:00.000000000",
          "2025-03-26T00:00:00.000000000",
          "2025-03-26T06:00:00.000000000",
          "2025-03-26T12:00:00.000000000",
          "2025-03-26T18:00:00.000000000",
          "2025-03-27T00:00:00.000000000",
          "2025-03-27T06:00:00.000000000",
          "2025-03-27T12:00:00.000000000",
          "2025-03-27T18:00:00.000000000",
          "2025-03-28T00:00:00.000000000",
          "2025-03-28T06:00:00.000000000",
          "2025-03-28T12:00:00.000000000",
          "2025-03-28T18:00:00.000000000",
          "2025-03-29T00:00:00.000000000",
          "2025-03-29T06:00:00.000000000",
          "2025-03-29T12:00:00.000000000",
          "2025-03-29T18:00:00.000000000",
          "2025-03-30T00:00:00.000000000",
          "2025-03-30T06:00:00.000000000",
          "2025-03-30T12:00:00.000000000",
          "2025-03-30T18:00:00.000000000",
          "2025-03-31T00:00:00.000000000",
          "2025-03-31T06:00:00.000000000",
          "2025-03-31T12:00:00.000000000",
          "2025-03-31T18:00:00.000000000",
          "2025-04-01T00:00:00.000000000",
          "2025-04-01T06:00:00.000000000"
         ],
         "xaxis": "x",
         "y": {
          "bdata": "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",
          "dtype": "f8"
         },
         "yaxis": "y"
        }
       ],
       "layout": {
        "legend": {
         "title": {
          "text": "variable"
         },
         "tracegroupgap": 0
        },
        "template": {
         "data": {
          "bar": [
           {
            "error_x": {
             "color": "#2a3f5f"
            },
            "error_y": {
             "color": "#2a3f5f"
            },
            "marker": {
             "line": {
              "color": "#E5ECF6",
              "width": 0.5
             },
             "pattern": {
              "fillmode": "overlay",
              "size": 10,
              "solidity": 0.2
             }
            },
            "type": "bar"
           }
          ],
          "barpolar": [
           {
            "marker": {
             "line": {
              "color": "#E5ECF6",
              "width": 0.5
             },
             "pattern": {
              "fillmode": "overlay",
              "size": 10,
              "solidity": 0.2
             }
            },
            "type": "barpolar"
           }
          ],
          "carpet": [
           {
            "aaxis": {
             "endlinecolor": "#2a3f5f",
             "gridcolor": "white",
             "linecolor": "white",
             "minorgridcolor": "white",
             "startlinecolor": "#2a3f5f"
            },
            "baxis": {
             "endlinecolor": "#2a3f5f",
             "gridcolor": "white",
             "linecolor": "white",
             "minorgridcolor": "white",
             "startlinecolor": "#2a3f5f"
            },
            "type": "carpet"
           }
          ],
          "choropleth": [
           {
            "colorbar": {
             "outlinewidth": 0,
             "ticks": ""
            },
            "type": "choropleth"
           }
          ],
          "contour": [
           {
            "colorbar": {
             "outlinewidth": 0,
             "ticks": ""
            },
            "colorscale": [
             [
              0,
              "#0d0887"
             ],
             [
              0.1111111111111111,
              "#46039f"
             ],
             [
              0.2222222222222222,
              "#7201a8"
             ],
             [
              0.3333333333333333,
              "#9c179e"
             ],
             [
              0.4444444444444444,
              "#bd3786"
             ],
             [
              0.5555555555555556,
              "#d8576b"
             ],
             [
              0.6666666666666666,
              "#ed7953"
             ],
             [
              0.7777777777777778,
              "#fb9f3a"
             ],
             [
              0.8888888888888888,
              "#fdca26"
             ],
             [
              1,
              "#f0f921"
             ]
            ],
            "type": "contour"
           }
          ],
          "contourcarpet": [
           {
            "colorbar": {
             "outlinewidth": 0,
             "ticks": ""
            },
            "type": "contourcarpet"
           }
          ],
          "heatmap": [
           {
            "colorbar": {
             "outlinewidth": 0,
             "ticks": ""
            },
            "colorscale": [
             [
              0,
              "#0d0887"
             ],
             [
              0.1111111111111111,
              "#46039f"
             ],
             [
              0.2222222222222222,
              "#7201a8"
             ],
             [
              0.3333333333333333,
              "#9c179e"
             ],
             [
              0.4444444444444444,
              "#bd3786"
             ],
             [
              0.5555555555555556,
              "#d8576b"
             ],
             [
              0.6666666666666666,
              "#ed7953"
             ],
             [
              0.7777777777777778,
              "#fb9f3a"
             ],
             [
              0.8888888888888888,
              "#fdca26"
             ],
             [
              1,
              "#f0f921"
             ]
            ],
            "type": "heatmap"
           }
          ],
          "histogram": [
           {
            "marker": {
             "pattern": {
              "fillmode": "overlay",
              "size": 10,
              "solidity": 0.2
             }
            },
            "type": "histogram"
           }
          ],
          "histogram2d": [
           {
            "colorbar": {
             "outlinewidth": 0,
             "ticks": ""
            },
            "colorscale": [
             [
              0,
              "#0d0887"
             ],
             [
              0.1111111111111111,
              "#46039f"
             ],
             [
              0.2222222222222222,
              "#7201a8"
             ],
             [
              0.3333333333333333,
              "#9c179e"
             ],
             [
              0.4444444444444444,
              "#bd3786"
             ],
             [
              0.5555555555555556,
              "#d8576b"
             ],
             [
              0.6666666666666666,
              "#ed7953"
             ],
             [
              0.7777777777777778,
              "#fb9f3a"
             ],
             [
              0.8888888888888888,
              "#fdca26"
             ],
             [
              1,
              "#f0f921"
             ]
            ],
            "type": "histogram2d"
           }
          ],
          "histogram2dcontour": [
           {
            "colorbar": {
             "outlinewidth": 0,
             "ticks": ""
            },
            "colorscale": [
             [
              0,
              "#0d0887"
             ],
             [
              0.1111111111111111,
              "#46039f"
             ],
             [
              0.2222222222222222,
              "#7201a8"
             ],
             [
              0.3333333333333333,
              "#9c179e"
             ],
             [
              0.4444444444444444,
              "#bd3786"
             ],
             [
              0.5555555555555556,
              "#d8576b"
             ],
             [
              0.6666666666666666,
              "#ed7953"
             ],
             [
              0.7777777777777778,
              "#fb9f3a"
             ],
             [
              0.8888888888888888,
              "#fdca26"
             ],
             [
              1,
              "#f0f921"
             ]
            ],
            "type": "histogram2dcontour"
           }
          ],
          "mesh3d": [
           {
            "colorbar": {
             "outlinewidth": 0,
             "ticks": ""
            },
            "type": "mesh3d"
           }
          ],
          "parcoords": [
           {
            "line": {
             "colorbar": {
              "outlinewidth": 0,
              "ticks": ""
             }
            },
            "type": "parcoords"
           }
          ],
          "pie": [
           {
            "automargin": true,
            "type": "pie"
           }
          ],
          "scatter": [
           {
            "fillpattern": {
             "fillmode": "overlay",
             "size": 10,
             "solidity": 0.2
            },
            "type": "scatter"
           }
          ],
          "scatter3d": [
           {
            "line": {
             "colorbar": {
              "outlinewidth": 0,
              "ticks": ""
             }
            },
            "marker": {
             "colorbar": {
              "outlinewidth": 0,
              "ticks": ""
             }
            },
            "type": "scatter3d"
           }
          ],
          "scattercarpet": [
           {
            "marker": {
             "colorbar": {
              "outlinewidth": 0,
              "ticks": ""
             }
            },
            "type": "scattercarpet"
           }
          ],
          "scattergeo": [
           {
            "marker": {
             "colorbar": {
              "outlinewidth": 0,
              "ticks": ""
             }
            },
            "type": "scattergeo"
           }
          ],
          "scattergl": [
           {
            "marker": {
             "colorbar": {
              "outlinewidth": 0,
              "ticks": ""
             }
            },
            "type": "scattergl"
           }
          ],
          "scattermap": [
           {
            "marker": {
             "colorbar": {
              "outlinewidth": 0,
              "ticks": ""
             }
            },
            "type": "scattermap"
           }
          ],
          "scattermapbox": [
           {
            "marker": {
             "colorbar": {
              "outlinewidth": 0,
              "ticks": ""
             }
            },
            "type": "scattermapbox"
           }
          ],
          "scatterpolar": [
           {
            "marker": {
             "colorbar": {
              "outlinewidth": 0,
              "ticks": ""
             }
            },
            "type": "scatterpolar"
           }
          ],
          "scatterpolargl": [
           {
            "marker": {
             "colorbar": {
              "outlinewidth": 0,
              "ticks": ""
             }
            },
            "type": "scatterpolargl"
           }
          ],
          "scatterternary": [
           {
            "marker": {
             "colorbar": {
              "outlinewidth": 0,
              "ticks": ""
             }
            },
            "type": "scatterternary"
           }
          ],
          "surface": [
           {
            "colorbar": {
             "outlinewidth": 0,
             "ticks": ""
            },
            "colorscale": [
             [
              0,
              "#0d0887"
             ],
             [
              0.1111111111111111,
              "#46039f"
             ],
             [
              0.2222222222222222,
              "#7201a8"
             ],
             [
              0.3333333333333333,
              "#9c179e"
             ],
             [
              0.4444444444444444,
              "#bd3786"
             ],
             [
              0.5555555555555556,
              "#d8576b"
             ],
             [
              0.6666666666666666,
              "#ed7953"
             ],
             [
              0.7777777777777778,
              "#fb9f3a"
             ],
             [
              0.8888888888888888,
              "#fdca26"
             ],
             [
              1,
              "#f0f921"
             ]
            ],
            "type": "surface"
           }
          ],
          "table": [
           {
            "cells": {
             "fill": {
              "color": "#EBF0F8"
             },
             "line": {
              "color": "white"
             }
            },
            "header": {
             "fill": {
              "color": "#C8D4E3"
             },
             "line": {
              "color": "white"
             }
            },
            "type": "table"
           }
          ]
         },
         "layout": {
          "annotationdefaults": {
           "arrowcolor": "#2a3f5f",
           "arrowhead": 0,
           "arrowwidth": 1
          },
          "autotypenumbers": "strict",
          "coloraxis": {
           "colorbar": {
            "outlinewidth": 0,
            "ticks": ""
           }
          },
          "colorscale": {
           "diverging": [
            [
             0,
             "#8e0152"
            ],
            [
             0.1,
             "#c51b7d"
            ],
            [
             0.2,
             "#de77ae"
            ],
            [
             0.3,
             "#f1b6da"
            ],
            [
             0.4,
             "#fde0ef"
            ],
            [
             0.5,
             "#f7f7f7"
            ],
            [
             0.6,
             "#e6f5d0"
            ],
            [
             0.7,
             "#b8e186"
            ],
            [
             0.8,
             "#7fbc41"
            ],
            [
             0.9,
             "#4d9221"
            ],
            [
             1,
             "#276419"
            ]
           ],
           "sequential": [
            [
             0,
             "#0d0887"
            ],
            [
             0.1111111111111111,
             "#46039f"
            ],
            [
             0.2222222222222222,
             "#7201a8"
            ],
            [
             0.3333333333333333,
             "#9c179e"
            ],
            [
             0.4444444444444444,
             "#bd3786"
            ],
            [
             0.5555555555555556,
             "#d8576b"
            ],
            [
             0.6666666666666666,
             "#ed7953"
            ],
            [
             0.7777777777777778,
             "#fb9f3a"
            ],
            [
             0.8888888888888888,
             "#fdca26"
            ],
            [
             1,
             "#f0f921"
            ]
           ],
           "sequentialminus": [
            [
             0,
             "#0d0887"
            ],
            [
             0.1111111111111111,
             "#46039f"
            ],
            [
             0.2222222222222222,
             "#7201a8"
            ],
            [
             0.3333333333333333,
             "#9c179e"
            ],
            [
             0.4444444444444444,
             "#bd3786"
            ],
            [
             0.5555555555555556,
             "#d8576b"
            ],
            [
             0.6666666666666666,
             "#ed7953"
            ],
            [
             0.7777777777777778,
             "#fb9f3a"
            ],
            [
             0.8888888888888888,
             "#fdca26"
            ],
            [
             1,
             "#f0f921"
            ]
           ]
          },
          "colorway": [
           "#636efa",
           "#EF553B",
           "#00cc96",
           "#ab63fa",
           "#FFA15A",
           "#19d3f3",
           "#FF6692",
           "#B6E880",
           "#FF97FF",
           "#FECB52"
          ],
          "font": {
           "color": "#2a3f5f"
          },
          "geo": {
           "bgcolor": "white",
           "lakecolor": "white",
           "landcolor": "#E5ECF6",
           "showlakes": true,
           "showland": true,
           "subunitcolor": "white"
          },
          "hoverlabel": {
           "align": "left"
          },
          "hovermode": "closest",
          "mapbox": {
           "style": "light"
          },
          "paper_bgcolor": "white",
          "plot_bgcolor": "#E5ECF6",
          "polar": {
           "angularaxis": {
            "gridcolor": "white",
            "linecolor": "white",
            "ticks": ""
           },
           "bgcolor": "#E5ECF6",
           "radialaxis": {
            "gridcolor": "white",
            "linecolor": "white",
            "ticks": ""
           }
          },
          "scene": {
           "xaxis": {
            "backgroundcolor": "#E5ECF6",
            "gridcolor": "white",
            "gridwidth": 2,
            "linecolor": "white",
            "showbackground": true,
            "ticks": "",
            "zerolinecolor": "white"
           },
           "yaxis": {
            "backgroundcolor": "#E5ECF6",
            "gridcolor": "white",
            "gridwidth": 2,
            "linecolor": "white",
            "showbackground": true,
            "ticks": "",
            "zerolinecolor": "white"
           },
           "zaxis": {
            "backgroundcolor": "#E5ECF6",
            "gridcolor": "white",
            "gridwidth": 2,
            "linecolor": "white",
            "showbackground": true,
            "ticks": "",
            "zerolinecolor": "white"
           }
          },
          "shapedefaults": {
           "line": {
            "color": "#2a3f5f"
           }
          },
          "ternary": {
           "aaxis": {
            "gridcolor": "white",
            "linecolor": "white",
            "ticks": ""
           },
           "baxis": {
            "gridcolor": "white",
            "linecolor": "white",
            "ticks": ""
           },
           "bgcolor": "#E5ECF6",
           "caxis": {
            "gridcolor": "white",
            "linecolor": "white",
            "ticks": ""
           }
          },
          "title": {
           "x": 0.05
          },
          "xaxis": {
           "automargin": true,
           "gridcolor": "white",
           "linecolor": "white",
           "ticks": "",
           "title": {
            "standoff": 15
           },
           "zerolinecolor": "white",
           "zerolinewidth": 2
          },
          "yaxis": {
           "automargin": true,
           "gridcolor": "white",
           "linecolor": "white",
           "ticks": "",
           "title": {
            "standoff": 15
           },
           "zerolinecolor": "white",
           "zerolinewidth": 2
          }
         }
        },
        "title": {
         "text": "Prediction vs Actual Test data "
        },
        "xaxis": {
         "anchor": "y",
         "domain": [
          0,
          1
         ],
         "title": {
          "text": "date"
         }
        },
        "yaxis": {
         "anchor": "x",
         "domain": [
          0,
          1
         ],
         "title": {
          "text": "PM2.5"
         }
        }
       }
      },
      "image/png": "[encoded data removed]"
     },
     "metadata": {},
     "output_type": "display_data"
    }
   ],
   "source": [
    "# Plot results\n",
    "fig = px.line(\n",
    "    data_frame= df_pred_test,\n",
    "    title = \"Prediction vs Actual Test data \",\n",
    "    labels= {\"value\" : \"PM2.5\"}\n",
    ")\n",
    "fig.show()"
   ]
  },
  {
   "cell_type": "code",
   "execution_count": 16,
   "id": "dd7f514e-f64c-49b8-a5f5-ecb666f1c34c",
   "metadata": {},
   "outputs": [
    {
     "name": "stderr",
     "output_type": "stream",
     "text": [
      "C:\\Users\\user\\AppData\\Local\\Temp\\ipykernel_9948\\1856211391.py:8: FutureWarning:\n",
      "\n",
      "The behavior of array concatenation with empty entries is deprecated. In a future version, this will no longer exclude empty items when determining the result dtype. To retain the old behavior, exclude the empty entries before the concat operation.\n",
      "\n"
     ]
    },
    {
     "ename": "KeyboardInterrupt",
     "evalue": "",
     "output_type": "error",
     "traceback": [
      "\u001b[31m---------------------------------------------------------------------------\u001b[39m",
      "\u001b[31mKeyboardInterrupt\u001b[39m                         Traceback (most recent call last)",
      "\u001b[36mCell\u001b[39m\u001b[36m \u001b[39m\u001b[32mIn[16]\u001b[39m\u001b[32m, line 6\u001b[39m\n\u001b[32m      4\u001b[39m history = train.copy()\n\u001b[32m      5\u001b[39m \u001b[38;5;28;01mfor\u001b[39;00m i \u001b[38;5;129;01min\u001b[39;00m \u001b[38;5;28mrange\u001b[39m(\u001b[38;5;28mlen\u001b[39m(test)):\n\u001b[32m----> \u001b[39m\u001b[32m6\u001b[39m      model = ARIMA(history, order = (\u001b[32m3\u001b[39m, \u001b[32m1\u001b[39m, \u001b[32m1\u001b[39m)).fit()\n\u001b[32m      7\u001b[39m      next_pred = model.forecast()\n\u001b[32m      8\u001b[39m      y_pred_wfv = pd.concat([y_pred_wfv, next_pred])\n",
      "\u001b[36mFile \u001b[39m\u001b[32m~\\anaconda3\\Lib\\site-packages\\statsmodels\\tsa\\arima\\model.py:395\u001b[39m, in \u001b[36mARIMA.fit\u001b[39m\u001b[34m(self, start_params, transformed, includes_fixed, method, method_kwargs, gls, gls_kwargs, cov_type, cov_kwds, return_params, low_memory)\u001b[39m\n\u001b[32m    392\u001b[39m \u001b[38;5;28;01melse\u001b[39;00m:\n\u001b[32m    393\u001b[39m     method_kwargs.setdefault(\u001b[33m'\u001b[39m\u001b[33mdisp\u001b[39m\u001b[33m'\u001b[39m, \u001b[32m0\u001b[39m)\n\u001b[32m--> \u001b[39m\u001b[32m395\u001b[39m     res = \u001b[38;5;28msuper\u001b[39m().fit(\n\u001b[32m    396\u001b[39m         return_params=return_params, low_memory=low_memory,\n\u001b[32m    397\u001b[39m         cov_type=cov_type, cov_kwds=cov_kwds, **method_kwargs)\n\u001b[32m    398\u001b[39m     \u001b[38;5;28;01mif\u001b[39;00m \u001b[38;5;129;01mnot\u001b[39;00m return_params:\n\u001b[32m    399\u001b[39m         res.fit_details = res.mlefit\n",
      "\u001b[36mFile \u001b[39m\u001b[32m~\\anaconda3\\Lib\\site-packages\\statsmodels\\tsa\\statespace\\mlemodel.py:705\u001b[39m, in \u001b[36mMLEModel.fit\u001b[39m\u001b[34m(self, start_params, transformed, includes_fixed, cov_type, cov_kwds, method, maxiter, full_output, disp, callback, return_params, optim_score, optim_complex_step, optim_hessian, flags, low_memory, **kwargs)\u001b[39m\n\u001b[32m    703\u001b[39m         flags[\u001b[33m'\u001b[39m\u001b[33mhessian_method\u001b[39m\u001b[33m'\u001b[39m] = optim_hessian\n\u001b[32m    704\u001b[39m     fargs = (flags,)\n\u001b[32m--> \u001b[39m\u001b[32m705\u001b[39m     mlefit = \u001b[38;5;28msuper\u001b[39m().fit(start_params, method=method,\n\u001b[32m    706\u001b[39m                          fargs=fargs,\n\u001b[32m    707\u001b[39m                          maxiter=maxiter,\n\u001b[32m    708\u001b[39m                          full_output=full_output,\n\u001b[32m    709\u001b[39m                          disp=disp, callback=callback,\n\u001b[32m    710\u001b[39m                          skip_hessian=\u001b[38;5;28;01mTrue\u001b[39;00m, **kwargs)\n\u001b[32m    712\u001b[39m \u001b[38;5;66;03m# Just return the fitted parameters if requested\u001b[39;00m\n\u001b[32m    713\u001b[39m \u001b[38;5;28;01mif\u001b[39;00m return_params:\n",
      "\u001b[36mFile \u001b[39m\u001b[32m~\\anaconda3\\Lib\\site-packages\\statsmodels\\base\\model.py:566\u001b[39m, in \u001b[36mLikelihoodModel.fit\u001b[39m\u001b[34m(self, start_params, method, maxiter, full_output, disp, fargs, callback, retall, skip_hessian, **kwargs)\u001b[39m\n\u001b[32m    563\u001b[39m     \u001b[38;5;28;01mdel\u001b[39;00m kwargs[\u001b[33m\"\u001b[39m\u001b[33muse_t\u001b[39m\u001b[33m\"\u001b[39m]\n\u001b[32m    565\u001b[39m optimizer = Optimizer()\n\u001b[32m--> \u001b[39m\u001b[32m566\u001b[39m xopt, retvals, optim_settings = optimizer._fit(f, score, start_params,\n\u001b[32m    567\u001b[39m                                                fargs, kwargs,\n\u001b[32m    568\u001b[39m                                                hessian=hess,\n\u001b[32m    569\u001b[39m                                                method=method,\n\u001b[32m    570\u001b[39m                                                disp=disp,\n\u001b[32m    571\u001b[39m                                                maxiter=maxiter,\n\u001b[32m    572\u001b[39m                                                callback=callback,\n\u001b[32m    573\u001b[39m                                                retall=retall,\n\u001b[32m    574\u001b[39m                                                full_output=full_output)\n\u001b[32m    575\u001b[39m \u001b[38;5;66;03m# Restore cov_type, cov_kwds and use_t\u001b[39;00m\n\u001b[32m    576\u001b[39m optim_settings.update(kwds)\n",
      "\u001b[36mFile \u001b[39m\u001b[32m~\\anaconda3\\Lib\\site-packages\\statsmodels\\base\\optimizer.py:243\u001b[39m, in \u001b[36mOptimizer._fit\u001b[39m\u001b[34m(self, objective, gradient, start_params, fargs, kwargs, hessian, method, maxiter, full_output, disp, callback, retall)\u001b[39m\n\u001b[32m    240\u001b[39m     fit_funcs.update(extra_fit_funcs)\n\u001b[32m    242\u001b[39m func = fit_funcs[method]\n\u001b[32m--> \u001b[39m\u001b[32m243\u001b[39m xopt, retvals = func(objective, gradient, start_params, fargs, kwargs,\n\u001b[32m    244\u001b[39m                      disp=disp, maxiter=maxiter, callback=callback,\n\u001b[32m    245\u001b[39m                      retall=retall, full_output=full_output,\n\u001b[32m    246\u001b[39m                      hess=hessian)\n\u001b[32m    248\u001b[39m optim_settings = {\u001b[33m'\u001b[39m\u001b[33moptimizer\u001b[39m\u001b[33m'\u001b[39m: method, \u001b[33m'\u001b[39m\u001b[33mstart_params\u001b[39m\u001b[33m'\u001b[39m: start_params,\n\u001b[32m    249\u001b[39m                   \u001b[33m'\u001b[39m\u001b[33mmaxiter\u001b[39m\u001b[33m'\u001b[39m: maxiter, \u001b[33m'\u001b[39m\u001b[33mfull_output\u001b[39m\u001b[33m'\u001b[39m: full_output,\n\u001b[32m    250\u001b[39m                   \u001b[33m'\u001b[39m\u001b[33mdisp\u001b[39m\u001b[33m'\u001b[39m: disp, \u001b[33m'\u001b[39m\u001b[33mfargs\u001b[39m\u001b[33m'\u001b[39m: fargs, \u001b[33m'\u001b[39m\u001b[33mcallback\u001b[39m\u001b[33m'\u001b[39m: callback,\n\u001b[32m    251\u001b[39m                   \u001b[33m'\u001b[39m\u001b[33mretall\u001b[39m\u001b[33m'\u001b[39m: retall, \u001b[33m\"\u001b[39m\u001b[33mextra_fit_funcs\u001b[39m\u001b[33m\"\u001b[39m: extra_fit_funcs}\n\u001b[32m    252\u001b[39m optim_settings.update(kwargs)\n",
      "\u001b[36mFile \u001b[39m\u001b[32m~\\anaconda3\\Lib\\site-packages\\statsmodels\\base\\optimizer.py:660\u001b[39m, in \u001b[36m_fit_lbfgs\u001b[39m\u001b[34m(f, score, start_params, fargs, kwargs, disp, maxiter, callback, retall, full_output, hess)\u001b[39m\n\u001b[32m    657\u001b[39m \u001b[38;5;28;01melif\u001b[39;00m approx_grad:\n\u001b[32m    658\u001b[39m     func = f\n\u001b[32m--> \u001b[39m\u001b[32m660\u001b[39m retvals = optimize.fmin_l_bfgs_b(func, start_params, maxiter=maxiter,\n\u001b[32m    661\u001b[39m                                  callback=callback, args=fargs,\n\u001b[32m    662\u001b[39m                                  bounds=bounds, disp=disp,\n\u001b[32m    663\u001b[39m                                  **extra_kwargs)\n\u001b[32m    665\u001b[39m \u001b[38;5;28;01mif\u001b[39;00m full_output:\n\u001b[32m    666\u001b[39m     xopt, fopt, d = retvals\n",
      "\u001b[36mFile \u001b[39m\u001b[32m~\\anaconda3\\Lib\\site-packages\\scipy\\optimize\\_lbfgsb_py.py:277\u001b[39m, in \u001b[36mfmin_l_bfgs_b\u001b[39m\u001b[34m(func, x0, fprime, args, approx_grad, bounds, m, factr, pgtol, epsilon, iprint, maxfun, maxiter, disp, callback, maxls)\u001b[39m\n\u001b[32m    267\u001b[39m callback = _wrap_callback(callback)\n\u001b[32m    268\u001b[39m opts = {\u001b[33m'\u001b[39m\u001b[33mmaxcor\u001b[39m\u001b[33m'\u001b[39m: m,\n\u001b[32m    269\u001b[39m         \u001b[33m'\u001b[39m\u001b[33mftol\u001b[39m\u001b[33m'\u001b[39m: factr * np.finfo(\u001b[38;5;28mfloat\u001b[39m).eps,\n\u001b[32m    270\u001b[39m         \u001b[33m'\u001b[39m\u001b[33mgtol\u001b[39m\u001b[33m'\u001b[39m: pgtol,\n\u001b[32m   (...)\u001b[39m\u001b[32m    274\u001b[39m         \u001b[33m'\u001b[39m\u001b[33mcallback\u001b[39m\u001b[33m'\u001b[39m: callback,\n\u001b[32m    275\u001b[39m         \u001b[33m'\u001b[39m\u001b[33mmaxls\u001b[39m\u001b[33m'\u001b[39m: maxls}\n\u001b[32m--> \u001b[39m\u001b[32m277\u001b[39m res = _minimize_lbfgsb(fun, x0, args=args, jac=jac, bounds=bounds,\n\u001b[32m    278\u001b[39m                        **opts)\n\u001b[32m    279\u001b[39m d = {\u001b[33m'\u001b[39m\u001b[33mgrad\u001b[39m\u001b[33m'\u001b[39m: res[\u001b[33m'\u001b[39m\u001b[33mjac\u001b[39m\u001b[33m'\u001b[39m],\n\u001b[32m    280\u001b[39m      \u001b[33m'\u001b[39m\u001b[33mtask\u001b[39m\u001b[33m'\u001b[39m: res[\u001b[33m'\u001b[39m\u001b[33mmessage\u001b[39m\u001b[33m'\u001b[39m],\n\u001b[32m    281\u001b[39m      \u001b[33m'\u001b[39m\u001b[33mfuncalls\u001b[39m\u001b[33m'\u001b[39m: res[\u001b[33m'\u001b[39m\u001b[33mnfev\u001b[39m\u001b[33m'\u001b[39m],\n\u001b[32m    282\u001b[39m      \u001b[33m'\u001b[39m\u001b[33mnit\u001b[39m\u001b[33m'\u001b[39m: res[\u001b[33m'\u001b[39m\u001b[33mnit\u001b[39m\u001b[33m'\u001b[39m],\n\u001b[32m    283\u001b[39m      \u001b[33m'\u001b[39m\u001b[33mwarnflag\u001b[39m\u001b[33m'\u001b[39m: res[\u001b[33m'\u001b[39m\u001b[33mstatus\u001b[39m\u001b[33m'\u001b[39m]}\n\u001b[32m    284\u001b[39m f = res[\u001b[33m'\u001b[39m\u001b[33mfun\u001b[39m\u001b[33m'\u001b[39m]\n",
      "\u001b[36mFile \u001b[39m\u001b[32m~\\anaconda3\\Lib\\site-packages\\scipy\\optimize\\_lbfgsb_py.py:441\u001b[39m, in \u001b[36m_minimize_lbfgsb\u001b[39m\u001b[34m(fun, x0, args, jac, bounds, disp, maxcor, ftol, gtol, eps, maxfun, maxiter, iprint, callback, maxls, finite_diff_rel_step, **unknown_options)\u001b[39m\n\u001b[32m    433\u001b[39m _lbfgsb.setulb(m, x, low_bnd, upper_bnd, nbd, f, g, factr, pgtol, wa,\n\u001b[32m    434\u001b[39m                iwa, task, lsave, isave, dsave, maxls, ln_task)\n\u001b[32m    436\u001b[39m \u001b[38;5;28;01mif\u001b[39;00m task[\u001b[32m0\u001b[39m] == \u001b[32m3\u001b[39m:\n\u001b[32m    437\u001b[39m     \u001b[38;5;66;03m# The minimization routine wants f and g at the current x.\u001b[39;00m\n\u001b[32m    438\u001b[39m     \u001b[38;5;66;03m# Note that interruptions due to maxfun are postponed\u001b[39;00m\n\u001b[32m    439\u001b[39m     \u001b[38;5;66;03m# until the completion of the current minimization iteration.\u001b[39;00m\n\u001b[32m    440\u001b[39m     \u001b[38;5;66;03m# Overwrite f and g:\u001b[39;00m\n\u001b[32m--> \u001b[39m\u001b[32m441\u001b[39m     f, g = func_and_grad(x)\n\u001b[32m    442\u001b[39m \u001b[38;5;28;01melif\u001b[39;00m task[\u001b[32m0\u001b[39m] == \u001b[32m1\u001b[39m:\n\u001b[32m    443\u001b[39m     \u001b[38;5;66;03m# new iteration\u001b[39;00m\n\u001b[32m    444\u001b[39m     n_iterations += \u001b[32m1\u001b[39m\n",
      "\u001b[36mFile \u001b[39m\u001b[32m~\\anaconda3\\Lib\\site-packages\\scipy\\optimize\\_differentiable_functions.py:345\u001b[39m, in \u001b[36mScalarFunction.fun_and_grad\u001b[39m\u001b[34m(self, x)\u001b[39m\n\u001b[32m    343\u001b[39m     \u001b[38;5;28mself\u001b[39m._update_x(x)\n\u001b[32m    344\u001b[39m \u001b[38;5;28mself\u001b[39m._update_fun()\n\u001b[32m--> \u001b[39m\u001b[32m345\u001b[39m \u001b[38;5;28mself\u001b[39m._update_grad()\n\u001b[32m    346\u001b[39m \u001b[38;5;28;01mreturn\u001b[39;00m \u001b[38;5;28mself\u001b[39m.f, \u001b[38;5;28mself\u001b[39m.g\n",
      "\u001b[36mFile \u001b[39m\u001b[32m~\\anaconda3\\Lib\\site-packages\\scipy\\optimize\\_differentiable_functions.py:307\u001b[39m, in \u001b[36mScalarFunction._update_grad\u001b[39m\u001b[34m(self)\u001b[39m\n\u001b[32m    305\u001b[39m \u001b[38;5;28;01mif\u001b[39;00m \u001b[38;5;28mself\u001b[39m._orig_grad \u001b[38;5;129;01min\u001b[39;00m FD_METHODS:\n\u001b[32m    306\u001b[39m     \u001b[38;5;28mself\u001b[39m._update_fun()\n\u001b[32m--> \u001b[39m\u001b[32m307\u001b[39m \u001b[38;5;28mself\u001b[39m.g = \u001b[38;5;28mself\u001b[39m._wrapped_grad(\u001b[38;5;28mself\u001b[39m.x, f0=\u001b[38;5;28mself\u001b[39m.f)\n\u001b[32m    308\u001b[39m \u001b[38;5;28mself\u001b[39m.g_updated = \u001b[38;5;28;01mTrue\u001b[39;00m\n",
      "\u001b[36mFile \u001b[39m\u001b[32m~\\anaconda3\\Lib\\site-packages\\scipy\\optimize\\_differentiable_functions.py:48\u001b[39m, in \u001b[36m_wrapper_grad.<locals>.wrapped1\u001b[39m\u001b[34m(x, f0)\u001b[39m\n\u001b[32m     46\u001b[39m \u001b[38;5;28;01mdef\u001b[39;00m \u001b[34mwrapped1\u001b[39m(x, f0=\u001b[38;5;28;01mNone\u001b[39;00m):\n\u001b[32m     47\u001b[39m     ncalls[\u001b[32m0\u001b[39m] += \u001b[32m1\u001b[39m\n\u001b[32m---> \u001b[39m\u001b[32m48\u001b[39m     \u001b[38;5;28;01mreturn\u001b[39;00m approx_derivative(\n\u001b[32m     49\u001b[39m         fun, x, f0=f0, **finite_diff_options\n\u001b[32m     50\u001b[39m     )\n",
      "\u001b[36mFile \u001b[39m\u001b[32m~\\anaconda3\\Lib\\site-packages\\scipy\\optimize\\_numdiff.py:523\u001b[39m, in \u001b[36mapprox_derivative\u001b[39m\u001b[34m(fun, x0, method, rel_step, abs_step, f0, bounds, sparsity, as_linear_operator, args, kwargs)\u001b[39m\n\u001b[32m    520\u001b[39m     use_one_sided = \u001b[38;5;28;01mFalse\u001b[39;00m\n\u001b[32m    522\u001b[39m \u001b[38;5;28;01mif\u001b[39;00m sparsity \u001b[38;5;129;01mis\u001b[39;00m \u001b[38;5;28;01mNone\u001b[39;00m:\n\u001b[32m--> \u001b[39m\u001b[32m523\u001b[39m     \u001b[38;5;28;01mreturn\u001b[39;00m _dense_difference(fun_wrapped, x0, f0, h,\n\u001b[32m    524\u001b[39m                              use_one_sided, method)\n\u001b[32m    525\u001b[39m \u001b[38;5;28;01melse\u001b[39;00m:\n\u001b[32m    526\u001b[39m     \u001b[38;5;28;01mif\u001b[39;00m \u001b[38;5;129;01mnot\u001b[39;00m issparse(sparsity) \u001b[38;5;129;01mand\u001b[39;00m \u001b[38;5;28mlen\u001b[39m(sparsity) == \u001b[32m2\u001b[39m:\n",
      "\u001b[36mFile \u001b[39m\u001b[32m~\\anaconda3\\Lib\\site-packages\\scipy\\optimize\\_numdiff.py:596\u001b[39m, in \u001b[36m_dense_difference\u001b[39m\u001b[34m(fun, x0, f0, h, use_one_sided, method)\u001b[39m\n\u001b[32m    594\u001b[39m     x1[i] += h[i]\n\u001b[32m    595\u001b[39m     dx = x1[i] - x0[i]  \u001b[38;5;66;03m# Recompute dx as exactly representable number.\u001b[39;00m\n\u001b[32m--> \u001b[39m\u001b[32m596\u001b[39m     df = fun(x1) - f0\n\u001b[32m    597\u001b[39m \u001b[38;5;28;01melif\u001b[39;00m method == \u001b[33m'\u001b[39m\u001b[33m3-point\u001b[39m\u001b[33m'\u001b[39m \u001b[38;5;129;01mand\u001b[39;00m use_one_sided[i]:\n\u001b[32m    598\u001b[39m     x1[i] += h[i]\n",
      "\u001b[36mFile \u001b[39m\u001b[32m~\\anaconda3\\Lib\\site-packages\\scipy\\optimize\\_numdiff.py:474\u001b[39m, in \u001b[36mapprox_derivative.<locals>.fun_wrapped\u001b[39m\u001b[34m(x)\u001b[39m\n\u001b[32m    471\u001b[39m \u001b[38;5;28;01mif\u001b[39;00m xp.isdtype(x.dtype, \u001b[33m\"\u001b[39m\u001b[33mreal floating\u001b[39m\u001b[33m\"\u001b[39m):\n\u001b[32m    472\u001b[39m     x = xp.astype(x, x0.dtype)\n\u001b[32m--> \u001b[39m\u001b[32m474\u001b[39m f = np.atleast_1d(fun(x, *args, **kwargs))\n\u001b[32m    475\u001b[39m \u001b[38;5;28;01mif\u001b[39;00m f.ndim > \u001b[32m1\u001b[39m:\n\u001b[32m    476\u001b[39m     \u001b[38;5;28;01mraise\u001b[39;00m \u001b[38;5;167;01mRuntimeError\u001b[39;00m(\u001b[33m\"\u001b[39m\u001b[33m`fun` return value has \u001b[39m\u001b[33m\"\u001b[39m\n\u001b[32m    477\u001b[39m                        \u001b[33m\"\u001b[39m\u001b[33mmore than 1 dimension.\u001b[39m\u001b[33m\"\u001b[39m)\n",
      "\u001b[36mFile \u001b[39m\u001b[32m~\\anaconda3\\Lib\\site-packages\\scipy\\optimize\\_differentiable_functions.py:21\u001b[39m, in \u001b[36m_wrapper_fun.<locals>.wrapped\u001b[39m\u001b[34m(x)\u001b[39m\n\u001b[32m     17\u001b[39m ncalls[\u001b[32m0\u001b[39m] += \u001b[32m1\u001b[39m\n\u001b[32m     18\u001b[39m \u001b[38;5;66;03m# Send a copy because the user may overwrite it.\u001b[39;00m\n\u001b[32m     19\u001b[39m \u001b[38;5;66;03m# Overwriting results in undefined behaviour because\u001b[39;00m\n\u001b[32m     20\u001b[39m \u001b[38;5;66;03m# fun(self.x) will change self.x, with the two no longer linked.\u001b[39;00m\n\u001b[32m---> \u001b[39m\u001b[32m21\u001b[39m fx = fun(np.copy(x), *args)\n\u001b[32m     22\u001b[39m \u001b[38;5;66;03m# Make sure the function returns a true scalar\u001b[39;00m\n\u001b[32m     23\u001b[39m \u001b[38;5;28;01mif\u001b[39;00m \u001b[38;5;129;01mnot\u001b[39;00m np.isscalar(fx):\n",
      "\u001b[36mFile \u001b[39m\u001b[32m~\\anaconda3\\Lib\\site-packages\\statsmodels\\base\\model.py:534\u001b[39m, in \u001b[36mLikelihoodModel.fit.<locals>.f\u001b[39m\u001b[34m(params, *args)\u001b[39m\n\u001b[32m    533\u001b[39m \u001b[38;5;28;01mdef\u001b[39;00m \u001b[34mf\u001b[39m(params, *args):\n\u001b[32m--> \u001b[39m\u001b[32m534\u001b[39m     \u001b[38;5;28;01mreturn\u001b[39;00m -\u001b[38;5;28mself\u001b[39m.loglike(params, *args) / nobs\n",
      "\u001b[36mFile \u001b[39m\u001b[32m~\\anaconda3\\Lib\\site-packages\\statsmodels\\tsa\\statespace\\mlemodel.py:940\u001b[39m, in \u001b[36mMLEModel.loglike\u001b[39m\u001b[34m(self, params, *args, **kwargs)\u001b[39m\n\u001b[32m    937\u001b[39m \u001b[38;5;28;01mif\u001b[39;00m complex_step:\n\u001b[32m    938\u001b[39m     kwargs[\u001b[33m'\u001b[39m\u001b[33minversion_method\u001b[39m\u001b[33m'\u001b[39m] = INVERT_UNIVARIATE | SOLVE_LU\n\u001b[32m--> \u001b[39m\u001b[32m940\u001b[39m loglike = \u001b[38;5;28mself\u001b[39m.ssm.loglike(complex_step=complex_step, **kwargs)\n\u001b[32m    942\u001b[39m \u001b[38;5;66;03m# Koopman, Shephard, and Doornik recommend maximizing the average\u001b[39;00m\n\u001b[32m    943\u001b[39m \u001b[38;5;66;03m# likelihood to avoid scale issues, but the averaging is done\u001b[39;00m\n\u001b[32m    944\u001b[39m \u001b[38;5;66;03m# automatically in the base model `fit` method\u001b[39;00m\n\u001b[32m    945\u001b[39m \u001b[38;5;28;01mreturn\u001b[39;00m loglike\n",
      "\u001b[36mFile \u001b[39m\u001b[32m~\\anaconda3\\Lib\\site-packages\\statsmodels\\tsa\\statespace\\kalman_filter.py:1001\u001b[39m, in \u001b[36mKalmanFilter.loglike\u001b[39m\u001b[34m(self, **kwargs)\u001b[39m\n\u001b[32m    985\u001b[39m \u001b[38;5;250m\u001b[39m\u001b[33mr\u001b[39m\u001b[33;03m\"\"\"\u001b[39;00m\n\u001b[32m    986\u001b[39m \u001b[33;03mCalculate the loglikelihood associated with the statespace model.\u001b[39;00m\n\u001b[32m    987\u001b[39m \n\u001b[32m   (...)\u001b[39m\u001b[32m    997\u001b[39m \u001b[33;03m    The joint loglikelihood.\u001b[39;00m\n\u001b[32m    998\u001b[39m \u001b[33;03m\"\"\"\u001b[39;00m\n\u001b[32m    999\u001b[39m kwargs.setdefault(\u001b[33m'\u001b[39m\u001b[33mconserve_memory\u001b[39m\u001b[33m'\u001b[39m,\n\u001b[32m   1000\u001b[39m                   MEMORY_CONSERVE ^ MEMORY_NO_LIKELIHOOD)\n\u001b[32m-> \u001b[39m\u001b[32m1001\u001b[39m kfilter = \u001b[38;5;28mself\u001b[39m._filter(**kwargs)\n\u001b[32m   1002\u001b[39m loglikelihood_burn = kwargs.get(\u001b[33m'\u001b[39m\u001b[33mloglikelihood_burn\u001b[39m\u001b[33m'\u001b[39m,\n\u001b[32m   1003\u001b[39m                                 \u001b[38;5;28mself\u001b[39m.loglikelihood_burn)\n\u001b[32m   1004\u001b[39m \u001b[38;5;28;01mif\u001b[39;00m \u001b[38;5;129;01mnot\u001b[39;00m (kwargs[\u001b[33m'\u001b[39m\u001b[33mconserve_memory\u001b[39m\u001b[33m'\u001b[39m] & MEMORY_NO_LIKELIHOOD):\n",
      "\u001b[36mFile \u001b[39m\u001b[32m~\\anaconda3\\Lib\\site-packages\\statsmodels\\tsa\\statespace\\kalman_filter.py:913\u001b[39m, in \u001b[36mKalmanFilter._filter\u001b[39m\u001b[34m(self, filter_method, inversion_method, stability_method, conserve_memory, filter_timing, tolerance, loglikelihood_burn, complex_step)\u001b[39m\n\u001b[32m    907\u001b[39m \u001b[38;5;28;01mdef\u001b[39;00m \u001b[34m_filter\u001b[39m(\u001b[38;5;28mself\u001b[39m, filter_method=\u001b[38;5;28;01mNone\u001b[39;00m, inversion_method=\u001b[38;5;28;01mNone\u001b[39;00m,\n\u001b[32m    908\u001b[39m             stability_method=\u001b[38;5;28;01mNone\u001b[39;00m, conserve_memory=\u001b[38;5;28;01mNone\u001b[39;00m,\n\u001b[32m    909\u001b[39m             filter_timing=\u001b[38;5;28;01mNone\u001b[39;00m, tolerance=\u001b[38;5;28;01mNone\u001b[39;00m, loglikelihood_burn=\u001b[38;5;28;01mNone\u001b[39;00m,\n\u001b[32m    910\u001b[39m             complex_step=\u001b[38;5;28;01mFalse\u001b[39;00m):\n\u001b[32m    911\u001b[39m     \u001b[38;5;66;03m# Initialize the filter\u001b[39;00m\n\u001b[32m    912\u001b[39m     prefix, dtype, create_filter, create_statespace = (\n\u001b[32m--> \u001b[39m\u001b[32m913\u001b[39m         \u001b[38;5;28mself\u001b[39m._initialize_filter(\n\u001b[32m    914\u001b[39m             filter_method, inversion_method, stability_method,\n\u001b[32m    915\u001b[39m             conserve_memory, filter_timing, tolerance, loglikelihood_burn\n\u001b[32m    916\u001b[39m         )\n\u001b[32m    917\u001b[39m     )\n\u001b[32m    918\u001b[39m     kfilter = \u001b[38;5;28mself\u001b[39m._kalman_filters[prefix]\n\u001b[32m    920\u001b[39m     \u001b[38;5;66;03m# Initialize the state\u001b[39;00m\n",
      "\u001b[36mFile \u001b[39m\u001b[32m~\\anaconda3\\Lib\\site-packages\\statsmodels\\tsa\\statespace\\kalman_filter.py:480\u001b[39m, in \u001b[36mKalmanFilter._initialize_filter\u001b[39m\u001b[34m(self, filter_method, inversion_method, stability_method, conserve_memory, tolerance, filter_timing, loglikelihood_burn)\u001b[39m\n\u001b[32m    476\u001b[39m     \u001b[38;5;28;01mraise\u001b[39;00m \u001b[38;5;167;01mRuntimeError\u001b[39;00m(\u001b[33m'\u001b[39m\u001b[33mMust bind a dataset to the model before\u001b[39m\u001b[33m'\u001b[39m\n\u001b[32m    477\u001b[39m                        \u001b[33m'\u001b[39m\u001b[33m filtering or smoothing.\u001b[39m\u001b[33m'\u001b[39m)\n\u001b[32m    479\u001b[39m \u001b[38;5;66;03m# Initialize the representation matrices\u001b[39;00m\n\u001b[32m--> \u001b[39m\u001b[32m480\u001b[39m prefix, dtype, create_statespace = \u001b[38;5;28mself\u001b[39m._initialize_representation()\n\u001b[32m    482\u001b[39m \u001b[38;5;66;03m# Determine if we need to (re-)create the filter\u001b[39;00m\n\u001b[32m    483\u001b[39m \u001b[38;5;66;03m# (definitely need to recreate if we recreated the _statespace object)\u001b[39;00m\n\u001b[32m    484\u001b[39m create_filter = create_statespace \u001b[38;5;129;01mor\u001b[39;00m prefix \u001b[38;5;129;01mnot\u001b[39;00m \u001b[38;5;129;01min\u001b[39;00m \u001b[38;5;28mself\u001b[39m._kalman_filters\n",
      "\u001b[36mFile \u001b[39m\u001b[32m~\\anaconda3\\Lib\\site-packages\\statsmodels\\tsa\\statespace\\representation.py:1003\u001b[39m, in \u001b[36mRepresentation._initialize_representation\u001b[39m\u001b[34m(self, prefix)\u001b[39m\n\u001b[32m   1001\u001b[39m     \u001b[38;5;28;01mpass\u001b[39;00m\n\u001b[32m   1002\u001b[39m \u001b[38;5;28;01melse\u001b[39;00m:\n\u001b[32m-> \u001b[39m\u001b[32m1003\u001b[39m     new = \u001b[38;5;28mgetattr\u001b[39m(\u001b[38;5;28mself\u001b[39m, \u001b[33m'\u001b[39m\u001b[33m_\u001b[39m\u001b[33m'\u001b[39m + matrix).astype(dtype)\n\u001b[32m   1004\u001b[39m     \u001b[38;5;28;01mif\u001b[39;00m existing.shape == new.shape:\n\u001b[32m   1005\u001b[39m         existing[:] = new[:]\n",
      "\u001b[31mKeyboardInterrupt\u001b[39m: "
     ]
    }
   ],
   "source": [
    "# Walk Forward Validation\n",
    "\n",
    "y_pred_wfv = pd.Series()\n",
    "history = train.copy()\n",
    "for i in range(len(test)):\n",
    "     model = ARIMA(history, order = (3, 1, 1)).fit()\n",
    "     next_pred = model.forecast()\n",
    "     y_pred_wfv = pd.concat([y_pred_wfv, next_pred])\n",
    "     history = pd.concat([history, test[next_pred.index]])\n"
   ]
  },
  {
   "cell_type": "code",
   "execution_count": null,
   "id": "a8e977fd-b77a-4af8-b334-a88ea3317d21",
   "metadata": {},
   "outputs": [],
   "source": [
    "df_pred_wfv = pd.DataFrame({\n",
    "            'y_test':test,\n",
    "            'y_pred':y_pred_wfv\n",
    "}, index = test.index)\n",
    "df_pred_wfv.tail()"
   ]
  },
  {
   "cell_type": "code",
   "execution_count": null,
   "id": "a9a607a6-e9d7-4021-915c-710cb937432d",
   "metadata": {},
   "outputs": [],
   "source": [
    "fig = px.line(\n",
    "    data_frame= df_pred_wfv,\n",
    "    title = \"Walk forward Validation Prediction and Actual Test data\",\n",
    "    labels= {\"value\" : \"PM2.5\"}\n",
    ")\n",
    "\n",
    "fig.show()"
   ]
  },
  {
   "cell_type": "code",
   "execution_count": null,
   "id": "012ff25f-10d8-465e-9217-1ee4715960b5",
   "metadata": {},
   "outputs": [],
   "source": [
    "# Evaluation of the Walk forward Validation Prediction\n",
    "\n",
    "mse = mean_squared_error(test, y_pred_wfv)\n",
    "mae = mean_absolute_error(test, y_pred_wfv)\n",
    "\n",
    "print(f\"AR Model - MSE: {mse:.2f}\")\n",
    "print(f\"AR Model - MAE: {mae:.2f}\")"
   ]
  },
  {
   "cell_type": "markdown",
   "id": "97e5edce-5909-44ac-8c67-28444a8353c1",
   "metadata": {
    "jp-MarkdownHeadingCollapsed": true
   },
   "source": [
    "# ARIMA MODEL"
   ]
  },
  {
   "cell_type": "code",
   "execution_count": null,
   "id": "987489ff-084a-4c55-a989-59b3ce891e90",
   "metadata": {},
   "outputs": [],
   "source": [
    "# Fit ARIMA\n",
    "arima_model = ARIMA(train, order=(2, 1, 2))  # d=1 for first-order differencing\n",
    "arima_result = arima_model.fit()"
   ]
  },
  {
   "cell_type": "code",
   "execution_count": null,
   "id": "2e75ad7e-2b58-4a48-9c74-76d0a6149058",
   "metadata": {},
   "outputs": [],
   "source": [
    "# Forecast\n",
    "y_pred_test = arima_result.predict(test.index.min(), test.index.max())\n",
    "y_pred_test\n",
    "\n"
   ]
  },
  {
   "cell_type": "code",
   "execution_count": null,
   "id": "97f6b668-2c5e-4b3f-8800-a1dc7ff1a0b3",
   "metadata": {},
   "outputs": [],
   "source": [
    "# Evaluation\n",
    "mse = mean_squared_error(test, y_pred_test)\n",
    "mae = mean_absolute_error(test, y_pred_test)\n",
    "\n",
    "print(f\"ARIMA Model - MSE: {mse:.2f}\")\n",
    "print(f\"ARIMA Model - MAE: {mae:.2f}\")\n"
   ]
  },
  {
   "cell_type": "code",
   "execution_count": null,
   "id": "b26a769f-73c2-4229-88e4-2d5bff847535",
   "metadata": {},
   "outputs": [],
   "source": [
    "# Plot\n",
    "plt.figure(figsize=(15, 5))\n",
    "plt.plot(test, label=\"Actual\", color='black')\n",
    "plt.plot(y_pred_test, label=\"Forecast\", color='green')\n",
    "plt.title(\"ARIMA Model Forecast vs Actual\")\n",
    "plt.xlabel(\"Date\")\n",
    "plt.ylabel(\"PM2.5\")\n",
    "plt.legend()\n",
    "plt.tight_layout()\n",
    "plt.show()"
   ]
  },
  {
   "cell_type": "markdown",
   "id": "109a3e72-a458-43de-bfb9-06483304ce34",
   "metadata": {},
   "source": [
    "# SARIMA (Seasonal ARIMA) Model"
   ]
  },
  {
   "cell_type": "code",
   "execution_count": 17,
   "id": "59a73dea-1420-4b5e-99f5-7308a238513c",
   "metadata": {},
   "outputs": [
    {
     "name": "stderr",
     "output_type": "stream",
     "text": [
      "C:\\Users\\user\\anaconda3\\Lib\\site-packages\\statsmodels\\base\\model.py:607: ConvergenceWarning:\n",
      "\n",
      "Maximum Likelihood optimization failed to converge. Check mle_retvals\n",
      "\n"
     ]
    }
   ],
   "source": [
    "# Fit SARIMA\n",
    "sarima_model = SARIMAX(train,\n",
    "                       order=(3, 1, 1),\n",
    "                       seasonal_order=(2, 0, 2, 4),\n",
    "                       enforce_stationarity=False,\n",
    "                       enforce_invertibility=False)\n",
    "\n",
    "sarima_result = sarima_model.fit()\n"
   ]
  },
  {
   "cell_type": "code",
   "execution_count": 18,
   "id": "528197c3-fa89-4a20-9631-fc278c192231",
   "metadata": {},
   "outputs": [
    {
     "data": {
      "text/plain": [
       "2024-12-19 00:00:00+01:00    51.580966\n",
       "2024-12-19 06:00:00+01:00    50.870392\n",
       "2024-12-19 12:00:00+01:00    50.740045\n",
       "2024-12-19 18:00:00+01:00    51.082686\n",
       "2024-12-20 00:00:00+01:00    50.828044\n",
       "                               ...    \n",
       "2025-03-31 06:00:00+01:00    49.601324\n",
       "2025-03-31 12:00:00+01:00    49.608132\n",
       "2025-03-31 18:00:00+01:00    49.642046\n",
       "2025-04-01 00:00:00+01:00    49.620590\n",
       "2025-04-01 06:00:00+01:00    49.599900\n",
       "Freq: 6h, Name: predicted_mean, Length: 414, dtype: float64"
      ]
     },
     "execution_count": 18,
     "metadata": {},
     "output_type": "execute_result"
    }
   ],
   "source": [
    "# Forecast\n",
    "y_pred_test = sarima_result.predict(test.index.min(), test.index.max())\n",
    "y_pred_test\n"
   ]
  },
  {
   "cell_type": "code",
   "execution_count": 19,
   "id": "cb75491e-796a-40e6-afb4-44bec5a23755",
   "metadata": {},
   "outputs": [
    {
     "name": "stdout",
     "output_type": "stream",
     "text": [
      "SARIMA Model - MSE: 508.93\n",
      "SARIMA Model - MAE: 19.04\n"
     ]
    }
   ],
   "source": [
    "# Evaluation\n",
    "mse = mean_squared_error(test, y_pred_test)\n",
    "mae = mean_absolute_error(test, y_pred_test)\n",
    "\n",
    "print(f\"SARIMA Model - MSE: {mse:.2f}\")\n",
    "print(f\"SARIMA Model - MAE: {mae:.2f}\")"
   ]
  },
  {
   "cell_type": "code",
   "execution_count": 20,
   "id": "2820c880-a137-4b45-98b6-8b30aa1f3153",
   "metadata": {},
   "outputs": [
    {
     "data": {
      "image/png": "[encoded data removed]",
      "text/plain": [
       "<Figure size 1500x500 with 1 Axes>"
      ]
     },
     "metadata": {},
     "output_type": "display_data"
    }
   ],
   "source": [
    "# Plot\n",
    "plt.figure(figsize=(15, 5))\n",
    "plt.plot(test, label=\"Actual\", color='black')\n",
    "plt.plot(y_pred_test, label=\"Forecast\", color='blue')\n",
    "plt.title(\"SARIMA Model Forecast vs Actual\")\n",
    "plt.xlabel(\"Date\")\n",
    "plt.ylabel(\"PM2.5\")\n",
    "plt.legend()\n",
    "plt.tight_layout()\n",
    "plt.show()"
   ]
  },
  {
   "cell_type": "code",
   "execution_count": null,
   "id": "dd86727d-acef-416d-8afa-1b1ae76b006b",
   "metadata": {},
   "outputs": [],
   "source": []
  }
 ],
 "metadata": {
  "kernelspec": {
   "display_name": "Python 3 (ipykernel)",
   "language": "python",
   "name": "python3"
  },
  "language_info": {
   "codemirror_mode": {
    "name": "ipython",
    "version": 3
   },
   "file_extension": ".py",
   "mimetype": "text/x-python",
   "name": "python",
   "nbconvert_exporter": "python",
   "pygments_lexer": "ipython3",
   "version": "3.12.7"
  }
 },
 "nbformat": 4,
 "nbformat_minor": 5
}
