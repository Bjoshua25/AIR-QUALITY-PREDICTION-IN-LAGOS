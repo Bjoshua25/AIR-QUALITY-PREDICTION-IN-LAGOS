{
 "cells": [
  {
   "cell_type": "code",
   "execution_count": 1,
   "id": "ccdc891c-9eb7-4a6c-893c-6cea7ff55f54",
   "metadata": {},
   "outputs": [],
   "source": [
    "# Load Libraries\n",
    "\n",
    "import os\n",
    "import joblib\n",
    "from datetime import datetime\n",
    "import glob\n",
    "import pandas as pd\n",
    "import numpy as np\n",
    "import plotly.express as px\n",
    "import matplotlib.pyplot as plt\n",
    "from statsmodels.tsa.ar_model import AutoReg\n",
    "from statsmodels.tsa.arima.model import ARIMA\n",
    "from statsmodels.tsa.statespace.sarimax import SARIMAX\n",
    "from sklearn.metrics import mean_squared_error, mean_absolute_error\n",
    "from pmdarima import auto_arima\n"
   ]
  },
  {
   "cell_type": "code",
   "execution_count": 2,
   "id": "89e9313e-675f-4908-bc9f-20605e96537b",
   "metadata": {},
   "outputs": [
    {
     "data": {
      "text/plain": [
       "date\n",
       "2023-11-01 12:00:00+01:00    19.000000\n",
       "2023-11-01 18:00:00+01:00    15.610000\n",
       "2023-11-02 00:00:00+01:00    19.867137\n",
       "2023-11-02 06:00:00+01:00    24.124275\n",
       "2023-11-02 12:00:00+01:00    28.381412\n",
       "Freq: 6h, Name: PM2.5, dtype: float64"
      ]
     },
     "execution_count": 2,
     "metadata": {},
     "output_type": "execute_result"
    }
   ],
   "source": [
    "# Load combined dataset\n",
    "\n",
    "# file directory\n",
    "file= \"../data/Air_Quality_Lagos_Combined.csv\"\n",
    "\n",
    "# load into DataFrame\n",
    "df = pd.read_csv(file, index_col=\"date\", parse_dates=True)\n",
    "\n",
    "# resampling the data to 1 hour interval\n",
    "y = df[\"PM2.5\"].resample('6h').mean().interpolate(method = \"time\")\n",
    "\n",
    "y.head()"
   ]
  },
  {
   "cell_type": "code",
   "execution_count": 3,
   "id": "5ccf1e8c-9407-4677-8795-ce072d084abb",
   "metadata": {},
   "outputs": [
    {
     "name": "stdout",
     "output_type": "stream",
     "text": [
      "The Shape of the Dataset is: (2068,)\n",
      "The Dataset has: 2068 historical data\n",
      "The number of missing data is: 0\n"
     ]
    }
   ],
   "source": [
    "# Size of the Dataset\n",
    "shape = y.shape\n",
    "\n",
    "print(f\"The Shape of the Dataset is: {shape}\")\n",
    "print(f\"The Dataset has: {shape[0]} historical data\")\n",
    "print(f\"The number of missing data is: {y.isna().sum()}\")\n",
    "# print(f\"The dataset have {shape[1]} column. For PM2.5 Readings\")"
   ]
  },
  {
   "cell_type": "code",
   "execution_count": 4,
   "id": "b50175bc-4de5-4d1a-bd65-9ed32ae411ac",
   "metadata": {},
   "outputs": [
    {
     "name": "stdout",
     "output_type": "stream",
     "text": [
      "Train split: (1654,)\n",
      "Test split: (414,)\n"
     ]
    }
   ],
   "source": [
    "# Data Split \n",
    "cutt_off = int(len(y) * 0.8)\n",
    "\n",
    "train = y.iloc[:cutt_off]\n",
    "test = y.iloc[cutt_off:]\n",
    "\n",
    "\n",
    "print(f\"Train split: {train.shape}\")\n",
    "print(f\"Test split: {test.shape}\")"
   ]
  },
  {
   "cell_type": "markdown",
   "id": "23356647-219e-4a08-b1fa-cffcb1bbb016",
   "metadata": {
    "jp-MarkdownHeadingCollapsed": true
   },
   "source": [
    "# Correct HyperParameter"
   ]
  },
  {
   "cell_type": "code",
   "execution_count": 5,
   "id": "b2dc8824-5cc9-4a9c-9cd8-aecb62cb2e04",
   "metadata": {},
   "outputs": [
    {
     "name": "stderr",
     "output_type": "stream",
     "text": [
      "C:\\Users\\user\\anaconda3\\Lib\\site-packages\\sklearn\\utils\\deprecation.py:151: FutureWarning: 'force_all_finite' was renamed to 'ensure_all_finite' in 1.6 and will be removed in 1.8.\n",
      "  warnings.warn(\n",
      "C:\\Users\\user\\anaconda3\\Lib\\site-packages\\sklearn\\utils\\deprecation.py:151: FutureWarning: 'force_all_finite' was renamed to 'ensure_all_finite' in 1.6 and will be removed in 1.8.\n",
      "  warnings.warn(\n",
      "C:\\Users\\user\\anaconda3\\Lib\\site-packages\\sklearn\\utils\\deprecation.py:151: FutureWarning: 'force_all_finite' was renamed to 'ensure_all_finite' in 1.6 and will be removed in 1.8.\n",
      "  warnings.warn(\n",
      "C:\\Users\\user\\anaconda3\\Lib\\site-packages\\sklearn\\utils\\deprecation.py:151: FutureWarning: 'force_all_finite' was renamed to 'ensure_all_finite' in 1.6 and will be removed in 1.8.\n",
      "  warnings.warn(\n",
      "C:\\Users\\user\\anaconda3\\Lib\\site-packages\\sklearn\\utils\\deprecation.py:151: FutureWarning: 'force_all_finite' was renamed to 'ensure_all_finite' in 1.6 and will be removed in 1.8.\n",
      "  warnings.warn(\n",
      "C:\\Users\\user\\anaconda3\\Lib\\site-packages\\sklearn\\utils\\deprecation.py:151: FutureWarning: 'force_all_finite' was renamed to 'ensure_all_finite' in 1.6 and will be removed in 1.8.\n",
      "  warnings.warn(\n",
      "C:\\Users\\user\\anaconda3\\Lib\\site-packages\\sklearn\\utils\\deprecation.py:151: FutureWarning: 'force_all_finite' was renamed to 'ensure_all_finite' in 1.6 and will be removed in 1.8.\n",
      "  warnings.warn(\n",
      "C:\\Users\\user\\anaconda3\\Lib\\site-packages\\sklearn\\utils\\deprecation.py:151: FutureWarning: 'force_all_finite' was renamed to 'ensure_all_finite' in 1.6 and will be removed in 1.8.\n",
      "  warnings.warn(\n",
      "C:\\Users\\user\\anaconda3\\Lib\\site-packages\\sklearn\\utils\\deprecation.py:151: FutureWarning: 'force_all_finite' was renamed to 'ensure_all_finite' in 1.6 and will be removed in 1.8.\n",
      "  warnings.warn(\n",
      "C:\\Users\\user\\anaconda3\\Lib\\site-packages\\sklearn\\utils\\deprecation.py:151: FutureWarning: 'force_all_finite' was renamed to 'ensure_all_finite' in 1.6 and will be removed in 1.8.\n",
      "  warnings.warn(\n",
      "C:\\Users\\user\\anaconda3\\Lib\\site-packages\\sklearn\\utils\\deprecation.py:151: FutureWarning: 'force_all_finite' was renamed to 'ensure_all_finite' in 1.6 and will be removed in 1.8.\n",
      "  warnings.warn(\n"
     ]
    },
    {
     "name": "stdout",
     "output_type": "stream",
     "text": [
      "Performing stepwise search to minimize aic\n",
      " ARIMA(2,1,2)(1,0,1)[4] intercept   : AIC=inf, Time=5.78 sec\n",
      " ARIMA(0,1,0)(0,0,0)[4] intercept   : AIC=12620.394, Time=0.12 sec\n"
     ]
    },
    {
     "name": "stderr",
     "output_type": "stream",
     "text": [
      "C:\\Users\\user\\anaconda3\\Lib\\site-packages\\sklearn\\utils\\deprecation.py:151: FutureWarning: 'force_all_finite' was renamed to 'ensure_all_finite' in 1.6 and will be removed in 1.8.\n",
      "  warnings.warn(\n",
      "C:\\Users\\user\\anaconda3\\Lib\\site-packages\\sklearn\\utils\\deprecation.py:151: FutureWarning: 'force_all_finite' was renamed to 'ensure_all_finite' in 1.6 and will be removed in 1.8.\n",
      "  warnings.warn(\n"
     ]
    },
    {
     "name": "stdout",
     "output_type": "stream",
     "text": [
      " ARIMA(1,1,0)(1,0,0)[4] intercept   : AIC=12549.002, Time=0.67 sec\n"
     ]
    },
    {
     "name": "stderr",
     "output_type": "stream",
     "text": [
      "C:\\Users\\user\\anaconda3\\Lib\\site-packages\\sklearn\\utils\\deprecation.py:151: FutureWarning: 'force_all_finite' was renamed to 'ensure_all_finite' in 1.6 and will be removed in 1.8.\n",
      "  warnings.warn(\n"
     ]
    },
    {
     "name": "stdout",
     "output_type": "stream",
     "text": [
      " ARIMA(0,1,1)(0,0,1)[4] intercept   : AIC=12552.079, Time=0.73 sec\n",
      " ARIMA(0,1,0)(0,0,0)[4]             : AIC=12618.400, Time=0.08 sec\n"
     ]
    },
    {
     "name": "stderr",
     "output_type": "stream",
     "text": [
      "C:\\Users\\user\\anaconda3\\Lib\\site-packages\\sklearn\\utils\\deprecation.py:151: FutureWarning: 'force_all_finite' was renamed to 'ensure_all_finite' in 1.6 and will be removed in 1.8.\n",
      "  warnings.warn(\n",
      "C:\\Users\\user\\anaconda3\\Lib\\site-packages\\sklearn\\utils\\deprecation.py:151: FutureWarning: 'force_all_finite' was renamed to 'ensure_all_finite' in 1.6 and will be removed in 1.8.\n",
      "  warnings.warn(\n"
     ]
    },
    {
     "name": "stdout",
     "output_type": "stream",
     "text": [
      " ARIMA(1,1,0)(0,0,0)[4] intercept   : AIC=12588.976, Time=0.16 sec\n"
     ]
    },
    {
     "name": "stderr",
     "output_type": "stream",
     "text": [
      "C:\\Users\\user\\anaconda3\\Lib\\site-packages\\sklearn\\utils\\deprecation.py:151: FutureWarning: 'force_all_finite' was renamed to 'ensure_all_finite' in 1.6 and will be removed in 1.8.\n",
      "  warnings.warn(\n"
     ]
    },
    {
     "name": "stdout",
     "output_type": "stream",
     "text": [
      " ARIMA(1,1,0)(2,0,0)[4] intercept   : AIC=12443.316, Time=1.30 sec\n"
     ]
    },
    {
     "name": "stderr",
     "output_type": "stream",
     "text": [
      "C:\\Users\\user\\anaconda3\\Lib\\site-packages\\sklearn\\utils\\deprecation.py:151: FutureWarning: 'force_all_finite' was renamed to 'ensure_all_finite' in 1.6 and will be removed in 1.8.\n",
      "  warnings.warn(\n"
     ]
    },
    {
     "name": "stdout",
     "output_type": "stream",
     "text": [
      " ARIMA(1,1,0)(2,0,1)[4] intercept   : AIC=12239.443, Time=2.09 sec\n"
     ]
    },
    {
     "name": "stderr",
     "output_type": "stream",
     "text": [
      "C:\\Users\\user\\anaconda3\\Lib\\site-packages\\sklearn\\utils\\deprecation.py:151: FutureWarning: 'force_all_finite' was renamed to 'ensure_all_finite' in 1.6 and will be removed in 1.8.\n",
      "  warnings.warn(\n"
     ]
    },
    {
     "name": "stdout",
     "output_type": "stream",
     "text": [
      " ARIMA(1,1,0)(1,0,1)[4] intercept   : AIC=12263.217, Time=1.54 sec\n"
     ]
    },
    {
     "name": "stderr",
     "output_type": "stream",
     "text": [
      "C:\\Users\\user\\anaconda3\\Lib\\site-packages\\sklearn\\utils\\deprecation.py:151: FutureWarning: 'force_all_finite' was renamed to 'ensure_all_finite' in 1.6 and will be removed in 1.8.\n",
      "  warnings.warn(\n"
     ]
    },
    {
     "name": "stdout",
     "output_type": "stream",
     "text": [
      " ARIMA(1,1,0)(2,0,2)[4] intercept   : AIC=12241.368, Time=2.28 sec\n"
     ]
    },
    {
     "name": "stderr",
     "output_type": "stream",
     "text": [
      "C:\\Users\\user\\anaconda3\\Lib\\site-packages\\sklearn\\utils\\deprecation.py:151: FutureWarning: 'force_all_finite' was renamed to 'ensure_all_finite' in 1.6 and will be removed in 1.8.\n",
      "  warnings.warn(\n"
     ]
    },
    {
     "name": "stdout",
     "output_type": "stream",
     "text": [
      " ARIMA(1,1,0)(1,0,2)[4] intercept   : AIC=12239.240, Time=2.77 sec\n"
     ]
    },
    {
     "name": "stderr",
     "output_type": "stream",
     "text": [
      "C:\\Users\\user\\anaconda3\\Lib\\site-packages\\sklearn\\utils\\deprecation.py:151: FutureWarning: 'force_all_finite' was renamed to 'ensure_all_finite' in 1.6 and will be removed in 1.8.\n",
      "  warnings.warn(\n"
     ]
    },
    {
     "name": "stdout",
     "output_type": "stream",
     "text": [
      " ARIMA(1,1,0)(0,0,2)[4] intercept   : AIC=12502.594, Time=1.31 sec\n"
     ]
    },
    {
     "name": "stderr",
     "output_type": "stream",
     "text": [
      "C:\\Users\\user\\anaconda3\\Lib\\site-packages\\sklearn\\utils\\deprecation.py:151: FutureWarning: 'force_all_finite' was renamed to 'ensure_all_finite' in 1.6 and will be removed in 1.8.\n",
      "  warnings.warn(\n"
     ]
    },
    {
     "name": "stdout",
     "output_type": "stream",
     "text": [
      " ARIMA(1,1,0)(0,0,1)[4] intercept   : AIC=12563.100, Time=0.70 sec\n"
     ]
    },
    {
     "name": "stderr",
     "output_type": "stream",
     "text": [
      "C:\\Users\\user\\anaconda3\\Lib\\site-packages\\sklearn\\utils\\deprecation.py:151: FutureWarning: 'force_all_finite' was renamed to 'ensure_all_finite' in 1.6 and will be removed in 1.8.\n",
      "  warnings.warn(\n"
     ]
    },
    {
     "name": "stdout",
     "output_type": "stream",
     "text": [
      " ARIMA(0,1,0)(1,0,2)[4] intercept   : AIC=12247.789, Time=1.87 sec\n"
     ]
    },
    {
     "name": "stderr",
     "output_type": "stream",
     "text": [
      "C:\\Users\\user\\anaconda3\\Lib\\site-packages\\sklearn\\utils\\deprecation.py:151: FutureWarning: 'force_all_finite' was renamed to 'ensure_all_finite' in 1.6 and will be removed in 1.8.\n",
      "  warnings.warn(\n"
     ]
    },
    {
     "name": "stdout",
     "output_type": "stream",
     "text": [
      " ARIMA(2,1,0)(1,0,2)[4] intercept   : AIC=12220.178, Time=3.15 sec\n"
     ]
    },
    {
     "name": "stderr",
     "output_type": "stream",
     "text": [
      "C:\\Users\\user\\anaconda3\\Lib\\site-packages\\sklearn\\utils\\deprecation.py:151: FutureWarning: 'force_all_finite' was renamed to 'ensure_all_finite' in 1.6 and will be removed in 1.8.\n",
      "  warnings.warn(\n"
     ]
    },
    {
     "name": "stdout",
     "output_type": "stream",
     "text": [
      " ARIMA(2,1,0)(0,0,2)[4] intercept   : AIC=12477.268, Time=1.47 sec\n"
     ]
    },
    {
     "name": "stderr",
     "output_type": "stream",
     "text": [
      "C:\\Users\\user\\anaconda3\\Lib\\site-packages\\sklearn\\utils\\deprecation.py:151: FutureWarning: 'force_all_finite' was renamed to 'ensure_all_finite' in 1.6 and will be removed in 1.8.\n",
      "  warnings.warn(\n"
     ]
    },
    {
     "name": "stdout",
     "output_type": "stream",
     "text": [
      " ARIMA(2,1,0)(1,0,1)[4] intercept   : AIC=12249.847, Time=2.17 sec\n"
     ]
    },
    {
     "name": "stderr",
     "output_type": "stream",
     "text": [
      "C:\\Users\\user\\anaconda3\\Lib\\site-packages\\sklearn\\utils\\deprecation.py:151: FutureWarning: 'force_all_finite' was renamed to 'ensure_all_finite' in 1.6 and will be removed in 1.8.\n",
      "  warnings.warn(\n"
     ]
    },
    {
     "name": "stdout",
     "output_type": "stream",
     "text": [
      " ARIMA(2,1,0)(2,0,2)[4] intercept   : AIC=12224.662, Time=4.99 sec\n"
     ]
    },
    {
     "name": "stderr",
     "output_type": "stream",
     "text": [
      "C:\\Users\\user\\anaconda3\\Lib\\site-packages\\sklearn\\utils\\deprecation.py:151: FutureWarning: 'force_all_finite' was renamed to 'ensure_all_finite' in 1.6 and will be removed in 1.8.\n",
      "  warnings.warn(\n"
     ]
    },
    {
     "name": "stdout",
     "output_type": "stream",
     "text": [
      " ARIMA(2,1,0)(0,0,1)[4] intercept   : AIC=12533.266, Time=0.84 sec\n"
     ]
    },
    {
     "name": "stderr",
     "output_type": "stream",
     "text": [
      "C:\\Users\\user\\anaconda3\\Lib\\site-packages\\sklearn\\utils\\deprecation.py:151: FutureWarning: 'force_all_finite' was renamed to 'ensure_all_finite' in 1.6 and will be removed in 1.8.\n",
      "  warnings.warn(\n"
     ]
    },
    {
     "name": "stdout",
     "output_type": "stream",
     "text": [
      " ARIMA(2,1,0)(2,0,1)[4] intercept   : AIC=12220.583, Time=3.42 sec\n"
     ]
    },
    {
     "name": "stderr",
     "output_type": "stream",
     "text": [
      "C:\\Users\\user\\anaconda3\\Lib\\site-packages\\sklearn\\utils\\deprecation.py:151: FutureWarning: 'force_all_finite' was renamed to 'ensure_all_finite' in 1.6 and will be removed in 1.8.\n",
      "  warnings.warn(\n"
     ]
    },
    {
     "name": "stdout",
     "output_type": "stream",
     "text": [
      " ARIMA(3,1,0)(1,0,2)[4] intercept   : AIC=12181.879, Time=3.42 sec\n"
     ]
    },
    {
     "name": "stderr",
     "output_type": "stream",
     "text": [
      "C:\\Users\\user\\anaconda3\\Lib\\site-packages\\sklearn\\utils\\deprecation.py:151: FutureWarning: 'force_all_finite' was renamed to 'ensure_all_finite' in 1.6 and will be removed in 1.8.\n",
      "  warnings.warn(\n"
     ]
    },
    {
     "name": "stdout",
     "output_type": "stream",
     "text": [
      " ARIMA(3,1,0)(0,0,2)[4] intercept   : AIC=12407.170, Time=1.86 sec\n"
     ]
    },
    {
     "name": "stderr",
     "output_type": "stream",
     "text": [
      "C:\\Users\\user\\anaconda3\\Lib\\site-packages\\sklearn\\utils\\deprecation.py:151: FutureWarning: 'force_all_finite' was renamed to 'ensure_all_finite' in 1.6 and will be removed in 1.8.\n",
      "  warnings.warn(\n"
     ]
    },
    {
     "name": "stdout",
     "output_type": "stream",
     "text": [
      " ARIMA(3,1,0)(1,0,1)[4] intercept   : AIC=12221.507, Time=2.64 sec\n"
     ]
    },
    {
     "name": "stderr",
     "output_type": "stream",
     "text": [
      "C:\\Users\\user\\anaconda3\\Lib\\site-packages\\sklearn\\utils\\deprecation.py:151: FutureWarning: 'force_all_finite' was renamed to 'ensure_all_finite' in 1.6 and will be removed in 1.8.\n",
      "  warnings.warn(\n"
     ]
    },
    {
     "name": "stdout",
     "output_type": "stream",
     "text": [
      " ARIMA(3,1,0)(2,0,2)[4] intercept   : AIC=12183.771, Time=7.41 sec\n"
     ]
    },
    {
     "name": "stderr",
     "output_type": "stream",
     "text": [
      "C:\\Users\\user\\anaconda3\\Lib\\site-packages\\sklearn\\utils\\deprecation.py:151: FutureWarning: 'force_all_finite' was renamed to 'ensure_all_finite' in 1.6 and will be removed in 1.8.\n",
      "  warnings.warn(\n"
     ]
    },
    {
     "name": "stdout",
     "output_type": "stream",
     "text": [
      " ARIMA(3,1,0)(0,0,1)[4] intercept   : AIC=12454.992, Time=1.09 sec\n"
     ]
    },
    {
     "name": "stderr",
     "output_type": "stream",
     "text": [
      "C:\\Users\\user\\anaconda3\\Lib\\site-packages\\sklearn\\utils\\deprecation.py:151: FutureWarning: 'force_all_finite' was renamed to 'ensure_all_finite' in 1.6 and will be removed in 1.8.\n",
      "  warnings.warn(\n"
     ]
    },
    {
     "name": "stdout",
     "output_type": "stream",
     "text": [
      " ARIMA(3,1,0)(2,0,1)[4] intercept   : AIC=12182.172, Time=4.68 sec\n"
     ]
    },
    {
     "name": "stderr",
     "output_type": "stream",
     "text": [
      "C:\\Users\\user\\anaconda3\\Lib\\site-packages\\sklearn\\utils\\deprecation.py:151: FutureWarning: 'force_all_finite' was renamed to 'ensure_all_finite' in 1.6 and will be removed in 1.8.\n",
      "  warnings.warn(\n"
     ]
    },
    {
     "name": "stdout",
     "output_type": "stream",
     "text": [
      " ARIMA(3,1,1)(1,0,2)[4] intercept   : AIC=12173.509, Time=8.01 sec\n"
     ]
    },
    {
     "name": "stderr",
     "output_type": "stream",
     "text": [
      "C:\\Users\\user\\anaconda3\\Lib\\site-packages\\sklearn\\utils\\deprecation.py:151: FutureWarning: 'force_all_finite' was renamed to 'ensure_all_finite' in 1.6 and will be removed in 1.8.\n",
      "  warnings.warn(\n"
     ]
    },
    {
     "name": "stdout",
     "output_type": "stream",
     "text": [
      " ARIMA(3,1,1)(0,0,2)[4] intercept   : AIC=12350.366, Time=5.16 sec\n"
     ]
    },
    {
     "name": "stderr",
     "output_type": "stream",
     "text": [
      "C:\\Users\\user\\anaconda3\\Lib\\site-packages\\sklearn\\utils\\deprecation.py:151: FutureWarning: 'force_all_finite' was renamed to 'ensure_all_finite' in 1.6 and will be removed in 1.8.\n",
      "  warnings.warn(\n"
     ]
    },
    {
     "name": "stdout",
     "output_type": "stream",
     "text": [
      " ARIMA(3,1,1)(1,0,1)[4] intercept   : AIC=12112.103, Time=6.43 sec\n"
     ]
    },
    {
     "name": "stderr",
     "output_type": "stream",
     "text": [
      "C:\\Users\\user\\anaconda3\\Lib\\site-packages\\sklearn\\utils\\deprecation.py:151: FutureWarning: 'force_all_finite' was renamed to 'ensure_all_finite' in 1.6 and will be removed in 1.8.\n",
      "  warnings.warn(\n"
     ]
    },
    {
     "name": "stdout",
     "output_type": "stream",
     "text": [
      " ARIMA(3,1,1)(0,0,1)[4] intercept   : AIC=12364.059, Time=3.45 sec\n"
     ]
    },
    {
     "name": "stderr",
     "output_type": "stream",
     "text": [
      "C:\\Users\\user\\anaconda3\\Lib\\site-packages\\sklearn\\utils\\deprecation.py:151: FutureWarning: 'force_all_finite' was renamed to 'ensure_all_finite' in 1.6 and will be removed in 1.8.\n",
      "  warnings.warn(\n"
     ]
    },
    {
     "name": "stdout",
     "output_type": "stream",
     "text": [
      " ARIMA(3,1,1)(1,0,0)[4] intercept   : AIC=12354.950, Time=4.05 sec\n"
     ]
    },
    {
     "name": "stderr",
     "output_type": "stream",
     "text": [
      "C:\\Users\\user\\anaconda3\\Lib\\site-packages\\sklearn\\utils\\deprecation.py:151: FutureWarning: 'force_all_finite' was renamed to 'ensure_all_finite' in 1.6 and will be removed in 1.8.\n",
      "  warnings.warn(\n"
     ]
    },
    {
     "name": "stdout",
     "output_type": "stream",
     "text": [
      " ARIMA(3,1,1)(2,0,1)[4] intercept   : AIC=12177.600, Time=5.67 sec\n"
     ]
    },
    {
     "name": "stderr",
     "output_type": "stream",
     "text": [
      "C:\\Users\\user\\anaconda3\\Lib\\site-packages\\sklearn\\utils\\deprecation.py:151: FutureWarning: 'force_all_finite' was renamed to 'ensure_all_finite' in 1.6 and will be removed in 1.8.\n",
      "  warnings.warn(\n"
     ]
    },
    {
     "name": "stdout",
     "output_type": "stream",
     "text": [
      " ARIMA(3,1,1)(0,0,0)[4] intercept   : AIC=12374.095, Time=2.38 sec\n"
     ]
    },
    {
     "name": "stderr",
     "output_type": "stream",
     "text": [
      "C:\\Users\\user\\anaconda3\\Lib\\site-packages\\sklearn\\utils\\deprecation.py:151: FutureWarning: 'force_all_finite' was renamed to 'ensure_all_finite' in 1.6 and will be removed in 1.8.\n",
      "  warnings.warn(\n"
     ]
    },
    {
     "name": "stdout",
     "output_type": "stream",
     "text": [
      " ARIMA(3,1,1)(2,0,0)[4] intercept   : AIC=12235.349, Time=4.87 sec\n"
     ]
    },
    {
     "name": "stderr",
     "output_type": "stream",
     "text": [
      "C:\\Users\\user\\anaconda3\\Lib\\site-packages\\sklearn\\utils\\deprecation.py:151: FutureWarning: 'force_all_finite' was renamed to 'ensure_all_finite' in 1.6 and will be removed in 1.8.\n",
      "  warnings.warn(\n"
     ]
    },
    {
     "name": "stdout",
     "output_type": "stream",
     "text": [
      " ARIMA(3,1,1)(2,0,2)[4] intercept   : AIC=12097.361, Time=9.17 sec\n"
     ]
    },
    {
     "name": "stderr",
     "output_type": "stream",
     "text": [
      "C:\\Users\\user\\anaconda3\\Lib\\site-packages\\sklearn\\utils\\deprecation.py:151: FutureWarning: 'force_all_finite' was renamed to 'ensure_all_finite' in 1.6 and will be removed in 1.8.\n",
      "  warnings.warn(\n"
     ]
    },
    {
     "name": "stdout",
     "output_type": "stream",
     "text": [
      " ARIMA(2,1,1)(2,0,2)[4] intercept   : AIC=inf, Time=8.55 sec\n"
     ]
    },
    {
     "name": "stderr",
     "output_type": "stream",
     "text": [
      "C:\\Users\\user\\anaconda3\\Lib\\site-packages\\sklearn\\utils\\deprecation.py:151: FutureWarning: 'force_all_finite' was renamed to 'ensure_all_finite' in 1.6 and will be removed in 1.8.\n",
      "  warnings.warn(\n"
     ]
    },
    {
     "name": "stdout",
     "output_type": "stream",
     "text": [
      " ARIMA(3,1,2)(2,0,2)[4] intercept   : AIC=inf, Time=9.36 sec\n"
     ]
    },
    {
     "name": "stderr",
     "output_type": "stream",
     "text": [
      "C:\\Users\\user\\anaconda3\\Lib\\site-packages\\sklearn\\utils\\deprecation.py:151: FutureWarning: 'force_all_finite' was renamed to 'ensure_all_finite' in 1.6 and will be removed in 1.8.\n",
      "  warnings.warn(\n"
     ]
    },
    {
     "name": "stdout",
     "output_type": "stream",
     "text": [
      " ARIMA(2,1,2)(2,0,2)[4] intercept   : AIC=inf, Time=7.78 sec\n"
     ]
    },
    {
     "name": "stderr",
     "output_type": "stream",
     "text": [
      "C:\\Users\\user\\anaconda3\\Lib\\site-packages\\sklearn\\utils\\deprecation.py:151: FutureWarning: 'force_all_finite' was renamed to 'ensure_all_finite' in 1.6 and will be removed in 1.8.\n",
      "  warnings.warn(\n"
     ]
    },
    {
     "name": "stdout",
     "output_type": "stream",
     "text": [
      " ARIMA(3,1,1)(2,0,2)[4]             : AIC=inf, Time=6.41 sec\n",
      "\n",
      "Best model:  ARIMA(3,1,1)(2,0,2)[4] intercept\n",
      "Total fit time: 139.955 seconds\n"
     ]
    }
   ],
   "source": [
    "model = auto_arima(\n",
    "    train,\n",
    "    seasonal=True,\n",
    "    m=4,  # season length (e.g., 4 for 6-hourly data = 1 day)\n",
    "    trace=True,\n",
    "    error_action='ignore',\n",
    "    suppress_warnings=True\n",
    ")"
   ]
  },
  {
   "cell_type": "markdown",
   "id": "7ceb9d28-70be-4238-a5cc-a3879089ad22",
   "metadata": {
    "jp-MarkdownHeadingCollapsed": true
   },
   "source": [
    "# AR (AutoRegressive) Model"
   ]
  },
  {
   "cell_type": "code",
   "execution_count": null,
   "id": "3fc47020-ab05-4ace-b887-67ea432b48f1",
   "metadata": {},
   "outputs": [],
   "source": [
    "# Fit the AR model\n",
    "ar_model = AutoReg(train, lags=29)  # for 24hours or 1 day\n",
    "ar_result = ar_model.fit()"
   ]
  },
  {
   "cell_type": "code",
   "execution_count": null,
   "id": "d14993c9-ec81-41ac-9c2f-8e3158c55d73",
   "metadata": {},
   "outputs": [],
   "source": [
    "# Model summary\n",
    "ar_result.summary()"
   ]
  },
  {
   "cell_type": "code",
   "execution_count": null,
   "id": "b6d169e5-7e16-4e25-a50e-bfc6bbde8d47",
   "metadata": {},
   "outputs": [],
   "source": [
    "# Forecast\n",
    "y_ar_pred = ar_result.predict(test.index.min(), test.index.max())\n",
    "y_ar_pred.head()\n"
   ]
  },
  {
   "cell_type": "code",
   "execution_count": null,
   "id": "6b476019-3b99-420b-8c9a-579fdc6c559b",
   "metadata": {},
   "outputs": [],
   "source": [
    "# Baseline Model Metrics\n",
    "mean = train.mean()\n",
    "y_mean_pred = len(train) * [mean]\n",
    "\n",
    "# MSE and MAE of the Baseline model\n",
    "mse_baseline = mean_squared_error(train, y_mean_pred)\n",
    "mae_baseline = mean_absolute_error(train, y_mean_pred)\n",
    "\n",
    "\n",
    "print(f\"MSE of the baseline model: {round(mse_baseline, 2)}\")\n",
    "print(f\"MAE of the baseline model: {round(mae_baseline, 2)}\")"
   ]
  },
  {
   "cell_type": "code",
   "execution_count": null,
   "id": "c3fc13ce-3bba-46d6-b192-ad0a2fa1debf",
   "metadata": {},
   "outputs": [],
   "source": [
    "# Evaluation\n",
    "mse = mean_squared_error(test, y_ar_pred)\n",
    "mae = mean_absolute_error(test, y_ar_pred)\n",
    "\n",
    "print(f\"AR Model - MSE: {mse:.2f}\")\n",
    "print(f\"AR Model - MAE: {mae:.2f}\")"
   ]
  },
  {
   "cell_type": "code",
   "execution_count": null,
   "id": "df602d42-5e24-4adc-b312-eda6dd3da3f7",
   "metadata": {},
   "outputs": [],
   "source": [
    "# Residual graph\n",
    "fig, ax = plt.subplots(figsize = (15, 5))\n",
    "ar_result.resid.plot(ax = ax)\n",
    "plt.title(\"Residual Plot\")\n",
    "plt.xlabel(\"Date\")\n",
    "plt.show()"
   ]
  },
  {
   "cell_type": "code",
   "execution_count": null,
   "id": "9031386d-7bea-42bf-affe-df6baa6b1fcb",
   "metadata": {},
   "outputs": [],
   "source": [
    "# Residual Histogram\n",
    "ar_result.resid.plot(\n",
    "    kind = \"hist\", \n",
    "    xlabel = \"Residual\",\n",
    "    ylabel = \"frequency\",\n",
    "    title = \"Residual Distribution\"\n",
    ")"
   ]
  },
  {
   "cell_type": "code",
   "execution_count": null,
   "id": "4e356c9e-b5d8-452e-bb1f-e36a745e0d11",
   "metadata": {},
   "outputs": [],
   "source": [
    "# DataFrame for Actual Test data and Predictions\n",
    "\n",
    "df_pred_test = pd.DataFrame({\n",
    "            'y_test':test,\n",
    "            'y_pred':y_ar_pred\n",
    "}, index = test.index)\n",
    "df_pred_test.tail()"
   ]
  },
  {
   "cell_type": "code",
   "execution_count": null,
   "id": "57df9311-de9b-400e-bad9-7b74502eaaca",
   "metadata": {},
   "outputs": [],
   "source": [
    "# Plot results\n",
    "fig = px.line(\n",
    "    data_frame= df_pred_test,\n",
    "    title = \"Prediction vs Actual Test data \",\n",
    "    labels= {\"value\" : \"PM2.5\"}\n",
    ")\n",
    "fig.show()"
   ]
  },
  {
   "cell_type": "code",
   "execution_count": null,
   "id": "5dd82044-474c-4288-814b-bf87588b61ef",
   "metadata": {},
   "outputs": [],
   "source": [
    "# Walk Forward Validation\n",
    "\n",
    "y_pred_wfv = pd.Series()\n",
    "history = train.copy()\n",
    "for i in range(len(test)):\n",
    "    model = AutoReg(history, lags=29).fit()\n",
    "    next_pred = model.forecast()\n",
    "    y_pred_wfv = pd.concat([y_pred_wfv, next_pred])\n",
    "    history = pd.concat([history, test[next_pred.index]]) \n"
   ]
  },
  {
   "cell_type": "code",
   "execution_count": null,
   "id": "2ac564ec-c51b-4b2e-aa71-48acabbcc642",
   "metadata": {},
   "outputs": [],
   "source": [
    "df_pred_wfv = pd.DataFrame({\n",
    "            'y_test':test,\n",
    "            'y_pred':y_pred_wfv\n",
    "}, index = test.index)\n",
    "df_pred_wfv.tail()"
   ]
  },
  {
   "cell_type": "code",
   "execution_count": null,
   "id": "ac3ad8d6-d85b-43d3-9239-034adbccada8",
   "metadata": {},
   "outputs": [],
   "source": [
    "fig = px.line(\n",
    "    data_frame= df_pred_wfv,\n",
    "    title = \"Walk forward Validation Prediction and Actual Test data\",\n",
    "    labels= {\"value\" : \"PM2.5\"}\n",
    ")\n",
    "\n",
    "fig.show()"
   ]
  },
  {
   "cell_type": "code",
   "execution_count": null,
   "id": "f1d08d0c-6c4f-4cfb-bf49-0d59c6f1c65e",
   "metadata": {},
   "outputs": [],
   "source": [
    "# Evaluation of the Walk forward Validation Prediction\n",
    "\n",
    "mse = mean_squared_error(test, y_pred_wfv)\n",
    "mae = mean_absolute_error(test, y_pred_wfv)\n",
    "\n",
    "print(f\"AR Model - MSE: {mse:.2f}\")\n",
    "print(f\"AR Model - MAE: {mae:.2f}\")"
   ]
  },
  {
   "cell_type": "markdown",
   "id": "c11c442e-6dfb-4676-93d3-9f9f6e6d5cc3",
   "metadata": {},
   "source": [
    "## Summary\n",
    "\n",
    "The AR model Underperformed. why:\n",
    "- The forecast (red line) is almost flat, failing to capture the volatility, spikes, and seasonality in the test set.\n",
    "- AR models rely only on past values of the series (lags) and assume a linear relationship, which often fails when: There’s strong seasonality or nonlinearity.\n",
    "- Residuals are not white noise, as we saw earlier from decomposition and ACF plots.\n",
    "\n"
   ]
  },
  {
   "cell_type": "markdown",
   "id": "fd982dbf-8295-410f-bfa6-7a261fd6e922",
   "metadata": {
    "jp-MarkdownHeadingCollapsed": true
   },
   "source": [
    "# ARMA (AutoRegressive Moving Average) Model"
   ]
  },
  {
   "cell_type": "code",
   "execution_count": null,
   "id": "f6bc2055-003a-45ff-b7c8-97969b4a4dbc",
   "metadata": {},
   "outputs": [],
   "source": [
    "# Fit ARMA(p=2, q=2) on differenced data (you can tune p and q later)\n",
    "arma_model = ARIMA(train, order=(2, 0, 0))  # d=0 because we assume stationary (you can test d=1 if needed)\n",
    "arma_result = arma_model.fit()"
   ]
  },
  {
   "cell_type": "code",
   "execution_count": null,
   "id": "d9b864e1-bd8b-432c-8ce3-98a216da3eaf",
   "metadata": {},
   "outputs": [],
   "source": [
    "arma_result.summary()"
   ]
  },
  {
   "cell_type": "code",
   "execution_count": null,
   "id": "47acd5ac-95ce-4c80-afcf-26e4bb494d47",
   "metadata": {},
   "outputs": [],
   "source": [
    "# Forecast\n",
    "y_arma_pred = arma_result.predict(test.index.min(), test.index.max())\n",
    "y_arma_pred.head()"
   ]
  },
  {
   "cell_type": "code",
   "execution_count": null,
   "id": "0ed93d9c-8a64-4291-a57c-cdb4a856a3a2",
   "metadata": {},
   "outputs": [],
   "source": [
    "# Baseline Model Metrics\n",
    "mean = train.mean()\n",
    "y_mean_pred = len(train) * [mean]\n",
    "\n",
    "# MSE and MAE of the Baseline model\n",
    "mse_baseline = mean_squared_error(train, y_mean_pred)\n",
    "mae_baseline = mean_absolute_error(train, y_mean_pred)\n",
    "\n",
    "\n",
    "print(f\"MSE of the baseline model: {round(mse_baseline, 2)}\")\n",
    "print(f\"MAE of the baseline model: {round(mae_baseline, 2)}\")"
   ]
  },
  {
   "cell_type": "code",
   "execution_count": null,
   "id": "edeebb59-640b-4637-95ec-a2fc39a17e55",
   "metadata": {},
   "outputs": [],
   "source": [
    "# Evaluation\n",
    "mse = mean_squared_error(test, y_arma_pred)\n",
    "mae = mean_absolute_error(test, y_arma_pred)\n",
    "\n",
    "print(f\"ARMA Model - MSE: {mse:.2f}\")\n",
    "print(f\"ARMA Model - MAE: {mae:.2f}\")"
   ]
  },
  {
   "cell_type": "code",
   "execution_count": null,
   "id": "d1cefd2b-6ac5-4d9d-8e2c-664f497c9c44",
   "metadata": {},
   "outputs": [],
   "source": [
    "# Residual graph\n",
    "fig, ax = plt.subplots(figsize = (15, 5))\n",
    "arma_result.resid.plot(ax = ax)\n",
    "plt.title(\"Residual Plot\")\n",
    "plt.xlabel(\"Date\")\n",
    "plt.show()"
   ]
  },
  {
   "cell_type": "code",
   "execution_count": null,
   "id": "feceeeb5-c6c7-46e7-bc3c-dc7181269389",
   "metadata": {},
   "outputs": [],
   "source": [
    "# Residual Histogram\n",
    "arma_result.resid.plot(\n",
    "    kind = \"hist\", \n",
    "    xlabel = \"Residual\",\n",
    "    ylabel = \"frequency\",\n",
    "    title = \"Residual Distribution\"\n",
    ")"
   ]
  },
  {
   "cell_type": "code",
   "execution_count": null,
   "id": "48a1f1d0-3a9b-4b6a-bfd3-99ea7f909471",
   "metadata": {},
   "outputs": [],
   "source": [
    "# DataFrame for Actual Test data and Predictions\n",
    "\n",
    "df_pred_test = pd.DataFrame({\n",
    "            'y_test':test,\n",
    "            'y_pred':y_arma_pred\n",
    "}, index = test.index)\n",
    "df_pred_test.tail()"
   ]
  },
  {
   "cell_type": "code",
   "execution_count": null,
   "id": "8c02c7ac-7a6d-47c2-bf97-3efb1b09c2ca",
   "metadata": {},
   "outputs": [],
   "source": [
    "# Plot results\n",
    "fig = px.line(\n",
    "    data_frame= df_pred_test,\n",
    "    title = \"Prediction vs Actual Test data \",\n",
    "    labels= {\"value\" : \"PM2.5\"}\n",
    ")\n",
    "fig.show()"
   ]
  },
  {
   "cell_type": "code",
   "execution_count": null,
   "id": "dd7f514e-f64c-49b8-a5f5-ecb666f1c34c",
   "metadata": {},
   "outputs": [],
   "source": [
    "# Walk Forward Validation\n",
    "\n",
    "y_pred_wfv = pd.Series()\n",
    "history = train.copy()\n",
    "for i in range(len(test)):\n",
    "     model = ARIMA(history, order = (3, 1, 1)).fit()\n",
    "     next_pred = model.forecast()\n",
    "     y_pred_wfv = pd.concat([y_pred_wfv, next_pred])\n",
    "     history = pd.concat([history, test[next_pred.index]])\n"
   ]
  },
  {
   "cell_type": "code",
   "execution_count": null,
   "id": "a8e977fd-b77a-4af8-b334-a88ea3317d21",
   "metadata": {},
   "outputs": [],
   "source": [
    "df_pred_wfv = pd.DataFrame({\n",
    "            'y_test':test,\n",
    "            'y_pred':y_pred_wfv\n",
    "}, index = test.index)\n",
    "df_pred_wfv.tail()"
   ]
  },
  {
   "cell_type": "code",
   "execution_count": null,
   "id": "a9a607a6-e9d7-4021-915c-710cb937432d",
   "metadata": {},
   "outputs": [],
   "source": [
    "fig = px.line(\n",
    "    data_frame= df_pred_wfv,\n",
    "    title = \"Walk forward Validation Prediction and Actual Test data\",\n",
    "    labels= {\"value\" : \"PM2.5\"}\n",
    ")\n",
    "\n",
    "fig.show()"
   ]
  },
  {
   "cell_type": "code",
   "execution_count": null,
   "id": "012ff25f-10d8-465e-9217-1ee4715960b5",
   "metadata": {},
   "outputs": [],
   "source": [
    "# Evaluation of the Walk forward Validation Prediction\n",
    "\n",
    "mse = mean_squared_error(test, y_pred_wfv)\n",
    "mae = mean_absolute_error(test, y_pred_wfv)\n",
    "\n",
    "print(f\"AR Model - MSE: {mse:.2f}\")\n",
    "print(f\"AR Model - MAE: {mae:.2f}\")"
   ]
  },
  {
   "cell_type": "markdown",
   "id": "97e5edce-5909-44ac-8c67-28444a8353c1",
   "metadata": {
    "jp-MarkdownHeadingCollapsed": true
   },
   "source": [
    "# ARIMA MODEL"
   ]
  },
  {
   "cell_type": "code",
   "execution_count": null,
   "id": "987489ff-084a-4c55-a989-59b3ce891e90",
   "metadata": {},
   "outputs": [],
   "source": [
    "# Fit ARIMA\n",
    "arima_model = ARIMA(train, order=(2, 1, 3))  # d=1 for first-order differencing\n",
    "arima_result = arima_model.fit()"
   ]
  },
  {
   "cell_type": "code",
   "execution_count": null,
   "id": "2e75ad7e-2b58-4a48-9c74-76d0a6149058",
   "metadata": {},
   "outputs": [],
   "source": [
    "# Forecast\n",
    "y_pred_test = arima_result.predict(test.index.min(), test.index.max())\n",
    "y_pred_test.head()\n",
    "\n"
   ]
  },
  {
   "cell_type": "code",
   "execution_count": null,
   "id": "97f6b668-2c5e-4b3f-8800-a1dc7ff1a0b3",
   "metadata": {},
   "outputs": [],
   "source": [
    "# Evaluation\n",
    "mse = mean_squared_error(test, y_pred_test)\n",
    "mae = mean_absolute_error(test, y_pred_test)\n",
    "\n",
    "print(f\"ARIMA Model - MSE: {mse:.2f}\")\n",
    "print(f\"ARIMA Model - MAE: {mae:.2f}\")\n"
   ]
  },
  {
   "cell_type": "code",
   "execution_count": null,
   "id": "b26a769f-73c2-4229-88e4-2d5bff847535",
   "metadata": {},
   "outputs": [],
   "source": [
    "# Plot\n",
    "plt.figure(figsize=(15, 5))\n",
    "plt.plot(test, label=\"Actual\", color='black')\n",
    "plt.plot(y_pred_test, label=\"Forecast\", color='green')\n",
    "plt.title(\"ARIMA Model Forecast vs Actual\")\n",
    "plt.xlabel(\"Date\")\n",
    "plt.ylabel(\"PM2.5\")\n",
    "plt.legend()\n",
    "plt.tight_layout()\n",
    "plt.show()"
   ]
  },
  {
   "cell_type": "code",
   "execution_count": null,
   "id": "2ac15991-0d1e-466a-9945-2a65af121f37",
   "metadata": {},
   "outputs": [],
   "source": [
    "# Walk Forward Validation\n",
    "\n",
    "y_pred_wfv = pd.Series()\n",
    "history = train.copy()\n",
    "for i in range(len(test)):\n",
    "     model = ARIMA(history, order=(2, 1, 3)).fit()\n",
    "     next_pred = model.forecast()\n",
    "     y_pred_wfv = pd.concat([y_pred_wfv, next_pred])\n",
    "     history = pd.concat([history, test[next_pred.index]])"
   ]
  },
  {
   "cell_type": "code",
   "execution_count": null,
   "id": "9c5fd84e-e880-41bf-8f5b-f7571859bf84",
   "metadata": {},
   "outputs": [],
   "source": [
    "df_pred_wfv = pd.DataFrame({\n",
    "            'y_test':test,\n",
    "            'y_pred':y_pred_wfv\n",
    "}, index = test.index)\n",
    "\n",
    "df_pred_wfv.tail()"
   ]
  },
  {
   "cell_type": "code",
   "execution_count": null,
   "id": "50ccfeec-5f38-44a0-804e-2c5f34978688",
   "metadata": {},
   "outputs": [],
   "source": [
    "fig = px.line(\n",
    "    data_frame= df_pred_wfv,\n",
    "    title = \"Walk forward Validation Prediction and Actual Test data\",\n",
    "    labels= {\"value\" : \"PM2.5\"}\n",
    ")\n",
    "\n",
    "fig.show()"
   ]
  },
  {
   "cell_type": "code",
   "execution_count": null,
   "id": "4b5a3359-1775-43ca-9149-a56e2c955097",
   "metadata": {},
   "outputs": [],
   "source": [
    "# Check out necessary charts\n",
    "\n",
    "arima_result.plot_diagnostics(figsize=(15, 8))\n",
    "plt.show()"
   ]
  },
  {
   "cell_type": "code",
   "execution_count": null,
   "id": "51fcd5f6-16bc-43f3-8c7e-189a6f28c6c7",
   "metadata": {},
   "outputs": [],
   "source": [
    "# Evaluation of the Walk forward Validation Prediction\n",
    "\n",
    "mse = mean_squared_error(test, y_pred_wfv)\n",
    "mae = mean_absolute_error(test, y_pred_wfv)\n",
    "\n",
    "print(f\"AR Model - MSE: {mse:.2f}\")\n",
    "print(f\"AR Model - MAE: {mae:.2f}\")"
   ]
  },
  {
   "cell_type": "code",
   "execution_count": null,
   "id": "160a91c5-9429-425a-9c28-83ff0a02b3e2",
   "metadata": {},
   "outputs": [],
   "source": [
    "# Get current timestamp in ISO format, replacing ':' to avoid file path issues\n",
    "timestamp = datetime.now().isoformat(timespec='seconds').replace(\":\", \"-\")\n",
    "\n",
    "# Define the result folder (make sure it exists)\n",
    "result_dir = \"../results/\"\n",
    "os.makedirs(result_dir, exist_ok=True)\n",
    "\n",
    "# Define filenames\n",
    "model_filename = f\"{timestamp}_arima_model.pkl\"\n",
    "wfv_filename = f\"{timestamp}_arima_wfv.csv\"\n",
    "\n",
    "# Save model\n",
    "joblib.dump(arima_result, os.path.join(result_dir, model_filename))\n",
    "\n",
    "# Save walk-forward DataFrame (assuming it's named `wfv_df`)\n",
    "df_pred_wfv.to_csv(os.path.join(result_dir, wfv_filename), index=True)"
   ]
  },
  {
   "cell_type": "markdown",
   "id": "109a3e72-a458-43de-bfb9-06483304ce34",
   "metadata": {
    "jp-MarkdownHeadingCollapsed": true
   },
   "source": [
    "# SARIMA (Seasonal ARIMA) Model"
   ]
  },
  {
   "cell_type": "code",
   "execution_count": 7,
   "id": "59a73dea-1420-4b5e-99f5-7308a238513c",
   "metadata": {},
   "outputs": [
    {
     "name": "stderr",
     "output_type": "stream",
     "text": [
      "C:\\Users\\user\\anaconda3\\Lib\\site-packages\\statsmodels\\base\\model.py:607: ConvergenceWarning: Maximum Likelihood optimization failed to converge. Check mle_retvals\n",
      "  warnings.warn(\"Maximum Likelihood optimization failed to \"\n"
     ]
    }
   ],
   "source": [
    "# Fit SARIMA\n",
    "sarima_model = SARIMAX(train,\n",
    "                       order=(3,1,1),\n",
    "                       seasonal_order=(2,0,2, 4),\n",
    "                       enforce_stationarity=False,\n",
    "                       enforce_invertibility=False)\n",
    "\n",
    "sarima_result = sarima_model.fit()\n",
    "\n",
    "# Best model:  ARIMA(2,1,3)(1,0,1)[28]\n",
    "# Best model:  ARIMA(3,1,1)(2,0,2)[4]"
   ]
  },
  {
   "cell_type": "code",
   "execution_count": 8,
   "id": "528197c3-fa89-4a20-9631-fc278c192231",
   "metadata": {},
   "outputs": [
    {
     "data": {
      "text/plain": [
       "2024-12-19 00:00:00+01:00    51.580966\n",
       "2024-12-19 06:00:00+01:00    50.870392\n",
       "2024-12-19 12:00:00+01:00    50.740045\n",
       "2024-12-19 18:00:00+01:00    51.082686\n",
       "2024-12-20 00:00:00+01:00    50.828044\n",
       "2024-12-20 06:00:00+01:00    50.603874\n",
       "2024-12-20 12:00:00+01:00    50.682299\n",
       "2024-12-20 18:00:00+01:00    51.098958\n",
       "2024-12-21 00:00:00+01:00    50.700588\n",
       "2024-12-21 06:00:00+01:00    50.320583\n",
       "Freq: 6h, Name: predicted_mean, dtype: float64"
      ]
     },
     "execution_count": 8,
     "metadata": {},
     "output_type": "execute_result"
    }
   ],
   "source": [
    "# Forecast\n",
    "y_sarima_pred = sarima_result.predict(test.index.min(), test.index.max())\n",
    "y_sarima_pred.head(10)\n"
   ]
  },
  {
   "cell_type": "code",
   "execution_count": 9,
   "id": "0bcf55c9-b513-4b54-8775-533632b5b197",
   "metadata": {},
   "outputs": [
    {
     "name": "stdout",
     "output_type": "stream",
     "text": [
      "MSE of the baseline model: 481.99\n",
      "MAE of the baseline model: 15.79\n"
     ]
    }
   ],
   "source": [
    "# Baseline Model Metrics\n",
    "mean = train.mean()\n",
    "y_mean_pred = len(train) * [mean]\n",
    "\n",
    "# MSE and MAE of the Baseline model\n",
    "mse_baseline = mean_squared_error(train, y_mean_pred)\n",
    "mae_baseline = mean_absolute_error(train, y_mean_pred)\n",
    "\n",
    "\n",
    "print(f\"MSE of the baseline model: {round(mse_baseline, 2)}\")\n",
    "print(f\"MAE of the baseline model: {round(mae_baseline, 2)}\")"
   ]
  },
  {
   "cell_type": "code",
   "execution_count": 10,
   "id": "cb75491e-796a-40e6-afb4-44bec5a23755",
   "metadata": {},
   "outputs": [
    {
     "name": "stdout",
     "output_type": "stream",
     "text": [
      "SARIMA Model - MSE: 508.93\n",
      "SARIMA Model - MAE: 19.04\n"
     ]
    }
   ],
   "source": [
    "# Evaluation\n",
    "mse = mean_squared_error(test, y_sarima_pred)\n",
    "mae = mean_absolute_error(test, y_sarima_pred)\n",
    "\n",
    "print(f\"SARIMA Model - MSE: {mse:.2f}\")\n",
    "print(f\"SARIMA Model - MAE: {mae:.2f}\")"
   ]
  },
  {
   "cell_type": "code",
   "execution_count": 11,
   "id": "26f27f1a-0483-4aed-b04f-5aaac36e0b43",
   "metadata": {},
   "outputs": [
    {
     "data": {
      "image/png": "[encoded data removed]",
      "text/plain": [
       "<Figure size 1500x500 with 1 Axes>"
      ]
     },
     "metadata": {},
     "output_type": "display_data"
    }
   ],
   "source": [
    "# Residual graph\n",
    "fig, ax = plt.subplots(figsize = (15, 5))\n",
    "sarima_result.resid.plot(ax = ax)\n",
    "plt.title(\"Residual Plot\")\n",
    "plt.xlabel(\"Date\")\n",
    "plt.show()"
   ]
  },
  {
   "cell_type": "code",
   "execution_count": null,
   "id": "0fa18784-6247-405a-9bc0-91ccbeb8f87e",
   "metadata": {},
   "outputs": [],
   "source": [
    "# Residual Histogram\n",
    "sarima_result.resid.plot(\n",
    "    kind = \"hist\", \n",
    "    xlabel = \"Residual\",\n",
    "    ylabel = \"frequency\",\n",
    "    title = \"Residual Distribution\"\n",
    ")"
   ]
  },
  {
   "cell_type": "code",
   "execution_count": 12,
   "id": "3cb35d0c-05be-454b-986b-599fc0d88678",
   "metadata": {},
   "outputs": [
    {
     "data": {
      "text/html": [
       "<div>\n",
       "<style scoped>\n",
       "    .dataframe tbody tr th:only-of-type {\n",
       "        vertical-align: middle;\n",
       "    }\n",
       "\n",
       "    .dataframe tbody tr th {\n",
       "        vertical-align: top;\n",
       "    }\n",
       "\n",
       "    .dataframe thead th {\n",
       "        text-align: right;\n",
       "    }\n",
       "</style>\n",
       "<table border=\"1\" class=\"dataframe\">\n",
       "  <thead>\n",
       "    <tr style=\"text-align: right;\">\n",
       "      <th></th>\n",
       "      <th>y_test</th>\n",
       "      <th>y_pred</th>\n",
       "    </tr>\n",
       "    <tr>\n",
       "      <th>date</th>\n",
       "      <th></th>\n",
       "      <th></th>\n",
       "    </tr>\n",
       "  </thead>\n",
       "  <tbody>\n",
       "    <tr>\n",
       "      <th>2025-03-31 06:00:00+01:00</th>\n",
       "      <td>8.744196</td>\n",
       "      <td>49.601324</td>\n",
       "    </tr>\n",
       "    <tr>\n",
       "      <th>2025-03-31 12:00:00+01:00</th>\n",
       "      <td>8.608147</td>\n",
       "      <td>49.608132</td>\n",
       "    </tr>\n",
       "    <tr>\n",
       "      <th>2025-03-31 18:00:00+01:00</th>\n",
       "      <td>8.472098</td>\n",
       "      <td>49.642046</td>\n",
       "    </tr>\n",
       "    <tr>\n",
       "      <th>2025-04-01 00:00:00+01:00</th>\n",
       "      <td>8.336049</td>\n",
       "      <td>49.620590</td>\n",
       "    </tr>\n",
       "    <tr>\n",
       "      <th>2025-04-01 06:00:00+01:00</th>\n",
       "      <td>8.200000</td>\n",
       "      <td>49.599900</td>\n",
       "    </tr>\n",
       "  </tbody>\n",
       "</table>\n",
       "</div>"
      ],
      "text/plain": [
       "                             y_test     y_pred\n",
       "date                                          \n",
       "2025-03-31 06:00:00+01:00  8.744196  49.601324\n",
       "2025-03-31 12:00:00+01:00  8.608147  49.608132\n",
       "2025-03-31 18:00:00+01:00  8.472098  49.642046\n",
       "2025-04-01 00:00:00+01:00  8.336049  49.620590\n",
       "2025-04-01 06:00:00+01:00  8.200000  49.599900"
      ]
     },
     "execution_count": 12,
     "metadata": {},
     "output_type": "execute_result"
    }
   ],
   "source": [
    "# DataFrame for Actual Test data and Predictions\n",
    "\n",
    "df_pred_test = pd.DataFrame({\n",
    "            'y_test':test,\n",
    "            'y_pred':y_sarima_pred\n",
    "}, index = test.index)\n",
    "df_pred_test.tail()"
   ]
  },
  {
   "cell_type": "code",
   "execution_count": 13,
   "id": "2820c880-a137-4b45-98b6-8b30aa1f3153",
   "metadata": {},
   "outputs": [
    {
     "data": {
      "application/vnd.plotly.v1+json": {
       "config": {
        "plotlyServerURL": "https://plot.ly"
       },
       "data": [
        {
         "hovertemplate": "variable=y_test<br>date=%{x}<br>PM2.5=%{y}<extra></extra>",
         "legendgroup": "y_test",
         "line": {
          "color": "#636efa",
          "dash": "solid"
         },
         "marker": {
          "symbol": "circle"
         },
         "mode": "lines",
         "name": "y_test",
         "orientation": "v",
         "showlegend": true,
         "type": "scatter",
         "x": [
          "2024-12-19T00:00:00.000000000",
          "2024-12-19T06:00:00.000000000",
          "2024-12-19T12:00:00.000000000",
          "2024-12-19T18:00:00.000000000",
          "2024-12-20T00:00:00.000000000",
          "2024-12-20T06:00:00.000000000",
          "2024-12-20T12:00:00.000000000",
          "2024-12-20T18:00:00.000000000",
          "2024-12-21T00:00:00.000000000",
          "2024-12-21T06:00:00.000000000",
          "2024-12-21T12:00:00.000000000",
          "2024-12-21T18:00:00.000000000",
          "2024-12-22T00:00:00.000000000",
          "2024-12-22T06:00:00.000000000",
          "2024-12-22T12:00:00.000000000",
          "2024-12-22T18:00:00.000000000",
          "2024-12-23T00:00:00.000000000",
          "2024-12-23T06:00:00.000000000",
          "2024-12-23T12:00:00.000000000",
          "2024-12-23T18:00:00.000000000",
          "2024-12-24T00:00:00.000000000",
          "2024-12-24T06:00:00.000000000",
          "2024-12-24T12:00:00.000000000",
          "2024-12-24T18:00:00.000000000",
          "2024-12-25T00:00:00.000000000",
          "2024-12-25T06:00:00.000000000",
          "2024-12-25T12:00:00.000000000",
          "2024-12-25T18:00:00.000000000",
          "2024-12-26T00:00:00.000000000",
          "2024-12-26T06:00:00.000000000",
          "2024-12-26T12:00:00.000000000",
          "2024-12-26T18:00:00.000000000",
          "2024-12-27T00:00:00.000000000",
          "2024-12-27T06:00:00.000000000",
          "2024-12-27T12:00:00.000000000",
          "2024-12-27T18:00:00.000000000",
          "2024-12-28T00:00:00.000000000",
          "2024-12-28T06:00:00.000000000",
          "2024-12-28T12:00:00.000000000",
          "2024-12-28T18:00:00.000000000",
          "2024-12-29T00:00:00.000000000",
          "2024-12-29T06:00:00.000000000",
          "2024-12-29T12:00:00.000000000",
          "2024-12-29T18:00:00.000000000",
          "2024-12-30T00:00:00.000000000",
          "2024-12-30T06:00:00.000000000",
          "2024-12-30T12:00:00.000000000",
          "2024-12-30T18:00:00.000000000",
          "2024-12-31T00:00:00.000000000",
          "2024-12-31T06:00:00.000000000",
          "2024-12-31T12:00:00.000000000",
          "2024-12-31T18:00:00.000000000",
          "2025-01-01T00:00:00.000000000",
          "2025-01-01T06:00:00.000000000",
          "2025-01-01T12:00:00.000000000",
          "2025-01-01T18:00:00.000000000",
          "2025-01-02T00:00:00.000000000",
          "2025-01-02T06:00:00.000000000",
          "2025-01-02T12:00:00.000000000",
          "2025-01-02T18:00:00.000000000",
          "2025-01-03T00:00:00.000000000",
          "2025-01-03T06:00:00.000000000",
          "2025-01-03T12:00:00.000000000",
          "2025-01-03T18:00:00.000000000",
          "2025-01-04T00:00:00.000000000",
          "2025-01-04T06:00:00.000000000",
          "2025-01-04T12:00:00.000000000",
          "2025-01-04T18:00:00.000000000",
          "2025-01-05T00:00:00.000000000",
          "2025-01-05T06:00:00.000000000",
          "2025-01-05T12:00:00.000000000",
          "2025-01-05T18:00:00.000000000",
          "2025-01-06T00:00:00.000000000",
          "2025-01-06T06:00:00.000000000",
          "2025-01-06T12:00:00.000000000",
          "2025-01-06T18:00:00.000000000",
          "2025-01-07T00:00:00.000000000",
          "2025-01-07T06:00:00.000000000",
          "2025-01-07T12:00:00.000000000",
          "2025-01-07T18:00:00.000000000",
          "2025-01-08T00:00:00.000000000",
          "2025-01-08T06:00:00.000000000",
          "2025-01-08T12:00:00.000000000",
          "2025-01-08T18:00:00.000000000",
          "2025-01-09T00:00:00.000000000",
          "2025-01-09T06:00:00.000000000",
          "2025-01-09T12:00:00.000000000",
          "2025-01-09T18:00:00.000000000",
          "2025-01-10T00:00:00.000000000",
          "2025-01-10T06:00:00.000000000",
          "2025-01-10T12:00:00.000000000",
          "2025-01-10T18:00:00.000000000",
          "2025-01-11T00:00:00.000000000",
          "2025-01-11T06:00:00.000000000",
          "2025-01-11T12:00:00.000000000",
          "2025-01-11T18:00:00.000000000",
          "2025-01-12T00:00:00.000000000",
          "2025-01-12T06:00:00.000000000",
          "2025-01-12T12:00:00.000000000",
          "2025-01-12T18:00:00.000000000",
          "2025-01-13T00:00:00.000000000",
          "2025-01-13T06:00:00.000000000",
          "2025-01-13T12:00:00.000000000",
          "2025-01-13T18:00:00.000000000",
          "2025-01-14T00:00:00.000000000",
          "2025-01-14T06:00:00.000000000",
          "2025-01-14T12:00:00.000000000",
          "2025-01-14T18:00:00.000000000",
          "2025-01-15T00:00:00.000000000",
          "2025-01-15T06:00:00.000000000",
          "2025-01-15T12:00:00.000000000",
          "2025-01-15T18:00:00.000000000",
          "2025-01-16T00:00:00.000000000",
          "2025-01-16T06:00:00.000000000",
          "2025-01-16T12:00:00.000000000",
          "2025-01-16T18:00:00.000000000",
          "2025-01-17T00:00:00.000000000",
          "2025-01-17T06:00:00.000000000",
          "2025-01-17T12:00:00.000000000",
          "2025-01-17T18:00:00.000000000",
          "2025-01-18T00:00:00.000000000",
          "2025-01-18T06:00:00.000000000",
          "2025-01-18T12:00:00.000000000",
          "2025-01-18T18:00:00.000000000",
          "2025-01-19T00:00:00.000000000",
          "2025-01-19T06:00:00.000000000",
          "2025-01-19T12:00:00.000000000",
          "2025-01-19T18:00:00.000000000",
          "2025-01-20T00:00:00.000000000",
          "2025-01-20T06:00:00.000000000",
          "2025-01-20T12:00:00.000000000",
          "2025-01-20T18:00:00.000000000",
          "2025-01-21T00:00:00.000000000",
          "2025-01-21T06:00:00.000000000",
          "2025-01-21T12:00:00.000000000",
          "2025-01-21T18:00:00.000000000",
          "2025-01-22T00:00:00.000000000",
          "2025-01-22T06:00:00.000000000",
          "2025-01-22T12:00:00.000000000",
          "2025-01-22T18:00:00.000000000",
          "2025-01-23T00:00:00.000000000",
          "2025-01-23T06:00:00.000000000",
          "2025-01-23T12:00:00.000000000",
          "2025-01-23T18:00:00.000000000",
          "2025-01-24T00:00:00.000000000",
          "2025-01-24T06:00:00.000000000",
          "2025-01-24T12:00:00.000000000",
          "2025-01-24T18:00:00.000000000",
          "2025-01-25T00:00:00.000000000",
          "2025-01-25T06:00:00.000000000",
          "2025-01-25T12:00:00.000000000",
          "2025-01-25T18:00:00.000000000",
          "2025-01-26T00:00:00.000000000",
          "2025-01-26T06:00:00.000000000",
          "2025-01-26T12:00:00.000000000",
          "2025-01-26T18:00:00.000000000",
          "2025-01-27T00:00:00.000000000",
          "2025-01-27T06:00:00.000000000",
          "2025-01-27T12:00:00.000000000",
          "2025-01-27T18:00:00.000000000",
          "2025-01-28T00:00:00.000000000",
          "2025-01-28T06:00:00.000000000",
          "2025-01-28T12:00:00.000000000",
          "2025-01-28T18:00:00.000000000",
          "2025-01-29T00:00:00.000000000",
          "2025-01-29T06:00:00.000000000",
          "2025-01-29T12:00:00.000000000",
          "2025-01-29T18:00:00.000000000",
          "2025-01-30T00:00:00.000000000",
          "2025-01-30T06:00:00.000000000",
          "2025-01-30T12:00:00.000000000",
          "2025-01-30T18:00:00.000000000",
          "2025-01-31T00:00:00.000000000",
          "2025-01-31T06:00:00.000000000",
          "2025-01-31T12:00:00.000000000",
          "2025-01-31T18:00:00.000000000",
          "2025-02-01T00:00:00.000000000",
          "2025-02-01T06:00:00.000000000",
          "2025-02-01T12:00:00.000000000",
          "2025-02-01T18:00:00.000000000",
          "2025-02-02T00:00:00.000000000",
          "2025-02-02T06:00:00.000000000",
          "2025-02-02T12:00:00.000000000",
          "2025-02-02T18:00:00.000000000",
          "2025-02-03T00:00:00.000000000",
          "2025-02-03T06:00:00.000000000",
          "2025-02-03T12:00:00.000000000",
          "2025-02-03T18:00:00.000000000",
          "2025-02-04T00:00:00.000000000",
          "2025-02-04T06:00:00.000000000",
          "2025-02-04T12:00:00.000000000",
          "2025-02-04T18:00:00.000000000",
          "2025-02-05T00:00:00.000000000",
          "2025-02-05T06:00:00.000000000",
          "2025-02-05T12:00:00.000000000",
          "2025-02-05T18:00:00.000000000",
          "2025-02-06T00:00:00.000000000",
          "2025-02-06T06:00:00.000000000",
          "2025-02-06T12:00:00.000000000",
          "2025-02-06T18:00:00.000000000",
          "2025-02-07T00:00:00.000000000",
          "2025-02-07T06:00:00.000000000",
          "2025-02-07T12:00:00.000000000",
          "2025-02-07T18:00:00.000000000",
          "2025-02-08T00:00:00.000000000",
          "2025-02-08T06:00:00.000000000",
          "2025-02-08T12:00:00.000000000",
          "2025-02-08T18:00:00.000000000",
          "2025-02-09T00:00:00.000000000",
          "2025-02-09T06:00:00.000000000",
          "2025-02-09T12:00:00.000000000",
          "2025-02-09T18:00:00.000000000",
          "2025-02-10T00:00:00.000000000",
          "2025-02-10T06:00:00.000000000",
          "2025-02-10T12:00:00.000000000",
          "2025-02-10T18:00:00.000000000",
          "2025-02-11T00:00:00.000000000",
          "2025-02-11T06:00:00.000000000",
          "2025-02-11T12:00:00.000000000",
          "2025-02-11T18:00:00.000000000",
          "2025-02-12T00:00:00.000000000",
          "2025-02-12T06:00:00.000000000",
          "2025-02-12T12:00:00.000000000",
          "2025-02-12T18:00:00.000000000",
          "2025-02-13T00:00:00.000000000",
          "2025-02-13T06:00:00.000000000",
          "2025-02-13T12:00:00.000000000",
          "2025-02-13T18:00:00.000000000",
          "2025-02-14T00:00:00.000000000",
          "2025-02-14T06:00:00.000000000",
          "2025-02-14T12:00:00.000000000",
          "2025-02-14T18:00:00.000000000",
          "2025-02-15T00:00:00.000000000",
          "2025-02-15T06:00:00.000000000",
          "2025-02-15T12:00:00.000000000",
          "2025-02-15T18:00:00.000000000",
          "2025-02-16T00:00:00.000000000",
          "2025-02-16T06:00:00.000000000",
          "2025-02-16T12:00:00.000000000",
          "2025-02-16T18:00:00.000000000",
          "2025-02-17T00:00:00.000000000",
          "2025-02-17T06:00:00.000000000",
          "2025-02-17T12:00:00.000000000",
          "2025-02-17T18:00:00.000000000",
          "2025-02-18T00:00:00.000000000",
          "2025-02-18T06:00:00.000000000",
          "2025-02-18T12:00:00.000000000",
          "2025-02-18T18:00:00.000000000",
          "2025-02-19T00:00:00.000000000",
          "2025-02-19T06:00:00.000000000",
          "2025-02-19T12:00:00.000000000",
          "2025-02-19T18:00:00.000000000",
          "2025-02-20T00:00:00.000000000",
          "2025-02-20T06:00:00.000000000",
          "2025-02-20T12:00:00.000000000",
          "2025-02-20T18:00:00.000000000",
          "2025-02-21T00:00:00.000000000",
          "2025-02-21T06:00:00.000000000",
          "2025-02-21T12:00:00.000000000",
          "2025-02-21T18:00:00.000000000",
          "2025-02-22T00:00:00.000000000",
          "2025-02-22T06:00:00.000000000",
          "2025-02-22T12:00:00.000000000",
          "2025-02-22T18:00:00.000000000",
          "2025-02-23T00:00:00.000000000",
          "2025-02-23T06:00:00.000000000",
          "2025-02-23T12:00:00.000000000",
          "2025-02-23T18:00:00.000000000",
          "2025-02-24T00:00:00.000000000",
          "2025-02-24T06:00:00.000000000",
          "2025-02-24T12:00:00.000000000",
          "2025-02-24T18:00:00.000000000",
          "2025-02-25T00:00:00.000000000",
          "2025-02-25T06:00:00.000000000",
          "2025-02-25T12:00:00.000000000",
          "2025-02-25T18:00:00.000000000",
          "2025-02-26T00:00:00.000000000",
          "2025-02-26T06:00:00.000000000",
          "2025-02-26T12:00:00.000000000",
          "2025-02-26T18:00:00.000000000",
          "2025-02-27T00:00:00.000000000",
          "2025-02-27T06:00:00.000000000",
          "2025-02-27T12:00:00.000000000",
          "2025-02-27T18:00:00.000000000",
          "2025-02-28T00:00:00.000000000",
          "2025-02-28T06:00:00.000000000",
          "2025-02-28T12:00:00.000000000",
          "2025-02-28T18:00:00.000000000",
          "2025-03-01T00:00:00.000000000",
          "2025-03-01T06:00:00.000000000",
          "2025-03-01T12:00:00.000000000",
          "2025-03-01T18:00:00.000000000",
          "2025-03-02T00:00:00.000000000",
          "2025-03-02T06:00:00.000000000",
          "2025-03-02T12:00:00.000000000",
          "2025-03-02T18:00:00.000000000",
          "2025-03-03T00:00:00.000000000",
          "2025-03-03T06:00:00.000000000",
          "2025-03-03T12:00:00.000000000",
          "2025-03-03T18:00:00.000000000",
          "2025-03-04T00:00:00.000000000",
          "2025-03-04T06:00:00.000000000",
          "2025-03-04T12:00:00.000000000",
          "2025-03-04T18:00:00.000000000",
          "2025-03-05T00:00:00.000000000",
          "2025-03-05T06:00:00.000000000",
          "2025-03-05T12:00:00.000000000",
          "2025-03-05T18:00:00.000000000",
          "2025-03-06T00:00:00.000000000",
          "2025-03-06T06:00:00.000000000",
          "2025-03-06T12:00:00.000000000",
          "2025-03-06T18:00:00.000000000",
          "2025-03-07T00:00:00.000000000",
          "2025-03-07T06:00:00.000000000",
          "2025-03-07T12:00:00.000000000",
          "2025-03-07T18:00:00.000000000",
          "2025-03-08T00:00:00.000000000",
          "2025-03-08T06:00:00.000000000",
          "2025-03-08T12:00:00.000000000",
          "2025-03-08T18:00:00.000000000",
          "2025-03-09T00:00:00.000000000",
          "2025-03-09T06:00:00.000000000",
          "2025-03-09T12:00:00.000000000",
          "2025-03-09T18:00:00.000000000",
          "2025-03-10T00:00:00.000000000",
          "2025-03-10T06:00:00.000000000",
          "2025-03-10T12:00:00.000000000",
          "2025-03-10T18:00:00.000000000",
          "2025-03-11T00:00:00.000000000",
          "2025-03-11T06:00:00.000000000",
          "2025-03-11T12:00:00.000000000",
          "2025-03-11T18:00:00.000000000",
          "2025-03-12T00:00:00.000000000",
          "2025-03-12T06:00:00.000000000",
          "2025-03-12T12:00:00.000000000",
          "2025-03-12T18:00:00.000000000",
          "2025-03-13T00:00:00.000000000",
          "2025-03-13T06:00:00.000000000",
          "2025-03-13T12:00:00.000000000",
          "2025-03-13T18:00:00.000000000",
          "2025-03-14T00:00:00.000000000",
          "2025-03-14T06:00:00.000000000",
          "2025-03-14T12:00:00.000000000",
          "2025-03-14T18:00:00.000000000",
          "2025-03-15T00:00:00.000000000",
          "2025-03-15T06:00:00.000000000",
          "2025-03-15T12:00:00.000000000",
          "2025-03-15T18:00:00.000000000",
          "2025-03-16T00:00:00.000000000",
          "2025-03-16T06:00:00.000000000",
          "2025-03-16T12:00:00.000000000",
          "2025-03-16T18:00:00.000000000",
          "2025-03-17T00:00:00.000000000",
          "2025-03-17T06:00:00.000000000",
          "2025-03-17T12:00:00.000000000",
          "2025-03-17T18:00:00.000000000",
          "2025-03-18T00:00:00.000000000",
          "2025-03-18T06:00:00.000000000",
          "2025-03-18T12:00:00.000000000",
          "2025-03-18T18:00:00.000000000",
          "2025-03-19T00:00:00.000000000",
          "2025-03-19T06:00:00.000000000",
          "2025-03-19T12:00:00.000000000",
          "2025-03-19T18:00:00.000000000",
          "2025-03-20T00:00:00.000000000",
          "2025-03-20T06:00:00.000000000",
          "2025-03-20T12:00:00.000000000",
          "2025-03-20T18:00:00.000000000",
          "2025-03-21T00:00:00.000000000",
          "2025-03-21T06:00:00.000000000",
          "2025-03-21T12:00:00.000000000",
          "2025-03-21T18:00:00.000000000",
          "2025-03-22T00:00:00.000000000",
          "2025-03-22T06:00:00.000000000",
          "2025-03-22T12:00:00.000000000",
          "2025-03-22T18:00:00.000000000",
          "2025-03-23T00:00:00.000000000",
          "2025-03-23T06:00:00.000000000",
          "2025-03-23T12:00:00.000000000",
          "2025-03-23T18:00:00.000000000",
          "2025-03-24T00:00:00.000000000",
          "2025-03-24T06:00:00.000000000",
          "2025-03-24T12:00:00.000000000",
          "2025-03-24T18:00:00.000000000",
          "2025-03-25T00:00:00.000000000",
          "2025-03-25T06:00:00.000000000",
          "2025-03-25T12:00:00.000000000",
          "2025-03-25T18:00:00.000000000",
          "2025-03-26T00:00:00.000000000",
          "2025-03-26T06:00:00.000000000",
          "2025-03-26T12:00:00.000000000",
          "2025-03-26T18:00:00.000000000",
          "2025-03-27T00:00:00.000000000",
          "2025-03-27T06:00:00.000000000",
          "2025-03-27T12:00:00.000000000",
          "2025-03-27T18:00:00.000000000",
          "2025-03-28T00:00:00.000000000",
          "2025-03-28T06:00:00.000000000",
          "2025-03-28T12:00:00.000000000",
          "2025-03-28T18:00:00.000000000",
          "2025-03-29T00:00:00.000000000",
          "2025-03-29T06:00:00.000000000",
          "2025-03-29T12:00:00.000000000",
          "2025-03-29T18:00:00.000000000",
          "2025-03-30T00:00:00.000000000",
          "2025-03-30T06:00:00.000000000",
          "2025-03-30T12:00:00.000000000",
          "2025-03-30T18:00:00.000000000",
          "2025-03-31T00:00:00.000000000",
          "2025-03-31T06:00:00.000000000",
          "2025-03-31T12:00:00.000000000",
          "2025-03-31T18:00:00.000000000",
          "2025-04-01T00:00:00.000000000",
          "2025-04-01T06:00:00.000000000"
         ],
         "xaxis": "x",
         "y": {
          "bdata": "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",
          "dtype": "f8"
         },
         "yaxis": "y"
        },
        {
         "hovertemplate": "variable=y_pred<br>date=%{x}<br>PM2.5=%{y}<extra></extra>",
         "legendgroup": "y_pred",
         "line": {
          "color": "#EF553B",
          "dash": "solid"
         },
         "marker": {
          "symbol": "circle"
         },
         "mode": "lines",
         "name": "y_pred",
         "orientation": "v",
         "showlegend": true,
         "type": "scatter",
         "x": [
          "2024-12-19T00:00:00.000000000",
          "2024-12-19T06:00:00.000000000",
          "2024-12-19T12:00:00.000000000",
          "2024-12-19T18:00:00.000000000",
          "2024-12-20T00:00:00.000000000",
          "2024-12-20T06:00:00.000000000",
          "2024-12-20T12:00:00.000000000",
          "2024-12-20T18:00:00.000000000",
          "2024-12-21T00:00:00.000000000",
          "2024-12-21T06:00:00.000000000",
          "2024-12-21T12:00:00.000000000",
          "2024-12-21T18:00:00.000000000",
          "2024-12-22T00:00:00.000000000",
          "2024-12-22T06:00:00.000000000",
          "2024-12-22T12:00:00.000000000",
          "2024-12-22T18:00:00.000000000",
          "2024-12-23T00:00:00.000000000",
          "2024-12-23T06:00:00.000000000",
          "2024-12-23T12:00:00.000000000",
          "2024-12-23T18:00:00.000000000",
          "2024-12-24T00:00:00.000000000",
          "2024-12-24T06:00:00.000000000",
          "2024-12-24T12:00:00.000000000",
          "2024-12-24T18:00:00.000000000",
          "2024-12-25T00:00:00.000000000",
          "2024-12-25T06:00:00.000000000",
          "2024-12-25T12:00:00.000000000",
          "2024-12-25T18:00:00.000000000",
          "2024-12-26T00:00:00.000000000",
          "2024-12-26T06:00:00.000000000",
          "2024-12-26T12:00:00.000000000",
          "2024-12-26T18:00:00.000000000",
          "2024-12-27T00:00:00.000000000",
          "2024-12-27T06:00:00.000000000",
          "2024-12-27T12:00:00.000000000",
          "2024-12-27T18:00:00.000000000",
          "2024-12-28T00:00:00.000000000",
          "2024-12-28T06:00:00.000000000",
          "2024-12-28T12:00:00.000000000",
          "2024-12-28T18:00:00.000000000",
          "2024-12-29T00:00:00.000000000",
          "2024-12-29T06:00:00.000000000",
          "2024-12-29T12:00:00.000000000",
          "2024-12-29T18:00:00.000000000",
          "2024-12-30T00:00:00.000000000",
          "2024-12-30T06:00:00.000000000",
          "2024-12-30T12:00:00.000000000",
          "2024-12-30T18:00:00.000000000",
          "2024-12-31T00:00:00.000000000",
          "2024-12-31T06:00:00.000000000",
          "2024-12-31T12:00:00.000000000",
          "2024-12-31T18:00:00.000000000",
          "2025-01-01T00:00:00.000000000",
          "2025-01-01T06:00:00.000000000",
          "2025-01-01T12:00:00.000000000",
          "2025-01-01T18:00:00.000000000",
          "2025-01-02T00:00:00.000000000",
          "2025-01-02T06:00:00.000000000",
          "2025-01-02T12:00:00.000000000",
          "2025-01-02T18:00:00.000000000",
          "2025-01-03T00:00:00.000000000",
          "2025-01-03T06:00:00.000000000",
          "2025-01-03T12:00:00.000000000",
          "2025-01-03T18:00:00.000000000",
          "2025-01-04T00:00:00.000000000",
          "2025-01-04T06:00:00.000000000",
          "2025-01-04T12:00:00.000000000",
          "2025-01-04T18:00:00.000000000",
          "2025-01-05T00:00:00.000000000",
          "2025-01-05T06:00:00.000000000",
          "2025-01-05T12:00:00.000000000",
          "2025-01-05T18:00:00.000000000",
          "2025-01-06T00:00:00.000000000",
          "2025-01-06T06:00:00.000000000",
          "2025-01-06T12:00:00.000000000",
          "2025-01-06T18:00:00.000000000",
          "2025-01-07T00:00:00.000000000",
          "2025-01-07T06:00:00.000000000",
          "2025-01-07T12:00:00.000000000",
          "2025-01-07T18:00:00.000000000",
          "2025-01-08T00:00:00.000000000",
          "2025-01-08T06:00:00.000000000",
          "2025-01-08T12:00:00.000000000",
          "2025-01-08T18:00:00.000000000",
          "2025-01-09T00:00:00.000000000",
          "2025-01-09T06:00:00.000000000",
          "2025-01-09T12:00:00.000000000",
          "2025-01-09T18:00:00.000000000",
          "2025-01-10T00:00:00.000000000",
          "2025-01-10T06:00:00.000000000",
          "2025-01-10T12:00:00.000000000",
          "2025-01-10T18:00:00.000000000",
          "2025-01-11T00:00:00.000000000",
          "2025-01-11T06:00:00.000000000",
          "2025-01-11T12:00:00.000000000",
          "2025-01-11T18:00:00.000000000",
          "2025-01-12T00:00:00.000000000",
          "2025-01-12T06:00:00.000000000",
          "2025-01-12T12:00:00.000000000",
          "2025-01-12T18:00:00.000000000",
          "2025-01-13T00:00:00.000000000",
          "2025-01-13T06:00:00.000000000",
          "2025-01-13T12:00:00.000000000",
          "2025-01-13T18:00:00.000000000",
          "2025-01-14T00:00:00.000000000",
          "2025-01-14T06:00:00.000000000",
          "2025-01-14T12:00:00.000000000",
          "2025-01-14T18:00:00.000000000",
          "2025-01-15T00:00:00.000000000",
          "2025-01-15T06:00:00.000000000",
          "2025-01-15T12:00:00.000000000",
          "2025-01-15T18:00:00.000000000",
          "2025-01-16T00:00:00.000000000",
          "2025-01-16T06:00:00.000000000",
          "2025-01-16T12:00:00.000000000",
          "2025-01-16T18:00:00.000000000",
          "2025-01-17T00:00:00.000000000",
          "2025-01-17T06:00:00.000000000",
          "2025-01-17T12:00:00.000000000",
          "2025-01-17T18:00:00.000000000",
          "2025-01-18T00:00:00.000000000",
          "2025-01-18T06:00:00.000000000",
          "2025-01-18T12:00:00.000000000",
          "2025-01-18T18:00:00.000000000",
          "2025-01-19T00:00:00.000000000",
          "2025-01-19T06:00:00.000000000",
          "2025-01-19T12:00:00.000000000",
          "2025-01-19T18:00:00.000000000",
          "2025-01-20T00:00:00.000000000",
          "2025-01-20T06:00:00.000000000",
          "2025-01-20T12:00:00.000000000",
          "2025-01-20T18:00:00.000000000",
          "2025-01-21T00:00:00.000000000",
          "2025-01-21T06:00:00.000000000",
          "2025-01-21T12:00:00.000000000",
          "2025-01-21T18:00:00.000000000",
          "2025-01-22T00:00:00.000000000",
          "2025-01-22T06:00:00.000000000",
          "2025-01-22T12:00:00.000000000",
          "2025-01-22T18:00:00.000000000",
          "2025-01-23T00:00:00.000000000",
          "2025-01-23T06:00:00.000000000",
          "2025-01-23T12:00:00.000000000",
          "2025-01-23T18:00:00.000000000",
          "2025-01-24T00:00:00.000000000",
          "2025-01-24T06:00:00.000000000",
          "2025-01-24T12:00:00.000000000",
          "2025-01-24T18:00:00.000000000",
          "2025-01-25T00:00:00.000000000",
          "2025-01-25T06:00:00.000000000",
          "2025-01-25T12:00:00.000000000",
          "2025-01-25T18:00:00.000000000",
          "2025-01-26T00:00:00.000000000",
          "2025-01-26T06:00:00.000000000",
          "2025-01-26T12:00:00.000000000",
          "2025-01-26T18:00:00.000000000",
          "2025-01-27T00:00:00.000000000",
          "2025-01-27T06:00:00.000000000",
          "2025-01-27T12:00:00.000000000",
          "2025-01-27T18:00:00.000000000",
          "2025-01-28T00:00:00.000000000",
          "2025-01-28T06:00:00.000000000",
          "2025-01-28T12:00:00.000000000",
          "2025-01-28T18:00:00.000000000",
          "2025-01-29T00:00:00.000000000",
          "2025-01-29T06:00:00.000000000",
          "2025-01-29T12:00:00.000000000",
          "2025-01-29T18:00:00.000000000",
          "2025-01-30T00:00:00.000000000",
          "2025-01-30T06:00:00.000000000",
          "2025-01-30T12:00:00.000000000",
          "2025-01-30T18:00:00.000000000",
          "2025-01-31T00:00:00.000000000",
          "2025-01-31T06:00:00.000000000",
          "2025-01-31T12:00:00.000000000",
          "2025-01-31T18:00:00.000000000",
          "2025-02-01T00:00:00.000000000",
          "2025-02-01T06:00:00.000000000",
          "2025-02-01T12:00:00.000000000",
          "2025-02-01T18:00:00.000000000",
          "2025-02-02T00:00:00.000000000",
          "2025-02-02T06:00:00.000000000",
          "2025-02-02T12:00:00.000000000",
          "2025-02-02T18:00:00.000000000",
          "2025-02-03T00:00:00.000000000",
          "2025-02-03T06:00:00.000000000",
          "2025-02-03T12:00:00.000000000",
          "2025-02-03T18:00:00.000000000",
          "2025-02-04T00:00:00.000000000",
          "2025-02-04T06:00:00.000000000",
          "2025-02-04T12:00:00.000000000",
          "2025-02-04T18:00:00.000000000",
          "2025-02-05T00:00:00.000000000",
          "2025-02-05T06:00:00.000000000",
          "2025-02-05T12:00:00.000000000",
          "2025-02-05T18:00:00.000000000",
          "2025-02-06T00:00:00.000000000",
          "2025-02-06T06:00:00.000000000",
          "2025-02-06T12:00:00.000000000",
          "2025-02-06T18:00:00.000000000",
          "2025-02-07T00:00:00.000000000",
          "2025-02-07T06:00:00.000000000",
          "2025-02-07T12:00:00.000000000",
          "2025-02-07T18:00:00.000000000",
          "2025-02-08T00:00:00.000000000",
          "2025-02-08T06:00:00.000000000",
          "2025-02-08T12:00:00.000000000",
          "2025-02-08T18:00:00.000000000",
          "2025-02-09T00:00:00.000000000",
          "2025-02-09T06:00:00.000000000",
          "2025-02-09T12:00:00.000000000",
          "2025-02-09T18:00:00.000000000",
          "2025-02-10T00:00:00.000000000",
          "2025-02-10T06:00:00.000000000",
          "2025-02-10T12:00:00.000000000",
          "2025-02-10T18:00:00.000000000",
          "2025-02-11T00:00:00.000000000",
          "2025-02-11T06:00:00.000000000",
          "2025-02-11T12:00:00.000000000",
          "2025-02-11T18:00:00.000000000",
          "2025-02-12T00:00:00.000000000",
          "2025-02-12T06:00:00.000000000",
          "2025-02-12T12:00:00.000000000",
          "2025-02-12T18:00:00.000000000",
          "2025-02-13T00:00:00.000000000",
          "2025-02-13T06:00:00.000000000",
          "2025-02-13T12:00:00.000000000",
          "2025-02-13T18:00:00.000000000",
          "2025-02-14T00:00:00.000000000",
          "2025-02-14T06:00:00.000000000",
          "2025-02-14T12:00:00.000000000",
          "2025-02-14T18:00:00.000000000",
          "2025-02-15T00:00:00.000000000",
          "2025-02-15T06:00:00.000000000",
          "2025-02-15T12:00:00.000000000",
          "2025-02-15T18:00:00.000000000",
          "2025-02-16T00:00:00.000000000",
          "2025-02-16T06:00:00.000000000",
          "2025-02-16T12:00:00.000000000",
          "2025-02-16T18:00:00.000000000",
          "2025-02-17T00:00:00.000000000",
          "2025-02-17T06:00:00.000000000",
          "2025-02-17T12:00:00.000000000",
          "2025-02-17T18:00:00.000000000",
          "2025-02-18T00:00:00.000000000",
          "2025-02-18T06:00:00.000000000",
          "2025-02-18T12:00:00.000000000",
          "2025-02-18T18:00:00.000000000",
          "2025-02-19T00:00:00.000000000",
          "2025-02-19T06:00:00.000000000",
          "2025-02-19T12:00:00.000000000",
          "2025-02-19T18:00:00.000000000",
          "2025-02-20T00:00:00.000000000",
          "2025-02-20T06:00:00.000000000",
          "2025-02-20T12:00:00.000000000",
          "2025-02-20T18:00:00.000000000",
          "2025-02-21T00:00:00.000000000",
          "2025-02-21T06:00:00.000000000",
          "2025-02-21T12:00:00.000000000",
          "2025-02-21T18:00:00.000000000",
          "2025-02-22T00:00:00.000000000",
          "2025-02-22T06:00:00.000000000",
          "2025-02-22T12:00:00.000000000",
          "2025-02-22T18:00:00.000000000",
          "2025-02-23T00:00:00.000000000",
          "2025-02-23T06:00:00.000000000",
          "2025-02-23T12:00:00.000000000",
          "2025-02-23T18:00:00.000000000",
          "2025-02-24T00:00:00.000000000",
          "2025-02-24T06:00:00.000000000",
          "2025-02-24T12:00:00.000000000",
          "2025-02-24T18:00:00.000000000",
          "2025-02-25T00:00:00.000000000",
          "2025-02-25T06:00:00.000000000",
          "2025-02-25T12:00:00.000000000",
          "2025-02-25T18:00:00.000000000",
          "2025-02-26T00:00:00.000000000",
          "2025-02-26T06:00:00.000000000",
          "2025-02-26T12:00:00.000000000",
          "2025-02-26T18:00:00.000000000",
          "2025-02-27T00:00:00.000000000",
          "2025-02-27T06:00:00.000000000",
          "2025-02-27T12:00:00.000000000",
          "2025-02-27T18:00:00.000000000",
          "2025-02-28T00:00:00.000000000",
          "2025-02-28T06:00:00.000000000",
          "2025-02-28T12:00:00.000000000",
          "2025-02-28T18:00:00.000000000",
          "2025-03-01T00:00:00.000000000",
          "2025-03-01T06:00:00.000000000",
          "2025-03-01T12:00:00.000000000",
          "2025-03-01T18:00:00.000000000",
          "2025-03-02T00:00:00.000000000",
          "2025-03-02T06:00:00.000000000",
          "2025-03-02T12:00:00.000000000",
          "2025-03-02T18:00:00.000000000",
          "2025-03-03T00:00:00.000000000",
          "2025-03-03T06:00:00.000000000",
          "2025-03-03T12:00:00.000000000",
          "2025-03-03T18:00:00.000000000",
          "2025-03-04T00:00:00.000000000",
          "2025-03-04T06:00:00.000000000",
          "2025-03-04T12:00:00.000000000",
          "2025-03-04T18:00:00.000000000",
          "2025-03-05T00:00:00.000000000",
          "2025-03-05T06:00:00.000000000",
          "2025-03-05T12:00:00.000000000",
          "2025-03-05T18:00:00.000000000",
          "2025-03-06T00:00:00.000000000",
          "2025-03-06T06:00:00.000000000",
          "2025-03-06T12:00:00.000000000",
          "2025-03-06T18:00:00.000000000",
          "2025-03-07T00:00:00.000000000",
          "2025-03-07T06:00:00.000000000",
          "2025-03-07T12:00:00.000000000",
          "2025-03-07T18:00:00.000000000",
          "2025-03-08T00:00:00.000000000",
          "2025-03-08T06:00:00.000000000",
          "2025-03-08T12:00:00.000000000",
          "2025-03-08T18:00:00.000000000",
          "2025-03-09T00:00:00.000000000",
          "2025-03-09T06:00:00.000000000",
          "2025-03-09T12:00:00.000000000",
          "2025-03-09T18:00:00.000000000",
          "2025-03-10T00:00:00.000000000",
          "2025-03-10T06:00:00.000000000",
          "2025-03-10T12:00:00.000000000",
          "2025-03-10T18:00:00.000000000",
          "2025-03-11T00:00:00.000000000",
          "2025-03-11T06:00:00.000000000",
          "2025-03-11T12:00:00.000000000",
          "2025-03-11T18:00:00.000000000",
          "2025-03-12T00:00:00.000000000",
          "2025-03-12T06:00:00.000000000",
          "2025-03-12T12:00:00.000000000",
          "2025-03-12T18:00:00.000000000",
          "2025-03-13T00:00:00.000000000",
          "2025-03-13T06:00:00.000000000",
          "2025-03-13T12:00:00.000000000",
          "2025-03-13T18:00:00.000000000",
          "2025-03-14T00:00:00.000000000",
          "2025-03-14T06:00:00.000000000",
          "2025-03-14T12:00:00.000000000",
          "2025-03-14T18:00:00.000000000",
          "2025-03-15T00:00:00.000000000",
          "2025-03-15T06:00:00.000000000",
          "2025-03-15T12:00:00.000000000",
          "2025-03-15T18:00:00.000000000",
          "2025-03-16T00:00:00.000000000",
          "2025-03-16T06:00:00.000000000",
          "2025-03-16T12:00:00.000000000",
          "2025-03-16T18:00:00.000000000",
          "2025-03-17T00:00:00.000000000",
          "2025-03-17T06:00:00.000000000",
          "2025-03-17T12:00:00.000000000",
          "2025-03-17T18:00:00.000000000",
          "2025-03-18T00:00:00.000000000",
          "2025-03-18T06:00:00.000000000",
          "2025-03-18T12:00:00.000000000",
          "2025-03-18T18:00:00.000000000",
          "2025-03-19T00:00:00.000000000",
          "2025-03-19T06:00:00.000000000",
          "2025-03-19T12:00:00.000000000",
          "2025-03-19T18:00:00.000000000",
          "2025-03-20T00:00:00.000000000",
          "2025-03-20T06:00:00.000000000",
          "2025-03-20T12:00:00.000000000",
          "2025-03-20T18:00:00.000000000",
          "2025-03-21T00:00:00.000000000",
          "2025-03-21T06:00:00.000000000",
          "2025-03-21T12:00:00.000000000",
          "2025-03-21T18:00:00.000000000",
          "2025-03-22T00:00:00.000000000",
          "2025-03-22T06:00:00.000000000",
          "2025-03-22T12:00:00.000000000",
          "2025-03-22T18:00:00.000000000",
          "2025-03-23T00:00:00.000000000",
          "2025-03-23T06:00:00.000000000",
          "2025-03-23T12:00:00.000000000",
          "2025-03-23T18:00:00.000000000",
          "2025-03-24T00:00:00.000000000",
          "2025-03-24T06:00:00.000000000",
          "2025-03-24T12:00:00.000000000",
          "2025-03-24T18:00:00.000000000",
          "2025-03-25T00:00:00.000000000",
          "2025-03-25T06:00:00.000000000",
          "2025-03-25T12:00:00.000000000",
          "2025-03-25T18:00:00.000000000",
          "2025-03-26T00:00:00.000000000",
          "2025-03-26T06:00:00.000000000",
          "2025-03-26T12:00:00.000000000",
          "2025-03-26T18:00:00.000000000",
          "2025-03-27T00:00:00.000000000",
          "2025-03-27T06:00:00.000000000",
          "2025-03-27T12:00:00.000000000",
          "2025-03-27T18:00:00.000000000",
          "2025-03-28T00:00:00.000000000",
          "2025-03-28T06:00:00.000000000",
          "2025-03-28T12:00:00.000000000",
          "2025-03-28T18:00:00.000000000",
          "2025-03-29T00:00:00.000000000",
          "2025-03-29T06:00:00.000000000",
          "2025-03-29T12:00:00.000000000",
          "2025-03-29T18:00:00.000000000",
          "2025-03-30T00:00:00.000000000",
          "2025-03-30T06:00:00.000000000",
          "2025-03-30T12:00:00.000000000",
          "2025-03-30T18:00:00.000000000",
          "2025-03-31T00:00:00.000000000",
          "2025-03-31T06:00:00.000000000",
          "2025-03-31T12:00:00.000000000",
          "2025-03-31T18:00:00.000000000",
          "2025-04-01T00:00:00.000000000",
          "2025-04-01T06:00:00.000000000"
         ],
         "xaxis": "x",
         "y": {
          "bdata": "7tgDGV3KSUBDDRwBaW9JQLnsqMe5XklAoQE4dpWKSUCDn+Fa/WlJQF29Y71LTUlAYRzqk1VXSUB5vTerqoxJQIUaUdusWUlAk4ki4AgpSUAdrRai3y5JQIW8veiKZUlAT3R3jRZGSUBs4PT7MShJQLzhF6RLNElA8tUCkCBrSUBNpzKoHERJQFzVsDJ+HklAxaQ/ZO4nSUAkTfSEjl1JQG8Nei5RPUlA1KKOPFEeSUDMzIS1aClJQNHRijTzXUlAMxLesGg7SUDHN69FFBpJQLrtIoLyI0lAV9MqbSBXSUDBNbXYaDdJQEllgePYGElAYkiRQxUjSUCy1Dj+BlVJQN573XQANUlArUxhxxsWSUCyuOmzvR9JQKlx8HVlUElApJmMtdoxSUDjHUisaBRJQBX0lOMBHklAG54xKXJNSUDsgY6iSS9JQEuo13wzEklA/q5nLm8bSUAWPh3uqElJQFtiHQGALElAmwPW7mEQSUB3a21DdBlJQH80zCGDRklAC6L9n/QpSUAnivp+ag5JQPMBXfM2F0lAFpVeLyBDSUA2MZgEYCdJQOTkn26dDElANl8vMTcVSUAZfzSWA0BJQECNX4HrJElAwJnDrMoKSUAm48q5KBNJQGjhUrTePElAiKDH7n0iSUAGjT0SDglJQML1uwE4EUlAWDOxG985SUCCm+15JSBJQMXcPq1WB0lAYLcuOkoPSUBDpRoM6TZJQN5AHB3ZHUlAVTxxB64FSUB9TkSybg1JQFOOxBsMNElAu5UzjJ0bSUBWyysKDgRJQFiottybC0lAY72LTT4xSUDAFEFkbxlJQB3CBN15AklATqIr39YJSUC85fzEhC5JQL3IpA1QF0lAniXjNO8ASUCLLO4zHAhJQKqfKLvbK0lASYi0Hz4VSUD30FQBb/9IQKtYYXdtBklA5HgvskQpSUDUQnPfORNJQHKzW0z4/UhAd9HDQMkESUA4Wq0RviZJQDLiwJdCEUlAF41vQYv8SEAeevzyLwNJQDPRIBtIJElAdTrOKlgPSUDSEKRjJ/tIQJM4VuSgAUlAyseU/OEhSUAEQ+Qkeg1JQMESCZzM+UhAO7CYDBwASUC0USGLix9JQF+JbEioC0lArojlmXr4SED6UekGof5IQHjTbj1EHUlALD0kO+IJSUAE4AYxMfdIQN/606cv/UhAtvUOxgsbSUDiUO+2JwhJQIZ6/CHw9UhA3lyapMf7SECjWja44RhJQDGd7Gx4BklA0Fj5Orf0SEB9G4bHaPpIQAxsjL3FFklAUtF2FtQESUA+MllEhvNIQGqe8NAS+UhAY8tIdrcUSUAmawVrOgNJQK63Ewxd8khAfe19icX3SECC7O+LthJJQILXEyarAUlA0xzrXjvxSEAJWEi3gPZIQNqeKabCEElACgKSAyYASUBkbWUMIfBIQAiwNiRE9UhAxEtBcdsOSUBWVOzBqv5IQJJOZuQN70hAviAvmg/0SEA17jeaAA1JQP+nxiA5/UhA49OMuAHuSEBVcUfl4vJIQB/m/9AxC0lAUNSq4dD7SEAJM1hb/OxIQNDja9K98UhAxVsVx24JSUDHkZDHcfpIQAz2nKD960hAczsdMKDwSEAlXz0wtwdJQHjZE5cb+UhAOrszXQXrSEB5AvPNie9IQCFDAMIKBklAyZ9EFs73SEAJex1nE+pIQIup2Hx67khAqFTkM2kESUAxmbMMifZIQPuuYpUn6UhAPp7cDnLtSED1dTc/0gJJQFlXW0NM9UhA0JYbwEHoSECbs0BXcOxIQIIJHJ9FAUlAbdmehBf0SEBifGDAYedIQGpGZCp160hAbpduEMP/SEAU0juc6vJIQPFrSHCH5khAAEvFXYDqSEAAH8NRSv5IQJ6ORFfF8UhAYaffqrLlSEB3H/THkelIQCbjVCPb/EhAw7gVhKfwSEDsPiNM4+RIQPF5j0Cp6EhA4ab+RnX7SEBV5U7ykO9IQO7g+TAZ5EhAz9U7oMbnSECEXi6AGPpIQCbTyXKB7khAaY4uN1TjSEBR0Z3A6eZIQMv925PE+EhAtcWS13jtSEAvb2o9lOJIQEUUU3wS5khAQtp+SHn3SECNi+DzduxIQAVnLyPZ4UhA+1fsrkDlSEDITARmNvZIQJoHDZx760hAs3PSyCLhSEBeBuc0dORIQDT8xbX79EhAQLyNpYbqSED3ZHYPceBIQFpXp+us40hAV76AAsnzSECAouzml+lIQFiXBtnD30hAZ2JyseriSEC7gEsYnvJIQF4fwTev6EhAzOMxCBvfSEAxdGhlLeJIQOCKjsR68UhAoDCpcMznSEBKpWWAdt5IQJx3f+d04UhAT+f61V7wSEA5wEJr7+ZIQDHlyCXW3UhAa419GMHgSEAjD4IcSu9IQHgmJQIY5khAPqM33TndSED2wPPZEeBIQGXFTWk87khAYNTaEEblSEBsPj6ModxIQN3iOA5n30hADyu4jjXtSEBcKNtzeeRIQE36FBkN3EhACYNkmMDeSEBOBERgNexIQFVqhAiy40hAUqKbanzbSECcDEpcHt5IQFoxlbI760hASe8Vre/iSEDtSFVo79pIQOIAdD6A3UhAZ1dpW0jqSEC+YqpAMuJIQKMiZPpl2khAulEfJObcSEDJuZAxW+lIQHY1MqN54UhA3nuFCeDZSEDm2TbzT9xIQD5B5wx06EhAOTButcXgSEAcyQ1/XdlIQPjyTpK920hAwLBNxpLnSED2KepYFuBIQKDQ5ETe2EhA2ieh6C7bSEBXBqM3t+ZIQDbg929r30hAIu2BRWLYSEBPAwjeo9pIQAYHvjvh5UhAE/Gp3cTeSEC8aOhr6ddIQLj5+loc2khAovRmrhDlSEDS9c6FIt5IQJjvo6Nz10hAZW2KSJjZSECLbFFsReRIQFO97EyE3UhApxnF2ADXSEDNzFuQF9lIQDluFlN/40hAe6U7GOrcSEDXCt73kNZIQPHJpRya2EhAloguQb7iSEDcEqLNU9xIQEAp/+0j1khAbKos2B/YSEA+LewVAuJIQNQFsFPB20hApuizqLnVSEBqrz6uqNdIQJEodrFK4UhAWMyakTLbSEDSqv8VUtVIQPeUsIo010hAvD3C9JfgSEDGzzhvp9pIQDq0WiTt1EhAHyjaWcPWSEDK5Y/B6d9IQO19/dQf2khAbTSvworUSEAx85IIVdZIQNowY/o/30hAuEz1q5vZSEDNYVbgKtRIQKn/LoTp1UhAl8h/gpreSECy18HdGtlIQAyoFW3N00hAIa17uoDVSEAhE+Q9+d1IQNAWllSd2EhA/ugbWXLTSEDZnLyZGtVIQI91RBFc3UhA1q0y+yLYSEBJz/6UGdNIQDyxqBC31EhAQ7UG4sLcSECvU+K8q9dIQG4yuBHD0khA4yBnDlbUSEA9dz2WLdxIQDBRdoU310hA1oujwG7SSECmnIyC99NIQLjcoxSc20hAkhZDQcbWSEBXfHuTHNJIQCiIGF2b00hAQzyZRA7bSEAx5xzdV9ZIQOFhV3zM0UhAfkRyjkHTSECu9hwOhNpIQNyaVEbs1UhA0fyobX7RSEBmjGYH6tJIQARnyln92UhARXS0aoPVSECZJDpaMtFIQKzhJLmU0khA9OzUEHrZSED/C304HdVIQEyLKjXo0EhAQgs9lUHSSEDvEAQd+thIQH1PYp651EhAt4/t8Z/QSECno5yN8NFIQFrBr2h92EhAmZOIi1jUSECfHUiEWdBIQDK3jJSh0UhAOqi83gPYSEAluoHv+dNIQM2bTuAU0EhAzHGvnFTRSECdmJhqjddIQABqSrqd00hAkOdi+tHPSEDO2/2YCdFIQFQTN/gZ10hAQ1lH3EPTSEBZXTLHkM9IQIelxXzA0EhAN+INdKnWSEAGqUJG7NJIQCHusztRz0hAHQGnO3nQSECGyRHLO9ZIQFZSaemW0khAQUEmTRPPSEBjipLJM9BIQL1Os+rQ1UhA3qNIt0PSSEBu4g3x1s5IQEk8xxrwz0hAX5TbwGjVSEDkz8uh8tFIQIl7Mx2czkhAlXPQI67PSEAuSuk7A9VIQCaKOZuj0UhA9hmix2LOSECC/oPZbc9IQD+xrUqg1EhAN7UxllbRSEAxf6XmKs5IQAA5ADEvz0hAfrNp3D/USED0HquFC9FIQFh8yHD0zUhAOzWqH/LOSEARDsvg4dNIQK1L8VzC0EhAW1jTXL/NSEAP8Cubts5IQCKO6UeG00hAo0+iD3vQSECXQMqhi81IQDaRcpl8zkhAql9EAi3TSECJtqyRNdBIQJ3D6zZZzUhAzbasEETOSECubb8A1tJIQJV4Tdfxz0hAxlWvEyjNSEDmy0j3DM5IQI/ToDSB0khA4vwN1a/PSEB938Mv+MxIQPdp80PXzUhA+l6Ojy7SSEDCKMJ/b89IQONUDoPJzEhA",
          "dtype": "f8"
         },
         "yaxis": "y"
        }
       ],
       "layout": {
        "legend": {
         "title": {
          "text": "variable"
         },
         "tracegroupgap": 0
        },
        "template": {
         "data": {
          "bar": [
           {
            "error_x": {
             "color": "#2a3f5f"
            },
            "error_y": {
             "color": "#2a3f5f"
            },
            "marker": {
             "line": {
              "color": "#E5ECF6",
              "width": 0.5
             },
             "pattern": {
              "fillmode": "overlay",
              "size": 10,
              "solidity": 0.2
             }
            },
            "type": "bar"
           }
          ],
          "barpolar": [
           {
            "marker": {
             "line": {
              "color": "#E5ECF6",
              "width": 0.5
             },
             "pattern": {
              "fillmode": "overlay",
              "size": 10,
              "solidity": 0.2
             }
            },
            "type": "barpolar"
           }
          ],
          "carpet": [
           {
            "aaxis": {
             "endlinecolor": "#2a3f5f",
             "gridcolor": "white",
             "linecolor": "white",
             "minorgridcolor": "white",
             "startlinecolor": "#2a3f5f"
            },
            "baxis": {
             "endlinecolor": "#2a3f5f",
             "gridcolor": "white",
             "linecolor": "white",
             "minorgridcolor": "white",
             "startlinecolor": "#2a3f5f"
            },
            "type": "carpet"
           }
          ],
          "choropleth": [
           {
            "colorbar": {
             "outlinewidth": 0,
             "ticks": ""
            },
            "type": "choropleth"
           }
          ],
          "contour": [
           {
            "colorbar": {
             "outlinewidth": 0,
             "ticks": ""
            },
            "colorscale": [
             [
              0,
              "#0d0887"
             ],
             [
              0.1111111111111111,
              "#46039f"
             ],
             [
              0.2222222222222222,
              "#7201a8"
             ],
             [
              0.3333333333333333,
              "#9c179e"
             ],
             [
              0.4444444444444444,
              "#bd3786"
             ],
             [
              0.5555555555555556,
              "#d8576b"
             ],
             [
              0.6666666666666666,
              "#ed7953"
             ],
             [
              0.7777777777777778,
              "#fb9f3a"
             ],
             [
              0.8888888888888888,
              "#fdca26"
             ],
             [
              1,
              "#f0f921"
             ]
            ],
            "type": "contour"
           }
          ],
          "contourcarpet": [
           {
            "colorbar": {
             "outlinewidth": 0,
             "ticks": ""
            },
            "type": "contourcarpet"
           }
          ],
          "heatmap": [
           {
            "colorbar": {
             "outlinewidth": 0,
             "ticks": ""
            },
            "colorscale": [
             [
              0,
              "#0d0887"
             ],
             [
              0.1111111111111111,
              "#46039f"
             ],
             [
              0.2222222222222222,
              "#7201a8"
             ],
             [
              0.3333333333333333,
              "#9c179e"
             ],
             [
              0.4444444444444444,
              "#bd3786"
             ],
             [
              0.5555555555555556,
              "#d8576b"
             ],
             [
              0.6666666666666666,
              "#ed7953"
             ],
             [
              0.7777777777777778,
              "#fb9f3a"
             ],
             [
              0.8888888888888888,
              "#fdca26"
             ],
             [
              1,
              "#f0f921"
             ]
            ],
            "type": "heatmap"
           }
          ],
          "histogram": [
           {
            "marker": {
             "pattern": {
              "fillmode": "overlay",
              "size": 10,
              "solidity": 0.2
             }
            },
            "type": "histogram"
           }
          ],
          "histogram2d": [
           {
            "colorbar": {
             "outlinewidth": 0,
             "ticks": ""
            },
            "colorscale": [
             [
              0,
              "#0d0887"
             ],
             [
              0.1111111111111111,
              "#46039f"
             ],
             [
              0.2222222222222222,
              "#7201a8"
             ],
             [
              0.3333333333333333,
              "#9c179e"
             ],
             [
              0.4444444444444444,
              "#bd3786"
             ],
             [
              0.5555555555555556,
              "#d8576b"
             ],
             [
              0.6666666666666666,
              "#ed7953"
             ],
             [
              0.7777777777777778,
              "#fb9f3a"
             ],
             [
              0.8888888888888888,
              "#fdca26"
             ],
             [
              1,
              "#f0f921"
             ]
            ],
            "type": "histogram2d"
           }
          ],
          "histogram2dcontour": [
           {
            "colorbar": {
             "outlinewidth": 0,
             "ticks": ""
            },
            "colorscale": [
             [
              0,
              "#0d0887"
             ],
             [
              0.1111111111111111,
              "#46039f"
             ],
             [
              0.2222222222222222,
              "#7201a8"
             ],
             [
              0.3333333333333333,
              "#9c179e"
             ],
             [
              0.4444444444444444,
              "#bd3786"
             ],
             [
              0.5555555555555556,
              "#d8576b"
             ],
             [
              0.6666666666666666,
              "#ed7953"
             ],
             [
              0.7777777777777778,
              "#fb9f3a"
             ],
             [
              0.8888888888888888,
              "#fdca26"
             ],
             [
              1,
              "#f0f921"
             ]
            ],
            "type": "histogram2dcontour"
           }
          ],
          "mesh3d": [
           {
            "colorbar": {
             "outlinewidth": 0,
             "ticks": ""
            },
            "type": "mesh3d"
           }
          ],
          "parcoords": [
           {
            "line": {
             "colorbar": {
              "outlinewidth": 0,
              "ticks": ""
             }
            },
            "type": "parcoords"
           }
          ],
          "pie": [
           {
            "automargin": true,
            "type": "pie"
           }
          ],
          "scatter": [
           {
            "fillpattern": {
             "fillmode": "overlay",
             "size": 10,
             "solidity": 0.2
            },
            "type": "scatter"
           }
          ],
          "scatter3d": [
           {
            "line": {
             "colorbar": {
              "outlinewidth": 0,
              "ticks": ""
             }
            },
            "marker": {
             "colorbar": {
              "outlinewidth": 0,
              "ticks": ""
             }
            },
            "type": "scatter3d"
           }
          ],
          "scattercarpet": [
           {
            "marker": {
             "colorbar": {
              "outlinewidth": 0,
              "ticks": ""
             }
            },
            "type": "scattercarpet"
           }
          ],
          "scattergeo": [
           {
            "marker": {
             "colorbar": {
              "outlinewidth": 0,
              "ticks": ""
             }
            },
            "type": "scattergeo"
           }
          ],
          "scattergl": [
           {
            "marker": {
             "colorbar": {
              "outlinewidth": 0,
              "ticks": ""
             }
            },
            "type": "scattergl"
           }
          ],
          "scattermap": [
           {
            "marker": {
             "colorbar": {
              "outlinewidth": 0,
              "ticks": ""
             }
            },
            "type": "scattermap"
           }
          ],
          "scattermapbox": [
           {
            "marker": {
             "colorbar": {
              "outlinewidth": 0,
              "ticks": ""
             }
            },
            "type": "scattermapbox"
           }
          ],
          "scatterpolar": [
           {
            "marker": {
             "colorbar": {
              "outlinewidth": 0,
              "ticks": ""
             }
            },
            "type": "scatterpolar"
           }
          ],
          "scatterpolargl": [
           {
            "marker": {
             "colorbar": {
              "outlinewidth": 0,
              "ticks": ""
             }
            },
            "type": "scatterpolargl"
           }
          ],
          "scatterternary": [
           {
            "marker": {
             "colorbar": {
              "outlinewidth": 0,
              "ticks": ""
             }
            },
            "type": "scatterternary"
           }
          ],
          "surface": [
           {
            "colorbar": {
             "outlinewidth": 0,
             "ticks": ""
            },
            "colorscale": [
             [
              0,
              "#0d0887"
             ],
             [
              0.1111111111111111,
              "#46039f"
             ],
             [
              0.2222222222222222,
              "#7201a8"
             ],
             [
              0.3333333333333333,
              "#9c179e"
             ],
             [
              0.4444444444444444,
              "#bd3786"
             ],
             [
              0.5555555555555556,
              "#d8576b"
             ],
             [
              0.6666666666666666,
              "#ed7953"
             ],
             [
              0.7777777777777778,
              "#fb9f3a"
             ],
             [
              0.8888888888888888,
              "#fdca26"
             ],
             [
              1,
              "#f0f921"
             ]
            ],
            "type": "surface"
           }
          ],
          "table": [
           {
            "cells": {
             "fill": {
              "color": "#EBF0F8"
             },
             "line": {
              "color": "white"
             }
            },
            "header": {
             "fill": {
              "color": "#C8D4E3"
             },
             "line": {
              "color": "white"
             }
            },
            "type": "table"
           }
          ]
         },
         "layout": {
          "annotationdefaults": {
           "arrowcolor": "#2a3f5f",
           "arrowhead": 0,
           "arrowwidth": 1
          },
          "autotypenumbers": "strict",
          "coloraxis": {
           "colorbar": {
            "outlinewidth": 0,
            "ticks": ""
           }
          },
          "colorscale": {
           "diverging": [
            [
             0,
             "#8e0152"
            ],
            [
             0.1,
             "#c51b7d"
            ],
            [
             0.2,
             "#de77ae"
            ],
            [
             0.3,
             "#f1b6da"
            ],
            [
             0.4,
             "#fde0ef"
            ],
            [
             0.5,
             "#f7f7f7"
            ],
            [
             0.6,
             "#e6f5d0"
            ],
            [
             0.7,
             "#b8e186"
            ],
            [
             0.8,
             "#7fbc41"
            ],
            [
             0.9,
             "#4d9221"
            ],
            [
             1,
             "#276419"
            ]
           ],
           "sequential": [
            [
             0,
             "#0d0887"
            ],
            [
             0.1111111111111111,
             "#46039f"
            ],
            [
             0.2222222222222222,
             "#7201a8"
            ],
            [
             0.3333333333333333,
             "#9c179e"
            ],
            [
             0.4444444444444444,
             "#bd3786"
            ],
            [
             0.5555555555555556,
             "#d8576b"
            ],
            [
             0.6666666666666666,
             "#ed7953"
            ],
            [
             0.7777777777777778,
             "#fb9f3a"
            ],
            [
             0.8888888888888888,
             "#fdca26"
            ],
            [
             1,
             "#f0f921"
            ]
           ],
           "sequentialminus": [
            [
             0,
             "#0d0887"
            ],
            [
             0.1111111111111111,
             "#46039f"
            ],
            [
             0.2222222222222222,
             "#7201a8"
            ],
            [
             0.3333333333333333,
             "#9c179e"
            ],
            [
             0.4444444444444444,
             "#bd3786"
            ],
            [
             0.5555555555555556,
             "#d8576b"
            ],
            [
             0.6666666666666666,
             "#ed7953"
            ],
            [
             0.7777777777777778,
             "#fb9f3a"
            ],
            [
             0.8888888888888888,
             "#fdca26"
            ],
            [
             1,
             "#f0f921"
            ]
           ]
          },
          "colorway": [
           "#636efa",
           "#EF553B",
           "#00cc96",
           "#ab63fa",
           "#FFA15A",
           "#19d3f3",
           "#FF6692",
           "#B6E880",
           "#FF97FF",
           "#FECB52"
          ],
          "font": {
           "color": "#2a3f5f"
          },
          "geo": {
           "bgcolor": "white",
           "lakecolor": "white",
           "landcolor": "#E5ECF6",
           "showlakes": true,
           "showland": true,
           "subunitcolor": "white"
          },
          "hoverlabel": {
           "align": "left"
          },
          "hovermode": "closest",
          "mapbox": {
           "style": "light"
          },
          "paper_bgcolor": "white",
          "plot_bgcolor": "#E5ECF6",
          "polar": {
           "angularaxis": {
            "gridcolor": "white",
            "linecolor": "white",
            "ticks": ""
           },
           "bgcolor": "#E5ECF6",
           "radialaxis": {
            "gridcolor": "white",
            "linecolor": "white",
            "ticks": ""
           }
          },
          "scene": {
           "xaxis": {
            "backgroundcolor": "#E5ECF6",
            "gridcolor": "white",
            "gridwidth": 2,
            "linecolor": "white",
            "showbackground": true,
            "ticks": "",
            "zerolinecolor": "white"
           },
           "yaxis": {
            "backgroundcolor": "#E5ECF6",
            "gridcolor": "white",
            "gridwidth": 2,
            "linecolor": "white",
            "showbackground": true,
            "ticks": "",
            "zerolinecolor": "white"
           },
           "zaxis": {
            "backgroundcolor": "#E5ECF6",
            "gridcolor": "white",
            "gridwidth": 2,
            "linecolor": "white",
            "showbackground": true,
            "ticks": "",
            "zerolinecolor": "white"
           }
          },
          "shapedefaults": {
           "line": {
            "color": "#2a3f5f"
           }
          },
          "ternary": {
           "aaxis": {
            "gridcolor": "white",
            "linecolor": "white",
            "ticks": ""
           },
           "baxis": {
            "gridcolor": "white",
            "linecolor": "white",
            "ticks": ""
           },
           "bgcolor": "#E5ECF6",
           "caxis": {
            "gridcolor": "white",
            "linecolor": "white",
            "ticks": ""
           }
          },
          "title": {
           "x": 0.05
          },
          "xaxis": {
           "automargin": true,
           "gridcolor": "white",
           "linecolor": "white",
           "ticks": "",
           "title": {
            "standoff": 15
           },
           "zerolinecolor": "white",
           "zerolinewidth": 2
          },
          "yaxis": {
           "automargin": true,
           "gridcolor": "white",
           "linecolor": "white",
           "ticks": "",
           "title": {
            "standoff": 15
           },
           "zerolinecolor": "white",
           "zerolinewidth": 2
          }
         }
        },
        "title": {
         "text": "Prediction vs Actual Test data "
        },
        "xaxis": {
         "anchor": "y",
         "domain": [
          0,
          1
         ],
         "title": {
          "text": "date"
         }
        },
        "yaxis": {
         "anchor": "x",
         "domain": [
          0,
          1
         ],
         "title": {
          "text": "PM2.5"
         }
        }
       }
      },
      "image/png": "[encoded data removed]"
     },
     "metadata": {},
     "output_type": "display_data"
    }
   ],
   "source": [
    "# Plot results\n",
    "fig = px.line(\n",
    "    data_frame= df_pred_test,\n",
    "    title = \"Prediction vs Actual Test data \",\n",
    "    labels= {\"value\" : \"PM2.5\"}\n",
    ")\n",
    "fig.show()"
   ]
  },
  {
   "cell_type": "code",
   "execution_count": 16,
   "id": "dd86727d-acef-416d-8afa-1b1ae76b006b",
   "metadata": {},
   "outputs": [
    {
     "name": "stderr",
     "output_type": "stream",
     "text": [
      "C:\\Users\\user\\anaconda3\\Lib\\site-packages\\statsmodels\\base\\model.py:607: ConvergenceWarning:\n",
      "\n",
      "Maximum Likelihood optimization failed to converge. Check mle_retvals\n",
      "\n",
      "C:\\Users\\user\\AppData\\Local\\Temp\\ipykernel_11184\\1977712893.py:8: FutureWarning:\n",
      "\n",
      "The behavior of array concatenation with empty entries is deprecated. In a future version, this will no longer exclude empty items when determining the result dtype. To retain the old behavior, exclude the empty entries before the concat operation.\n",
      "\n",
      "C:\\Users\\user\\anaconda3\\Lib\\site-packages\\statsmodels\\base\\model.py:607: ConvergenceWarning:\n",
      "\n",
      "Maximum Likelihood optimization failed to converge. Check mle_retvals\n",
      "\n",
      "C:\\Users\\user\\anaconda3\\Lib\\site-packages\\statsmodels\\base\\model.py:607: ConvergenceWarning:\n",
      "\n",
      "Maximum Likelihood optimization failed to converge. Check mle_retvals\n",
      "\n",
      "C:\\Users\\user\\anaconda3\\Lib\\site-packages\\statsmodels\\base\\model.py:607: ConvergenceWarning:\n",
      "\n",
      "Maximum Likelihood optimization failed to converge. Check mle_retvals\n",
      "\n",
      "C:\\Users\\user\\anaconda3\\Lib\\site-packages\\statsmodels\\base\\model.py:607: ConvergenceWarning:\n",
      "\n",
      "Maximum Likelihood optimization failed to converge. Check mle_retvals\n",
      "\n",
      "C:\\Users\\user\\anaconda3\\Lib\\site-packages\\statsmodels\\base\\model.py:607: ConvergenceWarning:\n",
      "\n",
      "Maximum Likelihood optimization failed to converge. Check mle_retvals\n",
      "\n",
      "C:\\Users\\user\\anaconda3\\Lib\\site-packages\\statsmodels\\base\\model.py:607: ConvergenceWarning:\n",
      "\n",
      "Maximum Likelihood optimization failed to converge. Check mle_retvals\n",
      "\n",
      "C:\\Users\\user\\anaconda3\\Lib\\site-packages\\statsmodels\\base\\model.py:607: ConvergenceWarning:\n",
      "\n",
      "Maximum Likelihood optimization failed to converge. Check mle_retvals\n",
      "\n",
      "C:\\Users\\user\\anaconda3\\Lib\\site-packages\\statsmodels\\base\\model.py:607: ConvergenceWarning:\n",
      "\n",
      "Maximum Likelihood optimization failed to converge. Check mle_retvals\n",
      "\n",
      "C:\\Users\\user\\anaconda3\\Lib\\site-packages\\statsmodels\\base\\model.py:607: ConvergenceWarning:\n",
      "\n",
      "Maximum Likelihood optimization failed to converge. Check mle_retvals\n",
      "\n",
      "C:\\Users\\user\\anaconda3\\Lib\\site-packages\\statsmodels\\base\\model.py:607: ConvergenceWarning:\n",
      "\n",
      "Maximum Likelihood optimization failed to converge. Check mle_retvals\n",
      "\n",
      "C:\\Users\\user\\anaconda3\\Lib\\site-packages\\statsmodels\\base\\model.py:607: ConvergenceWarning:\n",
      "\n",
      "Maximum Likelihood optimization failed to converge. Check mle_retvals\n",
      "\n",
      "C:\\Users\\user\\anaconda3\\Lib\\site-packages\\statsmodels\\base\\model.py:607: ConvergenceWarning:\n",
      "\n",
      "Maximum Likelihood optimization failed to converge. Check mle_retvals\n",
      "\n",
      "C:\\Users\\user\\anaconda3\\Lib\\site-packages\\statsmodels\\base\\model.py:607: ConvergenceWarning:\n",
      "\n",
      "Maximum Likelihood optimization failed to converge. Check mle_retvals\n",
      "\n",
      "C:\\Users\\user\\anaconda3\\Lib\\site-packages\\statsmodels\\base\\model.py:607: ConvergenceWarning:\n",
      "\n",
      "Maximum Likelihood optimization failed to converge. Check mle_retvals\n",
      "\n",
      "C:\\Users\\user\\anaconda3\\Lib\\site-packages\\statsmodels\\base\\model.py:607: ConvergenceWarning:\n",
      "\n",
      "Maximum Likelihood optimization failed to converge. Check mle_retvals\n",
      "\n",
      "C:\\Users\\user\\anaconda3\\Lib\\site-packages\\statsmodels\\base\\model.py:607: ConvergenceWarning:\n",
      "\n",
      "Maximum Likelihood optimization failed to converge. Check mle_retvals\n",
      "\n",
      "C:\\Users\\user\\anaconda3\\Lib\\site-packages\\statsmodels\\base\\model.py:607: ConvergenceWarning:\n",
      "\n",
      "Maximum Likelihood optimization failed to converge. Check mle_retvals\n",
      "\n",
      "C:\\Users\\user\\anaconda3\\Lib\\site-packages\\statsmodels\\base\\model.py:607: ConvergenceWarning:\n",
      "\n",
      "Maximum Likelihood optimization failed to converge. Check mle_retvals\n",
      "\n",
      "C:\\Users\\user\\anaconda3\\Lib\\site-packages\\statsmodels\\base\\model.py:607: ConvergenceWarning:\n",
      "\n",
      "Maximum Likelihood optimization failed to converge. Check mle_retvals\n",
      "\n",
      "C:\\Users\\user\\anaconda3\\Lib\\site-packages\\statsmodels\\base\\model.py:607: ConvergenceWarning:\n",
      "\n",
      "Maximum Likelihood optimization failed to converge. Check mle_retvals\n",
      "\n",
      "C:\\Users\\user\\anaconda3\\Lib\\site-packages\\statsmodels\\base\\model.py:607: ConvergenceWarning:\n",
      "\n",
      "Maximum Likelihood optimization failed to converge. Check mle_retvals\n",
      "\n",
      "C:\\Users\\user\\anaconda3\\Lib\\site-packages\\statsmodels\\base\\model.py:607: ConvergenceWarning:\n",
      "\n",
      "Maximum Likelihood optimization failed to converge. Check mle_retvals\n",
      "\n",
      "C:\\Users\\user\\anaconda3\\Lib\\site-packages\\statsmodels\\base\\model.py:607: ConvergenceWarning:\n",
      "\n",
      "Maximum Likelihood optimization failed to converge. Check mle_retvals\n",
      "\n",
      "C:\\Users\\user\\anaconda3\\Lib\\site-packages\\statsmodels\\base\\model.py:607: ConvergenceWarning:\n",
      "\n",
      "Maximum Likelihood optimization failed to converge. Check mle_retvals\n",
      "\n",
      "C:\\Users\\user\\anaconda3\\Lib\\site-packages\\statsmodels\\base\\model.py:607: ConvergenceWarning:\n",
      "\n",
      "Maximum Likelihood optimization failed to converge. Check mle_retvals\n",
      "\n",
      "C:\\Users\\user\\anaconda3\\Lib\\site-packages\\statsmodels\\base\\model.py:607: ConvergenceWarning:\n",
      "\n",
      "Maximum Likelihood optimization failed to converge. Check mle_retvals\n",
      "\n",
      "C:\\Users\\user\\anaconda3\\Lib\\site-packages\\statsmodels\\base\\model.py:607: ConvergenceWarning:\n",
      "\n",
      "Maximum Likelihood optimization failed to converge. Check mle_retvals\n",
      "\n",
      "C:\\Users\\user\\anaconda3\\Lib\\site-packages\\statsmodels\\base\\model.py:607: ConvergenceWarning:\n",
      "\n",
      "Maximum Likelihood optimization failed to converge. Check mle_retvals\n",
      "\n",
      "C:\\Users\\user\\anaconda3\\Lib\\site-packages\\statsmodels\\base\\model.py:607: ConvergenceWarning:\n",
      "\n",
      "Maximum Likelihood optimization failed to converge. Check mle_retvals\n",
      "\n",
      "C:\\Users\\user\\anaconda3\\Lib\\site-packages\\statsmodels\\base\\model.py:607: ConvergenceWarning:\n",
      "\n",
      "Maximum Likelihood optimization failed to converge. Check mle_retvals\n",
      "\n",
      "C:\\Users\\user\\anaconda3\\Lib\\site-packages\\statsmodels\\base\\model.py:607: ConvergenceWarning:\n",
      "\n",
      "Maximum Likelihood optimization failed to converge. Check mle_retvals\n",
      "\n",
      "C:\\Users\\user\\anaconda3\\Lib\\site-packages\\statsmodels\\base\\model.py:607: ConvergenceWarning:\n",
      "\n",
      "Maximum Likelihood optimization failed to converge. Check mle_retvals\n",
      "\n",
      "C:\\Users\\user\\anaconda3\\Lib\\site-packages\\statsmodels\\base\\model.py:607: ConvergenceWarning:\n",
      "\n",
      "Maximum Likelihood optimization failed to converge. Check mle_retvals\n",
      "\n",
      "C:\\Users\\user\\anaconda3\\Lib\\site-packages\\statsmodels\\base\\model.py:607: ConvergenceWarning:\n",
      "\n",
      "Maximum Likelihood optimization failed to converge. Check mle_retvals\n",
      "\n",
      "C:\\Users\\user\\anaconda3\\Lib\\site-packages\\statsmodels\\base\\model.py:607: ConvergenceWarning:\n",
      "\n",
      "Maximum Likelihood optimization failed to converge. Check mle_retvals\n",
      "\n",
      "C:\\Users\\user\\anaconda3\\Lib\\site-packages\\statsmodels\\base\\model.py:607: ConvergenceWarning:\n",
      "\n",
      "Maximum Likelihood optimization failed to converge. Check mle_retvals\n",
      "\n",
      "C:\\Users\\user\\anaconda3\\Lib\\site-packages\\statsmodels\\base\\model.py:607: ConvergenceWarning:\n",
      "\n",
      "Maximum Likelihood optimization failed to converge. Check mle_retvals\n",
      "\n",
      "C:\\Users\\user\\anaconda3\\Lib\\site-packages\\statsmodels\\base\\model.py:607: ConvergenceWarning:\n",
      "\n",
      "Maximum Likelihood optimization failed to converge. Check mle_retvals\n",
      "\n",
      "C:\\Users\\user\\anaconda3\\Lib\\site-packages\\statsmodels\\base\\model.py:607: ConvergenceWarning:\n",
      "\n",
      "Maximum Likelihood optimization failed to converge. Check mle_retvals\n",
      "\n",
      "C:\\Users\\user\\anaconda3\\Lib\\site-packages\\statsmodels\\base\\model.py:607: ConvergenceWarning:\n",
      "\n",
      "Maximum Likelihood optimization failed to converge. Check mle_retvals\n",
      "\n",
      "C:\\Users\\user\\anaconda3\\Lib\\site-packages\\statsmodels\\base\\model.py:607: ConvergenceWarning:\n",
      "\n",
      "Maximum Likelihood optimization failed to converge. Check mle_retvals\n",
      "\n",
      "C:\\Users\\user\\anaconda3\\Lib\\site-packages\\statsmodels\\base\\model.py:607: ConvergenceWarning:\n",
      "\n",
      "Maximum Likelihood optimization failed to converge. Check mle_retvals\n",
      "\n",
      "C:\\Users\\user\\anaconda3\\Lib\\site-packages\\statsmodels\\base\\model.py:607: ConvergenceWarning:\n",
      "\n",
      "Maximum Likelihood optimization failed to converge. Check mle_retvals\n",
      "\n",
      "C:\\Users\\user\\anaconda3\\Lib\\site-packages\\statsmodels\\base\\model.py:607: ConvergenceWarning:\n",
      "\n",
      "Maximum Likelihood optimization failed to converge. Check mle_retvals\n",
      "\n",
      "C:\\Users\\user\\anaconda3\\Lib\\site-packages\\statsmodels\\base\\model.py:607: ConvergenceWarning:\n",
      "\n",
      "Maximum Likelihood optimization failed to converge. Check mle_retvals\n",
      "\n",
      "C:\\Users\\user\\anaconda3\\Lib\\site-packages\\statsmodels\\base\\model.py:607: ConvergenceWarning:\n",
      "\n",
      "Maximum Likelihood optimization failed to converge. Check mle_retvals\n",
      "\n",
      "C:\\Users\\user\\anaconda3\\Lib\\site-packages\\statsmodels\\base\\model.py:607: ConvergenceWarning:\n",
      "\n",
      "Maximum Likelihood optimization failed to converge. Check mle_retvals\n",
      "\n",
      "C:\\Users\\user\\anaconda3\\Lib\\site-packages\\statsmodels\\base\\model.py:607: ConvergenceWarning:\n",
      "\n",
      "Maximum Likelihood optimization failed to converge. Check mle_retvals\n",
      "\n",
      "C:\\Users\\user\\anaconda3\\Lib\\site-packages\\statsmodels\\base\\model.py:607: ConvergenceWarning:\n",
      "\n",
      "Maximum Likelihood optimization failed to converge. Check mle_retvals\n",
      "\n",
      "C:\\Users\\user\\anaconda3\\Lib\\site-packages\\statsmodels\\base\\model.py:607: ConvergenceWarning:\n",
      "\n",
      "Maximum Likelihood optimization failed to converge. Check mle_retvals\n",
      "\n",
      "C:\\Users\\user\\anaconda3\\Lib\\site-packages\\statsmodels\\base\\model.py:607: ConvergenceWarning:\n",
      "\n",
      "Maximum Likelihood optimization failed to converge. Check mle_retvals\n",
      "\n",
      "C:\\Users\\user\\anaconda3\\Lib\\site-packages\\statsmodels\\base\\model.py:607: ConvergenceWarning:\n",
      "\n",
      "Maximum Likelihood optimization failed to converge. Check mle_retvals\n",
      "\n",
      "C:\\Users\\user\\anaconda3\\Lib\\site-packages\\statsmodels\\base\\model.py:607: ConvergenceWarning:\n",
      "\n",
      "Maximum Likelihood optimization failed to converge. Check mle_retvals\n",
      "\n",
      "C:\\Users\\user\\anaconda3\\Lib\\site-packages\\statsmodels\\base\\model.py:607: ConvergenceWarning:\n",
      "\n",
      "Maximum Likelihood optimization failed to converge. Check mle_retvals\n",
      "\n",
      "C:\\Users\\user\\anaconda3\\Lib\\site-packages\\statsmodels\\base\\model.py:607: ConvergenceWarning:\n",
      "\n",
      "Maximum Likelihood optimization failed to converge. Check mle_retvals\n",
      "\n",
      "C:\\Users\\user\\anaconda3\\Lib\\site-packages\\statsmodels\\base\\model.py:607: ConvergenceWarning:\n",
      "\n",
      "Maximum Likelihood optimization failed to converge. Check mle_retvals\n",
      "\n",
      "C:\\Users\\user\\anaconda3\\Lib\\site-packages\\statsmodels\\base\\model.py:607: ConvergenceWarning:\n",
      "\n",
      "Maximum Likelihood optimization failed to converge. Check mle_retvals\n",
      "\n",
      "C:\\Users\\user\\anaconda3\\Lib\\site-packages\\statsmodels\\base\\model.py:607: ConvergenceWarning:\n",
      "\n",
      "Maximum Likelihood optimization failed to converge. Check mle_retvals\n",
      "\n",
      "C:\\Users\\user\\anaconda3\\Lib\\site-packages\\statsmodels\\base\\model.py:607: ConvergenceWarning:\n",
      "\n",
      "Maximum Likelihood optimization failed to converge. Check mle_retvals\n",
      "\n",
      "C:\\Users\\user\\anaconda3\\Lib\\site-packages\\statsmodels\\base\\model.py:607: ConvergenceWarning:\n",
      "\n",
      "Maximum Likelihood optimization failed to converge. Check mle_retvals\n",
      "\n",
      "C:\\Users\\user\\anaconda3\\Lib\\site-packages\\statsmodels\\base\\model.py:607: ConvergenceWarning:\n",
      "\n",
      "Maximum Likelihood optimization failed to converge. Check mle_retvals\n",
      "\n",
      "C:\\Users\\user\\anaconda3\\Lib\\site-packages\\statsmodels\\base\\model.py:607: ConvergenceWarning:\n",
      "\n",
      "Maximum Likelihood optimization failed to converge. Check mle_retvals\n",
      "\n",
      "C:\\Users\\user\\anaconda3\\Lib\\site-packages\\statsmodels\\base\\model.py:607: ConvergenceWarning:\n",
      "\n",
      "Maximum Likelihood optimization failed to converge. Check mle_retvals\n",
      "\n",
      "C:\\Users\\user\\anaconda3\\Lib\\site-packages\\statsmodels\\base\\model.py:607: ConvergenceWarning:\n",
      "\n",
      "Maximum Likelihood optimization failed to converge. Check mle_retvals\n",
      "\n",
      "C:\\Users\\user\\anaconda3\\Lib\\site-packages\\statsmodels\\base\\model.py:607: ConvergenceWarning:\n",
      "\n",
      "Maximum Likelihood optimization failed to converge. Check mle_retvals\n",
      "\n",
      "C:\\Users\\user\\anaconda3\\Lib\\site-packages\\statsmodels\\base\\model.py:607: ConvergenceWarning:\n",
      "\n",
      "Maximum Likelihood optimization failed to converge. Check mle_retvals\n",
      "\n",
      "C:\\Users\\user\\anaconda3\\Lib\\site-packages\\statsmodels\\base\\model.py:607: ConvergenceWarning:\n",
      "\n",
      "Maximum Likelihood optimization failed to converge. Check mle_retvals\n",
      "\n",
      "C:\\Users\\user\\anaconda3\\Lib\\site-packages\\statsmodels\\base\\model.py:607: ConvergenceWarning:\n",
      "\n",
      "Maximum Likelihood optimization failed to converge. Check mle_retvals\n",
      "\n",
      "C:\\Users\\user\\anaconda3\\Lib\\site-packages\\statsmodels\\base\\model.py:607: ConvergenceWarning:\n",
      "\n",
      "Maximum Likelihood optimization failed to converge. Check mle_retvals\n",
      "\n",
      "C:\\Users\\user\\anaconda3\\Lib\\site-packages\\statsmodels\\base\\model.py:607: ConvergenceWarning:\n",
      "\n",
      "Maximum Likelihood optimization failed to converge. Check mle_retvals\n",
      "\n",
      "C:\\Users\\user\\anaconda3\\Lib\\site-packages\\statsmodels\\base\\model.py:607: ConvergenceWarning:\n",
      "\n",
      "Maximum Likelihood optimization failed to converge. Check mle_retvals\n",
      "\n",
      "C:\\Users\\user\\anaconda3\\Lib\\site-packages\\statsmodels\\base\\model.py:607: ConvergenceWarning:\n",
      "\n",
      "Maximum Likelihood optimization failed to converge. Check mle_retvals\n",
      "\n",
      "C:\\Users\\user\\anaconda3\\Lib\\site-packages\\statsmodels\\base\\model.py:607: ConvergenceWarning:\n",
      "\n",
      "Maximum Likelihood optimization failed to converge. Check mle_retvals\n",
      "\n",
      "C:\\Users\\user\\anaconda3\\Lib\\site-packages\\statsmodels\\base\\model.py:607: ConvergenceWarning:\n",
      "\n",
      "Maximum Likelihood optimization failed to converge. Check mle_retvals\n",
      "\n",
      "C:\\Users\\user\\anaconda3\\Lib\\site-packages\\statsmodels\\base\\model.py:607: ConvergenceWarning:\n",
      "\n",
      "Maximum Likelihood optimization failed to converge. Check mle_retvals\n",
      "\n",
      "C:\\Users\\user\\anaconda3\\Lib\\site-packages\\statsmodels\\base\\model.py:607: ConvergenceWarning:\n",
      "\n",
      "Maximum Likelihood optimization failed to converge. Check mle_retvals\n",
      "\n",
      "C:\\Users\\user\\anaconda3\\Lib\\site-packages\\statsmodels\\base\\model.py:607: ConvergenceWarning:\n",
      "\n",
      "Maximum Likelihood optimization failed to converge. Check mle_retvals\n",
      "\n",
      "C:\\Users\\user\\anaconda3\\Lib\\site-packages\\statsmodels\\base\\model.py:607: ConvergenceWarning:\n",
      "\n",
      "Maximum Likelihood optimization failed to converge. Check mle_retvals\n",
      "\n",
      "C:\\Users\\user\\anaconda3\\Lib\\site-packages\\statsmodels\\base\\model.py:607: ConvergenceWarning:\n",
      "\n",
      "Maximum Likelihood optimization failed to converge. Check mle_retvals\n",
      "\n",
      "C:\\Users\\user\\anaconda3\\Lib\\site-packages\\statsmodels\\base\\model.py:607: ConvergenceWarning:\n",
      "\n",
      "Maximum Likelihood optimization failed to converge. Check mle_retvals\n",
      "\n",
      "C:\\Users\\user\\anaconda3\\Lib\\site-packages\\statsmodels\\base\\model.py:607: ConvergenceWarning:\n",
      "\n",
      "Maximum Likelihood optimization failed to converge. Check mle_retvals\n",
      "\n",
      "C:\\Users\\user\\anaconda3\\Lib\\site-packages\\statsmodels\\base\\model.py:607: ConvergenceWarning:\n",
      "\n",
      "Maximum Likelihood optimization failed to converge. Check mle_retvals\n",
      "\n",
      "C:\\Users\\user\\anaconda3\\Lib\\site-packages\\statsmodels\\base\\model.py:607: ConvergenceWarning:\n",
      "\n",
      "Maximum Likelihood optimization failed to converge. Check mle_retvals\n",
      "\n",
      "C:\\Users\\user\\anaconda3\\Lib\\site-packages\\statsmodels\\base\\model.py:607: ConvergenceWarning:\n",
      "\n",
      "Maximum Likelihood optimization failed to converge. Check mle_retvals\n",
      "\n",
      "C:\\Users\\user\\anaconda3\\Lib\\site-packages\\statsmodels\\base\\model.py:607: ConvergenceWarning:\n",
      "\n",
      "Maximum Likelihood optimization failed to converge. Check mle_retvals\n",
      "\n",
      "C:\\Users\\user\\anaconda3\\Lib\\site-packages\\statsmodels\\base\\model.py:607: ConvergenceWarning:\n",
      "\n",
      "Maximum Likelihood optimization failed to converge. Check mle_retvals\n",
      "\n",
      "C:\\Users\\user\\anaconda3\\Lib\\site-packages\\statsmodels\\base\\model.py:607: ConvergenceWarning:\n",
      "\n",
      "Maximum Likelihood optimization failed to converge. Check mle_retvals\n",
      "\n",
      "C:\\Users\\user\\anaconda3\\Lib\\site-packages\\statsmodels\\base\\model.py:607: ConvergenceWarning:\n",
      "\n",
      "Maximum Likelihood optimization failed to converge. Check mle_retvals\n",
      "\n",
      "C:\\Users\\user\\anaconda3\\Lib\\site-packages\\statsmodels\\base\\model.py:607: ConvergenceWarning:\n",
      "\n",
      "Maximum Likelihood optimization failed to converge. Check mle_retvals\n",
      "\n",
      "C:\\Users\\user\\anaconda3\\Lib\\site-packages\\statsmodels\\base\\model.py:607: ConvergenceWarning:\n",
      "\n",
      "Maximum Likelihood optimization failed to converge. Check mle_retvals\n",
      "\n",
      "C:\\Users\\user\\anaconda3\\Lib\\site-packages\\statsmodels\\base\\model.py:607: ConvergenceWarning:\n",
      "\n",
      "Maximum Likelihood optimization failed to converge. Check mle_retvals\n",
      "\n",
      "C:\\Users\\user\\anaconda3\\Lib\\site-packages\\statsmodels\\base\\model.py:607: ConvergenceWarning:\n",
      "\n",
      "Maximum Likelihood optimization failed to converge. Check mle_retvals\n",
      "\n",
      "C:\\Users\\user\\anaconda3\\Lib\\site-packages\\statsmodels\\base\\model.py:607: ConvergenceWarning:\n",
      "\n",
      "Maximum Likelihood optimization failed to converge. Check mle_retvals\n",
      "\n",
      "C:\\Users\\user\\anaconda3\\Lib\\site-packages\\statsmodels\\base\\model.py:607: ConvergenceWarning:\n",
      "\n",
      "Maximum Likelihood optimization failed to converge. Check mle_retvals\n",
      "\n",
      "C:\\Users\\user\\anaconda3\\Lib\\site-packages\\statsmodels\\base\\model.py:607: ConvergenceWarning:\n",
      "\n",
      "Maximum Likelihood optimization failed to converge. Check mle_retvals\n",
      "\n",
      "C:\\Users\\user\\anaconda3\\Lib\\site-packages\\statsmodels\\base\\model.py:607: ConvergenceWarning:\n",
      "\n",
      "Maximum Likelihood optimization failed to converge. Check mle_retvals\n",
      "\n",
      "C:\\Users\\user\\anaconda3\\Lib\\site-packages\\statsmodels\\base\\model.py:607: ConvergenceWarning:\n",
      "\n",
      "Maximum Likelihood optimization failed to converge. Check mle_retvals\n",
      "\n",
      "C:\\Users\\user\\anaconda3\\Lib\\site-packages\\statsmodels\\base\\model.py:607: ConvergenceWarning:\n",
      "\n",
      "Maximum Likelihood optimization failed to converge. Check mle_retvals\n",
      "\n",
      "C:\\Users\\user\\anaconda3\\Lib\\site-packages\\statsmodels\\base\\model.py:607: ConvergenceWarning:\n",
      "\n",
      "Maximum Likelihood optimization failed to converge. Check mle_retvals\n",
      "\n",
      "C:\\Users\\user\\anaconda3\\Lib\\site-packages\\statsmodels\\base\\model.py:607: ConvergenceWarning:\n",
      "\n",
      "Maximum Likelihood optimization failed to converge. Check mle_retvals\n",
      "\n",
      "C:\\Users\\user\\anaconda3\\Lib\\site-packages\\statsmodels\\base\\model.py:607: ConvergenceWarning:\n",
      "\n",
      "Maximum Likelihood optimization failed to converge. Check mle_retvals\n",
      "\n",
      "C:\\Users\\user\\anaconda3\\Lib\\site-packages\\statsmodels\\base\\model.py:607: ConvergenceWarning:\n",
      "\n",
      "Maximum Likelihood optimization failed to converge. Check mle_retvals\n",
      "\n",
      "C:\\Users\\user\\anaconda3\\Lib\\site-packages\\statsmodels\\base\\model.py:607: ConvergenceWarning:\n",
      "\n",
      "Maximum Likelihood optimization failed to converge. Check mle_retvals\n",
      "\n",
      "C:\\Users\\user\\anaconda3\\Lib\\site-packages\\statsmodels\\base\\model.py:607: ConvergenceWarning:\n",
      "\n",
      "Maximum Likelihood optimization failed to converge. Check mle_retvals\n",
      "\n",
      "C:\\Users\\user\\anaconda3\\Lib\\site-packages\\statsmodels\\base\\model.py:607: ConvergenceWarning:\n",
      "\n",
      "Maximum Likelihood optimization failed to converge. Check mle_retvals\n",
      "\n",
      "C:\\Users\\user\\anaconda3\\Lib\\site-packages\\statsmodels\\base\\model.py:607: ConvergenceWarning:\n",
      "\n",
      "Maximum Likelihood optimization failed to converge. Check mle_retvals\n",
      "\n",
      "C:\\Users\\user\\anaconda3\\Lib\\site-packages\\statsmodels\\base\\model.py:607: ConvergenceWarning:\n",
      "\n",
      "Maximum Likelihood optimization failed to converge. Check mle_retvals\n",
      "\n",
      "C:\\Users\\user\\anaconda3\\Lib\\site-packages\\statsmodels\\base\\model.py:607: ConvergenceWarning:\n",
      "\n",
      "Maximum Likelihood optimization failed to converge. Check mle_retvals\n",
      "\n",
      "C:\\Users\\user\\anaconda3\\Lib\\site-packages\\statsmodels\\base\\model.py:607: ConvergenceWarning:\n",
      "\n",
      "Maximum Likelihood optimization failed to converge. Check mle_retvals\n",
      "\n",
      "C:\\Users\\user\\anaconda3\\Lib\\site-packages\\statsmodels\\base\\model.py:607: ConvergenceWarning:\n",
      "\n",
      "Maximum Likelihood optimization failed to converge. Check mle_retvals\n",
      "\n",
      "C:\\Users\\user\\anaconda3\\Lib\\site-packages\\statsmodels\\base\\model.py:607: ConvergenceWarning:\n",
      "\n",
      "Maximum Likelihood optimization failed to converge. Check mle_retvals\n",
      "\n",
      "C:\\Users\\user\\anaconda3\\Lib\\site-packages\\statsmodels\\base\\model.py:607: ConvergenceWarning:\n",
      "\n",
      "Maximum Likelihood optimization failed to converge. Check mle_retvals\n",
      "\n",
      "C:\\Users\\user\\anaconda3\\Lib\\site-packages\\statsmodels\\base\\model.py:607: ConvergenceWarning:\n",
      "\n",
      "Maximum Likelihood optimization failed to converge. Check mle_retvals\n",
      "\n",
      "C:\\Users\\user\\anaconda3\\Lib\\site-packages\\statsmodels\\base\\model.py:607: ConvergenceWarning:\n",
      "\n",
      "Maximum Likelihood optimization failed to converge. Check mle_retvals\n",
      "\n",
      "C:\\Users\\user\\anaconda3\\Lib\\site-packages\\statsmodels\\base\\model.py:607: ConvergenceWarning:\n",
      "\n",
      "Maximum Likelihood optimization failed to converge. Check mle_retvals\n",
      "\n",
      "C:\\Users\\user\\anaconda3\\Lib\\site-packages\\statsmodels\\base\\model.py:607: ConvergenceWarning:\n",
      "\n",
      "Maximum Likelihood optimization failed to converge. Check mle_retvals\n",
      "\n",
      "C:\\Users\\user\\anaconda3\\Lib\\site-packages\\statsmodels\\base\\model.py:607: ConvergenceWarning:\n",
      "\n",
      "Maximum Likelihood optimization failed to converge. Check mle_retvals\n",
      "\n",
      "C:\\Users\\user\\anaconda3\\Lib\\site-packages\\statsmodels\\base\\model.py:607: ConvergenceWarning:\n",
      "\n",
      "Maximum Likelihood optimization failed to converge. Check mle_retvals\n",
      "\n",
      "C:\\Users\\user\\anaconda3\\Lib\\site-packages\\statsmodels\\base\\model.py:607: ConvergenceWarning:\n",
      "\n",
      "Maximum Likelihood optimization failed to converge. Check mle_retvals\n",
      "\n",
      "C:\\Users\\user\\anaconda3\\Lib\\site-packages\\statsmodels\\base\\model.py:607: ConvergenceWarning:\n",
      "\n",
      "Maximum Likelihood optimization failed to converge. Check mle_retvals\n",
      "\n",
      "C:\\Users\\user\\anaconda3\\Lib\\site-packages\\statsmodels\\base\\model.py:607: ConvergenceWarning:\n",
      "\n",
      "Maximum Likelihood optimization failed to converge. Check mle_retvals\n",
      "\n",
      "C:\\Users\\user\\anaconda3\\Lib\\site-packages\\statsmodels\\base\\model.py:607: ConvergenceWarning:\n",
      "\n",
      "Maximum Likelihood optimization failed to converge. Check mle_retvals\n",
      "\n",
      "C:\\Users\\user\\anaconda3\\Lib\\site-packages\\statsmodels\\base\\model.py:607: ConvergenceWarning:\n",
      "\n",
      "Maximum Likelihood optimization failed to converge. Check mle_retvals\n",
      "\n",
      "C:\\Users\\user\\anaconda3\\Lib\\site-packages\\statsmodels\\base\\model.py:607: ConvergenceWarning:\n",
      "\n",
      "Maximum Likelihood optimization failed to converge. Check mle_retvals\n",
      "\n",
      "C:\\Users\\user\\anaconda3\\Lib\\site-packages\\statsmodels\\base\\model.py:607: ConvergenceWarning:\n",
      "\n",
      "Maximum Likelihood optimization failed to converge. Check mle_retvals\n",
      "\n",
      "C:\\Users\\user\\anaconda3\\Lib\\site-packages\\statsmodels\\base\\model.py:607: ConvergenceWarning:\n",
      "\n",
      "Maximum Likelihood optimization failed to converge. Check mle_retvals\n",
      "\n",
      "C:\\Users\\user\\anaconda3\\Lib\\site-packages\\statsmodels\\base\\model.py:607: ConvergenceWarning:\n",
      "\n",
      "Maximum Likelihood optimization failed to converge. Check mle_retvals\n",
      "\n",
      "C:\\Users\\user\\anaconda3\\Lib\\site-packages\\statsmodels\\base\\model.py:607: ConvergenceWarning:\n",
      "\n",
      "Maximum Likelihood optimization failed to converge. Check mle_retvals\n",
      "\n",
      "C:\\Users\\user\\anaconda3\\Lib\\site-packages\\statsmodels\\base\\model.py:607: ConvergenceWarning:\n",
      "\n",
      "Maximum Likelihood optimization failed to converge. Check mle_retvals\n",
      "\n",
      "C:\\Users\\user\\anaconda3\\Lib\\site-packages\\statsmodels\\base\\model.py:607: ConvergenceWarning:\n",
      "\n",
      "Maximum Likelihood optimization failed to converge. Check mle_retvals\n",
      "\n",
      "C:\\Users\\user\\anaconda3\\Lib\\site-packages\\statsmodels\\base\\model.py:607: ConvergenceWarning:\n",
      "\n",
      "Maximum Likelihood optimization failed to converge. Check mle_retvals\n",
      "\n",
      "C:\\Users\\user\\anaconda3\\Lib\\site-packages\\statsmodels\\base\\model.py:607: ConvergenceWarning:\n",
      "\n",
      "Maximum Likelihood optimization failed to converge. Check mle_retvals\n",
      "\n",
      "C:\\Users\\user\\anaconda3\\Lib\\site-packages\\statsmodels\\base\\model.py:607: ConvergenceWarning:\n",
      "\n",
      "Maximum Likelihood optimization failed to converge. Check mle_retvals\n",
      "\n",
      "C:\\Users\\user\\anaconda3\\Lib\\site-packages\\statsmodels\\base\\model.py:607: ConvergenceWarning:\n",
      "\n",
      "Maximum Likelihood optimization failed to converge. Check mle_retvals\n",
      "\n",
      "C:\\Users\\user\\anaconda3\\Lib\\site-packages\\statsmodels\\base\\model.py:607: ConvergenceWarning:\n",
      "\n",
      "Maximum Likelihood optimization failed to converge. Check mle_retvals\n",
      "\n",
      "C:\\Users\\user\\anaconda3\\Lib\\site-packages\\statsmodels\\base\\model.py:607: ConvergenceWarning:\n",
      "\n",
      "Maximum Likelihood optimization failed to converge. Check mle_retvals\n",
      "\n",
      "C:\\Users\\user\\anaconda3\\Lib\\site-packages\\statsmodels\\base\\model.py:607: ConvergenceWarning:\n",
      "\n",
      "Maximum Likelihood optimization failed to converge. Check mle_retvals\n",
      "\n",
      "C:\\Users\\user\\anaconda3\\Lib\\site-packages\\statsmodels\\base\\model.py:607: ConvergenceWarning:\n",
      "\n",
      "Maximum Likelihood optimization failed to converge. Check mle_retvals\n",
      "\n",
      "C:\\Users\\user\\anaconda3\\Lib\\site-packages\\statsmodels\\base\\model.py:607: ConvergenceWarning:\n",
      "\n",
      "Maximum Likelihood optimization failed to converge. Check mle_retvals\n",
      "\n",
      "C:\\Users\\user\\anaconda3\\Lib\\site-packages\\statsmodels\\base\\model.py:607: ConvergenceWarning:\n",
      "\n",
      "Maximum Likelihood optimization failed to converge. Check mle_retvals\n",
      "\n",
      "C:\\Users\\user\\anaconda3\\Lib\\site-packages\\statsmodels\\base\\model.py:607: ConvergenceWarning:\n",
      "\n",
      "Maximum Likelihood optimization failed to converge. Check mle_retvals\n",
      "\n",
      "C:\\Users\\user\\anaconda3\\Lib\\site-packages\\statsmodels\\base\\model.py:607: ConvergenceWarning:\n",
      "\n",
      "Maximum Likelihood optimization failed to converge. Check mle_retvals\n",
      "\n",
      "C:\\Users\\user\\anaconda3\\Lib\\site-packages\\statsmodels\\base\\model.py:607: ConvergenceWarning:\n",
      "\n",
      "Maximum Likelihood optimization failed to converge. Check mle_retvals\n",
      "\n",
      "C:\\Users\\user\\anaconda3\\Lib\\site-packages\\statsmodels\\base\\model.py:607: ConvergenceWarning:\n",
      "\n",
      "Maximum Likelihood optimization failed to converge. Check mle_retvals\n",
      "\n",
      "C:\\Users\\user\\anaconda3\\Lib\\site-packages\\statsmodels\\base\\model.py:607: ConvergenceWarning:\n",
      "\n",
      "Maximum Likelihood optimization failed to converge. Check mle_retvals\n",
      "\n",
      "C:\\Users\\user\\anaconda3\\Lib\\site-packages\\statsmodels\\base\\model.py:607: ConvergenceWarning:\n",
      "\n",
      "Maximum Likelihood optimization failed to converge. Check mle_retvals\n",
      "\n",
      "C:\\Users\\user\\anaconda3\\Lib\\site-packages\\statsmodels\\base\\model.py:607: ConvergenceWarning:\n",
      "\n",
      "Maximum Likelihood optimization failed to converge. Check mle_retvals\n",
      "\n",
      "C:\\Users\\user\\anaconda3\\Lib\\site-packages\\statsmodels\\base\\model.py:607: ConvergenceWarning:\n",
      "\n",
      "Maximum Likelihood optimization failed to converge. Check mle_retvals\n",
      "\n",
      "C:\\Users\\user\\anaconda3\\Lib\\site-packages\\statsmodels\\base\\model.py:607: ConvergenceWarning:\n",
      "\n",
      "Maximum Likelihood optimization failed to converge. Check mle_retvals\n",
      "\n",
      "C:\\Users\\user\\anaconda3\\Lib\\site-packages\\statsmodels\\base\\model.py:607: ConvergenceWarning:\n",
      "\n",
      "Maximum Likelihood optimization failed to converge. Check mle_retvals\n",
      "\n",
      "C:\\Users\\user\\anaconda3\\Lib\\site-packages\\statsmodels\\base\\model.py:607: ConvergenceWarning:\n",
      "\n",
      "Maximum Likelihood optimization failed to converge. Check mle_retvals\n",
      "\n",
      "C:\\Users\\user\\anaconda3\\Lib\\site-packages\\statsmodels\\base\\model.py:607: ConvergenceWarning:\n",
      "\n",
      "Maximum Likelihood optimization failed to converge. Check mle_retvals\n",
      "\n",
      "C:\\Users\\user\\anaconda3\\Lib\\site-packages\\statsmodels\\base\\model.py:607: ConvergenceWarning:\n",
      "\n",
      "Maximum Likelihood optimization failed to converge. Check mle_retvals\n",
      "\n",
      "C:\\Users\\user\\anaconda3\\Lib\\site-packages\\statsmodels\\base\\model.py:607: ConvergenceWarning:\n",
      "\n",
      "Maximum Likelihood optimization failed to converge. Check mle_retvals\n",
      "\n",
      "C:\\Users\\user\\anaconda3\\Lib\\site-packages\\statsmodels\\base\\model.py:607: ConvergenceWarning:\n",
      "\n",
      "Maximum Likelihood optimization failed to converge. Check mle_retvals\n",
      "\n",
      "C:\\Users\\user\\anaconda3\\Lib\\site-packages\\statsmodels\\base\\model.py:607: ConvergenceWarning:\n",
      "\n",
      "Maximum Likelihood optimization failed to converge. Check mle_retvals\n",
      "\n",
      "C:\\Users\\user\\anaconda3\\Lib\\site-packages\\statsmodels\\base\\model.py:607: ConvergenceWarning:\n",
      "\n",
      "Maximum Likelihood optimization failed to converge. Check mle_retvals\n",
      "\n",
      "C:\\Users\\user\\anaconda3\\Lib\\site-packages\\statsmodels\\base\\model.py:607: ConvergenceWarning:\n",
      "\n",
      "Maximum Likelihood optimization failed to converge. Check mle_retvals\n",
      "\n",
      "C:\\Users\\user\\anaconda3\\Lib\\site-packages\\statsmodels\\base\\model.py:607: ConvergenceWarning:\n",
      "\n",
      "Maximum Likelihood optimization failed to converge. Check mle_retvals\n",
      "\n",
      "C:\\Users\\user\\anaconda3\\Lib\\site-packages\\statsmodels\\base\\model.py:607: ConvergenceWarning:\n",
      "\n",
      "Maximum Likelihood optimization failed to converge. Check mle_retvals\n",
      "\n",
      "C:\\Users\\user\\anaconda3\\Lib\\site-packages\\statsmodels\\base\\model.py:607: ConvergenceWarning:\n",
      "\n",
      "Maximum Likelihood optimization failed to converge. Check mle_retvals\n",
      "\n",
      "C:\\Users\\user\\anaconda3\\Lib\\site-packages\\statsmodels\\base\\model.py:607: ConvergenceWarning:\n",
      "\n",
      "Maximum Likelihood optimization failed to converge. Check mle_retvals\n",
      "\n",
      "C:\\Users\\user\\anaconda3\\Lib\\site-packages\\statsmodels\\base\\model.py:607: ConvergenceWarning:\n",
      "\n",
      "Maximum Likelihood optimization failed to converge. Check mle_retvals\n",
      "\n",
      "C:\\Users\\user\\anaconda3\\Lib\\site-packages\\statsmodels\\base\\model.py:607: ConvergenceWarning:\n",
      "\n",
      "Maximum Likelihood optimization failed to converge. Check mle_retvals\n",
      "\n",
      "C:\\Users\\user\\anaconda3\\Lib\\site-packages\\statsmodels\\base\\model.py:607: ConvergenceWarning:\n",
      "\n",
      "Maximum Likelihood optimization failed to converge. Check mle_retvals\n",
      "\n",
      "C:\\Users\\user\\anaconda3\\Lib\\site-packages\\statsmodels\\base\\model.py:607: ConvergenceWarning:\n",
      "\n",
      "Maximum Likelihood optimization failed to converge. Check mle_retvals\n",
      "\n",
      "C:\\Users\\user\\anaconda3\\Lib\\site-packages\\statsmodels\\base\\model.py:607: ConvergenceWarning:\n",
      "\n",
      "Maximum Likelihood optimization failed to converge. Check mle_retvals\n",
      "\n",
      "C:\\Users\\user\\anaconda3\\Lib\\site-packages\\statsmodels\\base\\model.py:607: ConvergenceWarning:\n",
      "\n",
      "Maximum Likelihood optimization failed to converge. Check mle_retvals\n",
      "\n",
      "C:\\Users\\user\\anaconda3\\Lib\\site-packages\\statsmodels\\base\\model.py:607: ConvergenceWarning:\n",
      "\n",
      "Maximum Likelihood optimization failed to converge. Check mle_retvals\n",
      "\n",
      "C:\\Users\\user\\anaconda3\\Lib\\site-packages\\statsmodels\\base\\model.py:607: ConvergenceWarning:\n",
      "\n",
      "Maximum Likelihood optimization failed to converge. Check mle_retvals\n",
      "\n",
      "C:\\Users\\user\\anaconda3\\Lib\\site-packages\\statsmodels\\base\\model.py:607: ConvergenceWarning:\n",
      "\n",
      "Maximum Likelihood optimization failed to converge. Check mle_retvals\n",
      "\n",
      "C:\\Users\\user\\anaconda3\\Lib\\site-packages\\statsmodels\\base\\model.py:607: ConvergenceWarning:\n",
      "\n",
      "Maximum Likelihood optimization failed to converge. Check mle_retvals\n",
      "\n",
      "C:\\Users\\user\\anaconda3\\Lib\\site-packages\\statsmodels\\base\\model.py:607: ConvergenceWarning:\n",
      "\n",
      "Maximum Likelihood optimization failed to converge. Check mle_retvals\n",
      "\n",
      "C:\\Users\\user\\anaconda3\\Lib\\site-packages\\statsmodels\\base\\model.py:607: ConvergenceWarning:\n",
      "\n",
      "Maximum Likelihood optimization failed to converge. Check mle_retvals\n",
      "\n",
      "C:\\Users\\user\\anaconda3\\Lib\\site-packages\\statsmodels\\base\\model.py:607: ConvergenceWarning:\n",
      "\n",
      "Maximum Likelihood optimization failed to converge. Check mle_retvals\n",
      "\n",
      "C:\\Users\\user\\anaconda3\\Lib\\site-packages\\statsmodels\\base\\model.py:607: ConvergenceWarning:\n",
      "\n",
      "Maximum Likelihood optimization failed to converge. Check mle_retvals\n",
      "\n",
      "C:\\Users\\user\\anaconda3\\Lib\\site-packages\\statsmodels\\base\\model.py:607: ConvergenceWarning:\n",
      "\n",
      "Maximum Likelihood optimization failed to converge. Check mle_retvals\n",
      "\n",
      "C:\\Users\\user\\anaconda3\\Lib\\site-packages\\statsmodels\\base\\model.py:607: ConvergenceWarning:\n",
      "\n",
      "Maximum Likelihood optimization failed to converge. Check mle_retvals\n",
      "\n",
      "C:\\Users\\user\\anaconda3\\Lib\\site-packages\\statsmodels\\base\\model.py:607: ConvergenceWarning:\n",
      "\n",
      "Maximum Likelihood optimization failed to converge. Check mle_retvals\n",
      "\n",
      "C:\\Users\\user\\anaconda3\\Lib\\site-packages\\statsmodels\\base\\model.py:607: ConvergenceWarning:\n",
      "\n",
      "Maximum Likelihood optimization failed to converge. Check mle_retvals\n",
      "\n",
      "C:\\Users\\user\\anaconda3\\Lib\\site-packages\\statsmodels\\base\\model.py:607: ConvergenceWarning:\n",
      "\n",
      "Maximum Likelihood optimization failed to converge. Check mle_retvals\n",
      "\n",
      "C:\\Users\\user\\anaconda3\\Lib\\site-packages\\statsmodels\\base\\model.py:607: ConvergenceWarning:\n",
      "\n",
      "Maximum Likelihood optimization failed to converge. Check mle_retvals\n",
      "\n",
      "C:\\Users\\user\\anaconda3\\Lib\\site-packages\\statsmodels\\base\\model.py:607: ConvergenceWarning:\n",
      "\n",
      "Maximum Likelihood optimization failed to converge. Check mle_retvals\n",
      "\n",
      "C:\\Users\\user\\anaconda3\\Lib\\site-packages\\statsmodels\\base\\model.py:607: ConvergenceWarning:\n",
      "\n",
      "Maximum Likelihood optimization failed to converge. Check mle_retvals\n",
      "\n",
      "C:\\Users\\user\\anaconda3\\Lib\\site-packages\\statsmodels\\base\\model.py:607: ConvergenceWarning:\n",
      "\n",
      "Maximum Likelihood optimization failed to converge. Check mle_retvals\n",
      "\n",
      "C:\\Users\\user\\anaconda3\\Lib\\site-packages\\statsmodels\\base\\model.py:607: ConvergenceWarning:\n",
      "\n",
      "Maximum Likelihood optimization failed to converge. Check mle_retvals\n",
      "\n",
      "C:\\Users\\user\\anaconda3\\Lib\\site-packages\\statsmodels\\base\\model.py:607: ConvergenceWarning:\n",
      "\n",
      "Maximum Likelihood optimization failed to converge. Check mle_retvals\n",
      "\n",
      "C:\\Users\\user\\anaconda3\\Lib\\site-packages\\statsmodels\\base\\model.py:607: ConvergenceWarning:\n",
      "\n",
      "Maximum Likelihood optimization failed to converge. Check mle_retvals\n",
      "\n",
      "C:\\Users\\user\\anaconda3\\Lib\\site-packages\\statsmodels\\base\\model.py:607: ConvergenceWarning:\n",
      "\n",
      "Maximum Likelihood optimization failed to converge. Check mle_retvals\n",
      "\n",
      "C:\\Users\\user\\anaconda3\\Lib\\site-packages\\statsmodels\\base\\model.py:607: ConvergenceWarning:\n",
      "\n",
      "Maximum Likelihood optimization failed to converge. Check mle_retvals\n",
      "\n",
      "C:\\Users\\user\\anaconda3\\Lib\\site-packages\\statsmodels\\base\\model.py:607: ConvergenceWarning:\n",
      "\n",
      "Maximum Likelihood optimization failed to converge. Check mle_retvals\n",
      "\n",
      "C:\\Users\\user\\anaconda3\\Lib\\site-packages\\statsmodels\\base\\model.py:607: ConvergenceWarning:\n",
      "\n",
      "Maximum Likelihood optimization failed to converge. Check mle_retvals\n",
      "\n",
      "C:\\Users\\user\\anaconda3\\Lib\\site-packages\\statsmodels\\base\\model.py:607: ConvergenceWarning:\n",
      "\n",
      "Maximum Likelihood optimization failed to converge. Check mle_retvals\n",
      "\n",
      "C:\\Users\\user\\anaconda3\\Lib\\site-packages\\statsmodels\\base\\model.py:607: ConvergenceWarning:\n",
      "\n",
      "Maximum Likelihood optimization failed to converge. Check mle_retvals\n",
      "\n",
      "C:\\Users\\user\\anaconda3\\Lib\\site-packages\\statsmodels\\base\\model.py:607: ConvergenceWarning:\n",
      "\n",
      "Maximum Likelihood optimization failed to converge. Check mle_retvals\n",
      "\n",
      "C:\\Users\\user\\anaconda3\\Lib\\site-packages\\statsmodels\\base\\model.py:607: ConvergenceWarning:\n",
      "\n",
      "Maximum Likelihood optimization failed to converge. Check mle_retvals\n",
      "\n",
      "C:\\Users\\user\\anaconda3\\Lib\\site-packages\\statsmodels\\base\\model.py:607: ConvergenceWarning:\n",
      "\n",
      "Maximum Likelihood optimization failed to converge. Check mle_retvals\n",
      "\n",
      "C:\\Users\\user\\anaconda3\\Lib\\site-packages\\statsmodels\\base\\model.py:607: ConvergenceWarning:\n",
      "\n",
      "Maximum Likelihood optimization failed to converge. Check mle_retvals\n",
      "\n",
      "C:\\Users\\user\\anaconda3\\Lib\\site-packages\\statsmodels\\base\\model.py:607: ConvergenceWarning:\n",
      "\n",
      "Maximum Likelihood optimization failed to converge. Check mle_retvals\n",
      "\n",
      "C:\\Users\\user\\anaconda3\\Lib\\site-packages\\statsmodels\\base\\model.py:607: ConvergenceWarning:\n",
      "\n",
      "Maximum Likelihood optimization failed to converge. Check mle_retvals\n",
      "\n",
      "C:\\Users\\user\\anaconda3\\Lib\\site-packages\\statsmodels\\base\\model.py:607: ConvergenceWarning:\n",
      "\n",
      "Maximum Likelihood optimization failed to converge. Check mle_retvals\n",
      "\n",
      "C:\\Users\\user\\anaconda3\\Lib\\site-packages\\statsmodels\\base\\model.py:607: ConvergenceWarning:\n",
      "\n",
      "Maximum Likelihood optimization failed to converge. Check mle_retvals\n",
      "\n",
      "C:\\Users\\user\\anaconda3\\Lib\\site-packages\\statsmodels\\base\\model.py:607: ConvergenceWarning:\n",
      "\n",
      "Maximum Likelihood optimization failed to converge. Check mle_retvals\n",
      "\n",
      "C:\\Users\\user\\anaconda3\\Lib\\site-packages\\statsmodels\\base\\model.py:607: ConvergenceWarning:\n",
      "\n",
      "Maximum Likelihood optimization failed to converge. Check mle_retvals\n",
      "\n",
      "C:\\Users\\user\\anaconda3\\Lib\\site-packages\\statsmodels\\base\\model.py:607: ConvergenceWarning:\n",
      "\n",
      "Maximum Likelihood optimization failed to converge. Check mle_retvals\n",
      "\n",
      "C:\\Users\\user\\anaconda3\\Lib\\site-packages\\statsmodels\\base\\model.py:607: ConvergenceWarning:\n",
      "\n",
      "Maximum Likelihood optimization failed to converge. Check mle_retvals\n",
      "\n",
      "C:\\Users\\user\\anaconda3\\Lib\\site-packages\\statsmodels\\base\\model.py:607: ConvergenceWarning:\n",
      "\n",
      "Maximum Likelihood optimization failed to converge. Check mle_retvals\n",
      "\n",
      "C:\\Users\\user\\anaconda3\\Lib\\site-packages\\statsmodels\\base\\model.py:607: ConvergenceWarning:\n",
      "\n",
      "Maximum Likelihood optimization failed to converge. Check mle_retvals\n",
      "\n",
      "C:\\Users\\user\\anaconda3\\Lib\\site-packages\\statsmodels\\base\\model.py:607: ConvergenceWarning:\n",
      "\n",
      "Maximum Likelihood optimization failed to converge. Check mle_retvals\n",
      "\n",
      "C:\\Users\\user\\anaconda3\\Lib\\site-packages\\statsmodels\\base\\model.py:607: ConvergenceWarning:\n",
      "\n",
      "Maximum Likelihood optimization failed to converge. Check mle_retvals\n",
      "\n",
      "C:\\Users\\user\\anaconda3\\Lib\\site-packages\\statsmodels\\base\\model.py:607: ConvergenceWarning:\n",
      "\n",
      "Maximum Likelihood optimization failed to converge. Check mle_retvals\n",
      "\n",
      "C:\\Users\\user\\anaconda3\\Lib\\site-packages\\statsmodels\\base\\model.py:607: ConvergenceWarning:\n",
      "\n",
      "Maximum Likelihood optimization failed to converge. Check mle_retvals\n",
      "\n",
      "C:\\Users\\user\\anaconda3\\Lib\\site-packages\\statsmodels\\base\\model.py:607: ConvergenceWarning:\n",
      "\n",
      "Maximum Likelihood optimization failed to converge. Check mle_retvals\n",
      "\n",
      "C:\\Users\\user\\anaconda3\\Lib\\site-packages\\statsmodels\\base\\model.py:607: ConvergenceWarning:\n",
      "\n",
      "Maximum Likelihood optimization failed to converge. Check mle_retvals\n",
      "\n",
      "C:\\Users\\user\\anaconda3\\Lib\\site-packages\\statsmodels\\base\\model.py:607: ConvergenceWarning:\n",
      "\n",
      "Maximum Likelihood optimization failed to converge. Check mle_retvals\n",
      "\n",
      "C:\\Users\\user\\anaconda3\\Lib\\site-packages\\statsmodels\\base\\model.py:607: ConvergenceWarning:\n",
      "\n",
      "Maximum Likelihood optimization failed to converge. Check mle_retvals\n",
      "\n",
      "C:\\Users\\user\\anaconda3\\Lib\\site-packages\\statsmodels\\base\\model.py:607: ConvergenceWarning:\n",
      "\n",
      "Maximum Likelihood optimization failed to converge. Check mle_retvals\n",
      "\n",
      "C:\\Users\\user\\anaconda3\\Lib\\site-packages\\statsmodels\\base\\model.py:607: ConvergenceWarning:\n",
      "\n",
      "Maximum Likelihood optimization failed to converge. Check mle_retvals\n",
      "\n",
      "C:\\Users\\user\\anaconda3\\Lib\\site-packages\\statsmodels\\base\\model.py:607: ConvergenceWarning:\n",
      "\n",
      "Maximum Likelihood optimization failed to converge. Check mle_retvals\n",
      "\n",
      "C:\\Users\\user\\anaconda3\\Lib\\site-packages\\statsmodels\\base\\model.py:607: ConvergenceWarning:\n",
      "\n",
      "Maximum Likelihood optimization failed to converge. Check mle_retvals\n",
      "\n",
      "C:\\Users\\user\\anaconda3\\Lib\\site-packages\\statsmodels\\base\\model.py:607: ConvergenceWarning:\n",
      "\n",
      "Maximum Likelihood optimization failed to converge. Check mle_retvals\n",
      "\n",
      "C:\\Users\\user\\anaconda3\\Lib\\site-packages\\statsmodels\\base\\model.py:607: ConvergenceWarning:\n",
      "\n",
      "Maximum Likelihood optimization failed to converge. Check mle_retvals\n",
      "\n",
      "C:\\Users\\user\\anaconda3\\Lib\\site-packages\\statsmodels\\base\\model.py:607: ConvergenceWarning:\n",
      "\n",
      "Maximum Likelihood optimization failed to converge. Check mle_retvals\n",
      "\n",
      "C:\\Users\\user\\anaconda3\\Lib\\site-packages\\statsmodels\\base\\model.py:607: ConvergenceWarning:\n",
      "\n",
      "Maximum Likelihood optimization failed to converge. Check mle_retvals\n",
      "\n",
      "C:\\Users\\user\\anaconda3\\Lib\\site-packages\\statsmodels\\base\\model.py:607: ConvergenceWarning:\n",
      "\n",
      "Maximum Likelihood optimization failed to converge. Check mle_retvals\n",
      "\n",
      "C:\\Users\\user\\anaconda3\\Lib\\site-packages\\statsmodels\\base\\model.py:607: ConvergenceWarning:\n",
      "\n",
      "Maximum Likelihood optimization failed to converge. Check mle_retvals\n",
      "\n",
      "C:\\Users\\user\\anaconda3\\Lib\\site-packages\\statsmodels\\base\\model.py:607: ConvergenceWarning:\n",
      "\n",
      "Maximum Likelihood optimization failed to converge. Check mle_retvals\n",
      "\n",
      "C:\\Users\\user\\anaconda3\\Lib\\site-packages\\statsmodels\\base\\model.py:607: ConvergenceWarning:\n",
      "\n",
      "Maximum Likelihood optimization failed to converge. Check mle_retvals\n",
      "\n",
      "C:\\Users\\user\\anaconda3\\Lib\\site-packages\\statsmodels\\base\\model.py:607: ConvergenceWarning:\n",
      "\n",
      "Maximum Likelihood optimization failed to converge. Check mle_retvals\n",
      "\n",
      "C:\\Users\\user\\anaconda3\\Lib\\site-packages\\statsmodels\\base\\model.py:607: ConvergenceWarning:\n",
      "\n",
      "Maximum Likelihood optimization failed to converge. Check mle_retvals\n",
      "\n",
      "C:\\Users\\user\\anaconda3\\Lib\\site-packages\\statsmodels\\base\\model.py:607: ConvergenceWarning:\n",
      "\n",
      "Maximum Likelihood optimization failed to converge. Check mle_retvals\n",
      "\n",
      "C:\\Users\\user\\anaconda3\\Lib\\site-packages\\statsmodels\\base\\model.py:607: ConvergenceWarning:\n",
      "\n",
      "Maximum Likelihood optimization failed to converge. Check mle_retvals\n",
      "\n",
      "C:\\Users\\user\\anaconda3\\Lib\\site-packages\\statsmodels\\base\\model.py:607: ConvergenceWarning:\n",
      "\n",
      "Maximum Likelihood optimization failed to converge. Check mle_retvals\n",
      "\n",
      "C:\\Users\\user\\anaconda3\\Lib\\site-packages\\statsmodels\\base\\model.py:607: ConvergenceWarning:\n",
      "\n",
      "Maximum Likelihood optimization failed to converge. Check mle_retvals\n",
      "\n",
      "C:\\Users\\user\\anaconda3\\Lib\\site-packages\\statsmodels\\base\\model.py:607: ConvergenceWarning:\n",
      "\n",
      "Maximum Likelihood optimization failed to converge. Check mle_retvals\n",
      "\n",
      "C:\\Users\\user\\anaconda3\\Lib\\site-packages\\statsmodels\\base\\model.py:607: ConvergenceWarning:\n",
      "\n",
      "Maximum Likelihood optimization failed to converge. Check mle_retvals\n",
      "\n",
      "C:\\Users\\user\\anaconda3\\Lib\\site-packages\\statsmodels\\base\\model.py:607: ConvergenceWarning:\n",
      "\n",
      "Maximum Likelihood optimization failed to converge. Check mle_retvals\n",
      "\n",
      "C:\\Users\\user\\anaconda3\\Lib\\site-packages\\statsmodels\\base\\model.py:607: ConvergenceWarning:\n",
      "\n",
      "Maximum Likelihood optimization failed to converge. Check mle_retvals\n",
      "\n",
      "C:\\Users\\user\\anaconda3\\Lib\\site-packages\\statsmodels\\base\\model.py:607: ConvergenceWarning:\n",
      "\n",
      "Maximum Likelihood optimization failed to converge. Check mle_retvals\n",
      "\n",
      "C:\\Users\\user\\anaconda3\\Lib\\site-packages\\statsmodels\\base\\model.py:607: ConvergenceWarning:\n",
      "\n",
      "Maximum Likelihood optimization failed to converge. Check mle_retvals\n",
      "\n",
      "C:\\Users\\user\\anaconda3\\Lib\\site-packages\\statsmodels\\base\\model.py:607: ConvergenceWarning:\n",
      "\n",
      "Maximum Likelihood optimization failed to converge. Check mle_retvals\n",
      "\n",
      "C:\\Users\\user\\anaconda3\\Lib\\site-packages\\statsmodels\\base\\model.py:607: ConvergenceWarning:\n",
      "\n",
      "Maximum Likelihood optimization failed to converge. Check mle_retvals\n",
      "\n",
      "C:\\Users\\user\\anaconda3\\Lib\\site-packages\\statsmodels\\base\\model.py:607: ConvergenceWarning:\n",
      "\n",
      "Maximum Likelihood optimization failed to converge. Check mle_retvals\n",
      "\n",
      "C:\\Users\\user\\anaconda3\\Lib\\site-packages\\statsmodels\\base\\model.py:607: ConvergenceWarning:\n",
      "\n",
      "Maximum Likelihood optimization failed to converge. Check mle_retvals\n",
      "\n",
      "C:\\Users\\user\\anaconda3\\Lib\\site-packages\\statsmodels\\base\\model.py:607: ConvergenceWarning:\n",
      "\n",
      "Maximum Likelihood optimization failed to converge. Check mle_retvals\n",
      "\n",
      "C:\\Users\\user\\anaconda3\\Lib\\site-packages\\statsmodels\\base\\model.py:607: ConvergenceWarning:\n",
      "\n",
      "Maximum Likelihood optimization failed to converge. Check mle_retvals\n",
      "\n",
      "C:\\Users\\user\\anaconda3\\Lib\\site-packages\\statsmodels\\base\\model.py:607: ConvergenceWarning:\n",
      "\n",
      "Maximum Likelihood optimization failed to converge. Check mle_retvals\n",
      "\n",
      "C:\\Users\\user\\anaconda3\\Lib\\site-packages\\statsmodels\\base\\model.py:607: ConvergenceWarning:\n",
      "\n",
      "Maximum Likelihood optimization failed to converge. Check mle_retvals\n",
      "\n",
      "C:\\Users\\user\\anaconda3\\Lib\\site-packages\\statsmodels\\base\\model.py:607: ConvergenceWarning:\n",
      "\n",
      "Maximum Likelihood optimization failed to converge. Check mle_retvals\n",
      "\n",
      "C:\\Users\\user\\anaconda3\\Lib\\site-packages\\statsmodels\\base\\model.py:607: ConvergenceWarning:\n",
      "\n",
      "Maximum Likelihood optimization failed to converge. Check mle_retvals\n",
      "\n",
      "C:\\Users\\user\\anaconda3\\Lib\\site-packages\\statsmodels\\base\\model.py:607: ConvergenceWarning:\n",
      "\n",
      "Maximum Likelihood optimization failed to converge. Check mle_retvals\n",
      "\n",
      "C:\\Users\\user\\anaconda3\\Lib\\site-packages\\statsmodels\\base\\model.py:607: ConvergenceWarning:\n",
      "\n",
      "Maximum Likelihood optimization failed to converge. Check mle_retvals\n",
      "\n",
      "C:\\Users\\user\\anaconda3\\Lib\\site-packages\\statsmodels\\base\\model.py:607: ConvergenceWarning:\n",
      "\n",
      "Maximum Likelihood optimization failed to converge. Check mle_retvals\n",
      "\n",
      "C:\\Users\\user\\anaconda3\\Lib\\site-packages\\statsmodels\\base\\model.py:607: ConvergenceWarning:\n",
      "\n",
      "Maximum Likelihood optimization failed to converge. Check mle_retvals\n",
      "\n",
      "C:\\Users\\user\\anaconda3\\Lib\\site-packages\\statsmodels\\base\\model.py:607: ConvergenceWarning:\n",
      "\n",
      "Maximum Likelihood optimization failed to converge. Check mle_retvals\n",
      "\n",
      "C:\\Users\\user\\anaconda3\\Lib\\site-packages\\statsmodels\\base\\model.py:607: ConvergenceWarning:\n",
      "\n",
      "Maximum Likelihood optimization failed to converge. Check mle_retvals\n",
      "\n",
      "C:\\Users\\user\\anaconda3\\Lib\\site-packages\\statsmodels\\base\\model.py:607: ConvergenceWarning:\n",
      "\n",
      "Maximum Likelihood optimization failed to converge. Check mle_retvals\n",
      "\n",
      "C:\\Users\\user\\anaconda3\\Lib\\site-packages\\statsmodels\\base\\model.py:607: ConvergenceWarning:\n",
      "\n",
      "Maximum Likelihood optimization failed to converge. Check mle_retvals\n",
      "\n",
      "C:\\Users\\user\\anaconda3\\Lib\\site-packages\\statsmodels\\base\\model.py:607: ConvergenceWarning:\n",
      "\n",
      "Maximum Likelihood optimization failed to converge. Check mle_retvals\n",
      "\n",
      "C:\\Users\\user\\anaconda3\\Lib\\site-packages\\statsmodels\\base\\model.py:607: ConvergenceWarning:\n",
      "\n",
      "Maximum Likelihood optimization failed to converge. Check mle_retvals\n",
      "\n",
      "C:\\Users\\user\\anaconda3\\Lib\\site-packages\\statsmodels\\base\\model.py:607: ConvergenceWarning:\n",
      "\n",
      "Maximum Likelihood optimization failed to converge. Check mle_retvals\n",
      "\n",
      "C:\\Users\\user\\anaconda3\\Lib\\site-packages\\statsmodels\\base\\model.py:607: ConvergenceWarning:\n",
      "\n",
      "Maximum Likelihood optimization failed to converge. Check mle_retvals\n",
      "\n",
      "C:\\Users\\user\\anaconda3\\Lib\\site-packages\\statsmodels\\base\\model.py:607: ConvergenceWarning:\n",
      "\n",
      "Maximum Likelihood optimization failed to converge. Check mle_retvals\n",
      "\n",
      "C:\\Users\\user\\anaconda3\\Lib\\site-packages\\statsmodels\\base\\model.py:607: ConvergenceWarning:\n",
      "\n",
      "Maximum Likelihood optimization failed to converge. Check mle_retvals\n",
      "\n",
      "C:\\Users\\user\\anaconda3\\Lib\\site-packages\\statsmodels\\base\\model.py:607: ConvergenceWarning:\n",
      "\n",
      "Maximum Likelihood optimization failed to converge. Check mle_retvals\n",
      "\n",
      "C:\\Users\\user\\anaconda3\\Lib\\site-packages\\statsmodels\\base\\model.py:607: ConvergenceWarning:\n",
      "\n",
      "Maximum Likelihood optimization failed to converge. Check mle_retvals\n",
      "\n",
      "C:\\Users\\user\\anaconda3\\Lib\\site-packages\\statsmodels\\base\\model.py:607: ConvergenceWarning:\n",
      "\n",
      "Maximum Likelihood optimization failed to converge. Check mle_retvals\n",
      "\n",
      "C:\\Users\\user\\anaconda3\\Lib\\site-packages\\statsmodels\\base\\model.py:607: ConvergenceWarning:\n",
      "\n",
      "Maximum Likelihood optimization failed to converge. Check mle_retvals\n",
      "\n",
      "C:\\Users\\user\\anaconda3\\Lib\\site-packages\\statsmodels\\base\\model.py:607: ConvergenceWarning:\n",
      "\n",
      "Maximum Likelihood optimization failed to converge. Check mle_retvals\n",
      "\n",
      "C:\\Users\\user\\anaconda3\\Lib\\site-packages\\statsmodels\\base\\model.py:607: ConvergenceWarning:\n",
      "\n",
      "Maximum Likelihood optimization failed to converge. Check mle_retvals\n",
      "\n",
      "C:\\Users\\user\\anaconda3\\Lib\\site-packages\\statsmodels\\base\\model.py:607: ConvergenceWarning:\n",
      "\n",
      "Maximum Likelihood optimization failed to converge. Check mle_retvals\n",
      "\n",
      "C:\\Users\\user\\anaconda3\\Lib\\site-packages\\statsmodels\\base\\model.py:607: ConvergenceWarning:\n",
      "\n",
      "Maximum Likelihood optimization failed to converge. Check mle_retvals\n",
      "\n",
      "C:\\Users\\user\\anaconda3\\Lib\\site-packages\\statsmodels\\base\\model.py:607: ConvergenceWarning:\n",
      "\n",
      "Maximum Likelihood optimization failed to converge. Check mle_retvals\n",
      "\n",
      "C:\\Users\\user\\anaconda3\\Lib\\site-packages\\statsmodels\\base\\model.py:607: ConvergenceWarning:\n",
      "\n",
      "Maximum Likelihood optimization failed to converge. Check mle_retvals\n",
      "\n",
      "C:\\Users\\user\\anaconda3\\Lib\\site-packages\\statsmodels\\base\\model.py:607: ConvergenceWarning:\n",
      "\n",
      "Maximum Likelihood optimization failed to converge. Check mle_retvals\n",
      "\n",
      "C:\\Users\\user\\anaconda3\\Lib\\site-packages\\statsmodels\\base\\model.py:607: ConvergenceWarning:\n",
      "\n",
      "Maximum Likelihood optimization failed to converge. Check mle_retvals\n",
      "\n",
      "C:\\Users\\user\\anaconda3\\Lib\\site-packages\\statsmodels\\base\\model.py:607: ConvergenceWarning:\n",
      "\n",
      "Maximum Likelihood optimization failed to converge. Check mle_retvals\n",
      "\n",
      "C:\\Users\\user\\anaconda3\\Lib\\site-packages\\statsmodels\\base\\model.py:607: ConvergenceWarning:\n",
      "\n",
      "Maximum Likelihood optimization failed to converge. Check mle_retvals\n",
      "\n",
      "C:\\Users\\user\\anaconda3\\Lib\\site-packages\\statsmodels\\base\\model.py:607: ConvergenceWarning:\n",
      "\n",
      "Maximum Likelihood optimization failed to converge. Check mle_retvals\n",
      "\n",
      "C:\\Users\\user\\anaconda3\\Lib\\site-packages\\statsmodels\\base\\model.py:607: ConvergenceWarning:\n",
      "\n",
      "Maximum Likelihood optimization failed to converge. Check mle_retvals\n",
      "\n",
      "C:\\Users\\user\\anaconda3\\Lib\\site-packages\\statsmodels\\base\\model.py:607: ConvergenceWarning:\n",
      "\n",
      "Maximum Likelihood optimization failed to converge. Check mle_retvals\n",
      "\n",
      "C:\\Users\\user\\anaconda3\\Lib\\site-packages\\statsmodels\\base\\model.py:607: ConvergenceWarning:\n",
      "\n",
      "Maximum Likelihood optimization failed to converge. Check mle_retvals\n",
      "\n",
      "C:\\Users\\user\\anaconda3\\Lib\\site-packages\\statsmodels\\base\\model.py:607: ConvergenceWarning:\n",
      "\n",
      "Maximum Likelihood optimization failed to converge. Check mle_retvals\n",
      "\n",
      "C:\\Users\\user\\anaconda3\\Lib\\site-packages\\statsmodels\\base\\model.py:607: ConvergenceWarning:\n",
      "\n",
      "Maximum Likelihood optimization failed to converge. Check mle_retvals\n",
      "\n",
      "C:\\Users\\user\\anaconda3\\Lib\\site-packages\\statsmodels\\base\\model.py:607: ConvergenceWarning:\n",
      "\n",
      "Maximum Likelihood optimization failed to converge. Check mle_retvals\n",
      "\n",
      "C:\\Users\\user\\anaconda3\\Lib\\site-packages\\statsmodels\\base\\model.py:607: ConvergenceWarning:\n",
      "\n",
      "Maximum Likelihood optimization failed to converge. Check mle_retvals\n",
      "\n",
      "C:\\Users\\user\\anaconda3\\Lib\\site-packages\\statsmodels\\base\\model.py:607: ConvergenceWarning:\n",
      "\n",
      "Maximum Likelihood optimization failed to converge. Check mle_retvals\n",
      "\n",
      "C:\\Users\\user\\anaconda3\\Lib\\site-packages\\statsmodels\\base\\model.py:607: ConvergenceWarning:\n",
      "\n",
      "Maximum Likelihood optimization failed to converge. Check mle_retvals\n",
      "\n",
      "C:\\Users\\user\\anaconda3\\Lib\\site-packages\\statsmodels\\base\\model.py:607: ConvergenceWarning:\n",
      "\n",
      "Maximum Likelihood optimization failed to converge. Check mle_retvals\n",
      "\n",
      "C:\\Users\\user\\anaconda3\\Lib\\site-packages\\statsmodels\\base\\model.py:607: ConvergenceWarning:\n",
      "\n",
      "Maximum Likelihood optimization failed to converge. Check mle_retvals\n",
      "\n",
      "C:\\Users\\user\\anaconda3\\Lib\\site-packages\\statsmodels\\base\\model.py:607: ConvergenceWarning:\n",
      "\n",
      "Maximum Likelihood optimization failed to converge. Check mle_retvals\n",
      "\n",
      "C:\\Users\\user\\anaconda3\\Lib\\site-packages\\statsmodels\\base\\model.py:607: ConvergenceWarning:\n",
      "\n",
      "Maximum Likelihood optimization failed to converge. Check mle_retvals\n",
      "\n",
      "C:\\Users\\user\\anaconda3\\Lib\\site-packages\\statsmodels\\base\\model.py:607: ConvergenceWarning:\n",
      "\n",
      "Maximum Likelihood optimization failed to converge. Check mle_retvals\n",
      "\n",
      "C:\\Users\\user\\anaconda3\\Lib\\site-packages\\statsmodels\\base\\model.py:607: ConvergenceWarning:\n",
      "\n",
      "Maximum Likelihood optimization failed to converge. Check mle_retvals\n",
      "\n",
      "C:\\Users\\user\\anaconda3\\Lib\\site-packages\\statsmodels\\base\\model.py:607: ConvergenceWarning:\n",
      "\n",
      "Maximum Likelihood optimization failed to converge. Check mle_retvals\n",
      "\n",
      "C:\\Users\\user\\anaconda3\\Lib\\site-packages\\statsmodels\\base\\model.py:607: ConvergenceWarning:\n",
      "\n",
      "Maximum Likelihood optimization failed to converge. Check mle_retvals\n",
      "\n",
      "C:\\Users\\user\\anaconda3\\Lib\\site-packages\\statsmodels\\base\\model.py:607: ConvergenceWarning:\n",
      "\n",
      "Maximum Likelihood optimization failed to converge. Check mle_retvals\n",
      "\n",
      "C:\\Users\\user\\anaconda3\\Lib\\site-packages\\statsmodels\\base\\model.py:607: ConvergenceWarning:\n",
      "\n",
      "Maximum Likelihood optimization failed to converge. Check mle_retvals\n",
      "\n",
      "C:\\Users\\user\\anaconda3\\Lib\\site-packages\\statsmodels\\base\\model.py:607: ConvergenceWarning:\n",
      "\n",
      "Maximum Likelihood optimization failed to converge. Check mle_retvals\n",
      "\n",
      "C:\\Users\\user\\anaconda3\\Lib\\site-packages\\statsmodels\\base\\model.py:607: ConvergenceWarning:\n",
      "\n",
      "Maximum Likelihood optimization failed to converge. Check mle_retvals\n",
      "\n",
      "C:\\Users\\user\\anaconda3\\Lib\\site-packages\\statsmodels\\base\\model.py:607: ConvergenceWarning:\n",
      "\n",
      "Maximum Likelihood optimization failed to converge. Check mle_retvals\n",
      "\n",
      "C:\\Users\\user\\anaconda3\\Lib\\site-packages\\statsmodels\\base\\model.py:607: ConvergenceWarning:\n",
      "\n",
      "Maximum Likelihood optimization failed to converge. Check mle_retvals\n",
      "\n",
      "C:\\Users\\user\\anaconda3\\Lib\\site-packages\\statsmodels\\base\\model.py:607: ConvergenceWarning:\n",
      "\n",
      "Maximum Likelihood optimization failed to converge. Check mle_retvals\n",
      "\n",
      "C:\\Users\\user\\anaconda3\\Lib\\site-packages\\statsmodels\\base\\model.py:607: ConvergenceWarning:\n",
      "\n",
      "Maximum Likelihood optimization failed to converge. Check mle_retvals\n",
      "\n",
      "C:\\Users\\user\\anaconda3\\Lib\\site-packages\\statsmodels\\base\\model.py:607: ConvergenceWarning:\n",
      "\n",
      "Maximum Likelihood optimization failed to converge. Check mle_retvals\n",
      "\n",
      "C:\\Users\\user\\anaconda3\\Lib\\site-packages\\statsmodels\\base\\model.py:607: ConvergenceWarning:\n",
      "\n",
      "Maximum Likelihood optimization failed to converge. Check mle_retvals\n",
      "\n",
      "C:\\Users\\user\\anaconda3\\Lib\\site-packages\\statsmodels\\base\\model.py:607: ConvergenceWarning:\n",
      "\n",
      "Maximum Likelihood optimization failed to converge. Check mle_retvals\n",
      "\n",
      "C:\\Users\\user\\anaconda3\\Lib\\site-packages\\statsmodels\\base\\model.py:607: ConvergenceWarning:\n",
      "\n",
      "Maximum Likelihood optimization failed to converge. Check mle_retvals\n",
      "\n",
      "C:\\Users\\user\\anaconda3\\Lib\\site-packages\\statsmodels\\base\\model.py:607: ConvergenceWarning:\n",
      "\n",
      "Maximum Likelihood optimization failed to converge. Check mle_retvals\n",
      "\n",
      "C:\\Users\\user\\anaconda3\\Lib\\site-packages\\statsmodels\\base\\model.py:607: ConvergenceWarning:\n",
      "\n",
      "Maximum Likelihood optimization failed to converge. Check mle_retvals\n",
      "\n",
      "C:\\Users\\user\\anaconda3\\Lib\\site-packages\\statsmodels\\base\\model.py:607: ConvergenceWarning:\n",
      "\n",
      "Maximum Likelihood optimization failed to converge. Check mle_retvals\n",
      "\n",
      "C:\\Users\\user\\anaconda3\\Lib\\site-packages\\statsmodels\\base\\model.py:607: ConvergenceWarning:\n",
      "\n",
      "Maximum Likelihood optimization failed to converge. Check mle_retvals\n",
      "\n",
      "C:\\Users\\user\\anaconda3\\Lib\\site-packages\\statsmodels\\base\\model.py:607: ConvergenceWarning:\n",
      "\n",
      "Maximum Likelihood optimization failed to converge. Check mle_retvals\n",
      "\n",
      "C:\\Users\\user\\anaconda3\\Lib\\site-packages\\statsmodels\\base\\model.py:607: ConvergenceWarning:\n",
      "\n",
      "Maximum Likelihood optimization failed to converge. Check mle_retvals\n",
      "\n",
      "C:\\Users\\user\\anaconda3\\Lib\\site-packages\\statsmodels\\base\\model.py:607: ConvergenceWarning:\n",
      "\n",
      "Maximum Likelihood optimization failed to converge. Check mle_retvals\n",
      "\n",
      "C:\\Users\\user\\anaconda3\\Lib\\site-packages\\statsmodels\\base\\model.py:607: ConvergenceWarning:\n",
      "\n",
      "Maximum Likelihood optimization failed to converge. Check mle_retvals\n",
      "\n",
      "C:\\Users\\user\\anaconda3\\Lib\\site-packages\\statsmodels\\base\\model.py:607: ConvergenceWarning:\n",
      "\n",
      "Maximum Likelihood optimization failed to converge. Check mle_retvals\n",
      "\n",
      "C:\\Users\\user\\anaconda3\\Lib\\site-packages\\statsmodels\\base\\model.py:607: ConvergenceWarning:\n",
      "\n",
      "Maximum Likelihood optimization failed to converge. Check mle_retvals\n",
      "\n",
      "C:\\Users\\user\\anaconda3\\Lib\\site-packages\\statsmodels\\base\\model.py:607: ConvergenceWarning:\n",
      "\n",
      "Maximum Likelihood optimization failed to converge. Check mle_retvals\n",
      "\n",
      "C:\\Users\\user\\anaconda3\\Lib\\site-packages\\statsmodels\\base\\model.py:607: ConvergenceWarning:\n",
      "\n",
      "Maximum Likelihood optimization failed to converge. Check mle_retvals\n",
      "\n",
      "C:\\Users\\user\\anaconda3\\Lib\\site-packages\\statsmodels\\base\\model.py:607: ConvergenceWarning:\n",
      "\n",
      "Maximum Likelihood optimization failed to converge. Check mle_retvals\n",
      "\n",
      "C:\\Users\\user\\anaconda3\\Lib\\site-packages\\statsmodels\\base\\model.py:607: ConvergenceWarning:\n",
      "\n",
      "Maximum Likelihood optimization failed to converge. Check mle_retvals\n",
      "\n",
      "C:\\Users\\user\\anaconda3\\Lib\\site-packages\\statsmodels\\base\\model.py:607: ConvergenceWarning:\n",
      "\n",
      "Maximum Likelihood optimization failed to converge. Check mle_retvals\n",
      "\n",
      "C:\\Users\\user\\anaconda3\\Lib\\site-packages\\statsmodels\\base\\model.py:607: ConvergenceWarning:\n",
      "\n",
      "Maximum Likelihood optimization failed to converge. Check mle_retvals\n",
      "\n",
      "C:\\Users\\user\\anaconda3\\Lib\\site-packages\\statsmodels\\base\\model.py:607: ConvergenceWarning:\n",
      "\n",
      "Maximum Likelihood optimization failed to converge. Check mle_retvals\n",
      "\n",
      "C:\\Users\\user\\anaconda3\\Lib\\site-packages\\statsmodels\\base\\model.py:607: ConvergenceWarning:\n",
      "\n",
      "Maximum Likelihood optimization failed to converge. Check mle_retvals\n",
      "\n",
      "C:\\Users\\user\\anaconda3\\Lib\\site-packages\\statsmodels\\base\\model.py:607: ConvergenceWarning:\n",
      "\n",
      "Maximum Likelihood optimization failed to converge. Check mle_retvals\n",
      "\n",
      "C:\\Users\\user\\anaconda3\\Lib\\site-packages\\statsmodels\\base\\model.py:607: ConvergenceWarning:\n",
      "\n",
      "Maximum Likelihood optimization failed to converge. Check mle_retvals\n",
      "\n",
      "C:\\Users\\user\\anaconda3\\Lib\\site-packages\\statsmodels\\base\\model.py:607: ConvergenceWarning:\n",
      "\n",
      "Maximum Likelihood optimization failed to converge. Check mle_retvals\n",
      "\n",
      "C:\\Users\\user\\anaconda3\\Lib\\site-packages\\statsmodels\\base\\model.py:607: ConvergenceWarning:\n",
      "\n",
      "Maximum Likelihood optimization failed to converge. Check mle_retvals\n",
      "\n",
      "C:\\Users\\user\\anaconda3\\Lib\\site-packages\\statsmodels\\base\\model.py:607: ConvergenceWarning:\n",
      "\n",
      "Maximum Likelihood optimization failed to converge. Check mle_retvals\n",
      "\n",
      "C:\\Users\\user\\anaconda3\\Lib\\site-packages\\statsmodels\\base\\model.py:607: ConvergenceWarning:\n",
      "\n",
      "Maximum Likelihood optimization failed to converge. Check mle_retvals\n",
      "\n",
      "C:\\Users\\user\\anaconda3\\Lib\\site-packages\\statsmodels\\base\\model.py:607: ConvergenceWarning:\n",
      "\n",
      "Maximum Likelihood optimization failed to converge. Check mle_retvals\n",
      "\n",
      "C:\\Users\\user\\anaconda3\\Lib\\site-packages\\statsmodels\\base\\model.py:607: ConvergenceWarning:\n",
      "\n",
      "Maximum Likelihood optimization failed to converge. Check mle_retvals\n",
      "\n",
      "C:\\Users\\user\\anaconda3\\Lib\\site-packages\\statsmodels\\base\\model.py:607: ConvergenceWarning:\n",
      "\n",
      "Maximum Likelihood optimization failed to converge. Check mle_retvals\n",
      "\n",
      "C:\\Users\\user\\anaconda3\\Lib\\site-packages\\statsmodels\\base\\model.py:607: ConvergenceWarning:\n",
      "\n",
      "Maximum Likelihood optimization failed to converge. Check mle_retvals\n",
      "\n",
      "C:\\Users\\user\\anaconda3\\Lib\\site-packages\\statsmodels\\base\\model.py:607: ConvergenceWarning:\n",
      "\n",
      "Maximum Likelihood optimization failed to converge. Check mle_retvals\n",
      "\n",
      "C:\\Users\\user\\anaconda3\\Lib\\site-packages\\statsmodels\\base\\model.py:607: ConvergenceWarning:\n",
      "\n",
      "Maximum Likelihood optimization failed to converge. Check mle_retvals\n",
      "\n",
      "C:\\Users\\user\\anaconda3\\Lib\\site-packages\\statsmodels\\base\\model.py:607: ConvergenceWarning:\n",
      "\n",
      "Maximum Likelihood optimization failed to converge. Check mle_retvals\n",
      "\n",
      "C:\\Users\\user\\anaconda3\\Lib\\site-packages\\statsmodels\\base\\model.py:607: ConvergenceWarning:\n",
      "\n",
      "Maximum Likelihood optimization failed to converge. Check mle_retvals\n",
      "\n",
      "C:\\Users\\user\\anaconda3\\Lib\\site-packages\\statsmodels\\base\\model.py:607: ConvergenceWarning:\n",
      "\n",
      "Maximum Likelihood optimization failed to converge. Check mle_retvals\n",
      "\n",
      "C:\\Users\\user\\anaconda3\\Lib\\site-packages\\statsmodels\\base\\model.py:607: ConvergenceWarning:\n",
      "\n",
      "Maximum Likelihood optimization failed to converge. Check mle_retvals\n",
      "\n",
      "C:\\Users\\user\\anaconda3\\Lib\\site-packages\\statsmodels\\base\\model.py:607: ConvergenceWarning:\n",
      "\n",
      "Maximum Likelihood optimization failed to converge. Check mle_retvals\n",
      "\n",
      "C:\\Users\\user\\anaconda3\\Lib\\site-packages\\statsmodels\\base\\model.py:607: ConvergenceWarning:\n",
      "\n",
      "Maximum Likelihood optimization failed to converge. Check mle_retvals\n",
      "\n",
      "C:\\Users\\user\\anaconda3\\Lib\\site-packages\\statsmodels\\base\\model.py:607: ConvergenceWarning:\n",
      "\n",
      "Maximum Likelihood optimization failed to converge. Check mle_retvals\n",
      "\n",
      "C:\\Users\\user\\anaconda3\\Lib\\site-packages\\statsmodels\\base\\model.py:607: ConvergenceWarning:\n",
      "\n",
      "Maximum Likelihood optimization failed to converge. Check mle_retvals\n",
      "\n",
      "C:\\Users\\user\\anaconda3\\Lib\\site-packages\\statsmodels\\base\\model.py:607: ConvergenceWarning:\n",
      "\n",
      "Maximum Likelihood optimization failed to converge. Check mle_retvals\n",
      "\n",
      "C:\\Users\\user\\anaconda3\\Lib\\site-packages\\statsmodels\\base\\model.py:607: ConvergenceWarning:\n",
      "\n",
      "Maximum Likelihood optimization failed to converge. Check mle_retvals\n",
      "\n",
      "C:\\Users\\user\\anaconda3\\Lib\\site-packages\\statsmodels\\base\\model.py:607: ConvergenceWarning:\n",
      "\n",
      "Maximum Likelihood optimization failed to converge. Check mle_retvals\n",
      "\n",
      "C:\\Users\\user\\anaconda3\\Lib\\site-packages\\statsmodels\\base\\model.py:607: ConvergenceWarning:\n",
      "\n",
      "Maximum Likelihood optimization failed to converge. Check mle_retvals\n",
      "\n",
      "C:\\Users\\user\\anaconda3\\Lib\\site-packages\\statsmodels\\base\\model.py:607: ConvergenceWarning:\n",
      "\n",
      "Maximum Likelihood optimization failed to converge. Check mle_retvals\n",
      "\n",
      "C:\\Users\\user\\anaconda3\\Lib\\site-packages\\statsmodels\\base\\model.py:607: ConvergenceWarning:\n",
      "\n",
      "Maximum Likelihood optimization failed to converge. Check mle_retvals\n",
      "\n",
      "C:\\Users\\user\\anaconda3\\Lib\\site-packages\\statsmodels\\base\\model.py:607: ConvergenceWarning:\n",
      "\n",
      "Maximum Likelihood optimization failed to converge. Check mle_retvals\n",
      "\n",
      "C:\\Users\\user\\anaconda3\\Lib\\site-packages\\statsmodels\\base\\model.py:607: ConvergenceWarning:\n",
      "\n",
      "Maximum Likelihood optimization failed to converge. Check mle_retvals\n",
      "\n",
      "C:\\Users\\user\\anaconda3\\Lib\\site-packages\\statsmodels\\base\\model.py:607: ConvergenceWarning:\n",
      "\n",
      "Maximum Likelihood optimization failed to converge. Check mle_retvals\n",
      "\n",
      "C:\\Users\\user\\anaconda3\\Lib\\site-packages\\statsmodels\\base\\model.py:607: ConvergenceWarning:\n",
      "\n",
      "Maximum Likelihood optimization failed to converge. Check mle_retvals\n",
      "\n",
      "C:\\Users\\user\\anaconda3\\Lib\\site-packages\\statsmodels\\base\\model.py:607: ConvergenceWarning:\n",
      "\n",
      "Maximum Likelihood optimization failed to converge. Check mle_retvals\n",
      "\n",
      "C:\\Users\\user\\anaconda3\\Lib\\site-packages\\statsmodels\\base\\model.py:607: ConvergenceWarning:\n",
      "\n",
      "Maximum Likelihood optimization failed to converge. Check mle_retvals\n",
      "\n",
      "C:\\Users\\user\\anaconda3\\Lib\\site-packages\\statsmodels\\base\\model.py:607: ConvergenceWarning:\n",
      "\n",
      "Maximum Likelihood optimization failed to converge. Check mle_retvals\n",
      "\n",
      "C:\\Users\\user\\anaconda3\\Lib\\site-packages\\statsmodels\\base\\model.py:607: ConvergenceWarning:\n",
      "\n",
      "Maximum Likelihood optimization failed to converge. Check mle_retvals\n",
      "\n",
      "C:\\Users\\user\\anaconda3\\Lib\\site-packages\\statsmodels\\base\\model.py:607: ConvergenceWarning:\n",
      "\n",
      "Maximum Likelihood optimization failed to converge. Check mle_retvals\n",
      "\n",
      "C:\\Users\\user\\anaconda3\\Lib\\site-packages\\statsmodels\\base\\model.py:607: ConvergenceWarning:\n",
      "\n",
      "Maximum Likelihood optimization failed to converge. Check mle_retvals\n",
      "\n",
      "C:\\Users\\user\\anaconda3\\Lib\\site-packages\\statsmodels\\base\\model.py:607: ConvergenceWarning:\n",
      "\n",
      "Maximum Likelihood optimization failed to converge. Check mle_retvals\n",
      "\n",
      "C:\\Users\\user\\anaconda3\\Lib\\site-packages\\statsmodels\\base\\model.py:607: ConvergenceWarning:\n",
      "\n",
      "Maximum Likelihood optimization failed to converge. Check mle_retvals\n",
      "\n",
      "C:\\Users\\user\\anaconda3\\Lib\\site-packages\\statsmodels\\base\\model.py:607: ConvergenceWarning:\n",
      "\n",
      "Maximum Likelihood optimization failed to converge. Check mle_retvals\n",
      "\n",
      "C:\\Users\\user\\anaconda3\\Lib\\site-packages\\statsmodels\\base\\model.py:607: ConvergenceWarning:\n",
      "\n",
      "Maximum Likelihood optimization failed to converge. Check mle_retvals\n",
      "\n",
      "C:\\Users\\user\\anaconda3\\Lib\\site-packages\\statsmodels\\base\\model.py:607: ConvergenceWarning:\n",
      "\n",
      "Maximum Likelihood optimization failed to converge. Check mle_retvals\n",
      "\n",
      "C:\\Users\\user\\anaconda3\\Lib\\site-packages\\statsmodels\\base\\model.py:607: ConvergenceWarning:\n",
      "\n",
      "Maximum Likelihood optimization failed to converge. Check mle_retvals\n",
      "\n",
      "C:\\Users\\user\\anaconda3\\Lib\\site-packages\\statsmodels\\base\\model.py:607: ConvergenceWarning:\n",
      "\n",
      "Maximum Likelihood optimization failed to converge. Check mle_retvals\n",
      "\n",
      "C:\\Users\\user\\anaconda3\\Lib\\site-packages\\statsmodels\\base\\model.py:607: ConvergenceWarning:\n",
      "\n",
      "Maximum Likelihood optimization failed to converge. Check mle_retvals\n",
      "\n",
      "C:\\Users\\user\\anaconda3\\Lib\\site-packages\\statsmodels\\base\\model.py:607: ConvergenceWarning:\n",
      "\n",
      "Maximum Likelihood optimization failed to converge. Check mle_retvals\n",
      "\n",
      "C:\\Users\\user\\anaconda3\\Lib\\site-packages\\statsmodels\\base\\model.py:607: ConvergenceWarning:\n",
      "\n",
      "Maximum Likelihood optimization failed to converge. Check mle_retvals\n",
      "\n",
      "C:\\Users\\user\\anaconda3\\Lib\\site-packages\\statsmodels\\base\\model.py:607: ConvergenceWarning:\n",
      "\n",
      "Maximum Likelihood optimization failed to converge. Check mle_retvals\n",
      "\n",
      "C:\\Users\\user\\anaconda3\\Lib\\site-packages\\statsmodels\\base\\model.py:607: ConvergenceWarning:\n",
      "\n",
      "Maximum Likelihood optimization failed to converge. Check mle_retvals\n",
      "\n",
      "C:\\Users\\user\\anaconda3\\Lib\\site-packages\\statsmodels\\base\\model.py:607: ConvergenceWarning:\n",
      "\n",
      "Maximum Likelihood optimization failed to converge. Check mle_retvals\n",
      "\n",
      "C:\\Users\\user\\anaconda3\\Lib\\site-packages\\statsmodels\\base\\model.py:607: ConvergenceWarning:\n",
      "\n",
      "Maximum Likelihood optimization failed to converge. Check mle_retvals\n",
      "\n",
      "C:\\Users\\user\\anaconda3\\Lib\\site-packages\\statsmodels\\base\\model.py:607: ConvergenceWarning:\n",
      "\n",
      "Maximum Likelihood optimization failed to converge. Check mle_retvals\n",
      "\n",
      "C:\\Users\\user\\anaconda3\\Lib\\site-packages\\statsmodels\\base\\model.py:607: ConvergenceWarning:\n",
      "\n",
      "Maximum Likelihood optimization failed to converge. Check mle_retvals\n",
      "\n",
      "C:\\Users\\user\\anaconda3\\Lib\\site-packages\\statsmodels\\base\\model.py:607: ConvergenceWarning:\n",
      "\n",
      "Maximum Likelihood optimization failed to converge. Check mle_retvals\n",
      "\n",
      "C:\\Users\\user\\anaconda3\\Lib\\site-packages\\statsmodels\\base\\model.py:607: ConvergenceWarning:\n",
      "\n",
      "Maximum Likelihood optimization failed to converge. Check mle_retvals\n",
      "\n",
      "C:\\Users\\user\\anaconda3\\Lib\\site-packages\\statsmodels\\base\\model.py:607: ConvergenceWarning:\n",
      "\n",
      "Maximum Likelihood optimization failed to converge. Check mle_retvals\n",
      "\n",
      "C:\\Users\\user\\anaconda3\\Lib\\site-packages\\statsmodels\\base\\model.py:607: ConvergenceWarning:\n",
      "\n",
      "Maximum Likelihood optimization failed to converge. Check mle_retvals\n",
      "\n",
      "C:\\Users\\user\\anaconda3\\Lib\\site-packages\\statsmodels\\base\\model.py:607: ConvergenceWarning:\n",
      "\n",
      "Maximum Likelihood optimization failed to converge. Check mle_retvals\n",
      "\n",
      "C:\\Users\\user\\anaconda3\\Lib\\site-packages\\statsmodels\\base\\model.py:607: ConvergenceWarning:\n",
      "\n",
      "Maximum Likelihood optimization failed to converge. Check mle_retvals\n",
      "\n",
      "C:\\Users\\user\\anaconda3\\Lib\\site-packages\\statsmodels\\base\\model.py:607: ConvergenceWarning:\n",
      "\n",
      "Maximum Likelihood optimization failed to converge. Check mle_retvals\n",
      "\n",
      "C:\\Users\\user\\anaconda3\\Lib\\site-packages\\statsmodels\\base\\model.py:607: ConvergenceWarning:\n",
      "\n",
      "Maximum Likelihood optimization failed to converge. Check mle_retvals\n",
      "\n",
      "C:\\Users\\user\\anaconda3\\Lib\\site-packages\\statsmodels\\base\\model.py:607: ConvergenceWarning:\n",
      "\n",
      "Maximum Likelihood optimization failed to converge. Check mle_retvals\n",
      "\n",
      "C:\\Users\\user\\anaconda3\\Lib\\site-packages\\statsmodels\\base\\model.py:607: ConvergenceWarning:\n",
      "\n",
      "Maximum Likelihood optimization failed to converge. Check mle_retvals\n",
      "\n",
      "C:\\Users\\user\\anaconda3\\Lib\\site-packages\\statsmodels\\base\\model.py:607: ConvergenceWarning:\n",
      "\n",
      "Maximum Likelihood optimization failed to converge. Check mle_retvals\n",
      "\n",
      "C:\\Users\\user\\anaconda3\\Lib\\site-packages\\statsmodels\\base\\model.py:607: ConvergenceWarning:\n",
      "\n",
      "Maximum Likelihood optimization failed to converge. Check mle_retvals\n",
      "\n",
      "C:\\Users\\user\\anaconda3\\Lib\\site-packages\\statsmodels\\base\\model.py:607: ConvergenceWarning:\n",
      "\n",
      "Maximum Likelihood optimization failed to converge. Check mle_retvals\n",
      "\n",
      "C:\\Users\\user\\anaconda3\\Lib\\site-packages\\statsmodels\\base\\model.py:607: ConvergenceWarning:\n",
      "\n",
      "Maximum Likelihood optimization failed to converge. Check mle_retvals\n",
      "\n",
      "C:\\Users\\user\\anaconda3\\Lib\\site-packages\\statsmodels\\base\\model.py:607: ConvergenceWarning:\n",
      "\n",
      "Maximum Likelihood optimization failed to converge. Check mle_retvals\n",
      "\n",
      "C:\\Users\\user\\anaconda3\\Lib\\site-packages\\statsmodels\\base\\model.py:607: ConvergenceWarning:\n",
      "\n",
      "Maximum Likelihood optimization failed to converge. Check mle_retvals\n",
      "\n",
      "C:\\Users\\user\\anaconda3\\Lib\\site-packages\\statsmodels\\base\\model.py:607: ConvergenceWarning:\n",
      "\n",
      "Maximum Likelihood optimization failed to converge. Check mle_retvals\n",
      "\n",
      "C:\\Users\\user\\anaconda3\\Lib\\site-packages\\statsmodels\\base\\model.py:607: ConvergenceWarning:\n",
      "\n",
      "Maximum Likelihood optimization failed to converge. Check mle_retvals\n",
      "\n",
      "C:\\Users\\user\\anaconda3\\Lib\\site-packages\\statsmodels\\base\\model.py:607: ConvergenceWarning:\n",
      "\n",
      "Maximum Likelihood optimization failed to converge. Check mle_retvals\n",
      "\n",
      "C:\\Users\\user\\anaconda3\\Lib\\site-packages\\statsmodels\\base\\model.py:607: ConvergenceWarning:\n",
      "\n",
      "Maximum Likelihood optimization failed to converge. Check mle_retvals\n",
      "\n",
      "C:\\Users\\user\\anaconda3\\Lib\\site-packages\\statsmodels\\base\\model.py:607: ConvergenceWarning:\n",
      "\n",
      "Maximum Likelihood optimization failed to converge. Check mle_retvals\n",
      "\n",
      "C:\\Users\\user\\anaconda3\\Lib\\site-packages\\statsmodels\\base\\model.py:607: ConvergenceWarning:\n",
      "\n",
      "Maximum Likelihood optimization failed to converge. Check mle_retvals\n",
      "\n",
      "C:\\Users\\user\\anaconda3\\Lib\\site-packages\\statsmodels\\base\\model.py:607: ConvergenceWarning:\n",
      "\n",
      "Maximum Likelihood optimization failed to converge. Check mle_retvals\n",
      "\n",
      "C:\\Users\\user\\anaconda3\\Lib\\site-packages\\statsmodels\\base\\model.py:607: ConvergenceWarning:\n",
      "\n",
      "Maximum Likelihood optimization failed to converge. Check mle_retvals\n",
      "\n",
      "C:\\Users\\user\\anaconda3\\Lib\\site-packages\\statsmodels\\base\\model.py:607: ConvergenceWarning:\n",
      "\n",
      "Maximum Likelihood optimization failed to converge. Check mle_retvals\n",
      "\n",
      "C:\\Users\\user\\anaconda3\\Lib\\site-packages\\statsmodels\\base\\model.py:607: ConvergenceWarning:\n",
      "\n",
      "Maximum Likelihood optimization failed to converge. Check mle_retvals\n",
      "\n",
      "C:\\Users\\user\\anaconda3\\Lib\\site-packages\\statsmodels\\base\\model.py:607: ConvergenceWarning:\n",
      "\n",
      "Maximum Likelihood optimization failed to converge. Check mle_retvals\n",
      "\n",
      "C:\\Users\\user\\anaconda3\\Lib\\site-packages\\statsmodels\\base\\model.py:607: ConvergenceWarning:\n",
      "\n",
      "Maximum Likelihood optimization failed to converge. Check mle_retvals\n",
      "\n",
      "C:\\Users\\user\\anaconda3\\Lib\\site-packages\\statsmodels\\base\\model.py:607: ConvergenceWarning:\n",
      "\n",
      "Maximum Likelihood optimization failed to converge. Check mle_retvals\n",
      "\n",
      "C:\\Users\\user\\anaconda3\\Lib\\site-packages\\statsmodels\\base\\model.py:607: ConvergenceWarning:\n",
      "\n",
      "Maximum Likelihood optimization failed to converge. Check mle_retvals\n",
      "\n"
     ]
    }
   ],
   "source": [
    "# Walk Forward Validation\n",
    "\n",
    "y_pred_wfv = pd.Series()\n",
    "history = train.copy()\n",
    "for i in range(len(test)):\n",
    "     model = SARIMAX(history, order=(3,1,1), seasonal_order=(2,0,2,4)).fit()\n",
    "     next_pred = model.forecast()\n",
    "     y_pred_wfv = pd.concat([y_pred_wfv, next_pred])\n",
    "     history = pd.concat([history, test[next_pred.index]])\n",
    "\n",
    "# Best model:  ARIMA(3,1,1)(2,0,2)[4]"
   ]
  },
  {
   "cell_type": "code",
   "execution_count": 17,
   "id": "e9da0feb-40b8-42a9-967a-9d58705bf6f5",
   "metadata": {},
   "outputs": [
    {
     "data": {
      "text/html": [
       "<div>\n",
       "<style scoped>\n",
       "    .dataframe tbody tr th:only-of-type {\n",
       "        vertical-align: middle;\n",
       "    }\n",
       "\n",
       "    .dataframe tbody tr th {\n",
       "        vertical-align: top;\n",
       "    }\n",
       "\n",
       "    .dataframe thead th {\n",
       "        text-align: right;\n",
       "    }\n",
       "</style>\n",
       "<table border=\"1\" class=\"dataframe\">\n",
       "  <thead>\n",
       "    <tr style=\"text-align: right;\">\n",
       "      <th></th>\n",
       "      <th>y_test</th>\n",
       "      <th>y_pred</th>\n",
       "    </tr>\n",
       "    <tr>\n",
       "      <th>date</th>\n",
       "      <th></th>\n",
       "      <th></th>\n",
       "    </tr>\n",
       "  </thead>\n",
       "  <tbody>\n",
       "    <tr>\n",
       "      <th>2025-03-31 06:00:00+01:00</th>\n",
       "      <td>8.744196</td>\n",
       "      <td>10.202063</td>\n",
       "    </tr>\n",
       "    <tr>\n",
       "      <th>2025-03-31 12:00:00+01:00</th>\n",
       "      <td>8.608147</td>\n",
       "      <td>10.055354</td>\n",
       "    </tr>\n",
       "    <tr>\n",
       "      <th>2025-03-31 18:00:00+01:00</th>\n",
       "      <td>8.472098</td>\n",
       "      <td>9.818381</td>\n",
       "    </tr>\n",
       "    <tr>\n",
       "      <th>2025-04-01 00:00:00+01:00</th>\n",
       "      <td>8.336049</td>\n",
       "      <td>9.695974</td>\n",
       "    </tr>\n",
       "    <tr>\n",
       "      <th>2025-04-01 06:00:00+01:00</th>\n",
       "      <td>8.200000</td>\n",
       "      <td>9.563694</td>\n",
       "    </tr>\n",
       "  </tbody>\n",
       "</table>\n",
       "</div>"
      ],
      "text/plain": [
       "                             y_test     y_pred\n",
       "date                                          \n",
       "2025-03-31 06:00:00+01:00  8.744196  10.202063\n",
       "2025-03-31 12:00:00+01:00  8.608147  10.055354\n",
       "2025-03-31 18:00:00+01:00  8.472098   9.818381\n",
       "2025-04-01 00:00:00+01:00  8.336049   9.695974\n",
       "2025-04-01 06:00:00+01:00  8.200000   9.563694"
      ]
     },
     "execution_count": 17,
     "metadata": {},
     "output_type": "execute_result"
    }
   ],
   "source": [
    "df_pred_wfv = pd.DataFrame({\n",
    "            'y_test':test,\n",
    "            'y_pred':y_pred_wfv\n",
    "}, index = test.index)\n",
    "df_pred_wfv.tail()"
   ]
  },
  {
   "cell_type": "code",
   "execution_count": 18,
   "id": "17d71f6e-79d6-4dc5-8091-bb6e9127358d",
   "metadata": {},
   "outputs": [
    {
     "data": {
      "application/vnd.plotly.v1+json": {
       "config": {
        "plotlyServerURL": "https://plot.ly"
       },
       "data": [
        {
         "hovertemplate": "variable=y_test<br>date=%{x}<br>PM2.5=%{y}<extra></extra>",
         "legendgroup": "y_test",
         "line": {
          "color": "#636efa",
          "dash": "solid"
         },
         "marker": {
          "symbol": "circle"
         },
         "mode": "lines",
         "name": "y_test",
         "orientation": "v",
         "showlegend": true,
         "type": "scatter",
         "x": [
          "2024-12-19T00:00:00.000000000",
          "2024-12-19T06:00:00.000000000",
          "2024-12-19T12:00:00.000000000",
          "2024-12-19T18:00:00.000000000",
          "2024-12-20T00:00:00.000000000",
          "2024-12-20T06:00:00.000000000",
          "2024-12-20T12:00:00.000000000",
          "2024-12-20T18:00:00.000000000",
          "2024-12-21T00:00:00.000000000",
          "2024-12-21T06:00:00.000000000",
          "2024-12-21T12:00:00.000000000",
          "2024-12-21T18:00:00.000000000",
          "2024-12-22T00:00:00.000000000",
          "2024-12-22T06:00:00.000000000",
          "2024-12-22T12:00:00.000000000",
          "2024-12-22T18:00:00.000000000",
          "2024-12-23T00:00:00.000000000",
          "2024-12-23T06:00:00.000000000",
          "2024-12-23T12:00:00.000000000",
          "2024-12-23T18:00:00.000000000",
          "2024-12-24T00:00:00.000000000",
          "2024-12-24T06:00:00.000000000",
          "2024-12-24T12:00:00.000000000",
          "2024-12-24T18:00:00.000000000",
          "2024-12-25T00:00:00.000000000",
          "2024-12-25T06:00:00.000000000",
          "2024-12-25T12:00:00.000000000",
          "2024-12-25T18:00:00.000000000",
          "2024-12-26T00:00:00.000000000",
          "2024-12-26T06:00:00.000000000",
          "2024-12-26T12:00:00.000000000",
          "2024-12-26T18:00:00.000000000",
          "2024-12-27T00:00:00.000000000",
          "2024-12-27T06:00:00.000000000",
          "2024-12-27T12:00:00.000000000",
          "2024-12-27T18:00:00.000000000",
          "2024-12-28T00:00:00.000000000",
          "2024-12-28T06:00:00.000000000",
          "2024-12-28T12:00:00.000000000",
          "2024-12-28T18:00:00.000000000",
          "2024-12-29T00:00:00.000000000",
          "2024-12-29T06:00:00.000000000",
          "2024-12-29T12:00:00.000000000",
          "2024-12-29T18:00:00.000000000",
          "2024-12-30T00:00:00.000000000",
          "2024-12-30T06:00:00.000000000",
          "2024-12-30T12:00:00.000000000",
          "2024-12-30T18:00:00.000000000",
          "2024-12-31T00:00:00.000000000",
          "2024-12-31T06:00:00.000000000",
          "2024-12-31T12:00:00.000000000",
          "2024-12-31T18:00:00.000000000",
          "2025-01-01T00:00:00.000000000",
          "2025-01-01T06:00:00.000000000",
          "2025-01-01T12:00:00.000000000",
          "2025-01-01T18:00:00.000000000",
          "2025-01-02T00:00:00.000000000",
          "2025-01-02T06:00:00.000000000",
          "2025-01-02T12:00:00.000000000",
          "2025-01-02T18:00:00.000000000",
          "2025-01-03T00:00:00.000000000",
          "2025-01-03T06:00:00.000000000",
          "2025-01-03T12:00:00.000000000",
          "2025-01-03T18:00:00.000000000",
          "2025-01-04T00:00:00.000000000",
          "2025-01-04T06:00:00.000000000",
          "2025-01-04T12:00:00.000000000",
          "2025-01-04T18:00:00.000000000",
          "2025-01-05T00:00:00.000000000",
          "2025-01-05T06:00:00.000000000",
          "2025-01-05T12:00:00.000000000",
          "2025-01-05T18:00:00.000000000",
          "2025-01-06T00:00:00.000000000",
          "2025-01-06T06:00:00.000000000",
          "2025-01-06T12:00:00.000000000",
          "2025-01-06T18:00:00.000000000",
          "2025-01-07T00:00:00.000000000",
          "2025-01-07T06:00:00.000000000",
          "2025-01-07T12:00:00.000000000",
          "2025-01-07T18:00:00.000000000",
          "2025-01-08T00:00:00.000000000",
          "2025-01-08T06:00:00.000000000",
          "2025-01-08T12:00:00.000000000",
          "2025-01-08T18:00:00.000000000",
          "2025-01-09T00:00:00.000000000",
          "2025-01-09T06:00:00.000000000",
          "2025-01-09T12:00:00.000000000",
          "2025-01-09T18:00:00.000000000",
          "2025-01-10T00:00:00.000000000",
          "2025-01-10T06:00:00.000000000",
          "2025-01-10T12:00:00.000000000",
          "2025-01-10T18:00:00.000000000",
          "2025-01-11T00:00:00.000000000",
          "2025-01-11T06:00:00.000000000",
          "2025-01-11T12:00:00.000000000",
          "2025-01-11T18:00:00.000000000",
          "2025-01-12T00:00:00.000000000",
          "2025-01-12T06:00:00.000000000",
          "2025-01-12T12:00:00.000000000",
          "2025-01-12T18:00:00.000000000",
          "2025-01-13T00:00:00.000000000",
          "2025-01-13T06:00:00.000000000",
          "2025-01-13T12:00:00.000000000",
          "2025-01-13T18:00:00.000000000",
          "2025-01-14T00:00:00.000000000",
          "2025-01-14T06:00:00.000000000",
          "2025-01-14T12:00:00.000000000",
          "2025-01-14T18:00:00.000000000",
          "2025-01-15T00:00:00.000000000",
          "2025-01-15T06:00:00.000000000",
          "2025-01-15T12:00:00.000000000",
          "2025-01-15T18:00:00.000000000",
          "2025-01-16T00:00:00.000000000",
          "2025-01-16T06:00:00.000000000",
          "2025-01-16T12:00:00.000000000",
          "2025-01-16T18:00:00.000000000",
          "2025-01-17T00:00:00.000000000",
          "2025-01-17T06:00:00.000000000",
          "2025-01-17T12:00:00.000000000",
          "2025-01-17T18:00:00.000000000",
          "2025-01-18T00:00:00.000000000",
          "2025-01-18T06:00:00.000000000",
          "2025-01-18T12:00:00.000000000",
          "2025-01-18T18:00:00.000000000",
          "2025-01-19T00:00:00.000000000",
          "2025-01-19T06:00:00.000000000",
          "2025-01-19T12:00:00.000000000",
          "2025-01-19T18:00:00.000000000",
          "2025-01-20T00:00:00.000000000",
          "2025-01-20T06:00:00.000000000",
          "2025-01-20T12:00:00.000000000",
          "2025-01-20T18:00:00.000000000",
          "2025-01-21T00:00:00.000000000",
          "2025-01-21T06:00:00.000000000",
          "2025-01-21T12:00:00.000000000",
          "2025-01-21T18:00:00.000000000",
          "2025-01-22T00:00:00.000000000",
          "2025-01-22T06:00:00.000000000",
          "2025-01-22T12:00:00.000000000",
          "2025-01-22T18:00:00.000000000",
          "2025-01-23T00:00:00.000000000",
          "2025-01-23T06:00:00.000000000",
          "2025-01-23T12:00:00.000000000",
          "2025-01-23T18:00:00.000000000",
          "2025-01-24T00:00:00.000000000",
          "2025-01-24T06:00:00.000000000",
          "2025-01-24T12:00:00.000000000",
          "2025-01-24T18:00:00.000000000",
          "2025-01-25T00:00:00.000000000",
          "2025-01-25T06:00:00.000000000",
          "2025-01-25T12:00:00.000000000",
          "2025-01-25T18:00:00.000000000",
          "2025-01-26T00:00:00.000000000",
          "2025-01-26T06:00:00.000000000",
          "2025-01-26T12:00:00.000000000",
          "2025-01-26T18:00:00.000000000",
          "2025-01-27T00:00:00.000000000",
          "2025-01-27T06:00:00.000000000",
          "2025-01-27T12:00:00.000000000",
          "2025-01-27T18:00:00.000000000",
          "2025-01-28T00:00:00.000000000",
          "2025-01-28T06:00:00.000000000",
          "2025-01-28T12:00:00.000000000",
          "2025-01-28T18:00:00.000000000",
          "2025-01-29T00:00:00.000000000",
          "2025-01-29T06:00:00.000000000",
          "2025-01-29T12:00:00.000000000",
          "2025-01-29T18:00:00.000000000",
          "2025-01-30T00:00:00.000000000",
          "2025-01-30T06:00:00.000000000",
          "2025-01-30T12:00:00.000000000",
          "2025-01-30T18:00:00.000000000",
          "2025-01-31T00:00:00.000000000",
          "2025-01-31T06:00:00.000000000",
          "2025-01-31T12:00:00.000000000",
          "2025-01-31T18:00:00.000000000",
          "2025-02-01T00:00:00.000000000",
          "2025-02-01T06:00:00.000000000",
          "2025-02-01T12:00:00.000000000",
          "2025-02-01T18:00:00.000000000",
          "2025-02-02T00:00:00.000000000",
          "2025-02-02T06:00:00.000000000",
          "2025-02-02T12:00:00.000000000",
          "2025-02-02T18:00:00.000000000",
          "2025-02-03T00:00:00.000000000",
          "2025-02-03T06:00:00.000000000",
          "2025-02-03T12:00:00.000000000",
          "2025-02-03T18:00:00.000000000",
          "2025-02-04T00:00:00.000000000",
          "2025-02-04T06:00:00.000000000",
          "2025-02-04T12:00:00.000000000",
          "2025-02-04T18:00:00.000000000",
          "2025-02-05T00:00:00.000000000",
          "2025-02-05T06:00:00.000000000",
          "2025-02-05T12:00:00.000000000",
          "2025-02-05T18:00:00.000000000",
          "2025-02-06T00:00:00.000000000",
          "2025-02-06T06:00:00.000000000",
          "2025-02-06T12:00:00.000000000",
          "2025-02-06T18:00:00.000000000",
          "2025-02-07T00:00:00.000000000",
          "2025-02-07T06:00:00.000000000",
          "2025-02-07T12:00:00.000000000",
          "2025-02-07T18:00:00.000000000",
          "2025-02-08T00:00:00.000000000",
          "2025-02-08T06:00:00.000000000",
          "2025-02-08T12:00:00.000000000",
          "2025-02-08T18:00:00.000000000",
          "2025-02-09T00:00:00.000000000",
          "2025-02-09T06:00:00.000000000",
          "2025-02-09T12:00:00.000000000",
          "2025-02-09T18:00:00.000000000",
          "2025-02-10T00:00:00.000000000",
          "2025-02-10T06:00:00.000000000",
          "2025-02-10T12:00:00.000000000",
          "2025-02-10T18:00:00.000000000",
          "2025-02-11T00:00:00.000000000",
          "2025-02-11T06:00:00.000000000",
          "2025-02-11T12:00:00.000000000",
          "2025-02-11T18:00:00.000000000",
          "2025-02-12T00:00:00.000000000",
          "2025-02-12T06:00:00.000000000",
          "2025-02-12T12:00:00.000000000",
          "2025-02-12T18:00:00.000000000",
          "2025-02-13T00:00:00.000000000",
          "2025-02-13T06:00:00.000000000",
          "2025-02-13T12:00:00.000000000",
          "2025-02-13T18:00:00.000000000",
          "2025-02-14T00:00:00.000000000",
          "2025-02-14T06:00:00.000000000",
          "2025-02-14T12:00:00.000000000",
          "2025-02-14T18:00:00.000000000",
          "2025-02-15T00:00:00.000000000",
          "2025-02-15T06:00:00.000000000",
          "2025-02-15T12:00:00.000000000",
          "2025-02-15T18:00:00.000000000",
          "2025-02-16T00:00:00.000000000",
          "2025-02-16T06:00:00.000000000",
          "2025-02-16T12:00:00.000000000",
          "2025-02-16T18:00:00.000000000",
          "2025-02-17T00:00:00.000000000",
          "2025-02-17T06:00:00.000000000",
          "2025-02-17T12:00:00.000000000",
          "2025-02-17T18:00:00.000000000",
          "2025-02-18T00:00:00.000000000",
          "2025-02-18T06:00:00.000000000",
          "2025-02-18T12:00:00.000000000",
          "2025-02-18T18:00:00.000000000",
          "2025-02-19T00:00:00.000000000",
          "2025-02-19T06:00:00.000000000",
          "2025-02-19T12:00:00.000000000",
          "2025-02-19T18:00:00.000000000",
          "2025-02-20T00:00:00.000000000",
          "2025-02-20T06:00:00.000000000",
          "2025-02-20T12:00:00.000000000",
          "2025-02-20T18:00:00.000000000",
          "2025-02-21T00:00:00.000000000",
          "2025-02-21T06:00:00.000000000",
          "2025-02-21T12:00:00.000000000",
          "2025-02-21T18:00:00.000000000",
          "2025-02-22T00:00:00.000000000",
          "2025-02-22T06:00:00.000000000",
          "2025-02-22T12:00:00.000000000",
          "2025-02-22T18:00:00.000000000",
          "2025-02-23T00:00:00.000000000",
          "2025-02-23T06:00:00.000000000",
          "2025-02-23T12:00:00.000000000",
          "2025-02-23T18:00:00.000000000",
          "2025-02-24T00:00:00.000000000",
          "2025-02-24T06:00:00.000000000",
          "2025-02-24T12:00:00.000000000",
          "2025-02-24T18:00:00.000000000",
          "2025-02-25T00:00:00.000000000",
          "2025-02-25T06:00:00.000000000",
          "2025-02-25T12:00:00.000000000",
          "2025-02-25T18:00:00.000000000",
          "2025-02-26T00:00:00.000000000",
          "2025-02-26T06:00:00.000000000",
          "2025-02-26T12:00:00.000000000",
          "2025-02-26T18:00:00.000000000",
          "2025-02-27T00:00:00.000000000",
          "2025-02-27T06:00:00.000000000",
          "2025-02-27T12:00:00.000000000",
          "2025-02-27T18:00:00.000000000",
          "2025-02-28T00:00:00.000000000",
          "2025-02-28T06:00:00.000000000",
          "2025-02-28T12:00:00.000000000",
          "2025-02-28T18:00:00.000000000",
          "2025-03-01T00:00:00.000000000",
          "2025-03-01T06:00:00.000000000",
          "2025-03-01T12:00:00.000000000",
          "2025-03-01T18:00:00.000000000",
          "2025-03-02T00:00:00.000000000",
          "2025-03-02T06:00:00.000000000",
          "2025-03-02T12:00:00.000000000",
          "2025-03-02T18:00:00.000000000",
          "2025-03-03T00:00:00.000000000",
          "2025-03-03T06:00:00.000000000",
          "2025-03-03T12:00:00.000000000",
          "2025-03-03T18:00:00.000000000",
          "2025-03-04T00:00:00.000000000",
          "2025-03-04T06:00:00.000000000",
          "2025-03-04T12:00:00.000000000",
          "2025-03-04T18:00:00.000000000",
          "2025-03-05T00:00:00.000000000",
          "2025-03-05T06:00:00.000000000",
          "2025-03-05T12:00:00.000000000",
          "2025-03-05T18:00:00.000000000",
          "2025-03-06T00:00:00.000000000",
          "2025-03-06T06:00:00.000000000",
          "2025-03-06T12:00:00.000000000",
          "2025-03-06T18:00:00.000000000",
          "2025-03-07T00:00:00.000000000",
          "2025-03-07T06:00:00.000000000",
          "2025-03-07T12:00:00.000000000",
          "2025-03-07T18:00:00.000000000",
          "2025-03-08T00:00:00.000000000",
          "2025-03-08T06:00:00.000000000",
          "2025-03-08T12:00:00.000000000",
          "2025-03-08T18:00:00.000000000",
          "2025-03-09T00:00:00.000000000",
          "2025-03-09T06:00:00.000000000",
          "2025-03-09T12:00:00.000000000",
          "2025-03-09T18:00:00.000000000",
          "2025-03-10T00:00:00.000000000",
          "2025-03-10T06:00:00.000000000",
          "2025-03-10T12:00:00.000000000",
          "2025-03-10T18:00:00.000000000",
          "2025-03-11T00:00:00.000000000",
          "2025-03-11T06:00:00.000000000",
          "2025-03-11T12:00:00.000000000",
          "2025-03-11T18:00:00.000000000",
          "2025-03-12T00:00:00.000000000",
          "2025-03-12T06:00:00.000000000",
          "2025-03-12T12:00:00.000000000",
          "2025-03-12T18:00:00.000000000",
          "2025-03-13T00:00:00.000000000",
          "2025-03-13T06:00:00.000000000",
          "2025-03-13T12:00:00.000000000",
          "2025-03-13T18:00:00.000000000",
          "2025-03-14T00:00:00.000000000",
          "2025-03-14T06:00:00.000000000",
          "2025-03-14T12:00:00.000000000",
          "2025-03-14T18:00:00.000000000",
          "2025-03-15T00:00:00.000000000",
          "2025-03-15T06:00:00.000000000",
          "2025-03-15T12:00:00.000000000",
          "2025-03-15T18:00:00.000000000",
          "2025-03-16T00:00:00.000000000",
          "2025-03-16T06:00:00.000000000",
          "2025-03-16T12:00:00.000000000",
          "2025-03-16T18:00:00.000000000",
          "2025-03-17T00:00:00.000000000",
          "2025-03-17T06:00:00.000000000",
          "2025-03-17T12:00:00.000000000",
          "2025-03-17T18:00:00.000000000",
          "2025-03-18T00:00:00.000000000",
          "2025-03-18T06:00:00.000000000",
          "2025-03-18T12:00:00.000000000",
          "2025-03-18T18:00:00.000000000",
          "2025-03-19T00:00:00.000000000",
          "2025-03-19T06:00:00.000000000",
          "2025-03-19T12:00:00.000000000",
          "2025-03-19T18:00:00.000000000",
          "2025-03-20T00:00:00.000000000",
          "2025-03-20T06:00:00.000000000",
          "2025-03-20T12:00:00.000000000",
          "2025-03-20T18:00:00.000000000",
          "2025-03-21T00:00:00.000000000",
          "2025-03-21T06:00:00.000000000",
          "2025-03-21T12:00:00.000000000",
          "2025-03-21T18:00:00.000000000",
          "2025-03-22T00:00:00.000000000",
          "2025-03-22T06:00:00.000000000",
          "2025-03-22T12:00:00.000000000",
          "2025-03-22T18:00:00.000000000",
          "2025-03-23T00:00:00.000000000",
          "2025-03-23T06:00:00.000000000",
          "2025-03-23T12:00:00.000000000",
          "2025-03-23T18:00:00.000000000",
          "2025-03-24T00:00:00.000000000",
          "2025-03-24T06:00:00.000000000",
          "2025-03-24T12:00:00.000000000",
          "2025-03-24T18:00:00.000000000",
          "2025-03-25T00:00:00.000000000",
          "2025-03-25T06:00:00.000000000",
          "2025-03-25T12:00:00.000000000",
          "2025-03-25T18:00:00.000000000",
          "2025-03-26T00:00:00.000000000",
          "2025-03-26T06:00:00.000000000",
          "2025-03-26T12:00:00.000000000",
          "2025-03-26T18:00:00.000000000",
          "2025-03-27T00:00:00.000000000",
          "2025-03-27T06:00:00.000000000",
          "2025-03-27T12:00:00.000000000",
          "2025-03-27T18:00:00.000000000",
          "2025-03-28T00:00:00.000000000",
          "2025-03-28T06:00:00.000000000",
          "2025-03-28T12:00:00.000000000",
          "2025-03-28T18:00:00.000000000",
          "2025-03-29T00:00:00.000000000",
          "2025-03-29T06:00:00.000000000",
          "2025-03-29T12:00:00.000000000",
          "2025-03-29T18:00:00.000000000",
          "2025-03-30T00:00:00.000000000",
          "2025-03-30T06:00:00.000000000",
          "2025-03-30T12:00:00.000000000",
          "2025-03-30T18:00:00.000000000",
          "2025-03-31T00:00:00.000000000",
          "2025-03-31T06:00:00.000000000",
          "2025-03-31T12:00:00.000000000",
          "2025-03-31T18:00:00.000000000",
          "2025-04-01T00:00:00.000000000",
          "2025-04-01T06:00:00.000000000"
         ],
         "xaxis": "x",
         "y": {
          "bdata": "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",
          "dtype": "f8"
         },
         "yaxis": "y"
        },
        {
         "hovertemplate": "variable=y_pred<br>date=%{x}<br>PM2.5=%{y}<extra></extra>",
         "legendgroup": "y_pred",
         "line": {
          "color": "#EF553B",
          "dash": "solid"
         },
         "marker": {
          "symbol": "circle"
         },
         "mode": "lines",
         "name": "y_pred",
         "orientation": "v",
         "showlegend": true,
         "type": "scatter",
         "x": [
          "2024-12-19T00:00:00.000000000",
          "2024-12-19T06:00:00.000000000",
          "2024-12-19T12:00:00.000000000",
          "2024-12-19T18:00:00.000000000",
          "2024-12-20T00:00:00.000000000",
          "2024-12-20T06:00:00.000000000",
          "2024-12-20T12:00:00.000000000",
          "2024-12-20T18:00:00.000000000",
          "2024-12-21T00:00:00.000000000",
          "2024-12-21T06:00:00.000000000",
          "2024-12-21T12:00:00.000000000",
          "2024-12-21T18:00:00.000000000",
          "2024-12-22T00:00:00.000000000",
          "2024-12-22T06:00:00.000000000",
          "2024-12-22T12:00:00.000000000",
          "2024-12-22T18:00:00.000000000",
          "2024-12-23T00:00:00.000000000",
          "2024-12-23T06:00:00.000000000",
          "2024-12-23T12:00:00.000000000",
          "2024-12-23T18:00:00.000000000",
          "2024-12-24T00:00:00.000000000",
          "2024-12-24T06:00:00.000000000",
          "2024-12-24T12:00:00.000000000",
          "2024-12-24T18:00:00.000000000",
          "2024-12-25T00:00:00.000000000",
          "2024-12-25T06:00:00.000000000",
          "2024-12-25T12:00:00.000000000",
          "2024-12-25T18:00:00.000000000",
          "2024-12-26T00:00:00.000000000",
          "2024-12-26T06:00:00.000000000",
          "2024-12-26T12:00:00.000000000",
          "2024-12-26T18:00:00.000000000",
          "2024-12-27T00:00:00.000000000",
          "2024-12-27T06:00:00.000000000",
          "2024-12-27T12:00:00.000000000",
          "2024-12-27T18:00:00.000000000",
          "2024-12-28T00:00:00.000000000",
          "2024-12-28T06:00:00.000000000",
          "2024-12-28T12:00:00.000000000",
          "2024-12-28T18:00:00.000000000",
          "2024-12-29T00:00:00.000000000",
          "2024-12-29T06:00:00.000000000",
          "2024-12-29T12:00:00.000000000",
          "2024-12-29T18:00:00.000000000",
          "2024-12-30T00:00:00.000000000",
          "2024-12-30T06:00:00.000000000",
          "2024-12-30T12:00:00.000000000",
          "2024-12-30T18:00:00.000000000",
          "2024-12-31T00:00:00.000000000",
          "2024-12-31T06:00:00.000000000",
          "2024-12-31T12:00:00.000000000",
          "2024-12-31T18:00:00.000000000",
          "2025-01-01T00:00:00.000000000",
          "2025-01-01T06:00:00.000000000",
          "2025-01-01T12:00:00.000000000",
          "2025-01-01T18:00:00.000000000",
          "2025-01-02T00:00:00.000000000",
          "2025-01-02T06:00:00.000000000",
          "2025-01-02T12:00:00.000000000",
          "2025-01-02T18:00:00.000000000",
          "2025-01-03T00:00:00.000000000",
          "2025-01-03T06:00:00.000000000",
          "2025-01-03T12:00:00.000000000",
          "2025-01-03T18:00:00.000000000",
          "2025-01-04T00:00:00.000000000",
          "2025-01-04T06:00:00.000000000",
          "2025-01-04T12:00:00.000000000",
          "2025-01-04T18:00:00.000000000",
          "2025-01-05T00:00:00.000000000",
          "2025-01-05T06:00:00.000000000",
          "2025-01-05T12:00:00.000000000",
          "2025-01-05T18:00:00.000000000",
          "2025-01-06T00:00:00.000000000",
          "2025-01-06T06:00:00.000000000",
          "2025-01-06T12:00:00.000000000",
          "2025-01-06T18:00:00.000000000",
          "2025-01-07T00:00:00.000000000",
          "2025-01-07T06:00:00.000000000",
          "2025-01-07T12:00:00.000000000",
          "2025-01-07T18:00:00.000000000",
          "2025-01-08T00:00:00.000000000",
          "2025-01-08T06:00:00.000000000",
          "2025-01-08T12:00:00.000000000",
          "2025-01-08T18:00:00.000000000",
          "2025-01-09T00:00:00.000000000",
          "2025-01-09T06:00:00.000000000",
          "2025-01-09T12:00:00.000000000",
          "2025-01-09T18:00:00.000000000",
          "2025-01-10T00:00:00.000000000",
          "2025-01-10T06:00:00.000000000",
          "2025-01-10T12:00:00.000000000",
          "2025-01-10T18:00:00.000000000",
          "2025-01-11T00:00:00.000000000",
          "2025-01-11T06:00:00.000000000",
          "2025-01-11T12:00:00.000000000",
          "2025-01-11T18:00:00.000000000",
          "2025-01-12T00:00:00.000000000",
          "2025-01-12T06:00:00.000000000",
          "2025-01-12T12:00:00.000000000",
          "2025-01-12T18:00:00.000000000",
          "2025-01-13T00:00:00.000000000",
          "2025-01-13T06:00:00.000000000",
          "2025-01-13T12:00:00.000000000",
          "2025-01-13T18:00:00.000000000",
          "2025-01-14T00:00:00.000000000",
          "2025-01-14T06:00:00.000000000",
          "2025-01-14T12:00:00.000000000",
          "2025-01-14T18:00:00.000000000",
          "2025-01-15T00:00:00.000000000",
          "2025-01-15T06:00:00.000000000",
          "2025-01-15T12:00:00.000000000",
          "2025-01-15T18:00:00.000000000",
          "2025-01-16T00:00:00.000000000",
          "2025-01-16T06:00:00.000000000",
          "2025-01-16T12:00:00.000000000",
          "2025-01-16T18:00:00.000000000",
          "2025-01-17T00:00:00.000000000",
          "2025-01-17T06:00:00.000000000",
          "2025-01-17T12:00:00.000000000",
          "2025-01-17T18:00:00.000000000",
          "2025-01-18T00:00:00.000000000",
          "2025-01-18T06:00:00.000000000",
          "2025-01-18T12:00:00.000000000",
          "2025-01-18T18:00:00.000000000",
          "2025-01-19T00:00:00.000000000",
          "2025-01-19T06:00:00.000000000",
          "2025-01-19T12:00:00.000000000",
          "2025-01-19T18:00:00.000000000",
          "2025-01-20T00:00:00.000000000",
          "2025-01-20T06:00:00.000000000",
          "2025-01-20T12:00:00.000000000",
          "2025-01-20T18:00:00.000000000",
          "2025-01-21T00:00:00.000000000",
          "2025-01-21T06:00:00.000000000",
          "2025-01-21T12:00:00.000000000",
          "2025-01-21T18:00:00.000000000",
          "2025-01-22T00:00:00.000000000",
          "2025-01-22T06:00:00.000000000",
          "2025-01-22T12:00:00.000000000",
          "2025-01-22T18:00:00.000000000",
          "2025-01-23T00:00:00.000000000",
          "2025-01-23T06:00:00.000000000",
          "2025-01-23T12:00:00.000000000",
          "2025-01-23T18:00:00.000000000",
          "2025-01-24T00:00:00.000000000",
          "2025-01-24T06:00:00.000000000",
          "2025-01-24T12:00:00.000000000",
          "2025-01-24T18:00:00.000000000",
          "2025-01-25T00:00:00.000000000",
          "2025-01-25T06:00:00.000000000",
          "2025-01-25T12:00:00.000000000",
          "2025-01-25T18:00:00.000000000",
          "2025-01-26T00:00:00.000000000",
          "2025-01-26T06:00:00.000000000",
          "2025-01-26T12:00:00.000000000",
          "2025-01-26T18:00:00.000000000",
          "2025-01-27T00:00:00.000000000",
          "2025-01-27T06:00:00.000000000",
          "2025-01-27T12:00:00.000000000",
          "2025-01-27T18:00:00.000000000",
          "2025-01-28T00:00:00.000000000",
          "2025-01-28T06:00:00.000000000",
          "2025-01-28T12:00:00.000000000",
          "2025-01-28T18:00:00.000000000",
          "2025-01-29T00:00:00.000000000",
          "2025-01-29T06:00:00.000000000",
          "2025-01-29T12:00:00.000000000",
          "2025-01-29T18:00:00.000000000",
          "2025-01-30T00:00:00.000000000",
          "2025-01-30T06:00:00.000000000",
          "2025-01-30T12:00:00.000000000",
          "2025-01-30T18:00:00.000000000",
          "2025-01-31T00:00:00.000000000",
          "2025-01-31T06:00:00.000000000",
          "2025-01-31T12:00:00.000000000",
          "2025-01-31T18:00:00.000000000",
          "2025-02-01T00:00:00.000000000",
          "2025-02-01T06:00:00.000000000",
          "2025-02-01T12:00:00.000000000",
          "2025-02-01T18:00:00.000000000",
          "2025-02-02T00:00:00.000000000",
          "2025-02-02T06:00:00.000000000",
          "2025-02-02T12:00:00.000000000",
          "2025-02-02T18:00:00.000000000",
          "2025-02-03T00:00:00.000000000",
          "2025-02-03T06:00:00.000000000",
          "2025-02-03T12:00:00.000000000",
          "2025-02-03T18:00:00.000000000",
          "2025-02-04T00:00:00.000000000",
          "2025-02-04T06:00:00.000000000",
          "2025-02-04T12:00:00.000000000",
          "2025-02-04T18:00:00.000000000",
          "2025-02-05T00:00:00.000000000",
          "2025-02-05T06:00:00.000000000",
          "2025-02-05T12:00:00.000000000",
          "2025-02-05T18:00:00.000000000",
          "2025-02-06T00:00:00.000000000",
          "2025-02-06T06:00:00.000000000",
          "2025-02-06T12:00:00.000000000",
          "2025-02-06T18:00:00.000000000",
          "2025-02-07T00:00:00.000000000",
          "2025-02-07T06:00:00.000000000",
          "2025-02-07T12:00:00.000000000",
          "2025-02-07T18:00:00.000000000",
          "2025-02-08T00:00:00.000000000",
          "2025-02-08T06:00:00.000000000",
          "2025-02-08T12:00:00.000000000",
          "2025-02-08T18:00:00.000000000",
          "2025-02-09T00:00:00.000000000",
          "2025-02-09T06:00:00.000000000",
          "2025-02-09T12:00:00.000000000",
          "2025-02-09T18:00:00.000000000",
          "2025-02-10T00:00:00.000000000",
          "2025-02-10T06:00:00.000000000",
          "2025-02-10T12:00:00.000000000",
          "2025-02-10T18:00:00.000000000",
          "2025-02-11T00:00:00.000000000",
          "2025-02-11T06:00:00.000000000",
          "2025-02-11T12:00:00.000000000",
          "2025-02-11T18:00:00.000000000",
          "2025-02-12T00:00:00.000000000",
          "2025-02-12T06:00:00.000000000",
          "2025-02-12T12:00:00.000000000",
          "2025-02-12T18:00:00.000000000",
          "2025-02-13T00:00:00.000000000",
          "2025-02-13T06:00:00.000000000",
          "2025-02-13T12:00:00.000000000",
          "2025-02-13T18:00:00.000000000",
          "2025-02-14T00:00:00.000000000",
          "2025-02-14T06:00:00.000000000",
          "2025-02-14T12:00:00.000000000",
          "2025-02-14T18:00:00.000000000",
          "2025-02-15T00:00:00.000000000",
          "2025-02-15T06:00:00.000000000",
          "2025-02-15T12:00:00.000000000",
          "2025-02-15T18:00:00.000000000",
          "2025-02-16T00:00:00.000000000",
          "2025-02-16T06:00:00.000000000",
          "2025-02-16T12:00:00.000000000",
          "2025-02-16T18:00:00.000000000",
          "2025-02-17T00:00:00.000000000",
          "2025-02-17T06:00:00.000000000",
          "2025-02-17T12:00:00.000000000",
          "2025-02-17T18:00:00.000000000",
          "2025-02-18T00:00:00.000000000",
          "2025-02-18T06:00:00.000000000",
          "2025-02-18T12:00:00.000000000",
          "2025-02-18T18:00:00.000000000",
          "2025-02-19T00:00:00.000000000",
          "2025-02-19T06:00:00.000000000",
          "2025-02-19T12:00:00.000000000",
          "2025-02-19T18:00:00.000000000",
          "2025-02-20T00:00:00.000000000",
          "2025-02-20T06:00:00.000000000",
          "2025-02-20T12:00:00.000000000",
          "2025-02-20T18:00:00.000000000",
          "2025-02-21T00:00:00.000000000",
          "2025-02-21T06:00:00.000000000",
          "2025-02-21T12:00:00.000000000",
          "2025-02-21T18:00:00.000000000",
          "2025-02-22T00:00:00.000000000",
          "2025-02-22T06:00:00.000000000",
          "2025-02-22T12:00:00.000000000",
          "2025-02-22T18:00:00.000000000",
          "2025-02-23T00:00:00.000000000",
          "2025-02-23T06:00:00.000000000",
          "2025-02-23T12:00:00.000000000",
          "2025-02-23T18:00:00.000000000",
          "2025-02-24T00:00:00.000000000",
          "2025-02-24T06:00:00.000000000",
          "2025-02-24T12:00:00.000000000",
          "2025-02-24T18:00:00.000000000",
          "2025-02-25T00:00:00.000000000",
          "2025-02-25T06:00:00.000000000",
          "2025-02-25T12:00:00.000000000",
          "2025-02-25T18:00:00.000000000",
          "2025-02-26T00:00:00.000000000",
          "2025-02-26T06:00:00.000000000",
          "2025-02-26T12:00:00.000000000",
          "2025-02-26T18:00:00.000000000",
          "2025-02-27T00:00:00.000000000",
          "2025-02-27T06:00:00.000000000",
          "2025-02-27T12:00:00.000000000",
          "2025-02-27T18:00:00.000000000",
          "2025-02-28T00:00:00.000000000",
          "2025-02-28T06:00:00.000000000",
          "2025-02-28T12:00:00.000000000",
          "2025-02-28T18:00:00.000000000",
          "2025-03-01T00:00:00.000000000",
          "2025-03-01T06:00:00.000000000",
          "2025-03-01T12:00:00.000000000",
          "2025-03-01T18:00:00.000000000",
          "2025-03-02T00:00:00.000000000",
          "2025-03-02T06:00:00.000000000",
          "2025-03-02T12:00:00.000000000",
          "2025-03-02T18:00:00.000000000",
          "2025-03-03T00:00:00.000000000",
          "2025-03-03T06:00:00.000000000",
          "2025-03-03T12:00:00.000000000",
          "2025-03-03T18:00:00.000000000",
          "2025-03-04T00:00:00.000000000",
          "2025-03-04T06:00:00.000000000",
          "2025-03-04T12:00:00.000000000",
          "2025-03-04T18:00:00.000000000",
          "2025-03-05T00:00:00.000000000",
          "2025-03-05T06:00:00.000000000",
          "2025-03-05T12:00:00.000000000",
          "2025-03-05T18:00:00.000000000",
          "2025-03-06T00:00:00.000000000",
          "2025-03-06T06:00:00.000000000",
          "2025-03-06T12:00:00.000000000",
          "2025-03-06T18:00:00.000000000",
          "2025-03-07T00:00:00.000000000",
          "2025-03-07T06:00:00.000000000",
          "2025-03-07T12:00:00.000000000",
          "2025-03-07T18:00:00.000000000",
          "2025-03-08T00:00:00.000000000",
          "2025-03-08T06:00:00.000000000",
          "2025-03-08T12:00:00.000000000",
          "2025-03-08T18:00:00.000000000",
          "2025-03-09T00:00:00.000000000",
          "2025-03-09T06:00:00.000000000",
          "2025-03-09T12:00:00.000000000",
          "2025-03-09T18:00:00.000000000",
          "2025-03-10T00:00:00.000000000",
          "2025-03-10T06:00:00.000000000",
          "2025-03-10T12:00:00.000000000",
          "2025-03-10T18:00:00.000000000",
          "2025-03-11T00:00:00.000000000",
          "2025-03-11T06:00:00.000000000",
          "2025-03-11T12:00:00.000000000",
          "2025-03-11T18:00:00.000000000",
          "2025-03-12T00:00:00.000000000",
          "2025-03-12T06:00:00.000000000",
          "2025-03-12T12:00:00.000000000",
          "2025-03-12T18:00:00.000000000",
          "2025-03-13T00:00:00.000000000",
          "2025-03-13T06:00:00.000000000",
          "2025-03-13T12:00:00.000000000",
          "2025-03-13T18:00:00.000000000",
          "2025-03-14T00:00:00.000000000",
          "2025-03-14T06:00:00.000000000",
          "2025-03-14T12:00:00.000000000",
          "2025-03-14T18:00:00.000000000",
          "2025-03-15T00:00:00.000000000",
          "2025-03-15T06:00:00.000000000",
          "2025-03-15T12:00:00.000000000",
          "2025-03-15T18:00:00.000000000",
          "2025-03-16T00:00:00.000000000",
          "2025-03-16T06:00:00.000000000",
          "2025-03-16T12:00:00.000000000",
          "2025-03-16T18:00:00.000000000",
          "2025-03-17T00:00:00.000000000",
          "2025-03-17T06:00:00.000000000",
          "2025-03-17T12:00:00.000000000",
          "2025-03-17T18:00:00.000000000",
          "2025-03-18T00:00:00.000000000",
          "2025-03-18T06:00:00.000000000",
          "2025-03-18T12:00:00.000000000",
          "2025-03-18T18:00:00.000000000",
          "2025-03-19T00:00:00.000000000",
          "2025-03-19T06:00:00.000000000",
          "2025-03-19T12:00:00.000000000",
          "2025-03-19T18:00:00.000000000",
          "2025-03-20T00:00:00.000000000",
          "2025-03-20T06:00:00.000000000",
          "2025-03-20T12:00:00.000000000",
          "2025-03-20T18:00:00.000000000",
          "2025-03-21T00:00:00.000000000",
          "2025-03-21T06:00:00.000000000",
          "2025-03-21T12:00:00.000000000",
          "2025-03-21T18:00:00.000000000",
          "2025-03-22T00:00:00.000000000",
          "2025-03-22T06:00:00.000000000",
          "2025-03-22T12:00:00.000000000",
          "2025-03-22T18:00:00.000000000",
          "2025-03-23T00:00:00.000000000",
          "2025-03-23T06:00:00.000000000",
          "2025-03-23T12:00:00.000000000",
          "2025-03-23T18:00:00.000000000",
          "2025-03-24T00:00:00.000000000",
          "2025-03-24T06:00:00.000000000",
          "2025-03-24T12:00:00.000000000",
          "2025-03-24T18:00:00.000000000",
          "2025-03-25T00:00:00.000000000",
          "2025-03-25T06:00:00.000000000",
          "2025-03-25T12:00:00.000000000",
          "2025-03-25T18:00:00.000000000",
          "2025-03-26T00:00:00.000000000",
          "2025-03-26T06:00:00.000000000",
          "2025-03-26T12:00:00.000000000",
          "2025-03-26T18:00:00.000000000",
          "2025-03-27T00:00:00.000000000",
          "2025-03-27T06:00:00.000000000",
          "2025-03-27T12:00:00.000000000",
          "2025-03-27T18:00:00.000000000",
          "2025-03-28T00:00:00.000000000",
          "2025-03-28T06:00:00.000000000",
          "2025-03-28T12:00:00.000000000",
          "2025-03-28T18:00:00.000000000",
          "2025-03-29T00:00:00.000000000",
          "2025-03-29T06:00:00.000000000",
          "2025-03-29T12:00:00.000000000",
          "2025-03-29T18:00:00.000000000",
          "2025-03-30T00:00:00.000000000",
          "2025-03-30T06:00:00.000000000",
          "2025-03-30T12:00:00.000000000",
          "2025-03-30T18:00:00.000000000",
          "2025-03-31T00:00:00.000000000",
          "2025-03-31T06:00:00.000000000",
          "2025-03-31T12:00:00.000000000",
          "2025-03-31T18:00:00.000000000",
          "2025-04-01T00:00:00.000000000",
          "2025-04-01T06:00:00.000000000"
         ],
         "xaxis": "x",
         "y": {
          "bdata": "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",
          "dtype": "f8"
         },
         "yaxis": "y"
        }
       ],
       "layout": {
        "legend": {
         "title": {
          "text": "variable"
         },
         "tracegroupgap": 0
        },
        "template": {
         "data": {
          "bar": [
           {
            "error_x": {
             "color": "#2a3f5f"
            },
            "error_y": {
             "color": "#2a3f5f"
            },
            "marker": {
             "line": {
              "color": "#E5ECF6",
              "width": 0.5
             },
             "pattern": {
              "fillmode": "overlay",
              "size": 10,
              "solidity": 0.2
             }
            },
            "type": "bar"
           }
          ],
          "barpolar": [
           {
            "marker": {
             "line": {
              "color": "#E5ECF6",
              "width": 0.5
             },
             "pattern": {
              "fillmode": "overlay",
              "size": 10,
              "solidity": 0.2
             }
            },
            "type": "barpolar"
           }
          ],
          "carpet": [
           {
            "aaxis": {
             "endlinecolor": "#2a3f5f",
             "gridcolor": "white",
             "linecolor": "white",
             "minorgridcolor": "white",
             "startlinecolor": "#2a3f5f"
            },
            "baxis": {
             "endlinecolor": "#2a3f5f",
             "gridcolor": "white",
             "linecolor": "white",
             "minorgridcolor": "white",
             "startlinecolor": "#2a3f5f"
            },
            "type": "carpet"
           }
          ],
          "choropleth": [
           {
            "colorbar": {
             "outlinewidth": 0,
             "ticks": ""
            },
            "type": "choropleth"
           }
          ],
          "contour": [
           {
            "colorbar": {
             "outlinewidth": 0,
             "ticks": ""
            },
            "colorscale": [
             [
              0,
              "#0d0887"
             ],
             [
              0.1111111111111111,
              "#46039f"
             ],
             [
              0.2222222222222222,
              "#7201a8"
             ],
             [
              0.3333333333333333,
              "#9c179e"
             ],
             [
              0.4444444444444444,
              "#bd3786"
             ],
             [
              0.5555555555555556,
              "#d8576b"
             ],
             [
              0.6666666666666666,
              "#ed7953"
             ],
             [
              0.7777777777777778,
              "#fb9f3a"
             ],
             [
              0.8888888888888888,
              "#fdca26"
             ],
             [
              1,
              "#f0f921"
             ]
            ],
            "type": "contour"
           }
          ],
          "contourcarpet": [
           {
            "colorbar": {
             "outlinewidth": 0,
             "ticks": ""
            },
            "type": "contourcarpet"
           }
          ],
          "heatmap": [
           {
            "colorbar": {
             "outlinewidth": 0,
             "ticks": ""
            },
            "colorscale": [
             [
              0,
              "#0d0887"
             ],
             [
              0.1111111111111111,
              "#46039f"
             ],
             [
              0.2222222222222222,
              "#7201a8"
             ],
             [
              0.3333333333333333,
              "#9c179e"
             ],
             [
              0.4444444444444444,
              "#bd3786"
             ],
             [
              0.5555555555555556,
              "#d8576b"
             ],
             [
              0.6666666666666666,
              "#ed7953"
             ],
             [
              0.7777777777777778,
              "#fb9f3a"
             ],
             [
              0.8888888888888888,
              "#fdca26"
             ],
             [
              1,
              "#f0f921"
             ]
            ],
            "type": "heatmap"
           }
          ],
          "histogram": [
           {
            "marker": {
             "pattern": {
              "fillmode": "overlay",
              "size": 10,
              "solidity": 0.2
             }
            },
            "type": "histogram"
           }
          ],
          "histogram2d": [
           {
            "colorbar": {
             "outlinewidth": 0,
             "ticks": ""
            },
            "colorscale": [
             [
              0,
              "#0d0887"
             ],
             [
              0.1111111111111111,
              "#46039f"
             ],
             [
              0.2222222222222222,
              "#7201a8"
             ],
             [
              0.3333333333333333,
              "#9c179e"
             ],
             [
              0.4444444444444444,
              "#bd3786"
             ],
             [
              0.5555555555555556,
              "#d8576b"
             ],
             [
              0.6666666666666666,
              "#ed7953"
             ],
             [
              0.7777777777777778,
              "#fb9f3a"
             ],
             [
              0.8888888888888888,
              "#fdca26"
             ],
             [
              1,
              "#f0f921"
             ]
            ],
            "type": "histogram2d"
           }
          ],
          "histogram2dcontour": [
           {
            "colorbar": {
             "outlinewidth": 0,
             "ticks": ""
            },
            "colorscale": [
             [
              0,
              "#0d0887"
             ],
             [
              0.1111111111111111,
              "#46039f"
             ],
             [
              0.2222222222222222,
              "#7201a8"
             ],
             [
              0.3333333333333333,
              "#9c179e"
             ],
             [
              0.4444444444444444,
              "#bd3786"
             ],
             [
              0.5555555555555556,
              "#d8576b"
             ],
             [
              0.6666666666666666,
              "#ed7953"
             ],
             [
              0.7777777777777778,
              "#fb9f3a"
             ],
             [
              0.8888888888888888,
              "#fdca26"
             ],
             [
              1,
              "#f0f921"
             ]
            ],
            "type": "histogram2dcontour"
           }
          ],
          "mesh3d": [
           {
            "colorbar": {
             "outlinewidth": 0,
             "ticks": ""
            },
            "type": "mesh3d"
           }
          ],
          "parcoords": [
           {
            "line": {
             "colorbar": {
              "outlinewidth": 0,
              "ticks": ""
             }
            },
            "type": "parcoords"
           }
          ],
          "pie": [
           {
            "automargin": true,
            "type": "pie"
           }
          ],
          "scatter": [
           {
            "fillpattern": {
             "fillmode": "overlay",
             "size": 10,
             "solidity": 0.2
            },
            "type": "scatter"
           }
          ],
          "scatter3d": [
           {
            "line": {
             "colorbar": {
              "outlinewidth": 0,
              "ticks": ""
             }
            },
            "marker": {
             "colorbar": {
              "outlinewidth": 0,
              "ticks": ""
             }
            },
            "type": "scatter3d"
           }
          ],
          "scattercarpet": [
           {
            "marker": {
             "colorbar": {
              "outlinewidth": 0,
              "ticks": ""
             }
            },
            "type": "scattercarpet"
           }
          ],
          "scattergeo": [
           {
            "marker": {
             "colorbar": {
              "outlinewidth": 0,
              "ticks": ""
             }
            },
            "type": "scattergeo"
           }
          ],
          "scattergl": [
           {
            "marker": {
             "colorbar": {
              "outlinewidth": 0,
              "ticks": ""
             }
            },
            "type": "scattergl"
           }
          ],
          "scattermap": [
           {
            "marker": {
             "colorbar": {
              "outlinewidth": 0,
              "ticks": ""
             }
            },
            "type": "scattermap"
           }
          ],
          "scattermapbox": [
           {
            "marker": {
             "colorbar": {
              "outlinewidth": 0,
              "ticks": ""
             }
            },
            "type": "scattermapbox"
           }
          ],
          "scatterpolar": [
           {
            "marker": {
             "colorbar": {
              "outlinewidth": 0,
              "ticks": ""
             }
            },
            "type": "scatterpolar"
           }
          ],
          "scatterpolargl": [
           {
            "marker": {
             "colorbar": {
              "outlinewidth": 0,
              "ticks": ""
             }
            },
            "type": "scatterpolargl"
           }
          ],
          "scatterternary": [
           {
            "marker": {
             "colorbar": {
              "outlinewidth": 0,
              "ticks": ""
             }
            },
            "type": "scatterternary"
           }
          ],
          "surface": [
           {
            "colorbar": {
             "outlinewidth": 0,
             "ticks": ""
            },
            "colorscale": [
             [
              0,
              "#0d0887"
             ],
             [
              0.1111111111111111,
              "#46039f"
             ],
             [
              0.2222222222222222,
              "#7201a8"
             ],
             [
              0.3333333333333333,
              "#9c179e"
             ],
             [
              0.4444444444444444,
              "#bd3786"
             ],
             [
              0.5555555555555556,
              "#d8576b"
             ],
             [
              0.6666666666666666,
              "#ed7953"
             ],
             [
              0.7777777777777778,
              "#fb9f3a"
             ],
             [
              0.8888888888888888,
              "#fdca26"
             ],
             [
              1,
              "#f0f921"
             ]
            ],
            "type": "surface"
           }
          ],
          "table": [
           {
            "cells": {
             "fill": {
              "color": "#EBF0F8"
             },
             "line": {
              "color": "white"
             }
            },
            "header": {
             "fill": {
              "color": "#C8D4E3"
             },
             "line": {
              "color": "white"
             }
            },
            "type": "table"
           }
          ]
         },
         "layout": {
          "annotationdefaults": {
           "arrowcolor": "#2a3f5f",
           "arrowhead": 0,
           "arrowwidth": 1
          },
          "autotypenumbers": "strict",
          "coloraxis": {
           "colorbar": {
            "outlinewidth": 0,
            "ticks": ""
           }
          },
          "colorscale": {
           "diverging": [
            [
             0,
             "#8e0152"
            ],
            [
             0.1,
             "#c51b7d"
            ],
            [
             0.2,
             "#de77ae"
            ],
            [
             0.3,
             "#f1b6da"
            ],
            [
             0.4,
             "#fde0ef"
            ],
            [
             0.5,
             "#f7f7f7"
            ],
            [
             0.6,
             "#e6f5d0"
            ],
            [
             0.7,
             "#b8e186"
            ],
            [
             0.8,
             "#7fbc41"
            ],
            [
             0.9,
             "#4d9221"
            ],
            [
             1,
             "#276419"
            ]
           ],
           "sequential": [
            [
             0,
             "#0d0887"
            ],
            [
             0.1111111111111111,
             "#46039f"
            ],
            [
             0.2222222222222222,
             "#7201a8"
            ],
            [
             0.3333333333333333,
             "#9c179e"
            ],
            [
             0.4444444444444444,
             "#bd3786"
            ],
            [
             0.5555555555555556,
             "#d8576b"
            ],
            [
             0.6666666666666666,
             "#ed7953"
            ],
            [
             0.7777777777777778,
             "#fb9f3a"
            ],
            [
             0.8888888888888888,
             "#fdca26"
            ],
            [
             1,
             "#f0f921"
            ]
           ],
           "sequentialminus": [
            [
             0,
             "#0d0887"
            ],
            [
             0.1111111111111111,
             "#46039f"
            ],
            [
             0.2222222222222222,
             "#7201a8"
            ],
            [
             0.3333333333333333,
             "#9c179e"
            ],
            [
             0.4444444444444444,
             "#bd3786"
            ],
            [
             0.5555555555555556,
             "#d8576b"
            ],
            [
             0.6666666666666666,
             "#ed7953"
            ],
            [
             0.7777777777777778,
             "#fb9f3a"
            ],
            [
             0.8888888888888888,
             "#fdca26"
            ],
            [
             1,
             "#f0f921"
            ]
           ]
          },
          "colorway": [
           "#636efa",
           "#EF553B",
           "#00cc96",
           "#ab63fa",
           "#FFA15A",
           "#19d3f3",
           "#FF6692",
           "#B6E880",
           "#FF97FF",
           "#FECB52"
          ],
          "font": {
           "color": "#2a3f5f"
          },
          "geo": {
           "bgcolor": "white",
           "lakecolor": "white",
           "landcolor": "#E5ECF6",
           "showlakes": true,
           "showland": true,
           "subunitcolor": "white"
          },
          "hoverlabel": {
           "align": "left"
          },
          "hovermode": "closest",
          "mapbox": {
           "style": "light"
          },
          "paper_bgcolor": "white",
          "plot_bgcolor": "#E5ECF6",
          "polar": {
           "angularaxis": {
            "gridcolor": "white",
            "linecolor": "white",
            "ticks": ""
           },
           "bgcolor": "#E5ECF6",
           "radialaxis": {
            "gridcolor": "white",
            "linecolor": "white",
            "ticks": ""
           }
          },
          "scene": {
           "xaxis": {
            "backgroundcolor": "#E5ECF6",
            "gridcolor": "white",
            "gridwidth": 2,
            "linecolor": "white",
            "showbackground": true,
            "ticks": "",
            "zerolinecolor": "white"
           },
           "yaxis": {
            "backgroundcolor": "#E5ECF6",
            "gridcolor": "white",
            "gridwidth": 2,
            "linecolor": "white",
            "showbackground": true,
            "ticks": "",
            "zerolinecolor": "white"
           },
           "zaxis": {
            "backgroundcolor": "#E5ECF6",
            "gridcolor": "white",
            "gridwidth": 2,
            "linecolor": "white",
            "showbackground": true,
            "ticks": "",
            "zerolinecolor": "white"
           }
          },
          "shapedefaults": {
           "line": {
            "color": "#2a3f5f"
           }
          },
          "ternary": {
           "aaxis": {
            "gridcolor": "white",
            "linecolor": "white",
            "ticks": ""
           },
           "baxis": {
            "gridcolor": "white",
            "linecolor": "white",
            "ticks": ""
           },
           "bgcolor": "#E5ECF6",
           "caxis": {
            "gridcolor": "white",
            "linecolor": "white",
            "ticks": ""
           }
          },
          "title": {
           "x": 0.05
          },
          "xaxis": {
           "automargin": true,
           "gridcolor": "white",
           "linecolor": "white",
           "ticks": "",
           "title": {
            "standoff": 15
           },
           "zerolinecolor": "white",
           "zerolinewidth": 2
          },
          "yaxis": {
           "automargin": true,
           "gridcolor": "white",
           "linecolor": "white",
           "ticks": "",
           "title": {
            "standoff": 15
           },
           "zerolinecolor": "white",
           "zerolinewidth": 2
          }
         }
        },
        "title": {
         "text": "Walk forward Validation Prediction and Actual Test data"
        },
        "xaxis": {
         "anchor": "y",
         "domain": [
          0,
          1
         ],
         "title": {
          "text": "date"
         }
        },
        "yaxis": {
         "anchor": "x",
         "domain": [
          0,
          1
         ],
         "title": {
          "text": "PM2.5"
         }
        }
       }
      },
      "image/png": "[encoded data removed]"
     },
     "metadata": {},
     "output_type": "display_data"
    }
   ],
   "source": [
    "fig = px.line(\n",
    "    data_frame= df_pred_wfv,\n",
    "    title = \"Walk forward Validation Prediction and Actual Test data\",\n",
    "    labels= {\"value\" : \"PM2.5\"}\n",
    ")\n",
    "\n",
    "fig.show()"
   ]
  },
  {
   "cell_type": "code",
   "execution_count": 19,
   "id": "1ea907e8-ccd2-4aac-8d39-88fc8909171a",
   "metadata": {},
   "outputs": [
    {
     "name": "stdout",
     "output_type": "stream",
     "text": [
      "AR Model - MSE: 42.63\n",
      "AR Model - MAE: 3.44\n"
     ]
    }
   ],
   "source": [
    "# Evaluation of the Walk forward Validation Prediction\n",
    "\n",
    "mse = mean_squared_error(test, y_pred_wfv)\n",
    "mae = mean_absolute_error(test, y_pred_wfv)\n",
    "\n",
    "print(f\"AR Model - MSE: {mse:.2f}\")\n",
    "print(f\"AR Model - MAE: {mae:.2f}\")"
   ]
  },
  {
   "cell_type": "markdown",
   "id": "14c3259f-139c-4b33-86b5-5a39d39c6c09",
   "metadata": {},
   "source": [
    "# Saving Best Performing Model (SARIMA)\n",
    "\n",
    "- save the model as .pkl\n",
    "- save the summary log as .txt\n",
    "- save the work forward validation DataFrame as .csv"
   ]
  },
  {
   "cell_type": "code",
   "execution_count": 28,
   "id": "f1c42b0b-49b3-4eb5-8585-cc443ca2d2f3",
   "metadata": {},
   "outputs": [],
   "source": [
    "# Get current timestamp in ISO format, replacing ':' to avoid file path issues\n",
    "timestamp = datetime.now().isoformat(timespec='seconds').replace(\":\", \"-\")\n",
    "\n",
    "# Define the result folder (make sure it exists)\n",
    "result_dir = \"../models/\"\n",
    "os.makedirs(result_dir, exist_ok=True)\n",
    "\n",
    "# Define filenames\n",
    "model_filename = f\"{timestamp}_sarima_model.pkl\"\n",
    "wfv_filename = f\"{timestamp}_walk_forward_results.csv\"\n",
    "summary_filename = f\"{timestamp}_sarima_summary.txt\"\n",
    "\n",
    "# Save model\n",
    "joblib.dump(sarima_result, os.path.join(result_dir, model_filename))\n",
    "\n",
    "# Save walk-forward DataFrame (assuming it's named `wfv_df`)\n",
    "df_pred_wfv.to_csv(os.path.join(result_dir, wfv_filename), index=True)\n",
    "\n",
    "# Save model summary\n",
    "with open(os.path.join(result_dir, summary_filename), \"w\") as f:\n",
    "    f.write(str(sarima_result.summary()))\n"
   ]
  },
  {
   "cell_type": "code",
   "execution_count": 23,
   "id": "67728ceb-3cbe-4dab-9d11-8781a61ef1f9",
   "metadata": {},
   "outputs": [
    {
     "data": {
      "text/html": [
       "<table class=\"simpletable\">\n",
       "<caption>SARIMAX Results</caption>\n",
       "<tr>\n",
       "  <th>Dep. Variable:</th>                  <td>PM2.5</td>               <th>  No. Observations:  </th>   <td>1654</td>   \n",
       "</tr>\n",
       "<tr>\n",
       "  <th>Model:</th>           <td>SARIMAX(3, 1, 1)x(2, 0, [1, 2], 4)</td> <th>  Log Likelihood     </th> <td>-6002.096</td>\n",
       "</tr>\n",
       "<tr>\n",
       "  <th>Date:</th>                     <td>Sat, 07 Jun 2025</td>          <th>  AIC                </th> <td>12022.193</td>\n",
       "</tr>\n",
       "<tr>\n",
       "  <th>Time:</th>                         <td>11:35:56</td>              <th>  BIC                </th> <td>12070.826</td>\n",
       "</tr>\n",
       "<tr>\n",
       "  <th>Sample:</th>                      <td>11-01-2023</td>             <th>  HQIC               </th> <td>12040.228</td>\n",
       "</tr>\n",
       "<tr>\n",
       "  <th></th>                            <td>- 12-18-2024</td>            <th>                     </th>     <td> </td>    \n",
       "</tr>\n",
       "<tr>\n",
       "  <th>Covariance Type:</th>                 <td>opg</td>                <th>                     </th>     <td> </td>    \n",
       "</tr>\n",
       "</table>\n",
       "<table class=\"simpletable\">\n",
       "<tr>\n",
       "     <td></td>        <th>coef</th>     <th>std err</th>      <th>z</th>      <th>P>|z|</th>  <th>[0.025</th>    <th>0.975]</th>  \n",
       "</tr>\n",
       "<tr>\n",
       "  <th>ar.L1</th>   <td>    0.8268</td> <td>    0.016</td> <td>   50.277</td> <td> 0.000</td> <td>    0.795</td> <td>    0.859</td>\n",
       "</tr>\n",
       "<tr>\n",
       "  <th>ar.L2</th>   <td>   -0.0364</td> <td>    0.026</td> <td>   -1.397</td> <td> 0.163</td> <td>   -0.087</td> <td>    0.015</td>\n",
       "</tr>\n",
       "<tr>\n",
       "  <th>ar.L3</th>   <td>   -0.0059</td> <td>    0.022</td> <td>   -0.266</td> <td> 0.790</td> <td>   -0.049</td> <td>    0.037</td>\n",
       "</tr>\n",
       "<tr>\n",
       "  <th>ma.L1</th>   <td>   -0.9941</td> <td>    0.004</td> <td> -268.317</td> <td> 0.000</td> <td>   -1.001</td> <td>   -0.987</td>\n",
       "</tr>\n",
       "<tr>\n",
       "  <th>ar.S.L4</th> <td>    0.3839</td> <td>    0.139</td> <td>    2.768</td> <td> 0.006</td> <td>    0.112</td> <td>    0.656</td>\n",
       "</tr>\n",
       "<tr>\n",
       "  <th>ar.S.L8</th> <td>    0.5757</td> <td>    0.136</td> <td>    4.223</td> <td> 0.000</td> <td>    0.309</td> <td>    0.843</td>\n",
       "</tr>\n",
       "<tr>\n",
       "  <th>ma.S.L4</th> <td>   -0.3306</td> <td>    0.150</td> <td>   -2.202</td> <td> 0.028</td> <td>   -0.625</td> <td>   -0.036</td>\n",
       "</tr>\n",
       "<tr>\n",
       "  <th>ma.S.L8</th> <td>   -0.4377</td> <td>    0.132</td> <td>   -3.328</td> <td> 0.001</td> <td>   -0.695</td> <td>   -0.180</td>\n",
       "</tr>\n",
       "<tr>\n",
       "  <th>sigma2</th>  <td>   86.9037</td> <td>    1.441</td> <td>   60.319</td> <td> 0.000</td> <td>   84.080</td> <td>   89.727</td>\n",
       "</tr>\n",
       "</table>\n",
       "<table class=\"simpletable\">\n",
       "<tr>\n",
       "  <th>Ljung-Box (L1) (Q):</th>     <td>0.00</td> <th>  Jarque-Bera (JB):  </th> <td>7480.19</td>\n",
       "</tr>\n",
       "<tr>\n",
       "  <th>Prob(Q):</th>                <td>0.97</td> <th>  Prob(JB):          </th>  <td>0.00</td>  \n",
       "</tr>\n",
       "<tr>\n",
       "  <th>Heteroskedasticity (H):</th> <td>0.38</td> <th>  Skew:              </th>  <td>-0.07</td> \n",
       "</tr>\n",
       "<tr>\n",
       "  <th>Prob(H) (two-sided):</th>    <td>0.00</td> <th>  Kurtosis:          </th>  <td>13.46</td> \n",
       "</tr>\n",
       "</table><br/><br/>Warnings:<br/>[1] Covariance matrix calculated using the outer product of gradients (complex-step)."
      ],
      "text/latex": [
       "\\begin{center}\n",
       "\\begin{tabular}{lclc}\n",
       "\\toprule\n",
       "\\textbf{Dep. Variable:}          &               PM2.5                & \\textbf{  No. Observations:  } &    1654     \\\\\n",
       "\\textbf{Model:}                  & SARIMAX(3, 1, 1)x(2, 0, [1, 2], 4) & \\textbf{  Log Likelihood     } & -6002.096   \\\\\n",
       "\\textbf{Date:}                   &          Sat, 07 Jun 2025          & \\textbf{  AIC                } & 12022.193   \\\\\n",
       "\\textbf{Time:}                   &              11:35:56              & \\textbf{  BIC                } & 12070.826   \\\\\n",
       "\\textbf{Sample:}                 &             11-01-2023             & \\textbf{  HQIC               } & 12040.228   \\\\\n",
       "\\textbf{}                        &            - 12-18-2024            & \\textbf{                     } &             \\\\\n",
       "\\textbf{Covariance Type:}        &                opg                 & \\textbf{                     } &             \\\\\n",
       "\\bottomrule\n",
       "\\end{tabular}\n",
       "\\begin{tabular}{lcccccc}\n",
       "                 & \\textbf{coef} & \\textbf{std err} & \\textbf{z} & \\textbf{P$> |$z$|$} & \\textbf{[0.025} & \\textbf{0.975]}  \\\\\n",
       "\\midrule\n",
       "\\textbf{ar.L1}   &       0.8268  &        0.016     &    50.277  &         0.000        &        0.795    &        0.859     \\\\\n",
       "\\textbf{ar.L2}   &      -0.0364  &        0.026     &    -1.397  &         0.163        &       -0.087    &        0.015     \\\\\n",
       "\\textbf{ar.L3}   &      -0.0059  &        0.022     &    -0.266  &         0.790        &       -0.049    &        0.037     \\\\\n",
       "\\textbf{ma.L1}   &      -0.9941  &        0.004     &  -268.317  &         0.000        &       -1.001    &       -0.987     \\\\\n",
       "\\textbf{ar.S.L4} &       0.3839  &        0.139     &     2.768  &         0.006        &        0.112    &        0.656     \\\\\n",
       "\\textbf{ar.S.L8} &       0.5757  &        0.136     &     4.223  &         0.000        &        0.309    &        0.843     \\\\\n",
       "\\textbf{ma.S.L4} &      -0.3306  &        0.150     &    -2.202  &         0.028        &       -0.625    &       -0.036     \\\\\n",
       "\\textbf{ma.S.L8} &      -0.4377  &        0.132     &    -3.328  &         0.001        &       -0.695    &       -0.180     \\\\\n",
       "\\textbf{sigma2}  &      86.9037  &        1.441     &    60.319  &         0.000        &       84.080    &       89.727     \\\\\n",
       "\\bottomrule\n",
       "\\end{tabular}\n",
       "\\begin{tabular}{lclc}\n",
       "\\textbf{Ljung-Box (L1) (Q):}     & 0.00 & \\textbf{  Jarque-Bera (JB):  } & 7480.19  \\\\\n",
       "\\textbf{Prob(Q):}                & 0.97 & \\textbf{  Prob(JB):          } &   0.00   \\\\\n",
       "\\textbf{Heteroskedasticity (H):} & 0.38 & \\textbf{  Skew:              } &  -0.07   \\\\\n",
       "\\textbf{Prob(H) (two-sided):}    & 0.00 & \\textbf{  Kurtosis:          } &  13.46   \\\\\n",
       "\\bottomrule\n",
       "\\end{tabular}\n",
       "%\\caption{SARIMAX Results}\n",
       "\\end{center}\n",
       "\n",
       "Warnings: \\newline\n",
       " [1] Covariance matrix calculated using the outer product of gradients (complex-step)."
      ],
      "text/plain": [
       "<class 'statsmodels.iolib.summary.Summary'>\n",
       "\"\"\"\n",
       "                                       SARIMAX Results                                        \n",
       "==============================================================================================\n",
       "Dep. Variable:                                  PM2.5   No. Observations:                 1654\n",
       "Model:             SARIMAX(3, 1, 1)x(2, 0, [1, 2], 4)   Log Likelihood               -6002.096\n",
       "Date:                                Sat, 07 Jun 2025   AIC                          12022.193\n",
       "Time:                                        11:35:56   BIC                          12070.826\n",
       "Sample:                                    11-01-2023   HQIC                         12040.228\n",
       "                                         - 12-18-2024                                         \n",
       "Covariance Type:                                  opg                                         \n",
       "==============================================================================\n",
       "                 coef    std err          z      P>|z|      [0.025      0.975]\n",
       "------------------------------------------------------------------------------\n",
       "ar.L1          0.8268      0.016     50.277      0.000       0.795       0.859\n",
       "ar.L2         -0.0364      0.026     -1.397      0.163      -0.087       0.015\n",
       "ar.L3         -0.0059      0.022     -0.266      0.790      -0.049       0.037\n",
       "ma.L1         -0.9941      0.004   -268.317      0.000      -1.001      -0.987\n",
       "ar.S.L4        0.3839      0.139      2.768      0.006       0.112       0.656\n",
       "ar.S.L8        0.5757      0.136      4.223      0.000       0.309       0.843\n",
       "ma.S.L4       -0.3306      0.150     -2.202      0.028      -0.625      -0.036\n",
       "ma.S.L8       -0.4377      0.132     -3.328      0.001      -0.695      -0.180\n",
       "sigma2        86.9037      1.441     60.319      0.000      84.080      89.727\n",
       "===================================================================================\n",
       "Ljung-Box (L1) (Q):                   0.00   Jarque-Bera (JB):              7480.19\n",
       "Prob(Q):                              0.97   Prob(JB):                         0.00\n",
       "Heteroskedasticity (H):               0.38   Skew:                            -0.07\n",
       "Prob(H) (two-sided):                  0.00   Kurtosis:                        13.46\n",
       "===================================================================================\n",
       "\n",
       "Warnings:\n",
       "[1] Covariance matrix calculated using the outer product of gradients (complex-step).\n",
       "\"\"\""
      ]
     },
     "execution_count": 23,
     "metadata": {},
     "output_type": "execute_result"
    }
   ],
   "source": [
    "# Get all SARIMA model files\n",
    "model_files = sorted(glob.glob(\"../models/*_model.pkl\"))\n",
    "\n",
    "# Model filepaths\n",
    "filepaths = [file for file in model_files]\n",
    "\n",
    "# Latest model file\n",
    "actual = filepaths[-1]\n",
    "\n",
    "# Load model\n",
    "model = joblib.load(actual)\n",
    "\n",
    "# Test model summary\n",
    "model.summary()"
   ]
  },
  {
   "cell_type": "code",
   "execution_count": 24,
   "id": "8cd86c20-f598-4b95-8582-69f2d237f3e5",
   "metadata": {},
   "outputs": [
    {
     "name": "stdout",
     "output_type": "stream",
     "text": [
      "                              y_test     y_pred\n",
      "date                                           \n",
      "2024-12-19 00:00:00+01:00  52.919605  51.253834\n",
      "2024-12-19 06:00:00+01:00  53.500504  51.664976\n",
      "2024-12-19 12:00:00+01:00  54.081404  53.098212\n",
      "2024-12-19 18:00:00+01:00  54.662303  54.018747\n",
      "2024-12-20 00:00:00+01:00  55.243202  53.447990\n"
     ]
    },
    {
     "data": {
      "application/vnd.plotly.v1+json": {
       "config": {
        "plotlyServerURL": "https://plot.ly"
       },
       "data": [
        {
         "hovertemplate": "variable=y_test<br>date=%{x}<br>PM2.5=%{y}<extra></extra>",
         "legendgroup": "y_test",
         "line": {
          "color": "#636efa",
          "dash": "solid"
         },
         "marker": {
          "symbol": "circle"
         },
         "mode": "lines",
         "name": "y_test",
         "orientation": "v",
         "showlegend": true,
         "type": "scatter",
         "x": [
          "2024-12-19T00:00:00.000000000",
          "2024-12-19T06:00:00.000000000",
          "2024-12-19T12:00:00.000000000",
          "2024-12-19T18:00:00.000000000",
          "2024-12-20T00:00:00.000000000",
          "2024-12-20T06:00:00.000000000",
          "2024-12-20T12:00:00.000000000",
          "2024-12-20T18:00:00.000000000",
          "2024-12-21T00:00:00.000000000",
          "2024-12-21T06:00:00.000000000",
          "2024-12-21T12:00:00.000000000",
          "2024-12-21T18:00:00.000000000",
          "2024-12-22T00:00:00.000000000",
          "2024-12-22T06:00:00.000000000",
          "2024-12-22T12:00:00.000000000",
          "2024-12-22T18:00:00.000000000",
          "2024-12-23T00:00:00.000000000",
          "2024-12-23T06:00:00.000000000",
          "2024-12-23T12:00:00.000000000",
          "2024-12-23T18:00:00.000000000",
          "2024-12-24T00:00:00.000000000",
          "2024-12-24T06:00:00.000000000",
          "2024-12-24T12:00:00.000000000",
          "2024-12-24T18:00:00.000000000",
          "2024-12-25T00:00:00.000000000",
          "2024-12-25T06:00:00.000000000",
          "2024-12-25T12:00:00.000000000",
          "2024-12-25T18:00:00.000000000",
          "2024-12-26T00:00:00.000000000",
          "2024-12-26T06:00:00.000000000",
          "2024-12-26T12:00:00.000000000",
          "2024-12-26T18:00:00.000000000",
          "2024-12-27T00:00:00.000000000",
          "2024-12-27T06:00:00.000000000",
          "2024-12-27T12:00:00.000000000",
          "2024-12-27T18:00:00.000000000",
          "2024-12-28T00:00:00.000000000",
          "2024-12-28T06:00:00.000000000",
          "2024-12-28T12:00:00.000000000",
          "2024-12-28T18:00:00.000000000",
          "2024-12-29T00:00:00.000000000",
          "2024-12-29T06:00:00.000000000",
          "2024-12-29T12:00:00.000000000",
          "2024-12-29T18:00:00.000000000",
          "2024-12-30T00:00:00.000000000",
          "2024-12-30T06:00:00.000000000",
          "2024-12-30T12:00:00.000000000",
          "2024-12-30T18:00:00.000000000",
          "2024-12-31T00:00:00.000000000",
          "2024-12-31T06:00:00.000000000",
          "2024-12-31T12:00:00.000000000",
          "2024-12-31T18:00:00.000000000",
          "2025-01-01T00:00:00.000000000",
          "2025-01-01T06:00:00.000000000",
          "2025-01-01T12:00:00.000000000",
          "2025-01-01T18:00:00.000000000",
          "2025-01-02T00:00:00.000000000",
          "2025-01-02T06:00:00.000000000",
          "2025-01-02T12:00:00.000000000",
          "2025-01-02T18:00:00.000000000",
          "2025-01-03T00:00:00.000000000",
          "2025-01-03T06:00:00.000000000",
          "2025-01-03T12:00:00.000000000",
          "2025-01-03T18:00:00.000000000",
          "2025-01-04T00:00:00.000000000",
          "2025-01-04T06:00:00.000000000",
          "2025-01-04T12:00:00.000000000",
          "2025-01-04T18:00:00.000000000",
          "2025-01-05T00:00:00.000000000",
          "2025-01-05T06:00:00.000000000",
          "2025-01-05T12:00:00.000000000",
          "2025-01-05T18:00:00.000000000",
          "2025-01-06T00:00:00.000000000",
          "2025-01-06T06:00:00.000000000",
          "2025-01-06T12:00:00.000000000",
          "2025-01-06T18:00:00.000000000",
          "2025-01-07T00:00:00.000000000",
          "2025-01-07T06:00:00.000000000",
          "2025-01-07T12:00:00.000000000",
          "2025-01-07T18:00:00.000000000",
          "2025-01-08T00:00:00.000000000",
          "2025-01-08T06:00:00.000000000",
          "2025-01-08T12:00:00.000000000",
          "2025-01-08T18:00:00.000000000",
          "2025-01-09T00:00:00.000000000",
          "2025-01-09T06:00:00.000000000",
          "2025-01-09T12:00:00.000000000",
          "2025-01-09T18:00:00.000000000",
          "2025-01-10T00:00:00.000000000",
          "2025-01-10T06:00:00.000000000",
          "2025-01-10T12:00:00.000000000",
          "2025-01-10T18:00:00.000000000",
          "2025-01-11T00:00:00.000000000",
          "2025-01-11T06:00:00.000000000",
          "2025-01-11T12:00:00.000000000",
          "2025-01-11T18:00:00.000000000",
          "2025-01-12T00:00:00.000000000",
          "2025-01-12T06:00:00.000000000",
          "2025-01-12T12:00:00.000000000",
          "2025-01-12T18:00:00.000000000",
          "2025-01-13T00:00:00.000000000",
          "2025-01-13T06:00:00.000000000",
          "2025-01-13T12:00:00.000000000",
          "2025-01-13T18:00:00.000000000",
          "2025-01-14T00:00:00.000000000",
          "2025-01-14T06:00:00.000000000",
          "2025-01-14T12:00:00.000000000",
          "2025-01-14T18:00:00.000000000",
          "2025-01-15T00:00:00.000000000",
          "2025-01-15T06:00:00.000000000",
          "2025-01-15T12:00:00.000000000",
          "2025-01-15T18:00:00.000000000",
          "2025-01-16T00:00:00.000000000",
          "2025-01-16T06:00:00.000000000",
          "2025-01-16T12:00:00.000000000",
          "2025-01-16T18:00:00.000000000",
          "2025-01-17T00:00:00.000000000",
          "2025-01-17T06:00:00.000000000",
          "2025-01-17T12:00:00.000000000",
          "2025-01-17T18:00:00.000000000",
          "2025-01-18T00:00:00.000000000",
          "2025-01-18T06:00:00.000000000",
          "2025-01-18T12:00:00.000000000",
          "2025-01-18T18:00:00.000000000",
          "2025-01-19T00:00:00.000000000",
          "2025-01-19T06:00:00.000000000",
          "2025-01-19T12:00:00.000000000",
          "2025-01-19T18:00:00.000000000",
          "2025-01-20T00:00:00.000000000",
          "2025-01-20T06:00:00.000000000",
          "2025-01-20T12:00:00.000000000",
          "2025-01-20T18:00:00.000000000",
          "2025-01-21T00:00:00.000000000",
          "2025-01-21T06:00:00.000000000",
          "2025-01-21T12:00:00.000000000",
          "2025-01-21T18:00:00.000000000",
          "2025-01-22T00:00:00.000000000",
          "2025-01-22T06:00:00.000000000",
          "2025-01-22T12:00:00.000000000",
          "2025-01-22T18:00:00.000000000",
          "2025-01-23T00:00:00.000000000",
          "2025-01-23T06:00:00.000000000",
          "2025-01-23T12:00:00.000000000",
          "2025-01-23T18:00:00.000000000",
          "2025-01-24T00:00:00.000000000",
          "2025-01-24T06:00:00.000000000",
          "2025-01-24T12:00:00.000000000",
          "2025-01-24T18:00:00.000000000",
          "2025-01-25T00:00:00.000000000",
          "2025-01-25T06:00:00.000000000",
          "2025-01-25T12:00:00.000000000",
          "2025-01-25T18:00:00.000000000",
          "2025-01-26T00:00:00.000000000",
          "2025-01-26T06:00:00.000000000",
          "2025-01-26T12:00:00.000000000",
          "2025-01-26T18:00:00.000000000",
          "2025-01-27T00:00:00.000000000",
          "2025-01-27T06:00:00.000000000",
          "2025-01-27T12:00:00.000000000",
          "2025-01-27T18:00:00.000000000",
          "2025-01-28T00:00:00.000000000",
          "2025-01-28T06:00:00.000000000",
          "2025-01-28T12:00:00.000000000",
          "2025-01-28T18:00:00.000000000",
          "2025-01-29T00:00:00.000000000",
          "2025-01-29T06:00:00.000000000",
          "2025-01-29T12:00:00.000000000",
          "2025-01-29T18:00:00.000000000",
          "2025-01-30T00:00:00.000000000",
          "2025-01-30T06:00:00.000000000",
          "2025-01-30T12:00:00.000000000",
          "2025-01-30T18:00:00.000000000",
          "2025-01-31T00:00:00.000000000",
          "2025-01-31T06:00:00.000000000",
          "2025-01-31T12:00:00.000000000",
          "2025-01-31T18:00:00.000000000",
          "2025-02-01T00:00:00.000000000",
          "2025-02-01T06:00:00.000000000",
          "2025-02-01T12:00:00.000000000",
          "2025-02-01T18:00:00.000000000",
          "2025-02-02T00:00:00.000000000",
          "2025-02-02T06:00:00.000000000",
          "2025-02-02T12:00:00.000000000",
          "2025-02-02T18:00:00.000000000",
          "2025-02-03T00:00:00.000000000",
          "2025-02-03T06:00:00.000000000",
          "2025-02-03T12:00:00.000000000",
          "2025-02-03T18:00:00.000000000",
          "2025-02-04T00:00:00.000000000",
          "2025-02-04T06:00:00.000000000",
          "2025-02-04T12:00:00.000000000",
          "2025-02-04T18:00:00.000000000",
          "2025-02-05T00:00:00.000000000",
          "2025-02-05T06:00:00.000000000",
          "2025-02-05T12:00:00.000000000",
          "2025-02-05T18:00:00.000000000",
          "2025-02-06T00:00:00.000000000",
          "2025-02-06T06:00:00.000000000",
          "2025-02-06T12:00:00.000000000",
          "2025-02-06T18:00:00.000000000",
          "2025-02-07T00:00:00.000000000",
          "2025-02-07T06:00:00.000000000",
          "2025-02-07T12:00:00.000000000",
          "2025-02-07T18:00:00.000000000",
          "2025-02-08T00:00:00.000000000",
          "2025-02-08T06:00:00.000000000",
          "2025-02-08T12:00:00.000000000",
          "2025-02-08T18:00:00.000000000",
          "2025-02-09T00:00:00.000000000",
          "2025-02-09T06:00:00.000000000",
          "2025-02-09T12:00:00.000000000",
          "2025-02-09T18:00:00.000000000",
          "2025-02-10T00:00:00.000000000",
          "2025-02-10T06:00:00.000000000",
          "2025-02-10T12:00:00.000000000",
          "2025-02-10T18:00:00.000000000",
          "2025-02-11T00:00:00.000000000",
          "2025-02-11T06:00:00.000000000",
          "2025-02-11T12:00:00.000000000",
          "2025-02-11T18:00:00.000000000",
          "2025-02-12T00:00:00.000000000",
          "2025-02-12T06:00:00.000000000",
          "2025-02-12T12:00:00.000000000",
          "2025-02-12T18:00:00.000000000",
          "2025-02-13T00:00:00.000000000",
          "2025-02-13T06:00:00.000000000",
          "2025-02-13T12:00:00.000000000",
          "2025-02-13T18:00:00.000000000",
          "2025-02-14T00:00:00.000000000",
          "2025-02-14T06:00:00.000000000",
          "2025-02-14T12:00:00.000000000",
          "2025-02-14T18:00:00.000000000",
          "2025-02-15T00:00:00.000000000",
          "2025-02-15T06:00:00.000000000",
          "2025-02-15T12:00:00.000000000",
          "2025-02-15T18:00:00.000000000",
          "2025-02-16T00:00:00.000000000",
          "2025-02-16T06:00:00.000000000",
          "2025-02-16T12:00:00.000000000",
          "2025-02-16T18:00:00.000000000",
          "2025-02-17T00:00:00.000000000",
          "2025-02-17T06:00:00.000000000",
          "2025-02-17T12:00:00.000000000",
          "2025-02-17T18:00:00.000000000",
          "2025-02-18T00:00:00.000000000",
          "2025-02-18T06:00:00.000000000",
          "2025-02-18T12:00:00.000000000",
          "2025-02-18T18:00:00.000000000",
          "2025-02-19T00:00:00.000000000",
          "2025-02-19T06:00:00.000000000",
          "2025-02-19T12:00:00.000000000",
          "2025-02-19T18:00:00.000000000",
          "2025-02-20T00:00:00.000000000",
          "2025-02-20T06:00:00.000000000",
          "2025-02-20T12:00:00.000000000",
          "2025-02-20T18:00:00.000000000",
          "2025-02-21T00:00:00.000000000",
          "2025-02-21T06:00:00.000000000",
          "2025-02-21T12:00:00.000000000",
          "2025-02-21T18:00:00.000000000",
          "2025-02-22T00:00:00.000000000",
          "2025-02-22T06:00:00.000000000",
          "2025-02-22T12:00:00.000000000",
          "2025-02-22T18:00:00.000000000",
          "2025-02-23T00:00:00.000000000",
          "2025-02-23T06:00:00.000000000",
          "2025-02-23T12:00:00.000000000",
          "2025-02-23T18:00:00.000000000",
          "2025-02-24T00:00:00.000000000",
          "2025-02-24T06:00:00.000000000",
          "2025-02-24T12:00:00.000000000",
          "2025-02-24T18:00:00.000000000",
          "2025-02-25T00:00:00.000000000",
          "2025-02-25T06:00:00.000000000",
          "2025-02-25T12:00:00.000000000",
          "2025-02-25T18:00:00.000000000",
          "2025-02-26T00:00:00.000000000",
          "2025-02-26T06:00:00.000000000",
          "2025-02-26T12:00:00.000000000",
          "2025-02-26T18:00:00.000000000",
          "2025-02-27T00:00:00.000000000",
          "2025-02-27T06:00:00.000000000",
          "2025-02-27T12:00:00.000000000",
          "2025-02-27T18:00:00.000000000",
          "2025-02-28T00:00:00.000000000",
          "2025-02-28T06:00:00.000000000",
          "2025-02-28T12:00:00.000000000",
          "2025-02-28T18:00:00.000000000",
          "2025-03-01T00:00:00.000000000",
          "2025-03-01T06:00:00.000000000",
          "2025-03-01T12:00:00.000000000",
          "2025-03-01T18:00:00.000000000",
          "2025-03-02T00:00:00.000000000",
          "2025-03-02T06:00:00.000000000",
          "2025-03-02T12:00:00.000000000",
          "2025-03-02T18:00:00.000000000",
          "2025-03-03T00:00:00.000000000",
          "2025-03-03T06:00:00.000000000",
          "2025-03-03T12:00:00.000000000",
          "2025-03-03T18:00:00.000000000",
          "2025-03-04T00:00:00.000000000",
          "2025-03-04T06:00:00.000000000",
          "2025-03-04T12:00:00.000000000",
          "2025-03-04T18:00:00.000000000",
          "2025-03-05T00:00:00.000000000",
          "2025-03-05T06:00:00.000000000",
          "2025-03-05T12:00:00.000000000",
          "2025-03-05T18:00:00.000000000",
          "2025-03-06T00:00:00.000000000",
          "2025-03-06T06:00:00.000000000",
          "2025-03-06T12:00:00.000000000",
          "2025-03-06T18:00:00.000000000",
          "2025-03-07T00:00:00.000000000",
          "2025-03-07T06:00:00.000000000",
          "2025-03-07T12:00:00.000000000",
          "2025-03-07T18:00:00.000000000",
          "2025-03-08T00:00:00.000000000",
          "2025-03-08T06:00:00.000000000",
          "2025-03-08T12:00:00.000000000",
          "2025-03-08T18:00:00.000000000",
          "2025-03-09T00:00:00.000000000",
          "2025-03-09T06:00:00.000000000",
          "2025-03-09T12:00:00.000000000",
          "2025-03-09T18:00:00.000000000",
          "2025-03-10T00:00:00.000000000",
          "2025-03-10T06:00:00.000000000",
          "2025-03-10T12:00:00.000000000",
          "2025-03-10T18:00:00.000000000",
          "2025-03-11T00:00:00.000000000",
          "2025-03-11T06:00:00.000000000",
          "2025-03-11T12:00:00.000000000",
          "2025-03-11T18:00:00.000000000",
          "2025-03-12T00:00:00.000000000",
          "2025-03-12T06:00:00.000000000",
          "2025-03-12T12:00:00.000000000",
          "2025-03-12T18:00:00.000000000",
          "2025-03-13T00:00:00.000000000",
          "2025-03-13T06:00:00.000000000",
          "2025-03-13T12:00:00.000000000",
          "2025-03-13T18:00:00.000000000",
          "2025-03-14T00:00:00.000000000",
          "2025-03-14T06:00:00.000000000",
          "2025-03-14T12:00:00.000000000",
          "2025-03-14T18:00:00.000000000",
          "2025-03-15T00:00:00.000000000",
          "2025-03-15T06:00:00.000000000",
          "2025-03-15T12:00:00.000000000",
          "2025-03-15T18:00:00.000000000",
          "2025-03-16T00:00:00.000000000",
          "2025-03-16T06:00:00.000000000",
          "2025-03-16T12:00:00.000000000",
          "2025-03-16T18:00:00.000000000",
          "2025-03-17T00:00:00.000000000",
          "2025-03-17T06:00:00.000000000",
          "2025-03-17T12:00:00.000000000",
          "2025-03-17T18:00:00.000000000",
          "2025-03-18T00:00:00.000000000",
          "2025-03-18T06:00:00.000000000",
          "2025-03-18T12:00:00.000000000",
          "2025-03-18T18:00:00.000000000",
          "2025-03-19T00:00:00.000000000",
          "2025-03-19T06:00:00.000000000",
          "2025-03-19T12:00:00.000000000",
          "2025-03-19T18:00:00.000000000",
          "2025-03-20T00:00:00.000000000",
          "2025-03-20T06:00:00.000000000",
          "2025-03-20T12:00:00.000000000",
          "2025-03-20T18:00:00.000000000",
          "2025-03-21T00:00:00.000000000",
          "2025-03-21T06:00:00.000000000",
          "2025-03-21T12:00:00.000000000",
          "2025-03-21T18:00:00.000000000",
          "2025-03-22T00:00:00.000000000",
          "2025-03-22T06:00:00.000000000",
          "2025-03-22T12:00:00.000000000",
          "2025-03-22T18:00:00.000000000",
          "2025-03-23T00:00:00.000000000",
          "2025-03-23T06:00:00.000000000",
          "2025-03-23T12:00:00.000000000",
          "2025-03-23T18:00:00.000000000",
          "2025-03-24T00:00:00.000000000",
          "2025-03-24T06:00:00.000000000",
          "2025-03-24T12:00:00.000000000",
          "2025-03-24T18:00:00.000000000",
          "2025-03-25T00:00:00.000000000",
          "2025-03-25T06:00:00.000000000",
          "2025-03-25T12:00:00.000000000",
          "2025-03-25T18:00:00.000000000",
          "2025-03-26T00:00:00.000000000",
          "2025-03-26T06:00:00.000000000",
          "2025-03-26T12:00:00.000000000",
          "2025-03-26T18:00:00.000000000",
          "2025-03-27T00:00:00.000000000",
          "2025-03-27T06:00:00.000000000",
          "2025-03-27T12:00:00.000000000",
          "2025-03-27T18:00:00.000000000",
          "2025-03-28T00:00:00.000000000",
          "2025-03-28T06:00:00.000000000",
          "2025-03-28T12:00:00.000000000",
          "2025-03-28T18:00:00.000000000",
          "2025-03-29T00:00:00.000000000",
          "2025-03-29T06:00:00.000000000",
          "2025-03-29T12:00:00.000000000",
          "2025-03-29T18:00:00.000000000",
          "2025-03-30T00:00:00.000000000",
          "2025-03-30T06:00:00.000000000",
          "2025-03-30T12:00:00.000000000",
          "2025-03-30T18:00:00.000000000",
          "2025-03-31T00:00:00.000000000",
          "2025-03-31T06:00:00.000000000",
          "2025-03-31T12:00:00.000000000",
          "2025-03-31T18:00:00.000000000",
          "2025-04-01T00:00:00.000000000",
          "2025-04-01T06:00:00.000000000"
         ],
         "xaxis": "x",
         "y": {
          "bdata": "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",
          "dtype": "f8"
         },
         "yaxis": "y"
        },
        {
         "hovertemplate": "variable=y_pred<br>date=%{x}<br>PM2.5=%{y}<extra></extra>",
         "legendgroup": "y_pred",
         "line": {
          "color": "#EF553B",
          "dash": "solid"
         },
         "marker": {
          "symbol": "circle"
         },
         "mode": "lines",
         "name": "y_pred",
         "orientation": "v",
         "showlegend": true,
         "type": "scatter",
         "x": [
          "2024-12-19T00:00:00.000000000",
          "2024-12-19T06:00:00.000000000",
          "2024-12-19T12:00:00.000000000",
          "2024-12-19T18:00:00.000000000",
          "2024-12-20T00:00:00.000000000",
          "2024-12-20T06:00:00.000000000",
          "2024-12-20T12:00:00.000000000",
          "2024-12-20T18:00:00.000000000",
          "2024-12-21T00:00:00.000000000",
          "2024-12-21T06:00:00.000000000",
          "2024-12-21T12:00:00.000000000",
          "2024-12-21T18:00:00.000000000",
          "2024-12-22T00:00:00.000000000",
          "2024-12-22T06:00:00.000000000",
          "2024-12-22T12:00:00.000000000",
          "2024-12-22T18:00:00.000000000",
          "2024-12-23T00:00:00.000000000",
          "2024-12-23T06:00:00.000000000",
          "2024-12-23T12:00:00.000000000",
          "2024-12-23T18:00:00.000000000",
          "2024-12-24T00:00:00.000000000",
          "2024-12-24T06:00:00.000000000",
          "2024-12-24T12:00:00.000000000",
          "2024-12-24T18:00:00.000000000",
          "2024-12-25T00:00:00.000000000",
          "2024-12-25T06:00:00.000000000",
          "2024-12-25T12:00:00.000000000",
          "2024-12-25T18:00:00.000000000",
          "2024-12-26T00:00:00.000000000",
          "2024-12-26T06:00:00.000000000",
          "2024-12-26T12:00:00.000000000",
          "2024-12-26T18:00:00.000000000",
          "2024-12-27T00:00:00.000000000",
          "2024-12-27T06:00:00.000000000",
          "2024-12-27T12:00:00.000000000",
          "2024-12-27T18:00:00.000000000",
          "2024-12-28T00:00:00.000000000",
          "2024-12-28T06:00:00.000000000",
          "2024-12-28T12:00:00.000000000",
          "2024-12-28T18:00:00.000000000",
          "2024-12-29T00:00:00.000000000",
          "2024-12-29T06:00:00.000000000",
          "2024-12-29T12:00:00.000000000",
          "2024-12-29T18:00:00.000000000",
          "2024-12-30T00:00:00.000000000",
          "2024-12-30T06:00:00.000000000",
          "2024-12-30T12:00:00.000000000",
          "2024-12-30T18:00:00.000000000",
          "2024-12-31T00:00:00.000000000",
          "2024-12-31T06:00:00.000000000",
          "2024-12-31T12:00:00.000000000",
          "2024-12-31T18:00:00.000000000",
          "2025-01-01T00:00:00.000000000",
          "2025-01-01T06:00:00.000000000",
          "2025-01-01T12:00:00.000000000",
          "2025-01-01T18:00:00.000000000",
          "2025-01-02T00:00:00.000000000",
          "2025-01-02T06:00:00.000000000",
          "2025-01-02T12:00:00.000000000",
          "2025-01-02T18:00:00.000000000",
          "2025-01-03T00:00:00.000000000",
          "2025-01-03T06:00:00.000000000",
          "2025-01-03T12:00:00.000000000",
          "2025-01-03T18:00:00.000000000",
          "2025-01-04T00:00:00.000000000",
          "2025-01-04T06:00:00.000000000",
          "2025-01-04T12:00:00.000000000",
          "2025-01-04T18:00:00.000000000",
          "2025-01-05T00:00:00.000000000",
          "2025-01-05T06:00:00.000000000",
          "2025-01-05T12:00:00.000000000",
          "2025-01-05T18:00:00.000000000",
          "2025-01-06T00:00:00.000000000",
          "2025-01-06T06:00:00.000000000",
          "2025-01-06T12:00:00.000000000",
          "2025-01-06T18:00:00.000000000",
          "2025-01-07T00:00:00.000000000",
          "2025-01-07T06:00:00.000000000",
          "2025-01-07T12:00:00.000000000",
          "2025-01-07T18:00:00.000000000",
          "2025-01-08T00:00:00.000000000",
          "2025-01-08T06:00:00.000000000",
          "2025-01-08T12:00:00.000000000",
          "2025-01-08T18:00:00.000000000",
          "2025-01-09T00:00:00.000000000",
          "2025-01-09T06:00:00.000000000",
          "2025-01-09T12:00:00.000000000",
          "2025-01-09T18:00:00.000000000",
          "2025-01-10T00:00:00.000000000",
          "2025-01-10T06:00:00.000000000",
          "2025-01-10T12:00:00.000000000",
          "2025-01-10T18:00:00.000000000",
          "2025-01-11T00:00:00.000000000",
          "2025-01-11T06:00:00.000000000",
          "2025-01-11T12:00:00.000000000",
          "2025-01-11T18:00:00.000000000",
          "2025-01-12T00:00:00.000000000",
          "2025-01-12T06:00:00.000000000",
          "2025-01-12T12:00:00.000000000",
          "2025-01-12T18:00:00.000000000",
          "2025-01-13T00:00:00.000000000",
          "2025-01-13T06:00:00.000000000",
          "2025-01-13T12:00:00.000000000",
          "2025-01-13T18:00:00.000000000",
          "2025-01-14T00:00:00.000000000",
          "2025-01-14T06:00:00.000000000",
          "2025-01-14T12:00:00.000000000",
          "2025-01-14T18:00:00.000000000",
          "2025-01-15T00:00:00.000000000",
          "2025-01-15T06:00:00.000000000",
          "2025-01-15T12:00:00.000000000",
          "2025-01-15T18:00:00.000000000",
          "2025-01-16T00:00:00.000000000",
          "2025-01-16T06:00:00.000000000",
          "2025-01-16T12:00:00.000000000",
          "2025-01-16T18:00:00.000000000",
          "2025-01-17T00:00:00.000000000",
          "2025-01-17T06:00:00.000000000",
          "2025-01-17T12:00:00.000000000",
          "2025-01-17T18:00:00.000000000",
          "2025-01-18T00:00:00.000000000",
          "2025-01-18T06:00:00.000000000",
          "2025-01-18T12:00:00.000000000",
          "2025-01-18T18:00:00.000000000",
          "2025-01-19T00:00:00.000000000",
          "2025-01-19T06:00:00.000000000",
          "2025-01-19T12:00:00.000000000",
          "2025-01-19T18:00:00.000000000",
          "2025-01-20T00:00:00.000000000",
          "2025-01-20T06:00:00.000000000",
          "2025-01-20T12:00:00.000000000",
          "2025-01-20T18:00:00.000000000",
          "2025-01-21T00:00:00.000000000",
          "2025-01-21T06:00:00.000000000",
          "2025-01-21T12:00:00.000000000",
          "2025-01-21T18:00:00.000000000",
          "2025-01-22T00:00:00.000000000",
          "2025-01-22T06:00:00.000000000",
          "2025-01-22T12:00:00.000000000",
          "2025-01-22T18:00:00.000000000",
          "2025-01-23T00:00:00.000000000",
          "2025-01-23T06:00:00.000000000",
          "2025-01-23T12:00:00.000000000",
          "2025-01-23T18:00:00.000000000",
          "2025-01-24T00:00:00.000000000",
          "2025-01-24T06:00:00.000000000",
          "2025-01-24T12:00:00.000000000",
          "2025-01-24T18:00:00.000000000",
          "2025-01-25T00:00:00.000000000",
          "2025-01-25T06:00:00.000000000",
          "2025-01-25T12:00:00.000000000",
          "2025-01-25T18:00:00.000000000",
          "2025-01-26T00:00:00.000000000",
          "2025-01-26T06:00:00.000000000",
          "2025-01-26T12:00:00.000000000",
          "2025-01-26T18:00:00.000000000",
          "2025-01-27T00:00:00.000000000",
          "2025-01-27T06:00:00.000000000",
          "2025-01-27T12:00:00.000000000",
          "2025-01-27T18:00:00.000000000",
          "2025-01-28T00:00:00.000000000",
          "2025-01-28T06:00:00.000000000",
          "2025-01-28T12:00:00.000000000",
          "2025-01-28T18:00:00.000000000",
          "2025-01-29T00:00:00.000000000",
          "2025-01-29T06:00:00.000000000",
          "2025-01-29T12:00:00.000000000",
          "2025-01-29T18:00:00.000000000",
          "2025-01-30T00:00:00.000000000",
          "2025-01-30T06:00:00.000000000",
          "2025-01-30T12:00:00.000000000",
          "2025-01-30T18:00:00.000000000",
          "2025-01-31T00:00:00.000000000",
          "2025-01-31T06:00:00.000000000",
          "2025-01-31T12:00:00.000000000",
          "2025-01-31T18:00:00.000000000",
          "2025-02-01T00:00:00.000000000",
          "2025-02-01T06:00:00.000000000",
          "2025-02-01T12:00:00.000000000",
          "2025-02-01T18:00:00.000000000",
          "2025-02-02T00:00:00.000000000",
          "2025-02-02T06:00:00.000000000",
          "2025-02-02T12:00:00.000000000",
          "2025-02-02T18:00:00.000000000",
          "2025-02-03T00:00:00.000000000",
          "2025-02-03T06:00:00.000000000",
          "2025-02-03T12:00:00.000000000",
          "2025-02-03T18:00:00.000000000",
          "2025-02-04T00:00:00.000000000",
          "2025-02-04T06:00:00.000000000",
          "2025-02-04T12:00:00.000000000",
          "2025-02-04T18:00:00.000000000",
          "2025-02-05T00:00:00.000000000",
          "2025-02-05T06:00:00.000000000",
          "2025-02-05T12:00:00.000000000",
          "2025-02-05T18:00:00.000000000",
          "2025-02-06T00:00:00.000000000",
          "2025-02-06T06:00:00.000000000",
          "2025-02-06T12:00:00.000000000",
          "2025-02-06T18:00:00.000000000",
          "2025-02-07T00:00:00.000000000",
          "2025-02-07T06:00:00.000000000",
          "2025-02-07T12:00:00.000000000",
          "2025-02-07T18:00:00.000000000",
          "2025-02-08T00:00:00.000000000",
          "2025-02-08T06:00:00.000000000",
          "2025-02-08T12:00:00.000000000",
          "2025-02-08T18:00:00.000000000",
          "2025-02-09T00:00:00.000000000",
          "2025-02-09T06:00:00.000000000",
          "2025-02-09T12:00:00.000000000",
          "2025-02-09T18:00:00.000000000",
          "2025-02-10T00:00:00.000000000",
          "2025-02-10T06:00:00.000000000",
          "2025-02-10T12:00:00.000000000",
          "2025-02-10T18:00:00.000000000",
          "2025-02-11T00:00:00.000000000",
          "2025-02-11T06:00:00.000000000",
          "2025-02-11T12:00:00.000000000",
          "2025-02-11T18:00:00.000000000",
          "2025-02-12T00:00:00.000000000",
          "2025-02-12T06:00:00.000000000",
          "2025-02-12T12:00:00.000000000",
          "2025-02-12T18:00:00.000000000",
          "2025-02-13T00:00:00.000000000",
          "2025-02-13T06:00:00.000000000",
          "2025-02-13T12:00:00.000000000",
          "2025-02-13T18:00:00.000000000",
          "2025-02-14T00:00:00.000000000",
          "2025-02-14T06:00:00.000000000",
          "2025-02-14T12:00:00.000000000",
          "2025-02-14T18:00:00.000000000",
          "2025-02-15T00:00:00.000000000",
          "2025-02-15T06:00:00.000000000",
          "2025-02-15T12:00:00.000000000",
          "2025-02-15T18:00:00.000000000",
          "2025-02-16T00:00:00.000000000",
          "2025-02-16T06:00:00.000000000",
          "2025-02-16T12:00:00.000000000",
          "2025-02-16T18:00:00.000000000",
          "2025-02-17T00:00:00.000000000",
          "2025-02-17T06:00:00.000000000",
          "2025-02-17T12:00:00.000000000",
          "2025-02-17T18:00:00.000000000",
          "2025-02-18T00:00:00.000000000",
          "2025-02-18T06:00:00.000000000",
          "2025-02-18T12:00:00.000000000",
          "2025-02-18T18:00:00.000000000",
          "2025-02-19T00:00:00.000000000",
          "2025-02-19T06:00:00.000000000",
          "2025-02-19T12:00:00.000000000",
          "2025-02-19T18:00:00.000000000",
          "2025-02-20T00:00:00.000000000",
          "2025-02-20T06:00:00.000000000",
          "2025-02-20T12:00:00.000000000",
          "2025-02-20T18:00:00.000000000",
          "2025-02-21T00:00:00.000000000",
          "2025-02-21T06:00:00.000000000",
          "2025-02-21T12:00:00.000000000",
          "2025-02-21T18:00:00.000000000",
          "2025-02-22T00:00:00.000000000",
          "2025-02-22T06:00:00.000000000",
          "2025-02-22T12:00:00.000000000",
          "2025-02-22T18:00:00.000000000",
          "2025-02-23T00:00:00.000000000",
          "2025-02-23T06:00:00.000000000",
          "2025-02-23T12:00:00.000000000",
          "2025-02-23T18:00:00.000000000",
          "2025-02-24T00:00:00.000000000",
          "2025-02-24T06:00:00.000000000",
          "2025-02-24T12:00:00.000000000",
          "2025-02-24T18:00:00.000000000",
          "2025-02-25T00:00:00.000000000",
          "2025-02-25T06:00:00.000000000",
          "2025-02-25T12:00:00.000000000",
          "2025-02-25T18:00:00.000000000",
          "2025-02-26T00:00:00.000000000",
          "2025-02-26T06:00:00.000000000",
          "2025-02-26T12:00:00.000000000",
          "2025-02-26T18:00:00.000000000",
          "2025-02-27T00:00:00.000000000",
          "2025-02-27T06:00:00.000000000",
          "2025-02-27T12:00:00.000000000",
          "2025-02-27T18:00:00.000000000",
          "2025-02-28T00:00:00.000000000",
          "2025-02-28T06:00:00.000000000",
          "2025-02-28T12:00:00.000000000",
          "2025-02-28T18:00:00.000000000",
          "2025-03-01T00:00:00.000000000",
          "2025-03-01T06:00:00.000000000",
          "2025-03-01T12:00:00.000000000",
          "2025-03-01T18:00:00.000000000",
          "2025-03-02T00:00:00.000000000",
          "2025-03-02T06:00:00.000000000",
          "2025-03-02T12:00:00.000000000",
          "2025-03-02T18:00:00.000000000",
          "2025-03-03T00:00:00.000000000",
          "2025-03-03T06:00:00.000000000",
          "2025-03-03T12:00:00.000000000",
          "2025-03-03T18:00:00.000000000",
          "2025-03-04T00:00:00.000000000",
          "2025-03-04T06:00:00.000000000",
          "2025-03-04T12:00:00.000000000",
          "2025-03-04T18:00:00.000000000",
          "2025-03-05T00:00:00.000000000",
          "2025-03-05T06:00:00.000000000",
          "2025-03-05T12:00:00.000000000",
          "2025-03-05T18:00:00.000000000",
          "2025-03-06T00:00:00.000000000",
          "2025-03-06T06:00:00.000000000",
          "2025-03-06T12:00:00.000000000",
          "2025-03-06T18:00:00.000000000",
          "2025-03-07T00:00:00.000000000",
          "2025-03-07T06:00:00.000000000",
          "2025-03-07T12:00:00.000000000",
          "2025-03-07T18:00:00.000000000",
          "2025-03-08T00:00:00.000000000",
          "2025-03-08T06:00:00.000000000",
          "2025-03-08T12:00:00.000000000",
          "2025-03-08T18:00:00.000000000",
          "2025-03-09T00:00:00.000000000",
          "2025-03-09T06:00:00.000000000",
          "2025-03-09T12:00:00.000000000",
          "2025-03-09T18:00:00.000000000",
          "2025-03-10T00:00:00.000000000",
          "2025-03-10T06:00:00.000000000",
          "2025-03-10T12:00:00.000000000",
          "2025-03-10T18:00:00.000000000",
          "2025-03-11T00:00:00.000000000",
          "2025-03-11T06:00:00.000000000",
          "2025-03-11T12:00:00.000000000",
          "2025-03-11T18:00:00.000000000",
          "2025-03-12T00:00:00.000000000",
          "2025-03-12T06:00:00.000000000",
          "2025-03-12T12:00:00.000000000",
          "2025-03-12T18:00:00.000000000",
          "2025-03-13T00:00:00.000000000",
          "2025-03-13T06:00:00.000000000",
          "2025-03-13T12:00:00.000000000",
          "2025-03-13T18:00:00.000000000",
          "2025-03-14T00:00:00.000000000",
          "2025-03-14T06:00:00.000000000",
          "2025-03-14T12:00:00.000000000",
          "2025-03-14T18:00:00.000000000",
          "2025-03-15T00:00:00.000000000",
          "2025-03-15T06:00:00.000000000",
          "2025-03-15T12:00:00.000000000",
          "2025-03-15T18:00:00.000000000",
          "2025-03-16T00:00:00.000000000",
          "2025-03-16T06:00:00.000000000",
          "2025-03-16T12:00:00.000000000",
          "2025-03-16T18:00:00.000000000",
          "2025-03-17T00:00:00.000000000",
          "2025-03-17T06:00:00.000000000",
          "2025-03-17T12:00:00.000000000",
          "2025-03-17T18:00:00.000000000",
          "2025-03-18T00:00:00.000000000",
          "2025-03-18T06:00:00.000000000",
          "2025-03-18T12:00:00.000000000",
          "2025-03-18T18:00:00.000000000",
          "2025-03-19T00:00:00.000000000",
          "2025-03-19T06:00:00.000000000",
          "2025-03-19T12:00:00.000000000",
          "2025-03-19T18:00:00.000000000",
          "2025-03-20T00:00:00.000000000",
          "2025-03-20T06:00:00.000000000",
          "2025-03-20T12:00:00.000000000",
          "2025-03-20T18:00:00.000000000",
          "2025-03-21T00:00:00.000000000",
          "2025-03-21T06:00:00.000000000",
          "2025-03-21T12:00:00.000000000",
          "2025-03-21T18:00:00.000000000",
          "2025-03-22T00:00:00.000000000",
          "2025-03-22T06:00:00.000000000",
          "2025-03-22T12:00:00.000000000",
          "2025-03-22T18:00:00.000000000",
          "2025-03-23T00:00:00.000000000",
          "2025-03-23T06:00:00.000000000",
          "2025-03-23T12:00:00.000000000",
          "2025-03-23T18:00:00.000000000",
          "2025-03-24T00:00:00.000000000",
          "2025-03-24T06:00:00.000000000",
          "2025-03-24T12:00:00.000000000",
          "2025-03-24T18:00:00.000000000",
          "2025-03-25T00:00:00.000000000",
          "2025-03-25T06:00:00.000000000",
          "2025-03-25T12:00:00.000000000",
          "2025-03-25T18:00:00.000000000",
          "2025-03-26T00:00:00.000000000",
          "2025-03-26T06:00:00.000000000",
          "2025-03-26T12:00:00.000000000",
          "2025-03-26T18:00:00.000000000",
          "2025-03-27T00:00:00.000000000",
          "2025-03-27T06:00:00.000000000",
          "2025-03-27T12:00:00.000000000",
          "2025-03-27T18:00:00.000000000",
          "2025-03-28T00:00:00.000000000",
          "2025-03-28T06:00:00.000000000",
          "2025-03-28T12:00:00.000000000",
          "2025-03-28T18:00:00.000000000",
          "2025-03-29T00:00:00.000000000",
          "2025-03-29T06:00:00.000000000",
          "2025-03-29T12:00:00.000000000",
          "2025-03-29T18:00:00.000000000",
          "2025-03-30T00:00:00.000000000",
          "2025-03-30T06:00:00.000000000",
          "2025-03-30T12:00:00.000000000",
          "2025-03-30T18:00:00.000000000",
          "2025-03-31T00:00:00.000000000",
          "2025-03-31T06:00:00.000000000",
          "2025-03-31T12:00:00.000000000",
          "2025-03-31T18:00:00.000000000",
          "2025-04-01T00:00:00.000000000",
          "2025-04-01T06:00:00.000000000"
         ],
         "xaxis": "x",
         "y": {
          "bdata": "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",
          "dtype": "f8"
         },
         "yaxis": "y"
        }
       ],
       "layout": {
        "legend": {
         "title": {
          "text": "variable"
         },
         "tracegroupgap": 0
        },
        "template": {
         "data": {
          "bar": [
           {
            "error_x": {
             "color": "#2a3f5f"
            },
            "error_y": {
             "color": "#2a3f5f"
            },
            "marker": {
             "line": {
              "color": "#E5ECF6",
              "width": 0.5
             },
             "pattern": {
              "fillmode": "overlay",
              "size": 10,
              "solidity": 0.2
             }
            },
            "type": "bar"
           }
          ],
          "barpolar": [
           {
            "marker": {
             "line": {
              "color": "#E5ECF6",
              "width": 0.5
             },
             "pattern": {
              "fillmode": "overlay",
              "size": 10,
              "solidity": 0.2
             }
            },
            "type": "barpolar"
           }
          ],
          "carpet": [
           {
            "aaxis": {
             "endlinecolor": "#2a3f5f",
             "gridcolor": "white",
             "linecolor": "white",
             "minorgridcolor": "white",
             "startlinecolor": "#2a3f5f"
            },
            "baxis": {
             "endlinecolor": "#2a3f5f",
             "gridcolor": "white",
             "linecolor": "white",
             "minorgridcolor": "white",
             "startlinecolor": "#2a3f5f"
            },
            "type": "carpet"
           }
          ],
          "choropleth": [
           {
            "colorbar": {
             "outlinewidth": 0,
             "ticks": ""
            },
            "type": "choropleth"
           }
          ],
          "contour": [
           {
            "colorbar": {
             "outlinewidth": 0,
             "ticks": ""
            },
            "colorscale": [
             [
              0,
              "#0d0887"
             ],
             [
              0.1111111111111111,
              "#46039f"
             ],
             [
              0.2222222222222222,
              "#7201a8"
             ],
             [
              0.3333333333333333,
              "#9c179e"
             ],
             [
              0.4444444444444444,
              "#bd3786"
             ],
             [
              0.5555555555555556,
              "#d8576b"
             ],
             [
              0.6666666666666666,
              "#ed7953"
             ],
             [
              0.7777777777777778,
              "#fb9f3a"
             ],
             [
              0.8888888888888888,
              "#fdca26"
             ],
             [
              1,
              "#f0f921"
             ]
            ],
            "type": "contour"
           }
          ],
          "contourcarpet": [
           {
            "colorbar": {
             "outlinewidth": 0,
             "ticks": ""
            },
            "type": "contourcarpet"
           }
          ],
          "heatmap": [
           {
            "colorbar": {
             "outlinewidth": 0,
             "ticks": ""
            },
            "colorscale": [
             [
              0,
              "#0d0887"
             ],
             [
              0.1111111111111111,
              "#46039f"
             ],
             [
              0.2222222222222222,
              "#7201a8"
             ],
             [
              0.3333333333333333,
              "#9c179e"
             ],
             [
              0.4444444444444444,
              "#bd3786"
             ],
             [
              0.5555555555555556,
              "#d8576b"
             ],
             [
              0.6666666666666666,
              "#ed7953"
             ],
             [
              0.7777777777777778,
              "#fb9f3a"
             ],
             [
              0.8888888888888888,
              "#fdca26"
             ],
             [
              1,
              "#f0f921"
             ]
            ],
            "type": "heatmap"
           }
          ],
          "histogram": [
           {
            "marker": {
             "pattern": {
              "fillmode": "overlay",
              "size": 10,
              "solidity": 0.2
             }
            },
            "type": "histogram"
           }
          ],
          "histogram2d": [
           {
            "colorbar": {
             "outlinewidth": 0,
             "ticks": ""
            },
            "colorscale": [
             [
              0,
              "#0d0887"
             ],
             [
              0.1111111111111111,
              "#46039f"
             ],
             [
              0.2222222222222222,
              "#7201a8"
             ],
             [
              0.3333333333333333,
              "#9c179e"
             ],
             [
              0.4444444444444444,
              "#bd3786"
             ],
             [
              0.5555555555555556,
              "#d8576b"
             ],
             [
              0.6666666666666666,
              "#ed7953"
             ],
             [
              0.7777777777777778,
              "#fb9f3a"
             ],
             [
              0.8888888888888888,
              "#fdca26"
             ],
             [
              1,
              "#f0f921"
             ]
            ],
            "type": "histogram2d"
           }
          ],
          "histogram2dcontour": [
           {
            "colorbar": {
             "outlinewidth": 0,
             "ticks": ""
            },
            "colorscale": [
             [
              0,
              "#0d0887"
             ],
             [
              0.1111111111111111,
              "#46039f"
             ],
             [
              0.2222222222222222,
              "#7201a8"
             ],
             [
              0.3333333333333333,
              "#9c179e"
             ],
             [
              0.4444444444444444,
              "#bd3786"
             ],
             [
              0.5555555555555556,
              "#d8576b"
             ],
             [
              0.6666666666666666,
              "#ed7953"
             ],
             [
              0.7777777777777778,
              "#fb9f3a"
             ],
             [
              0.8888888888888888,
              "#fdca26"
             ],
             [
              1,
              "#f0f921"
             ]
            ],
            "type": "histogram2dcontour"
           }
          ],
          "mesh3d": [
           {
            "colorbar": {
             "outlinewidth": 0,
             "ticks": ""
            },
            "type": "mesh3d"
           }
          ],
          "parcoords": [
           {
            "line": {
             "colorbar": {
              "outlinewidth": 0,
              "ticks": ""
             }
            },
            "type": "parcoords"
           }
          ],
          "pie": [
           {
            "automargin": true,
            "type": "pie"
           }
          ],
          "scatter": [
           {
            "fillpattern": {
             "fillmode": "overlay",
             "size": 10,
             "solidity": 0.2
            },
            "type": "scatter"
           }
          ],
          "scatter3d": [
           {
            "line": {
             "colorbar": {
              "outlinewidth": 0,
              "ticks": ""
             }
            },
            "marker": {
             "colorbar": {
              "outlinewidth": 0,
              "ticks": ""
             }
            },
            "type": "scatter3d"
           }
          ],
          "scattercarpet": [
           {
            "marker": {
             "colorbar": {
              "outlinewidth": 0,
              "ticks": ""
             }
            },
            "type": "scattercarpet"
           }
          ],
          "scattergeo": [
           {
            "marker": {
             "colorbar": {
              "outlinewidth": 0,
              "ticks": ""
             }
            },
            "type": "scattergeo"
           }
          ],
          "scattergl": [
           {
            "marker": {
             "colorbar": {
              "outlinewidth": 0,
              "ticks": ""
             }
            },
            "type": "scattergl"
           }
          ],
          "scattermap": [
           {
            "marker": {
             "colorbar": {
              "outlinewidth": 0,
              "ticks": ""
             }
            },
            "type": "scattermap"
           }
          ],
          "scattermapbox": [
           {
            "marker": {
             "colorbar": {
              "outlinewidth": 0,
              "ticks": ""
             }
            },
            "type": "scattermapbox"
           }
          ],
          "scatterpolar": [
           {
            "marker": {
             "colorbar": {
              "outlinewidth": 0,
              "ticks": ""
             }
            },
            "type": "scatterpolar"
           }
          ],
          "scatterpolargl": [
           {
            "marker": {
             "colorbar": {
              "outlinewidth": 0,
              "ticks": ""
             }
            },
            "type": "scatterpolargl"
           }
          ],
          "scatterternary": [
           {
            "marker": {
             "colorbar": {
              "outlinewidth": 0,
              "ticks": ""
             }
            },
            "type": "scatterternary"
           }
          ],
          "surface": [
           {
            "colorbar": {
             "outlinewidth": 0,
             "ticks": ""
            },
            "colorscale": [
             [
              0,
              "#0d0887"
             ],
             [
              0.1111111111111111,
              "#46039f"
             ],
             [
              0.2222222222222222,
              "#7201a8"
             ],
             [
              0.3333333333333333,
              "#9c179e"
             ],
             [
              0.4444444444444444,
              "#bd3786"
             ],
             [
              0.5555555555555556,
              "#d8576b"
             ],
             [
              0.6666666666666666,
              "#ed7953"
             ],
             [
              0.7777777777777778,
              "#fb9f3a"
             ],
             [
              0.8888888888888888,
              "#fdca26"
             ],
             [
              1,
              "#f0f921"
             ]
            ],
            "type": "surface"
           }
          ],
          "table": [
           {
            "cells": {
             "fill": {
              "color": "#EBF0F8"
             },
             "line": {
              "color": "white"
             }
            },
            "header": {
             "fill": {
              "color": "#C8D4E3"
             },
             "line": {
              "color": "white"
             }
            },
            "type": "table"
           }
          ]
         },
         "layout": {
          "annotationdefaults": {
           "arrowcolor": "#2a3f5f",
           "arrowhead": 0,
           "arrowwidth": 1
          },
          "autotypenumbers": "strict",
          "coloraxis": {
           "colorbar": {
            "outlinewidth": 0,
            "ticks": ""
           }
          },
          "colorscale": {
           "diverging": [
            [
             0,
             "#8e0152"
            ],
            [
             0.1,
             "#c51b7d"
            ],
            [
             0.2,
             "#de77ae"
            ],
            [
             0.3,
             "#f1b6da"
            ],
            [
             0.4,
             "#fde0ef"
            ],
            [
             0.5,
             "#f7f7f7"
            ],
            [
             0.6,
             "#e6f5d0"
            ],
            [
             0.7,
             "#b8e186"
            ],
            [
             0.8,
             "#7fbc41"
            ],
            [
             0.9,
             "#4d9221"
            ],
            [
             1,
             "#276419"
            ]
           ],
           "sequential": [
            [
             0,
             "#0d0887"
            ],
            [
             0.1111111111111111,
             "#46039f"
            ],
            [
             0.2222222222222222,
             "#7201a8"
            ],
            [
             0.3333333333333333,
             "#9c179e"
            ],
            [
             0.4444444444444444,
             "#bd3786"
            ],
            [
             0.5555555555555556,
             "#d8576b"
            ],
            [
             0.6666666666666666,
             "#ed7953"
            ],
            [
             0.7777777777777778,
             "#fb9f3a"
            ],
            [
             0.8888888888888888,
             "#fdca26"
            ],
            [
             1,
             "#f0f921"
            ]
           ],
           "sequentialminus": [
            [
             0,
             "#0d0887"
            ],
            [
             0.1111111111111111,
             "#46039f"
            ],
            [
             0.2222222222222222,
             "#7201a8"
            ],
            [
             0.3333333333333333,
             "#9c179e"
            ],
            [
             0.4444444444444444,
             "#bd3786"
            ],
            [
             0.5555555555555556,
             "#d8576b"
            ],
            [
             0.6666666666666666,
             "#ed7953"
            ],
            [
             0.7777777777777778,
             "#fb9f3a"
            ],
            [
             0.8888888888888888,
             "#fdca26"
            ],
            [
             1,
             "#f0f921"
            ]
           ]
          },
          "colorway": [
           "#636efa",
           "#EF553B",
           "#00cc96",
           "#ab63fa",
           "#FFA15A",
           "#19d3f3",
           "#FF6692",
           "#B6E880",
           "#FF97FF",
           "#FECB52"
          ],
          "font": {
           "color": "#2a3f5f"
          },
          "geo": {
           "bgcolor": "white",
           "lakecolor": "white",
           "landcolor": "#E5ECF6",
           "showlakes": true,
           "showland": true,
           "subunitcolor": "white"
          },
          "hoverlabel": {
           "align": "left"
          },
          "hovermode": "closest",
          "mapbox": {
           "style": "light"
          },
          "paper_bgcolor": "white",
          "plot_bgcolor": "#E5ECF6",
          "polar": {
           "angularaxis": {
            "gridcolor": "white",
            "linecolor": "white",
            "ticks": ""
           },
           "bgcolor": "#E5ECF6",
           "radialaxis": {
            "gridcolor": "white",
            "linecolor": "white",
            "ticks": ""
           }
          },
          "scene": {
           "xaxis": {
            "backgroundcolor": "#E5ECF6",
            "gridcolor": "white",
            "gridwidth": 2,
            "linecolor": "white",
            "showbackground": true,
            "ticks": "",
            "zerolinecolor": "white"
           },
           "yaxis": {
            "backgroundcolor": "#E5ECF6",
            "gridcolor": "white",
            "gridwidth": 2,
            "linecolor": "white",
            "showbackground": true,
            "ticks": "",
            "zerolinecolor": "white"
           },
           "zaxis": {
            "backgroundcolor": "#E5ECF6",
            "gridcolor": "white",
            "gridwidth": 2,
            "linecolor": "white",
            "showbackground": true,
            "ticks": "",
            "zerolinecolor": "white"
           }
          },
          "shapedefaults": {
           "line": {
            "color": "#2a3f5f"
           }
          },
          "ternary": {
           "aaxis": {
            "gridcolor": "white",
            "linecolor": "white",
            "ticks": ""
           },
           "baxis": {
            "gridcolor": "white",
            "linecolor": "white",
            "ticks": ""
           },
           "bgcolor": "#E5ECF6",
           "caxis": {
            "gridcolor": "white",
            "linecolor": "white",
            "ticks": ""
           }
          },
          "title": {
           "x": 0.05
          },
          "xaxis": {
           "automargin": true,
           "gridcolor": "white",
           "linecolor": "white",
           "ticks": "",
           "title": {
            "standoff": 15
           },
           "zerolinecolor": "white",
           "zerolinewidth": 2
          },
          "yaxis": {
           "automargin": true,
           "gridcolor": "white",
           "linecolor": "white",
           "ticks": "",
           "title": {
            "standoff": 15
           },
           "zerolinecolor": "white",
           "zerolinewidth": 2
          }
         }
        },
        "title": {
         "text": "Walk forward Validation Prediction and Actual Test data"
        },
        "xaxis": {
         "anchor": "y",
         "domain": [
          0,
          1
         ],
         "title": {
          "text": "date"
         }
        },
        "yaxis": {
         "anchor": "x",
         "domain": [
          0,
          1
         ],
         "title": {
          "text": "PM2.5"
         }
        }
       }
      },
      "image/png": "[encoded data removed]"
     },
     "metadata": {},
     "output_type": "display_data"
    }
   ],
   "source": [
    "# Load Latest WFV DataFrame\n",
    "wfv_files = sorted(glob.glob(\"../models/*_results.csv\"))\n",
    "\n",
    "# CSV filepaths\n",
    "filepaths = [file for file in wfv_files]\n",
    "\n",
    "# Latest CSV file\n",
    "actual = filepaths[-1]\n",
    "\n",
    "# load csv into DataFrame\n",
    "wfv_df = pd.read_csv(actual, index_col= \"date\", parse_dates= True)\n",
    "\n",
    "print(wfv_df.head())\n",
    "\n",
    "fig = px.line(\n",
    "    data_frame= wfv_df,\n",
    "    title = \"Walk forward Validation Prediction and Actual Test data\",\n",
    "    labels= {\"value\" : \"PM2.5\"}\n",
    ")\n",
    "\n",
    "fig.show()"
   ]
  },
  {
   "cell_type": "code",
   "execution_count": 25,
   "id": "03eb896e-29d9-4f95-8bc7-9cfb4e507ecf",
   "metadata": {},
   "outputs": [
    {
     "data": {
      "image/png": "[encoded data removed]",
      "text/plain": [
       "<Figure size 1500x800 with 4 Axes>"
      ]
     },
     "metadata": {},
     "output_type": "display_data"
    }
   ],
   "source": [
    "# Check out necessary charts\n",
    "\n",
    "model.plot_diagnostics(figsize=(15, 8))\n",
    "plt.show()"
   ]
  },
  {
   "cell_type": "code",
   "execution_count": null,
   "id": "a7dca537-d4bc-4faf-9e69-27bfab871db4",
   "metadata": {},
   "outputs": [],
   "source": []
  }
 ],
 "metadata": {
  "kernelspec": {
   "display_name": "Python 3 (ipykernel)",
   "language": "python",
   "name": "python3"
  },
  "language_info": {
   "codemirror_mode": {
    "name": "ipython",
    "version": 3
   },
   "file_extension": ".py",
   "mimetype": "text/x-python",
   "name": "python",
   "nbconvert_exporter": "python",
   "pygments_lexer": "ipython3",
   "version": "3.12.7"
  }
 },
 "nbformat": 4,
 "nbformat_minor": 5
}
