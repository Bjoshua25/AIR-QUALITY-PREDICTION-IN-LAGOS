{
 "cells": [
  {
   "cell_type": "code",
   "execution_count": 1,
   "id": "ccdc891c-9eb7-4a6c-893c-6cea7ff55f54",
   "metadata": {},
   "outputs": [],
   "source": [
    "# Load Libraries\n",
    "\n",
    "import os\n",
    "import joblib\n",
    "from datetime import datetime\n",
    "import glob\n",
    "import pandas as pd\n",
    "import numpy as np\n",
    "import plotly.express as px\n",
    "import matplotlib.pyplot as plt\n",
    "from statsmodels.tsa.ar_model import AutoReg\n",
    "from statsmodels.tsa.arima.model import ARIMA\n",
    "from statsmodels.tsa.statespace.sarimax import SARIMAX\n",
    "from sklearn.metrics import mean_squared_error, mean_absolute_error\n",
    "from pmdarima import auto_arima\n"
   ]
  },
  {
   "cell_type": "code",
   "execution_count": 2,
   "id": "89e9313e-675f-4908-bc9f-20605e96537b",
   "metadata": {},
   "outputs": [
    {
     "data": {
      "text/plain": [
       "date\n",
       "2023-11-01 12:00:00+01:00    19.000000\n",
       "2023-11-01 18:00:00+01:00    15.610000\n",
       "2023-11-02 00:00:00+01:00    19.867137\n",
       "2023-11-02 06:00:00+01:00    24.124275\n",
       "2023-11-02 12:00:00+01:00    28.381412\n",
       "Freq: 6h, Name: PM2.5, dtype: float64"
      ]
     },
     "execution_count": 2,
     "metadata": {},
     "output_type": "execute_result"
    }
   ],
   "source": [
    "# Load combined dataset\n",
    "\n",
    "# file directory\n",
    "file= \"../data/Air_Quality_Lagos_Combined.csv\"\n",
    "\n",
    "# load into DataFrame\n",
    "df = pd.read_csv(file, index_col=\"date\", parse_dates=True)\n",
    "\n",
    "# resampling the data to 1 hour interval\n",
    "y = df[\"PM2.5\"].resample('6h').mean().interpolate(method = \"time\")\n",
    "\n",
    "y.head()"
   ]
  },
  {
   "cell_type": "code",
   "execution_count": null,
   "id": "5ccf1e8c-9407-4677-8795-ce072d084abb",
   "metadata": {},
   "outputs": [],
   "source": [
    "# Size of the Dataset\n",
    "shape = y.shape\n",
    "\n",
    "print(f\"The Shape of the Dataset is: {shape}\")\n",
    "print(f\"The Dataset has: {shape[0]} historical data\")\n",
    "print(f\"The number of missing data is: {y.isna().sum()}\")\n",
    "# print(f\"The dataset have {shape[1]} column. For PM2.5 Readings\")"
   ]
  },
  {
   "cell_type": "code",
   "execution_count": null,
   "id": "b50175bc-4de5-4d1a-bd65-9ed32ae411ac",
   "metadata": {},
   "outputs": [],
   "source": [
    "# Data Split \n",
    "cutt_off = int(len(y) * 0.8)\n",
    "\n",
    "train = y.iloc[:cutt_off]\n",
    "test = y.iloc[cutt_off:]\n",
    "\n",
    "\n",
    "print(f\"Train split: {train.shape}\")\n",
    "print(f\"Test split: {test.shape}\")"
   ]
  },
  {
   "cell_type": "markdown",
   "id": "23356647-219e-4a08-b1fa-cffcb1bbb016",
   "metadata": {
    "jp-MarkdownHeadingCollapsed": true
   },
   "source": [
    "# Correct HyperParameter"
   ]
  },
  {
   "cell_type": "code",
   "execution_count": null,
   "id": "b2dc8824-5cc9-4a9c-9cd8-aecb62cb2e04",
   "metadata": {},
   "outputs": [],
   "source": [
    "model = auto_arima(\n",
    "    train,\n",
    "    seasonal=True,\n",
    "    m=28,  # season length (e.g., 4 for 6-hourly data = 1 day)\n",
    "    trace=True,\n",
    "    error_action='ignore',\n",
    "    suppress_warnings=True\n",
    ")"
   ]
  },
  {
   "cell_type": "markdown",
   "id": "7ceb9d28-70be-4238-a5cc-a3879089ad22",
   "metadata": {
    "jp-MarkdownHeadingCollapsed": true
   },
   "source": [
    "# AR (AutoRegressive) Model"
   ]
  },
  {
   "cell_type": "code",
   "execution_count": null,
   "id": "3fc47020-ab05-4ace-b887-67ea432b48f1",
   "metadata": {},
   "outputs": [],
   "source": [
    "# Fit the AR model\n",
    "ar_model = AutoReg(train, lags=29)  # for 24hours or 1 day\n",
    "ar_result = ar_model.fit()"
   ]
  },
  {
   "cell_type": "code",
   "execution_count": null,
   "id": "d14993c9-ec81-41ac-9c2f-8e3158c55d73",
   "metadata": {},
   "outputs": [],
   "source": [
    "# Model summary\n",
    "ar_result.summary()"
   ]
  },
  {
   "cell_type": "code",
   "execution_count": null,
   "id": "b6d169e5-7e16-4e25-a50e-bfc6bbde8d47",
   "metadata": {},
   "outputs": [],
   "source": [
    "# Forecast\n",
    "y_ar_pred = ar_result.predict(test.index.min(), test.index.max())\n",
    "y_ar_pred.head()\n"
   ]
  },
  {
   "cell_type": "code",
   "execution_count": null,
   "id": "6b476019-3b99-420b-8c9a-579fdc6c559b",
   "metadata": {},
   "outputs": [],
   "source": [
    "# Baseline Model Metrics\n",
    "mean = train.mean()\n",
    "y_mean_pred = len(train) * [mean]\n",
    "\n",
    "# MSE and MAE of the Baseline model\n",
    "mse_baseline = mean_squared_error(train, y_mean_pred)\n",
    "mae_baseline = mean_absolute_error(train, y_mean_pred)\n",
    "\n",
    "\n",
    "print(f\"MSE of the baseline model: {round(mse_baseline, 2)}\")\n",
    "print(f\"MAE of the baseline model: {round(mae_baseline, 2)}\")"
   ]
  },
  {
   "cell_type": "code",
   "execution_count": null,
   "id": "c3fc13ce-3bba-46d6-b192-ad0a2fa1debf",
   "metadata": {},
   "outputs": [],
   "source": [
    "# Evaluation\n",
    "mse = mean_squared_error(test, y_ar_pred)\n",
    "mae = mean_absolute_error(test, y_ar_pred)\n",
    "\n",
    "print(f\"AR Model - MSE: {mse:.2f}\")\n",
    "print(f\"AR Model - MAE: {mae:.2f}\")"
   ]
  },
  {
   "cell_type": "code",
   "execution_count": null,
   "id": "df602d42-5e24-4adc-b312-eda6dd3da3f7",
   "metadata": {},
   "outputs": [],
   "source": [
    "# Residual graph\n",
    "fig, ax = plt.subplots(figsize = (15, 5))\n",
    "ar_result.resid.plot(ax = ax)\n",
    "plt.title(\"Residual Plot\")\n",
    "plt.xlabel(\"Date\")\n",
    "plt.show()"
   ]
  },
  {
   "cell_type": "code",
   "execution_count": null,
   "id": "9031386d-7bea-42bf-affe-df6baa6b1fcb",
   "metadata": {},
   "outputs": [],
   "source": [
    "# Residual Histogram\n",
    "ar_result.resid.plot(\n",
    "    kind = \"hist\", \n",
    "    xlabel = \"Residual\",\n",
    "    ylabel = \"frequency\",\n",
    "    title = \"Residual Distribution\"\n",
    ")"
   ]
  },
  {
   "cell_type": "code",
   "execution_count": null,
   "id": "4e356c9e-b5d8-452e-bb1f-e36a745e0d11",
   "metadata": {},
   "outputs": [],
   "source": [
    "# DataFrame for Actual Test data and Predictions\n",
    "\n",
    "df_pred_test = pd.DataFrame({\n",
    "            'y_test':test,\n",
    "            'y_pred':y_ar_pred\n",
    "}, index = test.index)\n",
    "df_pred_test.tail()"
   ]
  },
  {
   "cell_type": "code",
   "execution_count": null,
   "id": "57df9311-de9b-400e-bad9-7b74502eaaca",
   "metadata": {},
   "outputs": [],
   "source": [
    "# Plot results\n",
    "fig = px.line(\n",
    "    data_frame= df_pred_test,\n",
    "    title = \"Prediction vs Actual Test data \",\n",
    "    labels= {\"value\" : \"PM2.5\"}\n",
    ")\n",
    "fig.show()"
   ]
  },
  {
   "cell_type": "code",
   "execution_count": null,
   "id": "5dd82044-474c-4288-814b-bf87588b61ef",
   "metadata": {},
   "outputs": [],
   "source": [
    "# Walk Forward Validation\n",
    "\n",
    "y_pred_wfv = pd.Series()\n",
    "history = train.copy()\n",
    "for i in range(len(test)):\n",
    "    model = AutoReg(history, lags=29).fit()\n",
    "    next_pred = model.forecast()\n",
    "    y_pred_wfv = pd.concat([y_pred_wfv, next_pred])\n",
    "    history = pd.concat([history, test[next_pred.index]]) \n"
   ]
  },
  {
   "cell_type": "code",
   "execution_count": null,
   "id": "2ac564ec-c51b-4b2e-aa71-48acabbcc642",
   "metadata": {},
   "outputs": [],
   "source": [
    "df_pred_wfv = pd.DataFrame({\n",
    "            'y_test':test,\n",
    "            'y_pred':y_pred_wfv\n",
    "}, index = test.index)\n",
    "df_pred_wfv.tail()"
   ]
  },
  {
   "cell_type": "code",
   "execution_count": null,
   "id": "ac3ad8d6-d85b-43d3-9239-034adbccada8",
   "metadata": {},
   "outputs": [],
   "source": [
    "fig = px.line(\n",
    "    data_frame= df_pred_wfv,\n",
    "    title = \"Walk forward Validation Prediction and Actual Test data\",\n",
    "    labels= {\"value\" : \"PM2.5\"}\n",
    ")\n",
    "\n",
    "fig.show()"
   ]
  },
  {
   "cell_type": "code",
   "execution_count": null,
   "id": "f1d08d0c-6c4f-4cfb-bf49-0d59c6f1c65e",
   "metadata": {},
   "outputs": [],
   "source": [
    "# Evaluation of the Walk forward Validation Prediction\n",
    "\n",
    "mse = mean_squared_error(test, y_pred_wfv)\n",
    "mae = mean_absolute_error(test, y_pred_wfv)\n",
    "\n",
    "print(f\"AR Model - MSE: {mse:.2f}\")\n",
    "print(f\"AR Model - MAE: {mae:.2f}\")"
   ]
  },
  {
   "cell_type": "markdown",
   "id": "c11c442e-6dfb-4676-93d3-9f9f6e6d5cc3",
   "metadata": {},
   "source": [
    "## Summary\n",
    "\n",
    "The AR model Underperformed. why:\n",
    "- The forecast (red line) is almost flat, failing to capture the volatility, spikes, and seasonality in the test set.\n",
    "- AR models rely only on past values of the series (lags) and assume a linear relationship, which often fails when: There’s strong seasonality or nonlinearity.\n",
    "- Residuals are not white noise, as we saw earlier from decomposition and ACF plots.\n",
    "\n"
   ]
  },
  {
   "cell_type": "markdown",
   "id": "fd982dbf-8295-410f-bfa6-7a261fd6e922",
   "metadata": {
    "jp-MarkdownHeadingCollapsed": true
   },
   "source": [
    "# ARMA (AutoRegressive Moving Average) Model"
   ]
  },
  {
   "cell_type": "code",
   "execution_count": null,
   "id": "f6bc2055-003a-45ff-b7c8-97969b4a4dbc",
   "metadata": {},
   "outputs": [],
   "source": [
    "# Fit ARMA(p=2, q=2) on differenced data (you can tune p and q later)\n",
    "arma_model = ARIMA(train, order=(2, 0, 0))  # d=0 because we assume stationary (you can test d=1 if needed)\n",
    "arma_result = arma_model.fit()"
   ]
  },
  {
   "cell_type": "code",
   "execution_count": null,
   "id": "d9b864e1-bd8b-432c-8ce3-98a216da3eaf",
   "metadata": {},
   "outputs": [],
   "source": [
    "arma_result.summary()"
   ]
  },
  {
   "cell_type": "code",
   "execution_count": null,
   "id": "47acd5ac-95ce-4c80-afcf-26e4bb494d47",
   "metadata": {},
   "outputs": [],
   "source": [
    "# Forecast\n",
    "y_arma_pred = arma_result.predict(test.index.min(), test.index.max())\n",
    "y_arma_pred.head()"
   ]
  },
  {
   "cell_type": "code",
   "execution_count": null,
   "id": "0ed93d9c-8a64-4291-a57c-cdb4a856a3a2",
   "metadata": {},
   "outputs": [],
   "source": [
    "# Baseline Model Metrics\n",
    "mean = train.mean()\n",
    "y_mean_pred = len(train) * [mean]\n",
    "\n",
    "# MSE and MAE of the Baseline model\n",
    "mse_baseline = mean_squared_error(train, y_mean_pred)\n",
    "mae_baseline = mean_absolute_error(train, y_mean_pred)\n",
    "\n",
    "\n",
    "print(f\"MSE of the baseline model: {round(mse_baseline, 2)}\")\n",
    "print(f\"MAE of the baseline model: {round(mae_baseline, 2)}\")"
   ]
  },
  {
   "cell_type": "code",
   "execution_count": null,
   "id": "edeebb59-640b-4637-95ec-a2fc39a17e55",
   "metadata": {},
   "outputs": [],
   "source": [
    "# Evaluation\n",
    "mse = mean_squared_error(test, y_arma_pred)\n",
    "mae = mean_absolute_error(test, y_arma_pred)\n",
    "\n",
    "print(f\"ARMA Model - MSE: {mse:.2f}\")\n",
    "print(f\"ARMA Model - MAE: {mae:.2f}\")"
   ]
  },
  {
   "cell_type": "code",
   "execution_count": null,
   "id": "d1cefd2b-6ac5-4d9d-8e2c-664f497c9c44",
   "metadata": {},
   "outputs": [],
   "source": [
    "# Residual graph\n",
    "fig, ax = plt.subplots(figsize = (15, 5))\n",
    "arma_result.resid.plot(ax = ax)\n",
    "plt.title(\"Residual Plot\")\n",
    "plt.xlabel(\"Date\")\n",
    "plt.show()"
   ]
  },
  {
   "cell_type": "code",
   "execution_count": null,
   "id": "feceeeb5-c6c7-46e7-bc3c-dc7181269389",
   "metadata": {},
   "outputs": [],
   "source": [
    "# Residual Histogram\n",
    "arma_result.resid.plot(\n",
    "    kind = \"hist\", \n",
    "    xlabel = \"Residual\",\n",
    "    ylabel = \"frequency\",\n",
    "    title = \"Residual Distribution\"\n",
    ")"
   ]
  },
  {
   "cell_type": "code",
   "execution_count": null,
   "id": "48a1f1d0-3a9b-4b6a-bfd3-99ea7f909471",
   "metadata": {},
   "outputs": [],
   "source": [
    "# DataFrame for Actual Test data and Predictions\n",
    "\n",
    "df_pred_test = pd.DataFrame({\n",
    "            'y_test':test,\n",
    "            'y_pred':y_arma_pred\n",
    "}, index = test.index)\n",
    "df_pred_test.tail()"
   ]
  },
  {
   "cell_type": "code",
   "execution_count": null,
   "id": "8c02c7ac-7a6d-47c2-bf97-3efb1b09c2ca",
   "metadata": {},
   "outputs": [],
   "source": [
    "# Plot results\n",
    "fig = px.line(\n",
    "    data_frame= df_pred_test,\n",
    "    title = \"Prediction vs Actual Test data \",\n",
    "    labels= {\"value\" : \"PM2.5\"}\n",
    ")\n",
    "fig.show()"
   ]
  },
  {
   "cell_type": "code",
   "execution_count": null,
   "id": "dd7f514e-f64c-49b8-a5f5-ecb666f1c34c",
   "metadata": {},
   "outputs": [],
   "source": [
    "# Walk Forward Validation\n",
    "\n",
    "y_pred_wfv = pd.Series()\n",
    "history = train.copy()\n",
    "for i in range(len(test)):\n",
    "     model = ARIMA(history, order = (3, 1, 1)).fit()\n",
    "     next_pred = model.forecast()\n",
    "     y_pred_wfv = pd.concat([y_pred_wfv, next_pred])\n",
    "     history = pd.concat([history, test[next_pred.index]])\n"
   ]
  },
  {
   "cell_type": "code",
   "execution_count": null,
   "id": "a8e977fd-b77a-4af8-b334-a88ea3317d21",
   "metadata": {},
   "outputs": [],
   "source": [
    "df_pred_wfv = pd.DataFrame({\n",
    "            'y_test':test,\n",
    "            'y_pred':y_pred_wfv\n",
    "}, index = test.index)\n",
    "df_pred_wfv.tail()"
   ]
  },
  {
   "cell_type": "code",
   "execution_count": null,
   "id": "a9a607a6-e9d7-4021-915c-710cb937432d",
   "metadata": {},
   "outputs": [],
   "source": [
    "fig = px.line(\n",
    "    data_frame= df_pred_wfv,\n",
    "    title = \"Walk forward Validation Prediction and Actual Test data\",\n",
    "    labels= {\"value\" : \"PM2.5\"}\n",
    ")\n",
    "\n",
    "fig.show()"
   ]
  },
  {
   "cell_type": "code",
   "execution_count": null,
   "id": "012ff25f-10d8-465e-9217-1ee4715960b5",
   "metadata": {},
   "outputs": [],
   "source": [
    "# Evaluation of the Walk forward Validation Prediction\n",
    "\n",
    "mse = mean_squared_error(test, y_pred_wfv)\n",
    "mae = mean_absolute_error(test, y_pred_wfv)\n",
    "\n",
    "print(f\"AR Model - MSE: {mse:.2f}\")\n",
    "print(f\"AR Model - MAE: {mae:.2f}\")"
   ]
  },
  {
   "cell_type": "markdown",
   "id": "97e5edce-5909-44ac-8c67-28444a8353c1",
   "metadata": {
    "jp-MarkdownHeadingCollapsed": true
   },
   "source": [
    "# ARIMA MODEL"
   ]
  },
  {
   "cell_type": "code",
   "execution_count": null,
   "id": "987489ff-084a-4c55-a989-59b3ce891e90",
   "metadata": {},
   "outputs": [],
   "source": [
    "# Fit ARIMA\n",
    "arima_model = ARIMA(train, order=(2, 1, 3))  # d=1 for first-order differencing\n",
    "arima_result = arima_model.fit()"
   ]
  },
  {
   "cell_type": "code",
   "execution_count": null,
   "id": "2e75ad7e-2b58-4a48-9c74-76d0a6149058",
   "metadata": {},
   "outputs": [],
   "source": [
    "# Forecast\n",
    "y_pred_test = arima_result.predict(test.index.min(), test.index.max())\n",
    "y_pred_test.head()\n",
    "\n"
   ]
  },
  {
   "cell_type": "code",
   "execution_count": null,
   "id": "97f6b668-2c5e-4b3f-8800-a1dc7ff1a0b3",
   "metadata": {},
   "outputs": [],
   "source": [
    "# Evaluation\n",
    "mse = mean_squared_error(test, y_pred_test)\n",
    "mae = mean_absolute_error(test, y_pred_test)\n",
    "\n",
    "print(f\"ARIMA Model - MSE: {mse:.2f}\")\n",
    "print(f\"ARIMA Model - MAE: {mae:.2f}\")\n"
   ]
  },
  {
   "cell_type": "code",
   "execution_count": null,
   "id": "b26a769f-73c2-4229-88e4-2d5bff847535",
   "metadata": {},
   "outputs": [],
   "source": [
    "# Plot\n",
    "plt.figure(figsize=(15, 5))\n",
    "plt.plot(test, label=\"Actual\", color='black')\n",
    "plt.plot(y_pred_test, label=\"Forecast\", color='green')\n",
    "plt.title(\"ARIMA Model Forecast vs Actual\")\n",
    "plt.xlabel(\"Date\")\n",
    "plt.ylabel(\"PM2.5\")\n",
    "plt.legend()\n",
    "plt.tight_layout()\n",
    "plt.show()"
   ]
  },
  {
   "cell_type": "code",
   "execution_count": null,
   "id": "2ac15991-0d1e-466a-9945-2a65af121f37",
   "metadata": {},
   "outputs": [],
   "source": [
    "# Walk Forward Validation\n",
    "\n",
    "y_pred_wfv = pd.Series()\n",
    "history = train.copy()\n",
    "for i in range(len(test)):\n",
    "     model = ARIMA(history, order=(2, 1, 3)).fit()\n",
    "     next_pred = model.forecast()\n",
    "     y_pred_wfv = pd.concat([y_pred_wfv, next_pred])\n",
    "     history = pd.concat([history, test[next_pred.index]])"
   ]
  },
  {
   "cell_type": "code",
   "execution_count": null,
   "id": "9c5fd84e-e880-41bf-8f5b-f7571859bf84",
   "metadata": {},
   "outputs": [],
   "source": [
    "df_pred_wfv = pd.DataFrame({\n",
    "            'y_test':test,\n",
    "            'y_pred':y_pred_wfv\n",
    "}, index = test.index)\n",
    "\n",
    "df_pred_wfv.tail()"
   ]
  },
  {
   "cell_type": "code",
   "execution_count": null,
   "id": "50ccfeec-5f38-44a0-804e-2c5f34978688",
   "metadata": {},
   "outputs": [],
   "source": [
    "fig = px.line(\n",
    "    data_frame= df_pred_wfv,\n",
    "    title = \"Walk forward Validation Prediction and Actual Test data\",\n",
    "    labels= {\"value\" : \"PM2.5\"}\n",
    ")\n",
    "\n",
    "fig.show()"
   ]
  },
  {
   "cell_type": "code",
   "execution_count": null,
   "id": "4b5a3359-1775-43ca-9149-a56e2c955097",
   "metadata": {},
   "outputs": [],
   "source": [
    "# Check out necessary charts\n",
    "\n",
    "arima_result.plot_diagnostics(figsize=(15, 8))\n",
    "plt.show()"
   ]
  },
  {
   "cell_type": "code",
   "execution_count": null,
   "id": "51fcd5f6-16bc-43f3-8c7e-189a6f28c6c7",
   "metadata": {},
   "outputs": [],
   "source": [
    "# Evaluation of the Walk forward Validation Prediction\n",
    "\n",
    "mse = mean_squared_error(test, y_pred_wfv)\n",
    "mae = mean_absolute_error(test, y_pred_wfv)\n",
    "\n",
    "print(f\"AR Model - MSE: {mse:.2f}\")\n",
    "print(f\"AR Model - MAE: {mae:.2f}\")"
   ]
  },
  {
   "cell_type": "code",
   "execution_count": null,
   "id": "160a91c5-9429-425a-9c28-83ff0a02b3e2",
   "metadata": {},
   "outputs": [],
   "source": [
    "# Get current timestamp in ISO format, replacing ':' to avoid file path issues\n",
    "timestamp = datetime.now().isoformat(timespec='seconds').replace(\":\", \"-\")\n",
    "\n",
    "# Define the result folder (make sure it exists)\n",
    "result_dir = \"../results/\"\n",
    "os.makedirs(result_dir, exist_ok=True)\n",
    "\n",
    "# Define filenames\n",
    "model_filename = f\"{timestamp}_arima_model.pkl\"\n",
    "wfv_filename = f\"{timestamp}_arima_wfv.csv\"\n",
    "\n",
    "# Save model\n",
    "joblib.dump(arima_result, os.path.join(result_dir, model_filename))\n",
    "\n",
    "# Save walk-forward DataFrame (assuming it's named `wfv_df`)\n",
    "df_pred_wfv.to_csv(os.path.join(result_dir, wfv_filename), index=True)"
   ]
  },
  {
   "cell_type": "markdown",
   "id": "109a3e72-a458-43de-bfb9-06483304ce34",
   "metadata": {
    "jp-MarkdownHeadingCollapsed": true
   },
   "source": [
    "# SARIMA (Seasonal ARIMA) Model"
   ]
  },
  {
   "cell_type": "code",
   "execution_count": null,
   "id": "59a73dea-1420-4b5e-99f5-7308a238513c",
   "metadata": {},
   "outputs": [],
   "source": [
    "# Fit SARIMA\n",
    "sarima_model = SARIMAX(train,\n",
    "                       order=(2, 1, 3),\n",
    "                       seasonal_order=(1, 0, 1, 28),\n",
    "                       enforce_stationarity=False,\n",
    "                       enforce_invertibility=False)\n",
    "\n",
    "sarima_result = sarima_model.fit()\n",
    "\n",
    "# Best model:  ARIMA(2,1,3)(1,0,1)[28]"
   ]
  },
  {
   "cell_type": "code",
   "execution_count": null,
   "id": "528197c3-fa89-4a20-9631-fc278c192231",
   "metadata": {},
   "outputs": [],
   "source": [
    "# Forecast\n",
    "y_sarima_pred = sarima_result.predict(test.index.min(), test.index.max())\n",
    "y_sarima_pred.head(10)\n"
   ]
  },
  {
   "cell_type": "code",
   "execution_count": null,
   "id": "0bcf55c9-b513-4b54-8775-533632b5b197",
   "metadata": {},
   "outputs": [],
   "source": [
    "# Baseline Model Metrics\n",
    "mean = train.mean()\n",
    "y_mean_pred = len(train) * [mean]\n",
    "\n",
    "# MSE and MAE of the Baseline model\n",
    "mse_baseline = mean_squared_error(train, y_mean_pred)\n",
    "mae_baseline = mean_absolute_error(train, y_mean_pred)\n",
    "\n",
    "\n",
    "print(f\"MSE of the baseline model: {round(mse_baseline, 2)}\")\n",
    "print(f\"MAE of the baseline model: {round(mae_baseline, 2)}\")"
   ]
  },
  {
   "cell_type": "code",
   "execution_count": null,
   "id": "cb75491e-796a-40e6-afb4-44bec5a23755",
   "metadata": {},
   "outputs": [],
   "source": [
    "# Evaluation\n",
    "mse = mean_squared_error(test, y_sarima_pred)\n",
    "mae = mean_absolute_error(test, y_sarima_pred)\n",
    "\n",
    "print(f\"SARIMA Model - MSE: {mse:.2f}\")\n",
    "print(f\"SARIMA Model - MAE: {mae:.2f}\")"
   ]
  },
  {
   "cell_type": "code",
   "execution_count": null,
   "id": "26f27f1a-0483-4aed-b04f-5aaac36e0b43",
   "metadata": {},
   "outputs": [],
   "source": [
    "# Residual graph\n",
    "fig, ax = plt.subplots(figsize = (15, 5))\n",
    "sarima_result.resid.plot(ax = ax)\n",
    "plt.title(\"Residual Plot\")\n",
    "plt.xlabel(\"Date\")\n",
    "plt.show()"
   ]
  },
  {
   "cell_type": "code",
   "execution_count": null,
   "id": "0fa18784-6247-405a-9bc0-91ccbeb8f87e",
   "metadata": {},
   "outputs": [],
   "source": [
    "# Residual Histogram\n",
    "sarima_result.resid.plot(\n",
    "    kind = \"hist\", \n",
    "    xlabel = \"Residual\",\n",
    "    ylabel = \"frequency\",\n",
    "    title = \"Residual Distribution\"\n",
    ")"
   ]
  },
  {
   "cell_type": "code",
   "execution_count": null,
   "id": "3cb35d0c-05be-454b-986b-599fc0d88678",
   "metadata": {},
   "outputs": [],
   "source": [
    "# DataFrame for Actual Test data and Predictions\n",
    "\n",
    "df_pred_test = pd.DataFrame({\n",
    "            'y_test':test,\n",
    "            'y_pred':y_sarima_pred\n",
    "}, index = test.index)\n",
    "df_pred_test.tail()"
   ]
  },
  {
   "cell_type": "code",
   "execution_count": null,
   "id": "2820c880-a137-4b45-98b6-8b30aa1f3153",
   "metadata": {},
   "outputs": [],
   "source": [
    "# Plot results\n",
    "fig = px.line(\n",
    "    data_frame= df_pred_test,\n",
    "    title = \"Prediction vs Actual Test data \",\n",
    "    labels= {\"value\" : \"PM2.5\"}\n",
    ")\n",
    "fig.show()"
   ]
  },
  {
   "cell_type": "code",
   "execution_count": null,
   "id": "dd86727d-acef-416d-8afa-1b1ae76b006b",
   "metadata": {},
   "outputs": [],
   "source": [
    "# Walk Forward Validation\n",
    "\n",
    "y_pred_wfv = pd.Series()\n",
    "history = train.copy()\n",
    "for i in range(len(test)):\n",
    "     model = SARIMAX(history, order=(2, 1, 3), seasonal_order=(1, 0, 1, 28)).fit()\n",
    "     next_pred = model.forecast()\n",
    "     y_pred_wfv = pd.concat([y_pred_wfv, next_pred])\n",
    "     history = pd.concat([history, test[next_pred.index]])\n"
   ]
  },
  {
   "cell_type": "code",
   "execution_count": null,
   "id": "e9da0feb-40b8-42a9-967a-9d58705bf6f5",
   "metadata": {},
   "outputs": [],
   "source": [
    "df_pred_wfv = pd.DataFrame({\n",
    "            'y_test':test,\n",
    "            'y_pred':y_pred_wfv\n",
    "}, index = test.index)\n",
    "df_pred_wfv.tail()"
   ]
  },
  {
   "cell_type": "code",
   "execution_count": null,
   "id": "17d71f6e-79d6-4dc5-8091-bb6e9127358d",
   "metadata": {},
   "outputs": [],
   "source": [
    "fig = px.line(\n",
    "    data_frame= df_pred_wfv,\n",
    "    title = \"Walk forward Validation Prediction and Actual Test data\",\n",
    "    labels= {\"value\" : \"PM2.5\"}\n",
    ")\n",
    "\n",
    "fig.show()"
   ]
  },
  {
   "cell_type": "code",
   "execution_count": null,
   "id": "1ea907e8-ccd2-4aac-8d39-88fc8909171a",
   "metadata": {},
   "outputs": [],
   "source": [
    "# Evaluation of the Walk forward Validation Prediction\n",
    "\n",
    "mse = mean_squared_error(test, y_pred_wfv)\n",
    "mae = mean_absolute_error(test, y_pred_wfv)\n",
    "\n",
    "print(f\"AR Model - MSE: {mse:.2f}\")\n",
    "print(f\"AR Model - MAE: {mae:.2f}\")"
   ]
  },
  {
   "cell_type": "markdown",
   "id": "14c3259f-139c-4b33-86b5-5a39d39c6c09",
   "metadata": {},
   "source": [
    "# Saving Best Performing Model (SARIMA)\n",
    "\n",
    "- save the model as .pkl\n",
    "- save the summary log as .txt\n",
    "- save the work forward validation DataFrame as .csv"
   ]
  },
  {
   "cell_type": "code",
   "execution_count": null,
   "id": "f1c42b0b-49b3-4eb5-8585-cc443ca2d2f3",
   "metadata": {},
   "outputs": [],
   "source": [
    "# Get current timestamp in ISO format, replacing ':' to avoid file path issues\n",
    "timestamp = datetime.now().isoformat(timespec='seconds').replace(\":\", \"-\")\n",
    "\n",
    "# Define the result folder (make sure it exists)\n",
    "result_dir = \"../results/\"\n",
    "os.makedirs(result_dir, exist_ok=True)\n",
    "\n",
    "# Define filenames\n",
    "model_filename = f\"{timestamp}_sarima_model.pkl\"\n",
    "wfv_filename = f\"{timestamp}_walk_forward_results.csv\"\n",
    "summary_filename = f\"{timestamp}_sarima_summary.txt\"\n",
    "\n",
    "# Save model\n",
    "joblib.dump(sarima_result, os.path.join(result_dir, model_filename))\n",
    "\n",
    "# Save walk-forward DataFrame (assuming it's named `wfv_df`)\n",
    "df_pred_wfv.to_csv(os.path.join(result_dir, wfv_filename), index=True)\n",
    "\n",
    "# Save model summary\n",
    "with open(os.path.join(result_dir, summary_filename), \"w\") as f:\n",
    "    f.write(str(sarima_result.summary()))\n"
   ]
  },
  {
   "cell_type": "code",
   "execution_count": null,
   "id": "67728ceb-3cbe-4dab-9d11-8781a61ef1f9",
   "metadata": {},
   "outputs": [],
   "source": [
    "# Get all SARIMA model files\n",
    "model_files = sorted(glob.glob(\"../results/*_model.pkl\"))\n",
    "\n",
    "# Model filepaths\n",
    "filepaths = [file for file in model_files]\n",
    "\n",
    "# Latest model file\n",
    "actual = filepaths[-1]\n",
    "\n",
    "# Load model\n",
    "model = joblib.load(actual)\n",
    "\n",
    "# Test model summary\n",
    "model.summary()"
   ]
  },
  {
   "cell_type": "code",
   "execution_count": null,
   "id": "8cd86c20-f598-4b95-8582-69f2d237f3e5",
   "metadata": {},
   "outputs": [],
   "source": [
    "# Load Latest WFV DataFrame\n",
    "wfv_files = sorted(glob.glob(\"../results/*_results.csv\"))\n",
    "\n",
    "# CSV filepaths\n",
    "filepaths = [file for file in wfv_files]\n",
    "\n",
    "# Latest CSV file\n",
    "actual = filepaths[-1]\n",
    "\n",
    "# load csv into DataFrame\n",
    "wfv_df = pd.read_csv(actual, index_col= \"date\", parse_dates= True)\n",
    "\n",
    "print(wfv_df.head())\n",
    "\n",
    "fig = px.line(\n",
    "    data_frame= wfv_df,\n",
    "    title = \"Walk forward Validation Prediction and Actual Test data\",\n",
    "    labels= {\"value\" : \"PM2.5\"}\n",
    ")\n",
    "\n",
    "fig.show()"
   ]
  },
  {
   "cell_type": "code",
   "execution_count": null,
   "id": "03eb896e-29d9-4f95-8bc7-9cfb4e507ecf",
   "metadata": {},
   "outputs": [],
   "source": [
    "# Check out necessary charts\n",
    "\n",
    "model.plot_diagnostics(figsize=(15, 8))\n",
    "plt.show()"
   ]
  },
  {
   "cell_type": "code",
   "execution_count": null,
   "id": "a7dca537-d4bc-4faf-9e69-27bfab871db4",
   "metadata": {},
   "outputs": [],
   "source": []
  }
 ],
 "metadata": {
  "kernelspec": {
   "display_name": "Python 3 (ipykernel)",
   "language": "python",
   "name": "python3"
  },
  "language_info": {
   "codemirror_mode": {
    "name": "ipython",
    "version": 3
   },
   "file_extension": ".py",
   "mimetype": "text/x-python",
   "name": "python",
   "nbconvert_exporter": "python",
   "pygments_lexer": "ipython3",
   "version": "3.12.7"
  }
 },
 "nbformat": 4,
 "nbformat_minor": 5
}
