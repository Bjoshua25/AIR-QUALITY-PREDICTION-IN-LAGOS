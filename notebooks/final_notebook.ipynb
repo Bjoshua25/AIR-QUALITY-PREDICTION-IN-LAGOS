{
 "cells": [
  {
   "cell_type": "code",
   "execution_count": 2,
   "id": "f631c395-0023-4e4c-b46a-b3c922ddc404",
   "metadata": {},
   "outputs": [],
   "source": [
    "# Load Libraries\n",
    "\n",
    "import os\n",
    "import sys\n",
    "import joblib\n",
    "from datetime import datetime\n",
    "import glob\n",
    "import pandas as pd\n",
    "import numpy as np\n",
    "import plotly.express as px\n",
    "\n",
    "import matplotlib.pyplot as plt\n",
    "import seaborn as sns\n",
    "from statsmodels.graphics.tsaplots import plot_acf, plot_pacf\n",
    "from statsmodels.tsa.seasonal import seasonal_decompose\n",
    "\n",
    "import matplotlib.pyplot as plt\n",
    "from statsmodels.tsa.ar_model import AutoReg\n",
    "from statsmodels.tsa.arima.model import ARIMA\n",
    "from statsmodels.tsa.statespace.sarimax import SARIMAX\n",
    "from sklearn.metrics import mean_squared_error, mean_absolute_error\n",
    "from pmdarima import auto_arima\n",
    "\n"
   ]
  },
  {
   "cell_type": "code",
   "execution_count": 7,
   "id": "6f39c1bd-e0be-4063-b087-154442bf4649",
   "metadata": {},
   "outputs": [
    {
     "ename": "FileNotFoundError",
     "evalue": "[Errno 2] No such file or directory: 'config.yaml'",
     "output_type": "error",
     "traceback": [
      "\u001b[31m---------------------------------------------------------------------------\u001b[39m",
      "\u001b[31mFileNotFoundError\u001b[39m                         Traceback (most recent call last)",
      "\u001b[36mCell\u001b[39m\u001b[36m \u001b[39m\u001b[32mIn[7]\u001b[39m\u001b[32m, line 12\u001b[39m\n\u001b[32m      9\u001b[39m     sys.path.append(project_root)\n\u001b[32m     11\u001b[39m \u001b[38;5;66;03m# Now import your modules from the scripts folder\u001b[39;00m\n\u001b[32m---> \u001b[39m\u001b[32m12\u001b[39m \u001b[38;5;28;01mfrom\u001b[39;00m \u001b[34;01mscripts\u001b[39;00m\u001b[34;01m.\u001b[39;00m\u001b[34;01mwrangle\u001b[39;00m \u001b[38;5;28;01mimport\u001b[39;00m wrangle, merge_monthly_files, load_combined_series\n\u001b[32m     13\u001b[39m \u001b[38;5;28;01mfrom\u001b[39;00m \u001b[34;01mscripts\u001b[39;00m\u001b[34;01m.\u001b[39;00m\u001b[34;01mmodel_training\u001b[39;00m \u001b[38;5;28;01mimport\u001b[39;00m train_sarima_model, save_model, load_latest_model, forecast_with_model\n\u001b[32m     14\u001b[39m \u001b[38;5;28;01mfrom\u001b[39;00m \u001b[34;01mscripts\u001b[39;00m\u001b[34;01m.\u001b[39;00m\u001b[34;01mevaluate\u001b[39;00m \u001b[38;5;28;01mimport\u001b[39;00m evaluate_forecast, plot_forecast\n",
      "\u001b[36mFile \u001b[39m\u001b[32m~\\Documents\\AI_projects\\AirQualityPrediction_Lagos\\scripts\\wrangle.py:6\u001b[39m\n\u001b[32m      3\u001b[39m \u001b[38;5;28;01mimport\u001b[39;00m \u001b[34;01mglob\u001b[39;00m\n\u001b[32m      4\u001b[39m \u001b[38;5;28;01mfrom\u001b[39;00m \u001b[34;01mscripts\u001b[39;00m\u001b[34;01m.\u001b[39;00m\u001b[34;01mconfig\u001b[39;00m \u001b[38;5;28;01mimport\u001b[39;00m load_config\n\u001b[32m----> \u001b[39m\u001b[32m6\u001b[39m cfg = load_config()\n\u001b[32m      7\u001b[39m folder_path = cfg[\u001b[33m\"\u001b[39m\u001b[33mdata\u001b[39m\u001b[33m\"\u001b[39m][\u001b[33m\"\u001b[39m\u001b[33mmonthly_data_folder\u001b[39m\u001b[33m\"\u001b[39m]\n\u001b[32m      8\u001b[39m output_csv_path = cfg[\u001b[33m\"\u001b[39m\u001b[33mdata\u001b[39m\u001b[33m\"\u001b[39m][\u001b[33m\"\u001b[39m\u001b[33mcombined_output_csv\u001b[39m\u001b[33m\"\u001b[39m]\n",
      "\u001b[36mFile \u001b[39m\u001b[32m~\\Documents\\AI_projects\\AirQualityPrediction_Lagos\\scripts\\config.py:5\u001b[39m, in \u001b[36mload_config\u001b[39m\u001b[34m(config_file)\u001b[39m\n\u001b[32m      4\u001b[39m \u001b[38;5;28;01mdef\u001b[39;00m \u001b[34mload_config\u001b[39m(config_file=\u001b[33m\"\u001b[39m\u001b[33mconfig.yaml\u001b[39m\u001b[33m\"\u001b[39m):\n\u001b[32m----> \u001b[39m\u001b[32m5\u001b[39m     \u001b[38;5;28;01mwith\u001b[39;00m \u001b[38;5;28mopen\u001b[39m(config_file, \u001b[33m\"\u001b[39m\u001b[33mr\u001b[39m\u001b[33m\"\u001b[39m) \u001b[38;5;28;01mas\u001b[39;00m f:\n\u001b[32m      6\u001b[39m         cfg = yaml.safe_load(f)\n\u001b[32m      8\u001b[39m     \u001b[38;5;66;03m# Convert relative paths to absolute paths\u001b[39;00m\n",
      "\u001b[31mFileNotFoundError\u001b[39m: [Errno 2] No such file or directory: 'config.yaml'"
     ]
    }
   ],
   "source": [
    "# Add the 'scripts' folder to the Python path\n",
    "# scripts_path = os.path.abspath(\"../scripts\")\n",
    "# if scripts_path not in sys.path:\n",
    "#     sys.path.append(scripts_path)\n",
    "\n",
    "# Add the project root (parent of 'scripts') to sys.path\n",
    "project_root = os.path.abspath(\"..\")\n",
    "if project_root not in sys.path:\n",
    "    sys.path.append(project_root)\n",
    "\n",
    "# Now import your modules from the scripts folder\n",
    "from scripts.wrangle import wrangle, merge_monthly_files, load_combined_series\n",
    "from scripts.model_training import train_sarima_model, save_model, load_latest_model, forecast_with_model\n",
    "from scripts.evaluate import evaluate_forecast, plot_forecast\n",
    "from scripts.validate import load_latest_wfv_results, main\n"
   ]
  },
  {
   "cell_type": "code",
   "execution_count": 1,
   "id": "173fcd0f-d218-4e57-933c-4b7316059dc3",
   "metadata": {},
   "outputs": [
    {
     "ename": "NameError",
     "evalue": "name 'wrangle' is not defined",
     "output_type": "error",
     "traceback": [
      "\u001b[31m---------------------------------------------------------------------------\u001b[39m",
      "\u001b[31mNameError\u001b[39m                                 Traceback (most recent call last)",
      "\u001b[36mCell\u001b[39m\u001b[36m \u001b[39m\u001b[32mIn[1]\u001b[39m\u001b[32m, line 4\u001b[39m\n\u001b[32m      1\u001b[39m \u001b[38;5;66;03m# wrangle data\u001b[39;00m\n\u001b[32m      2\u001b[39m filepath = \u001b[33m\"\u001b[39m\u001b[33m../data/monthly_p2_readings/2023_11.csv\u001b[39m\u001b[33m\"\u001b[39m\n\u001b[32m----> \u001b[39m\u001b[32m4\u001b[39m df = wrangle(filepath=filepath)\n\u001b[32m      5\u001b[39m df.head()\n",
      "\u001b[31mNameError\u001b[39m: name 'wrangle' is not defined"
     ]
    }
   ],
   "source": [
    "# wrangle data\n",
    "filepath = \"../data/monthly_p2_readings/2023_11.csv\"\n",
    "\n",
    "df = wrangle(filepath=filepath)\n",
    "df.head()"
   ]
  },
  {
   "cell_type": "code",
   "execution_count": null,
   "id": "f265db4a-ade9-47dd-bbdb-4cadd68048a7",
   "metadata": {},
   "outputs": [],
   "source": [
    "# Cimbine multiple datasets\n",
    "\n",
    "merge_monthly_files().head()"
   ]
  },
  {
   "cell_type": "code",
   "execution_count": null,
   "id": "b70d5ae8-63b6-4051-8c6a-ff5889283e81",
   "metadata": {},
   "outputs": [],
   "source": [
    "# Load Combined dataset into dataframe\n",
    "train, test = load_combined_series()\n",
    "\n",
    "print(f\"Train split: {train.shape}\")\n",
    "print(f\"Test split: {test.shape}\")"
   ]
  },
  {
   "cell_type": "code",
   "execution_count": null,
   "id": "a9e1eaaf-7f36-482d-9fa6-f8b94adc6926",
   "metadata": {
    "scrolled": true
   },
   "outputs": [],
   "source": [
    "y = train\n",
    "\n",
    "# PM2.5 Over time\n",
    "fig, ax = plt.subplots(figsize = (15, 5))\n",
    "plt.plot(y)\n",
    "plt.title(\"PM2.5 Values over Time\")\n",
    "plt.xlabel(\"Years\")\n",
    "plt.ylabel(\"PM2.5\")\n",
    "plt.show()\n",
    "\n",
    "window = 120\n",
    "# rolling mean for 30 days or 720 hours\n",
    "rolling_mean = y.rolling(window= window).mean()\n",
    "\n",
    "# rolling variance for 30 days or 720 hours\n",
    "rolling_std = y.rolling(window = window).std()\n",
    "\n",
    "# Plot charts\n",
    "fig, ax = plt.subplots(figsize = (15, 5))\n",
    "plt.plot(rolling_mean, label = \"Rolling mean 30d\")\n",
    "plt.plot(rolling_std, label = \"Rolling std 30d\")\n",
    "plt.title(\"Rolling Average and Standard Deviation over 30 days or 720 hours\")\n",
    "plt.xlabel(\"Years\")\n",
    "plt.ylabel(\"PM2.5\")\n",
    "\n",
    "plt.legend()\n",
    "plt.show()\n",
    "\n",
    "# Figure size\n",
    "plt.figure(figsize= (15, 5))\n",
    "\n",
    "# Histogram\n",
    "plt.subplot(1, 2, 1)\n",
    "sns.histplot(y, kde=True, bins =  30, color= \"skyblue\")\n",
    "plt.title(\"PM2.5 Distribution\")\n",
    "plt.ylabel(\"Frequency [count]\")\n",
    "\n",
    "# Boxplot\n",
    "plt.subplot(1, 2, 2)\n",
    "sns.boxplot(y, color= \"lightcoral\", orient=\"h\")\n",
    "plt.title(\"PM2.5 Boxplot: There appears to be Outliers\")\n",
    "plt.ylabel(\"Frequency [count]\")\n",
    "\n",
    "plt.show()\n",
    "\n",
    "period = 120\n",
    "\n",
    "# Instantiate the seasonal_decompose\n",
    "decomposition = seasonal_decompose(y, model=\"additive\", period=period)\n",
    "\n",
    "# Plot the Chart\n",
    "decomposition.plot()\n",
    "plt.suptitle(\"Seasonal Decomposition (Additive Model)\", fontsize=14)\n",
    "plt.tight_layout()\n",
    "plt.show()\n",
    "\n",
    "# plot_acf\n",
    "\n",
    "fig, ax = plt.subplots(figsize=(14, 5))\n",
    "plot_acf(y, ax=ax)\n",
    "plt.title(\"Autocorrelation (ACF)\")\n",
    "plt.tight_layout()\n",
    "plt.show()\n",
    "\n",
    "# plot_pacf\n",
    "\n",
    "fig, ax = plt.subplots(figsize=(14, 5))\n",
    "plot_pacf(y, ax=ax)\n",
    "plt.title(\"Partial Autocorrelation (PACF)\")\n",
    "plt.tight_layout()\n",
    "plt.show()"
   ]
  },
  {
   "cell_type": "markdown",
   "id": "d0e8674b-c17b-4fb2-818d-66aea09368dc",
   "metadata": {},
   "source": [
    "# testing the created Scripts"
   ]
  },
  {
   "cell_type": "code",
   "execution_count": null,
   "id": "14422074-6ae2-4fa7-92f0-189e2143b5f9",
   "metadata": {},
   "outputs": [],
   "source": [
    "# train model\n",
    "model = train_sarima_model()"
   ]
  },
  {
   "cell_type": "code",
   "execution_count": null,
   "id": "d7e78ebc-0088-4bfc-b330-7d263f66834c",
   "metadata": {},
   "outputs": [],
   "source": [
    "model.summary()"
   ]
  },
  {
   "cell_type": "code",
   "execution_count": null,
   "id": "5510d651-57d6-4231-bc41-2511c9159614",
   "metadata": {},
   "outputs": [],
   "source": [
    "# save_model\n",
    "save_model(model)"
   ]
  },
  {
   "cell_type": "code",
   "execution_count": null,
   "id": "ebf27da8-9e74-49df-8594-32107e2074a0",
   "metadata": {},
   "outputs": [],
   "source": [
    "# load model\n",
    "model = load_latest_model()\n",
    "print(type(model))"
   ]
  },
  {
   "cell_type": "code",
   "execution_count": null,
   "id": "86a7f575-2dc4-4e91-8b64-2785270018b5",
   "metadata": {},
   "outputs": [],
   "source": [
    "# forecast\n",
    "y_pred = forecast_with_model(model)\n",
    "y_pred.head()"
   ]
  },
  {
   "cell_type": "code",
   "execution_count": null,
   "id": "70d5cfb4-d0a4-4a90-a3d4-8b7b40a30883",
   "metadata": {},
   "outputs": [],
   "source": [
    "# loading latest Walk forward validation file\n",
    "wfv_df = load_latest_wfv_results()\n",
    "\n",
    "wfv_df.head()"
   ]
  },
  {
   "cell_type": "code",
   "execution_count": null,
   "id": "f829b269-26d1-42bb-9fe5-4ad04504b1ea",
   "metadata": {},
   "outputs": [],
   "source": [
    "# Evaluate model\n",
    "\n",
    "mse, mae = evaluate_forecast(test, wfv_df[\"y_pred\"])\n",
    "\n",
    "print(f\"MSE: {mse}\")\n",
    "print(f\"MAE: {mae}\")\n",
    "\n",
    "# plot Evaluation\n",
    "\n",
    "plot_forecast(test, wfv_df[\"y_pred\"])"
   ]
  },
  {
   "cell_type": "code",
   "execution_count": null,
   "id": "8cd2d0a3-4d23-4bcb-8883-64bfeae03e09",
   "metadata": {},
   "outputs": [],
   "source": [
    "# Testing the 'main' pipeline\n",
    "wfv_df, mse, mae = main(train, test)\n",
    "\n",
    "print(f\"MSE: {mse}\")\n",
    "print(f\"MAE: {mae}\")\n",
    "\n",
    "wfv_df.head()"
   ]
  },
  {
   "cell_type": "code",
   "execution_count": null,
   "id": "49729a2f-b5b3-43bd-b83f-d0fbce358184",
   "metadata": {},
   "outputs": [],
   "source": []
  },
  {
   "cell_type": "code",
   "execution_count": null,
   "id": "66322157-c9a6-4b28-a430-aaa10b2d5e1f",
   "metadata": {},
   "outputs": [],
   "source": []
  }
 ],
 "metadata": {
  "kernelspec": {
   "display_name": "Python 3 (ipykernel)",
   "language": "python",
   "name": "python3"
  },
  "language_info": {
   "codemirror_mode": {
    "name": "ipython",
    "version": 3
   },
   "file_extension": ".py",
   "mimetype": "text/x-python",
   "name": "python",
   "nbconvert_exporter": "python",
   "pygments_lexer": "ipython3",
   "version": "3.12.7"
  }
 },
 "nbformat": 4,
 "nbformat_minor": 5
}
