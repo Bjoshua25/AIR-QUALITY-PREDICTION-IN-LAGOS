{
 "cells": [
  {
   "cell_type": "code",
   "execution_count": 1,
   "id": "f631c395-0023-4e4c-b46a-b3c922ddc404",
   "metadata": {},
   "outputs": [],
   "source": [
    "# Load Libraries\n",
    "\n",
    "import os\n",
    "import sys\n",
    "import joblib\n",
    "from datetime import datetime\n",
    "import glob\n",
    "import pandas as pd\n",
    "import numpy as np\n",
    "import plotly.express as px\n",
    "\n",
    "import matplotlib.pyplot as plt\n",
    "import seaborn as sns\n",
    "from statsmodels.graphics.tsaplots import plot_acf, plot_pacf\n",
    "from statsmodels.tsa.seasonal import seasonal_decompose\n",
    "\n",
    "import matplotlib.pyplot as plt\n",
    "from statsmodels.tsa.ar_model import AutoReg\n",
    "from statsmodels.tsa.arima.model import ARIMA\n",
    "from statsmodels.tsa.statespace.sarimax import SARIMAX\n",
    "from sklearn.metrics import mean_squared_error, mean_absolute_error\n",
    "from pmdarima import auto_arima\n",
    "\n"
   ]
  },
  {
   "cell_type": "code",
   "execution_count": 2,
   "id": "41b5c9c9-ed12-49f2-b411-5351ddb400a1",
   "metadata": {},
   "outputs": [
    {
     "name": "stdout",
     "output_type": "stream",
     "text": [
      "Root in sys.path: True\n",
      "Resolved project root: C:\\Users\\user\\Documents\\AI_projects\\AirQualityPrediction_Lagos\n"
     ]
    }
   ],
   "source": [
    "import os, sys\n",
    "\n",
    "project_root = os.path.abspath(\"..\")\n",
    "if project_root not in sys.path:\n",
    "    sys.path.append(project_root)\n",
    "\n",
    "# Sanity check\n",
    "print(\"Root in sys.path:\", project_root in sys.path)\n",
    "print(\"Resolved project root:\", project_root)\n"
   ]
  },
  {
   "cell_type": "code",
   "execution_count": 3,
   "id": "15bc8b58-a66f-460c-9d3c-673b5196965c",
   "metadata": {},
   "outputs": [],
   "source": [
    "from scripts.wrangle import wrangle, merge_monthly_files, load_combined_series\n",
    "from scripts.model_training import train_sarima_model, save_model, load_latest_model, forecast_with_model\n",
    "from scripts.evaluate import evaluate_forecast, plot_forecast\n",
    "from scripts.validate import load_latest_wfv_results, main\n"
   ]
  },
  {
   "cell_type": "code",
   "execution_count": 4,
   "id": "173fcd0f-d218-4e57-933c-4b7316059dc3",
   "metadata": {},
   "outputs": [
    {
     "data": {
      "text/html": [
       "<div>\n",
       "<style scoped>\n",
       "    .dataframe tbody tr th:only-of-type {\n",
       "        vertical-align: middle;\n",
       "    }\n",
       "\n",
       "    .dataframe tbody tr th {\n",
       "        vertical-align: top;\n",
       "    }\n",
       "\n",
       "    .dataframe thead th {\n",
       "        text-align: right;\n",
       "    }\n",
       "</style>\n",
       "<table border=\"1\" class=\"dataframe\">\n",
       "  <thead>\n",
       "    <tr style=\"text-align: right;\">\n",
       "      <th></th>\n",
       "      <th>sensor_id</th>\n",
       "      <th>sensor_type</th>\n",
       "      <th>location</th>\n",
       "      <th>lat</th>\n",
       "      <th>lon</th>\n",
       "      <th>value_type</th>\n",
       "      <th>PM2.5</th>\n",
       "    </tr>\n",
       "    <tr>\n",
       "      <th>date</th>\n",
       "      <th></th>\n",
       "      <th></th>\n",
       "      <th></th>\n",
       "      <th></th>\n",
       "      <th></th>\n",
       "      <th></th>\n",
       "      <th></th>\n",
       "    </tr>\n",
       "  </thead>\n",
       "  <tbody>\n",
       "    <tr>\n",
       "      <th>2023-11-01 17:44:52.764459+01:00</th>\n",
       "      <td>4855</td>\n",
       "      <td>pms5003</td>\n",
       "      <td>3629</td>\n",
       "      <td>6.428</td>\n",
       "      <td>3.435</td>\n",
       "      <td>P2</td>\n",
       "      <td>19.00</td>\n",
       "    </tr>\n",
       "    <tr>\n",
       "      <th>2023-11-01 18:52:08.924982+01:00</th>\n",
       "      <td>4857</td>\n",
       "      <td>pms5003</td>\n",
       "      <td>3630</td>\n",
       "      <td>6.540</td>\n",
       "      <td>3.297</td>\n",
       "      <td>P2</td>\n",
       "      <td>3.50</td>\n",
       "    </tr>\n",
       "    <tr>\n",
       "      <th>2023-11-01 18:53:13.805911+01:00</th>\n",
       "      <td>4857</td>\n",
       "      <td>pms5003</td>\n",
       "      <td>3630</td>\n",
       "      <td>6.540</td>\n",
       "      <td>3.297</td>\n",
       "      <td>P2</td>\n",
       "      <td>3.00</td>\n",
       "    </tr>\n",
       "    <tr>\n",
       "      <th>2023-11-01 19:16:42.515782+01:00</th>\n",
       "      <td>4853</td>\n",
       "      <td>pms5003</td>\n",
       "      <td>3628</td>\n",
       "      <td>6.559</td>\n",
       "      <td>3.386</td>\n",
       "      <td>P2</td>\n",
       "      <td>40.33</td>\n",
       "    </tr>\n",
       "    <tr>\n",
       "      <th>2023-11-03 08:38:39.664224+01:00</th>\n",
       "      <td>4857</td>\n",
       "      <td>pms5003</td>\n",
       "      <td>3630</td>\n",
       "      <td>6.540</td>\n",
       "      <td>3.297</td>\n",
       "      <td>P2</td>\n",
       "      <td>47.00</td>\n",
       "    </tr>\n",
       "  </tbody>\n",
       "</table>\n",
       "</div>"
      ],
      "text/plain": [
       "                                  sensor_id sensor_type  location    lat  \\\n",
       "date                                                                       \n",
       "2023-11-01 17:44:52.764459+01:00       4855     pms5003      3629  6.428   \n",
       "2023-11-01 18:52:08.924982+01:00       4857     pms5003      3630  6.540   \n",
       "2023-11-01 18:53:13.805911+01:00       4857     pms5003      3630  6.540   \n",
       "2023-11-01 19:16:42.515782+01:00       4853     pms5003      3628  6.559   \n",
       "2023-11-03 08:38:39.664224+01:00       4857     pms5003      3630  6.540   \n",
       "\n",
       "                                    lon value_type  PM2.5  \n",
       "date                                                       \n",
       "2023-11-01 17:44:52.764459+01:00  3.435         P2  19.00  \n",
       "2023-11-01 18:52:08.924982+01:00  3.297         P2   3.50  \n",
       "2023-11-01 18:53:13.805911+01:00  3.297         P2   3.00  \n",
       "2023-11-01 19:16:42.515782+01:00  3.386         P2  40.33  \n",
       "2023-11-03 08:38:39.664224+01:00  3.297         P2  47.00  "
      ]
     },
     "execution_count": 4,
     "metadata": {},
     "output_type": "execute_result"
    }
   ],
   "source": [
    "# wrangle data\n",
    "filepath = \"../data/monthly_p2_readings/2023_11.csv\"\n",
    "\n",
    "df = wrangle(filepath=filepath)\n",
    "df.head()"
   ]
  },
  {
   "cell_type": "code",
   "execution_count": 4,
   "id": "f265db4a-ade9-47dd-bbdb-4cadd68048a7",
   "metadata": {},
   "outputs": [
    {
     "name": "stdout",
     "output_type": "stream",
     "text": [
      "Reading files from: C:\\Users\\user\\Documents\\AI_projects\\AirQualityPrediction_Lagos\\data/monthly_p2_readings/\n",
      "Processed 2023_11.csv\n",
      "Processed 2023_12.csv\n",
      "Processed 2024_01.csv\n",
      "Processed 2024_02.csv\n",
      "Processed 2024_03.csv\n",
      "Processed 2024_04.csv\n",
      "Processed 2024_05.csv\n",
      "Processed 2024_06.csv\n",
      "Processed 2024_07.csv\n",
      "Processed 2024_08.csv\n",
      "Processed 2024_09.csv\n",
      "Processed 2024_10.csv\n",
      "Processed 2024_11.csv\n",
      "Processed 2024_12.csv\n",
      "Processed 2025_01.csv\n",
      "Processed 2025_02.csv\n",
      "Processed 2025_03.csv\n",
      "Processed 2025_04.csv\n",
      "\n",
      "Combined shape: (73601, 7)\n"
     ]
    },
    {
     "data": {
      "text/html": [
       "<div>\n",
       "<style scoped>\n",
       "    .dataframe tbody tr th:only-of-type {\n",
       "        vertical-align: middle;\n",
       "    }\n",
       "\n",
       "    .dataframe tbody tr th {\n",
       "        vertical-align: top;\n",
       "    }\n",
       "\n",
       "    .dataframe thead th {\n",
       "        text-align: right;\n",
       "    }\n",
       "</style>\n",
       "<table border=\"1\" class=\"dataframe\">\n",
       "  <thead>\n",
       "    <tr style=\"text-align: right;\">\n",
       "      <th></th>\n",
       "      <th>sensor_id</th>\n",
       "      <th>sensor_type</th>\n",
       "      <th>location</th>\n",
       "      <th>lat</th>\n",
       "      <th>lon</th>\n",
       "      <th>value_type</th>\n",
       "      <th>PM2.5</th>\n",
       "    </tr>\n",
       "    <tr>\n",
       "      <th>date</th>\n",
       "      <th></th>\n",
       "      <th></th>\n",
       "      <th></th>\n",
       "      <th></th>\n",
       "      <th></th>\n",
       "      <th></th>\n",
       "      <th></th>\n",
       "    </tr>\n",
       "  </thead>\n",
       "  <tbody>\n",
       "    <tr>\n",
       "      <th>2023-11-01 17:44:52.764459+01:00</th>\n",
       "      <td>4855</td>\n",
       "      <td>pms5003</td>\n",
       "      <td>3629</td>\n",
       "      <td>6.428</td>\n",
       "      <td>3.435</td>\n",
       "      <td>P2</td>\n",
       "      <td>19.00</td>\n",
       "    </tr>\n",
       "    <tr>\n",
       "      <th>2023-11-01 18:52:08.924982+01:00</th>\n",
       "      <td>4857</td>\n",
       "      <td>pms5003</td>\n",
       "      <td>3630</td>\n",
       "      <td>6.540</td>\n",
       "      <td>3.297</td>\n",
       "      <td>P2</td>\n",
       "      <td>3.50</td>\n",
       "    </tr>\n",
       "    <tr>\n",
       "      <th>2023-11-01 18:53:13.805911+01:00</th>\n",
       "      <td>4857</td>\n",
       "      <td>pms5003</td>\n",
       "      <td>3630</td>\n",
       "      <td>6.540</td>\n",
       "      <td>3.297</td>\n",
       "      <td>P2</td>\n",
       "      <td>3.00</td>\n",
       "    </tr>\n",
       "    <tr>\n",
       "      <th>2023-11-01 19:16:42.515782+01:00</th>\n",
       "      <td>4853</td>\n",
       "      <td>pms5003</td>\n",
       "      <td>3628</td>\n",
       "      <td>6.559</td>\n",
       "      <td>3.386</td>\n",
       "      <td>P2</td>\n",
       "      <td>40.33</td>\n",
       "    </tr>\n",
       "    <tr>\n",
       "      <th>2023-11-03 08:38:39.664224+01:00</th>\n",
       "      <td>4857</td>\n",
       "      <td>pms5003</td>\n",
       "      <td>3630</td>\n",
       "      <td>6.540</td>\n",
       "      <td>3.297</td>\n",
       "      <td>P2</td>\n",
       "      <td>47.00</td>\n",
       "    </tr>\n",
       "  </tbody>\n",
       "</table>\n",
       "</div>"
      ],
      "text/plain": [
       "                                  sensor_id sensor_type  location    lat  \\\n",
       "date                                                                       \n",
       "2023-11-01 17:44:52.764459+01:00       4855     pms5003      3629  6.428   \n",
       "2023-11-01 18:52:08.924982+01:00       4857     pms5003      3630  6.540   \n",
       "2023-11-01 18:53:13.805911+01:00       4857     pms5003      3630  6.540   \n",
       "2023-11-01 19:16:42.515782+01:00       4853     pms5003      3628  6.559   \n",
       "2023-11-03 08:38:39.664224+01:00       4857     pms5003      3630  6.540   \n",
       "\n",
       "                                    lon value_type  PM2.5  \n",
       "date                                                       \n",
       "2023-11-01 17:44:52.764459+01:00  3.435         P2  19.00  \n",
       "2023-11-01 18:52:08.924982+01:00  3.297         P2   3.50  \n",
       "2023-11-01 18:53:13.805911+01:00  3.297         P2   3.00  \n",
       "2023-11-01 19:16:42.515782+01:00  3.386         P2  40.33  \n",
       "2023-11-03 08:38:39.664224+01:00  3.297         P2  47.00  "
      ]
     },
     "execution_count": 4,
     "metadata": {},
     "output_type": "execute_result"
    }
   ],
   "source": [
    "# Cimbine multiple datasets\n",
    "\n",
    "merge_monthly_files().head()"
   ]
  },
  {
   "cell_type": "code",
   "execution_count": 8,
   "id": "b70d5ae8-63b6-4051-8c6a-ff5889283e81",
   "metadata": {},
   "outputs": [
    {
     "name": "stdout",
     "output_type": "stream",
     "text": [
      "Train split: (1654,)\n",
      "Test split: (414,)\n"
     ]
    }
   ],
   "source": [
    "# Load Combined dataset into dataframe\n",
    "train, test = load_combined_series()\n",
    "\n",
    "print(f\"Train split: {train.shape}\")\n",
    "print(f\"Test split: {test.shape}\")"
   ]
  },
  {
   "cell_type": "code",
   "execution_count": 5,
   "id": "a9e1eaaf-7f36-482d-9fa6-f8b94adc6926",
   "metadata": {
    "scrolled": true
   },
   "outputs": [
    {
     "ename": "NameError",
     "evalue": "name 'train' is not defined",
     "output_type": "error",
     "traceback": [
      "\u001b[31m---------------------------------------------------------------------------\u001b[39m",
      "\u001b[31mNameError\u001b[39m                                 Traceback (most recent call last)",
      "\u001b[36mCell\u001b[39m\u001b[36m \u001b[39m\u001b[32mIn[5]\u001b[39m\u001b[32m, line 1\u001b[39m\n\u001b[32m----> \u001b[39m\u001b[32m1\u001b[39m y = train\n\u001b[32m      3\u001b[39m \u001b[38;5;66;03m# PM2.5 Over time\u001b[39;00m\n\u001b[32m      4\u001b[39m fig, ax = plt.subplots(figsize = (\u001b[32m15\u001b[39m, \u001b[32m5\u001b[39m))\n",
      "\u001b[31mNameError\u001b[39m: name 'train' is not defined"
     ]
    }
   ],
   "source": [
    "y = train\n",
    "\n",
    "# PM2.5 Over time\n",
    "fig, ax = plt.subplots(figsize = (15, 5))\n",
    "plt.plot(y)\n",
    "plt.title(\"PM2.5 Values over Time\")\n",
    "plt.xlabel(\"Years\")\n",
    "plt.ylabel(\"PM2.5\")\n",
    "plt.show()\n",
    "\n",
    "window = 120\n",
    "# rolling mean for 30 days or 720 hours\n",
    "rolling_mean = y.rolling(window= window).mean()\n",
    "\n",
    "# rolling variance for 30 days or 720 hours\n",
    "rolling_std = y.rolling(window = window).std()\n",
    "\n",
    "# Plot charts\n",
    "fig, ax = plt.subplots(figsize = (15, 5))\n",
    "plt.plot(rolling_mean, label = \"Rolling mean 30d\")\n",
    "plt.plot(rolling_std, label = \"Rolling std 30d\")\n",
    "plt.title(\"Rolling Average and Standard Deviation over 30 days or 720 hours\")\n",
    "plt.xlabel(\"Years\")\n",
    "plt.ylabel(\"PM2.5\")\n",
    "\n",
    "plt.legend()\n",
    "plt.show()\n",
    "\n",
    "# Figure size\n",
    "plt.figure(figsize= (15, 5))\n",
    "\n",
    "# Histogram\n",
    "plt.subplot(1, 2, 1)\n",
    "sns.histplot(y, kde=True, bins =  30, color= \"skyblue\")\n",
    "plt.title(\"PM2.5 Distribution\")\n",
    "plt.ylabel(\"Frequency [count]\")\n",
    "\n",
    "# Boxplot\n",
    "plt.subplot(1, 2, 2)\n",
    "sns.boxplot(y, color= \"lightcoral\", orient=\"h\")\n",
    "plt.title(\"PM2.5 Boxplot: There appears to be Outliers\")\n",
    "plt.ylabel(\"Frequency [count]\")\n",
    "\n",
    "plt.show()\n",
    "\n",
    "period = 120\n",
    "\n",
    "# Instantiate the seasonal_decompose\n",
    "decomposition = seasonal_decompose(y, model=\"additive\", period=period)\n",
    "\n",
    "# Plot the Chart\n",
    "decomposition.plot()\n",
    "plt.suptitle(\"Seasonal Decomposition (Additive Model)\", fontsize=14)\n",
    "plt.tight_layout()\n",
    "plt.show()\n",
    "\n",
    "# plot_acf\n",
    "\n",
    "fig, ax = plt.subplots(figsize=(14, 5))\n",
    "plot_acf(y, ax=ax)\n",
    "plt.title(\"Autocorrelation (ACF)\")\n",
    "plt.tight_layout()\n",
    "plt.show()\n",
    "\n",
    "# plot_pacf\n",
    "\n",
    "fig, ax = plt.subplots(figsize=(14, 5))\n",
    "plot_pacf(y, ax=ax)\n",
    "plt.title(\"Partial Autocorrelation (PACF)\")\n",
    "plt.tight_layout()\n",
    "plt.show()"
   ]
  },
  {
   "cell_type": "markdown",
   "id": "d0e8674b-c17b-4fb2-818d-66aea09368dc",
   "metadata": {},
   "source": [
    "# testing the created Scripts"
   ]
  },
  {
   "cell_type": "code",
   "execution_count": 10,
   "id": "14422074-6ae2-4fa7-92f0-189e2143b5f9",
   "metadata": {},
   "outputs": [
    {
     "name": "stderr",
     "output_type": "stream",
     "text": [
      "C:\\Users\\user\\anaconda3\\Lib\\site-packages\\statsmodels\\base\\model.py:607: ConvergenceWarning:\n",
      "\n",
      "Maximum Likelihood optimization failed to converge. Check mle_retvals\n",
      "\n"
     ]
    }
   ],
   "source": [
    "# train model\n",
    "model = train_sarima_model()"
   ]
  },
  {
   "cell_type": "code",
   "execution_count": 11,
   "id": "d7e78ebc-0088-4bfc-b330-7d263f66834c",
   "metadata": {},
   "outputs": [
    {
     "data": {
      "text/html": [
       "<table class=\"simpletable\">\n",
       "<caption>SARIMAX Results</caption>\n",
       "<tr>\n",
       "  <th>Dep. Variable:</th>                  <td>PM2.5</td>               <th>  No. Observations:  </th>   <td>1654</td>   \n",
       "</tr>\n",
       "<tr>\n",
       "  <th>Model:</th>           <td>SARIMAX(3, 1, 1)x(2, 0, [1, 2], 4)</td> <th>  Log Likelihood     </th> <td>-6002.096</td>\n",
       "</tr>\n",
       "<tr>\n",
       "  <th>Date:</th>                     <td>Sat, 07 Jun 2025</td>          <th>  AIC                </th> <td>12022.193</td>\n",
       "</tr>\n",
       "<tr>\n",
       "  <th>Time:</th>                         <td>11:45:35</td>              <th>  BIC                </th> <td>12070.826</td>\n",
       "</tr>\n",
       "<tr>\n",
       "  <th>Sample:</th>                      <td>11-01-2023</td>             <th>  HQIC               </th> <td>12040.228</td>\n",
       "</tr>\n",
       "<tr>\n",
       "  <th></th>                            <td>- 12-18-2024</td>            <th>                     </th>     <td> </td>    \n",
       "</tr>\n",
       "<tr>\n",
       "  <th>Covariance Type:</th>                 <td>opg</td>                <th>                     </th>     <td> </td>    \n",
       "</tr>\n",
       "</table>\n",
       "<table class=\"simpletable\">\n",
       "<tr>\n",
       "     <td></td>        <th>coef</th>     <th>std err</th>      <th>z</th>      <th>P>|z|</th>  <th>[0.025</th>    <th>0.975]</th>  \n",
       "</tr>\n",
       "<tr>\n",
       "  <th>ar.L1</th>   <td>    0.8268</td> <td>    0.016</td> <td>   50.277</td> <td> 0.000</td> <td>    0.795</td> <td>    0.859</td>\n",
       "</tr>\n",
       "<tr>\n",
       "  <th>ar.L2</th>   <td>   -0.0364</td> <td>    0.026</td> <td>   -1.397</td> <td> 0.163</td> <td>   -0.087</td> <td>    0.015</td>\n",
       "</tr>\n",
       "<tr>\n",
       "  <th>ar.L3</th>   <td>   -0.0059</td> <td>    0.022</td> <td>   -0.266</td> <td> 0.790</td> <td>   -0.049</td> <td>    0.037</td>\n",
       "</tr>\n",
       "<tr>\n",
       "  <th>ma.L1</th>   <td>   -0.9941</td> <td>    0.004</td> <td> -268.317</td> <td> 0.000</td> <td>   -1.001</td> <td>   -0.987</td>\n",
       "</tr>\n",
       "<tr>\n",
       "  <th>ar.S.L4</th> <td>    0.3839</td> <td>    0.139</td> <td>    2.768</td> <td> 0.006</td> <td>    0.112</td> <td>    0.656</td>\n",
       "</tr>\n",
       "<tr>\n",
       "  <th>ar.S.L8</th> <td>    0.5757</td> <td>    0.136</td> <td>    4.223</td> <td> 0.000</td> <td>    0.309</td> <td>    0.843</td>\n",
       "</tr>\n",
       "<tr>\n",
       "  <th>ma.S.L4</th> <td>   -0.3306</td> <td>    0.150</td> <td>   -2.202</td> <td> 0.028</td> <td>   -0.625</td> <td>   -0.036</td>\n",
       "</tr>\n",
       "<tr>\n",
       "  <th>ma.S.L8</th> <td>   -0.4377</td> <td>    0.132</td> <td>   -3.328</td> <td> 0.001</td> <td>   -0.695</td> <td>   -0.180</td>\n",
       "</tr>\n",
       "<tr>\n",
       "  <th>sigma2</th>  <td>   86.9037</td> <td>    1.441</td> <td>   60.319</td> <td> 0.000</td> <td>   84.080</td> <td>   89.727</td>\n",
       "</tr>\n",
       "</table>\n",
       "<table class=\"simpletable\">\n",
       "<tr>\n",
       "  <th>Ljung-Box (L1) (Q):</th>     <td>0.00</td> <th>  Jarque-Bera (JB):  </th> <td>7480.19</td>\n",
       "</tr>\n",
       "<tr>\n",
       "  <th>Prob(Q):</th>                <td>0.97</td> <th>  Prob(JB):          </th>  <td>0.00</td>  \n",
       "</tr>\n",
       "<tr>\n",
       "  <th>Heteroskedasticity (H):</th> <td>0.38</td> <th>  Skew:              </th>  <td>-0.07</td> \n",
       "</tr>\n",
       "<tr>\n",
       "  <th>Prob(H) (two-sided):</th>    <td>0.00</td> <th>  Kurtosis:          </th>  <td>13.46</td> \n",
       "</tr>\n",
       "</table><br/><br/>Warnings:<br/>[1] Covariance matrix calculated using the outer product of gradients (complex-step)."
      ],
      "text/latex": [
       "\\begin{center}\n",
       "\\begin{tabular}{lclc}\n",
       "\\toprule\n",
       "\\textbf{Dep. Variable:}          &               PM2.5                & \\textbf{  No. Observations:  } &    1654     \\\\\n",
       "\\textbf{Model:}                  & SARIMAX(3, 1, 1)x(2, 0, [1, 2], 4) & \\textbf{  Log Likelihood     } & -6002.096   \\\\\n",
       "\\textbf{Date:}                   &          Sat, 07 Jun 2025          & \\textbf{  AIC                } & 12022.193   \\\\\n",
       "\\textbf{Time:}                   &              11:45:35              & \\textbf{  BIC                } & 12070.826   \\\\\n",
       "\\textbf{Sample:}                 &             11-01-2023             & \\textbf{  HQIC               } & 12040.228   \\\\\n",
       "\\textbf{}                        &            - 12-18-2024            & \\textbf{                     } &             \\\\\n",
       "\\textbf{Covariance Type:}        &                opg                 & \\textbf{                     } &             \\\\\n",
       "\\bottomrule\n",
       "\\end{tabular}\n",
       "\\begin{tabular}{lcccccc}\n",
       "                 & \\textbf{coef} & \\textbf{std err} & \\textbf{z} & \\textbf{P$> |$z$|$} & \\textbf{[0.025} & \\textbf{0.975]}  \\\\\n",
       "\\midrule\n",
       "\\textbf{ar.L1}   &       0.8268  &        0.016     &    50.277  &         0.000        &        0.795    &        0.859     \\\\\n",
       "\\textbf{ar.L2}   &      -0.0364  &        0.026     &    -1.397  &         0.163        &       -0.087    &        0.015     \\\\\n",
       "\\textbf{ar.L3}   &      -0.0059  &        0.022     &    -0.266  &         0.790        &       -0.049    &        0.037     \\\\\n",
       "\\textbf{ma.L1}   &      -0.9941  &        0.004     &  -268.317  &         0.000        &       -1.001    &       -0.987     \\\\\n",
       "\\textbf{ar.S.L4} &       0.3839  &        0.139     &     2.768  &         0.006        &        0.112    &        0.656     \\\\\n",
       "\\textbf{ar.S.L8} &       0.5757  &        0.136     &     4.223  &         0.000        &        0.309    &        0.843     \\\\\n",
       "\\textbf{ma.S.L4} &      -0.3306  &        0.150     &    -2.202  &         0.028        &       -0.625    &       -0.036     \\\\\n",
       "\\textbf{ma.S.L8} &      -0.4377  &        0.132     &    -3.328  &         0.001        &       -0.695    &       -0.180     \\\\\n",
       "\\textbf{sigma2}  &      86.9037  &        1.441     &    60.319  &         0.000        &       84.080    &       89.727     \\\\\n",
       "\\bottomrule\n",
       "\\end{tabular}\n",
       "\\begin{tabular}{lclc}\n",
       "\\textbf{Ljung-Box (L1) (Q):}     & 0.00 & \\textbf{  Jarque-Bera (JB):  } & 7480.19  \\\\\n",
       "\\textbf{Prob(Q):}                & 0.97 & \\textbf{  Prob(JB):          } &   0.00   \\\\\n",
       "\\textbf{Heteroskedasticity (H):} & 0.38 & \\textbf{  Skew:              } &  -0.07   \\\\\n",
       "\\textbf{Prob(H) (two-sided):}    & 0.00 & \\textbf{  Kurtosis:          } &  13.46   \\\\\n",
       "\\bottomrule\n",
       "\\end{tabular}\n",
       "%\\caption{SARIMAX Results}\n",
       "\\end{center}\n",
       "\n",
       "Warnings: \\newline\n",
       " [1] Covariance matrix calculated using the outer product of gradients (complex-step)."
      ],
      "text/plain": [
       "<class 'statsmodels.iolib.summary.Summary'>\n",
       "\"\"\"\n",
       "                                       SARIMAX Results                                        \n",
       "==============================================================================================\n",
       "Dep. Variable:                                  PM2.5   No. Observations:                 1654\n",
       "Model:             SARIMAX(3, 1, 1)x(2, 0, [1, 2], 4)   Log Likelihood               -6002.096\n",
       "Date:                                Sat, 07 Jun 2025   AIC                          12022.193\n",
       "Time:                                        11:45:35   BIC                          12070.826\n",
       "Sample:                                    11-01-2023   HQIC                         12040.228\n",
       "                                         - 12-18-2024                                         \n",
       "Covariance Type:                                  opg                                         \n",
       "==============================================================================\n",
       "                 coef    std err          z      P>|z|      [0.025      0.975]\n",
       "------------------------------------------------------------------------------\n",
       "ar.L1          0.8268      0.016     50.277      0.000       0.795       0.859\n",
       "ar.L2         -0.0364      0.026     -1.397      0.163      -0.087       0.015\n",
       "ar.L3         -0.0059      0.022     -0.266      0.790      -0.049       0.037\n",
       "ma.L1         -0.9941      0.004   -268.317      0.000      -1.001      -0.987\n",
       "ar.S.L4        0.3839      0.139      2.768      0.006       0.112       0.656\n",
       "ar.S.L8        0.5757      0.136      4.223      0.000       0.309       0.843\n",
       "ma.S.L4       -0.3306      0.150     -2.202      0.028      -0.625      -0.036\n",
       "ma.S.L8       -0.4377      0.132     -3.328      0.001      -0.695      -0.180\n",
       "sigma2        86.9037      1.441     60.319      0.000      84.080      89.727\n",
       "===================================================================================\n",
       "Ljung-Box (L1) (Q):                   0.00   Jarque-Bera (JB):              7480.19\n",
       "Prob(Q):                              0.97   Prob(JB):                         0.00\n",
       "Heteroskedasticity (H):               0.38   Skew:                            -0.07\n",
       "Prob(H) (two-sided):                  0.00   Kurtosis:                        13.46\n",
       "===================================================================================\n",
       "\n",
       "Warnings:\n",
       "[1] Covariance matrix calculated using the outer product of gradients (complex-step).\n",
       "\"\"\""
      ]
     },
     "execution_count": 11,
     "metadata": {},
     "output_type": "execute_result"
    }
   ],
   "source": [
    "model.summary()"
   ]
  },
  {
   "cell_type": "code",
   "execution_count": 9,
   "id": "5510d651-57d6-4231-bc41-2511c9159614",
   "metadata": {},
   "outputs": [
    {
     "name": "stdout",
     "output_type": "stream",
     "text": [
      "Model saved to models/2025-06-07T09-55-38_sarima_model.pkl\n"
     ]
    }
   ],
   "source": [
    "# save_model\n",
    "save_model(model)"
   ]
  },
  {
   "cell_type": "code",
   "execution_count": 4,
   "id": "ebf27da8-9e74-49df-8594-32107e2074a0",
   "metadata": {},
   "outputs": [
    {
     "name": "stdout",
     "output_type": "stream",
     "text": [
      "Loaded model: 2025-06-07T11-41-08_sarima_model.pkl\n",
      "<class 'statsmodels.tsa.statespace.sarimax.SARIMAXResultsWrapper'>\n"
     ]
    }
   ],
   "source": [
    "# load model\n",
    "model = load_latest_model()\n",
    "print(type(model))"
   ]
  },
  {
   "cell_type": "code",
   "execution_count": 5,
   "id": "86a7f575-2dc4-4e91-8b64-2785270018b5",
   "metadata": {},
   "outputs": [
    {
     "data": {
      "text/plain": [
       "2024-12-19 00:00:00+01:00    51.580966\n",
       "2024-12-19 06:00:00+01:00    50.870392\n",
       "2024-12-19 12:00:00+01:00    50.740045\n",
       "2024-12-19 18:00:00+01:00    51.082686\n",
       "2024-12-20 00:00:00+01:00    50.828044\n",
       "Freq: 6h, Name: predicted_mean, dtype: float64"
      ]
     },
     "execution_count": 5,
     "metadata": {},
     "output_type": "execute_result"
    }
   ],
   "source": [
    "# forecast\n",
    "y_pred = forecast_with_model(model)\n",
    "y_pred.head()"
   ]
  },
  {
   "cell_type": "code",
   "execution_count": 8,
   "id": "3c0c67bf-a9b1-4185-b1d2-59ff7fb5b260",
   "metadata": {},
   "outputs": [
    {
     "name": "stdout",
     "output_type": "stream",
     "text": [
      "Resolved results folder: C:\\Users\\user\\Documents\\AI_projects\\AirQualityPrediction_Lagos\\results/\n"
     ]
    }
   ],
   "source": [
    "from scripts.config import load_config\n",
    "cfg = load_config()\n",
    "print(\"Resolved results folder:\", cfg[\"paths\"][\"results_folder\"])\n"
   ]
  },
  {
   "cell_type": "code",
   "execution_count": 6,
   "id": "70d5cfb4-d0a4-4a90-a3d4-8b7b40a30883",
   "metadata": {},
   "outputs": [
    {
     "name": "stdout",
     "output_type": "stream",
     "text": [
      "Loaded WFV results: 2025-06-07T11-41-08_walk_forward_results.csv\n"
     ]
    },
    {
     "data": {
      "text/html": [
       "<div>\n",
       "<style scoped>\n",
       "    .dataframe tbody tr th:only-of-type {\n",
       "        vertical-align: middle;\n",
       "    }\n",
       "\n",
       "    .dataframe tbody tr th {\n",
       "        vertical-align: top;\n",
       "    }\n",
       "\n",
       "    .dataframe thead th {\n",
       "        text-align: right;\n",
       "    }\n",
       "</style>\n",
       "<table border=\"1\" class=\"dataframe\">\n",
       "  <thead>\n",
       "    <tr style=\"text-align: right;\">\n",
       "      <th></th>\n",
       "      <th>y_test</th>\n",
       "      <th>y_pred</th>\n",
       "    </tr>\n",
       "    <tr>\n",
       "      <th>date</th>\n",
       "      <th></th>\n",
       "      <th></th>\n",
       "    </tr>\n",
       "  </thead>\n",
       "  <tbody>\n",
       "    <tr>\n",
       "      <th>2024-12-19 00:00:00+01:00</th>\n",
       "      <td>52.919605</td>\n",
       "      <td>51.253834</td>\n",
       "    </tr>\n",
       "    <tr>\n",
       "      <th>2024-12-19 06:00:00+01:00</th>\n",
       "      <td>53.500504</td>\n",
       "      <td>51.664976</td>\n",
       "    </tr>\n",
       "    <tr>\n",
       "      <th>2024-12-19 12:00:00+01:00</th>\n",
       "      <td>54.081404</td>\n",
       "      <td>53.098212</td>\n",
       "    </tr>\n",
       "    <tr>\n",
       "      <th>2024-12-19 18:00:00+01:00</th>\n",
       "      <td>54.662303</td>\n",
       "      <td>54.018747</td>\n",
       "    </tr>\n",
       "    <tr>\n",
       "      <th>2024-12-20 00:00:00+01:00</th>\n",
       "      <td>55.243202</td>\n",
       "      <td>53.447990</td>\n",
       "    </tr>\n",
       "  </tbody>\n",
       "</table>\n",
       "</div>"
      ],
      "text/plain": [
       "                              y_test     y_pred\n",
       "date                                           \n",
       "2024-12-19 00:00:00+01:00  52.919605  51.253834\n",
       "2024-12-19 06:00:00+01:00  53.500504  51.664976\n",
       "2024-12-19 12:00:00+01:00  54.081404  53.098212\n",
       "2024-12-19 18:00:00+01:00  54.662303  54.018747\n",
       "2024-12-20 00:00:00+01:00  55.243202  53.447990"
      ]
     },
     "execution_count": 6,
     "metadata": {},
     "output_type": "execute_result"
    }
   ],
   "source": [
    "# loading latest Walk forward validation file\n",
    "wfv_df = load_latest_wfv_results()\n",
    "\n",
    "wfv_df.head()"
   ]
  },
  {
   "cell_type": "code",
   "execution_count": 9,
   "id": "f829b269-26d1-42bb-9fe5-4ad04504b1ea",
   "metadata": {},
   "outputs": [
    {
     "name": "stdout",
     "output_type": "stream",
     "text": [
      "MSE: 42.62943149854451\n",
      "MAE: 3.44412067444524\n"
     ]
    },
    {
     "data": {
      "application/vnd.plotly.v1+json": {
       "config": {
        "plotlyServerURL": "https://plot.ly"
       },
       "data": [
        {
         "hovertemplate": "variable=y_test<br>date=%{x}<br>PM2.5=%{y}<extra></extra>",
         "legendgroup": "y_test",
         "line": {
          "color": "#636efa",
          "dash": "solid"
         },
         "marker": {
          "symbol": "circle"
         },
         "mode": "lines",
         "name": "y_test",
         "orientation": "v",
         "showlegend": true,
         "type": "scatter",
         "x": [
          "2024-12-19T00:00:00.000000000",
          "2024-12-19T06:00:00.000000000",
          "2024-12-19T12:00:00.000000000",
          "2024-12-19T18:00:00.000000000",
          "2024-12-20T00:00:00.000000000",
          "2024-12-20T06:00:00.000000000",
          "2024-12-20T12:00:00.000000000",
          "2024-12-20T18:00:00.000000000",
          "2024-12-21T00:00:00.000000000",
          "2024-12-21T06:00:00.000000000",
          "2024-12-21T12:00:00.000000000",
          "2024-12-21T18:00:00.000000000",
          "2024-12-22T00:00:00.000000000",
          "2024-12-22T06:00:00.000000000",
          "2024-12-22T12:00:00.000000000",
          "2024-12-22T18:00:00.000000000",
          "2024-12-23T00:00:00.000000000",
          "2024-12-23T06:00:00.000000000",
          "2024-12-23T12:00:00.000000000",
          "2024-12-23T18:00:00.000000000",
          "2024-12-24T00:00:00.000000000",
          "2024-12-24T06:00:00.000000000",
          "2024-12-24T12:00:00.000000000",
          "2024-12-24T18:00:00.000000000",
          "2024-12-25T00:00:00.000000000",
          "2024-12-25T06:00:00.000000000",
          "2024-12-25T12:00:00.000000000",
          "2024-12-25T18:00:00.000000000",
          "2024-12-26T00:00:00.000000000",
          "2024-12-26T06:00:00.000000000",
          "2024-12-26T12:00:00.000000000",
          "2024-12-26T18:00:00.000000000",
          "2024-12-27T00:00:00.000000000",
          "2024-12-27T06:00:00.000000000",
          "2024-12-27T12:00:00.000000000",
          "2024-12-27T18:00:00.000000000",
          "2024-12-28T00:00:00.000000000",
          "2024-12-28T06:00:00.000000000",
          "2024-12-28T12:00:00.000000000",
          "2024-12-28T18:00:00.000000000",
          "2024-12-29T00:00:00.000000000",
          "2024-12-29T06:00:00.000000000",
          "2024-12-29T12:00:00.000000000",
          "2024-12-29T18:00:00.000000000",
          "2024-12-30T00:00:00.000000000",
          "2024-12-30T06:00:00.000000000",
          "2024-12-30T12:00:00.000000000",
          "2024-12-30T18:00:00.000000000",
          "2024-12-31T00:00:00.000000000",
          "2024-12-31T06:00:00.000000000",
          "2024-12-31T12:00:00.000000000",
          "2024-12-31T18:00:00.000000000",
          "2025-01-01T00:00:00.000000000",
          "2025-01-01T06:00:00.000000000",
          "2025-01-01T12:00:00.000000000",
          "2025-01-01T18:00:00.000000000",
          "2025-01-02T00:00:00.000000000",
          "2025-01-02T06:00:00.000000000",
          "2025-01-02T12:00:00.000000000",
          "2025-01-02T18:00:00.000000000",
          "2025-01-03T00:00:00.000000000",
          "2025-01-03T06:00:00.000000000",
          "2025-01-03T12:00:00.000000000",
          "2025-01-03T18:00:00.000000000",
          "2025-01-04T00:00:00.000000000",
          "2025-01-04T06:00:00.000000000",
          "2025-01-04T12:00:00.000000000",
          "2025-01-04T18:00:00.000000000",
          "2025-01-05T00:00:00.000000000",
          "2025-01-05T06:00:00.000000000",
          "2025-01-05T12:00:00.000000000",
          "2025-01-05T18:00:00.000000000",
          "2025-01-06T00:00:00.000000000",
          "2025-01-06T06:00:00.000000000",
          "2025-01-06T12:00:00.000000000",
          "2025-01-06T18:00:00.000000000",
          "2025-01-07T00:00:00.000000000",
          "2025-01-07T06:00:00.000000000",
          "2025-01-07T12:00:00.000000000",
          "2025-01-07T18:00:00.000000000",
          "2025-01-08T00:00:00.000000000",
          "2025-01-08T06:00:00.000000000",
          "2025-01-08T12:00:00.000000000",
          "2025-01-08T18:00:00.000000000",
          "2025-01-09T00:00:00.000000000",
          "2025-01-09T06:00:00.000000000",
          "2025-01-09T12:00:00.000000000",
          "2025-01-09T18:00:00.000000000",
          "2025-01-10T00:00:00.000000000",
          "2025-01-10T06:00:00.000000000",
          "2025-01-10T12:00:00.000000000",
          "2025-01-10T18:00:00.000000000",
          "2025-01-11T00:00:00.000000000",
          "2025-01-11T06:00:00.000000000",
          "2025-01-11T12:00:00.000000000",
          "2025-01-11T18:00:00.000000000",
          "2025-01-12T00:00:00.000000000",
          "2025-01-12T06:00:00.000000000",
          "2025-01-12T12:00:00.000000000",
          "2025-01-12T18:00:00.000000000",
          "2025-01-13T00:00:00.000000000",
          "2025-01-13T06:00:00.000000000",
          "2025-01-13T12:00:00.000000000",
          "2025-01-13T18:00:00.000000000",
          "2025-01-14T00:00:00.000000000",
          "2025-01-14T06:00:00.000000000",
          "2025-01-14T12:00:00.000000000",
          "2025-01-14T18:00:00.000000000",
          "2025-01-15T00:00:00.000000000",
          "2025-01-15T06:00:00.000000000",
          "2025-01-15T12:00:00.000000000",
          "2025-01-15T18:00:00.000000000",
          "2025-01-16T00:00:00.000000000",
          "2025-01-16T06:00:00.000000000",
          "2025-01-16T12:00:00.000000000",
          "2025-01-16T18:00:00.000000000",
          "2025-01-17T00:00:00.000000000",
          "2025-01-17T06:00:00.000000000",
          "2025-01-17T12:00:00.000000000",
          "2025-01-17T18:00:00.000000000",
          "2025-01-18T00:00:00.000000000",
          "2025-01-18T06:00:00.000000000",
          "2025-01-18T12:00:00.000000000",
          "2025-01-18T18:00:00.000000000",
          "2025-01-19T00:00:00.000000000",
          "2025-01-19T06:00:00.000000000",
          "2025-01-19T12:00:00.000000000",
          "2025-01-19T18:00:00.000000000",
          "2025-01-20T00:00:00.000000000",
          "2025-01-20T06:00:00.000000000",
          "2025-01-20T12:00:00.000000000",
          "2025-01-20T18:00:00.000000000",
          "2025-01-21T00:00:00.000000000",
          "2025-01-21T06:00:00.000000000",
          "2025-01-21T12:00:00.000000000",
          "2025-01-21T18:00:00.000000000",
          "2025-01-22T00:00:00.000000000",
          "2025-01-22T06:00:00.000000000",
          "2025-01-22T12:00:00.000000000",
          "2025-01-22T18:00:00.000000000",
          "2025-01-23T00:00:00.000000000",
          "2025-01-23T06:00:00.000000000",
          "2025-01-23T12:00:00.000000000",
          "2025-01-23T18:00:00.000000000",
          "2025-01-24T00:00:00.000000000",
          "2025-01-24T06:00:00.000000000",
          "2025-01-24T12:00:00.000000000",
          "2025-01-24T18:00:00.000000000",
          "2025-01-25T00:00:00.000000000",
          "2025-01-25T06:00:00.000000000",
          "2025-01-25T12:00:00.000000000",
          "2025-01-25T18:00:00.000000000",
          "2025-01-26T00:00:00.000000000",
          "2025-01-26T06:00:00.000000000",
          "2025-01-26T12:00:00.000000000",
          "2025-01-26T18:00:00.000000000",
          "2025-01-27T00:00:00.000000000",
          "2025-01-27T06:00:00.000000000",
          "2025-01-27T12:00:00.000000000",
          "2025-01-27T18:00:00.000000000",
          "2025-01-28T00:00:00.000000000",
          "2025-01-28T06:00:00.000000000",
          "2025-01-28T12:00:00.000000000",
          "2025-01-28T18:00:00.000000000",
          "2025-01-29T00:00:00.000000000",
          "2025-01-29T06:00:00.000000000",
          "2025-01-29T12:00:00.000000000",
          "2025-01-29T18:00:00.000000000",
          "2025-01-30T00:00:00.000000000",
          "2025-01-30T06:00:00.000000000",
          "2025-01-30T12:00:00.000000000",
          "2025-01-30T18:00:00.000000000",
          "2025-01-31T00:00:00.000000000",
          "2025-01-31T06:00:00.000000000",
          "2025-01-31T12:00:00.000000000",
          "2025-01-31T18:00:00.000000000",
          "2025-02-01T00:00:00.000000000",
          "2025-02-01T06:00:00.000000000",
          "2025-02-01T12:00:00.000000000",
          "2025-02-01T18:00:00.000000000",
          "2025-02-02T00:00:00.000000000",
          "2025-02-02T06:00:00.000000000",
          "2025-02-02T12:00:00.000000000",
          "2025-02-02T18:00:00.000000000",
          "2025-02-03T00:00:00.000000000",
          "2025-02-03T06:00:00.000000000",
          "2025-02-03T12:00:00.000000000",
          "2025-02-03T18:00:00.000000000",
          "2025-02-04T00:00:00.000000000",
          "2025-02-04T06:00:00.000000000",
          "2025-02-04T12:00:00.000000000",
          "2025-02-04T18:00:00.000000000",
          "2025-02-05T00:00:00.000000000",
          "2025-02-05T06:00:00.000000000",
          "2025-02-05T12:00:00.000000000",
          "2025-02-05T18:00:00.000000000",
          "2025-02-06T00:00:00.000000000",
          "2025-02-06T06:00:00.000000000",
          "2025-02-06T12:00:00.000000000",
          "2025-02-06T18:00:00.000000000",
          "2025-02-07T00:00:00.000000000",
          "2025-02-07T06:00:00.000000000",
          "2025-02-07T12:00:00.000000000",
          "2025-02-07T18:00:00.000000000",
          "2025-02-08T00:00:00.000000000",
          "2025-02-08T06:00:00.000000000",
          "2025-02-08T12:00:00.000000000",
          "2025-02-08T18:00:00.000000000",
          "2025-02-09T00:00:00.000000000",
          "2025-02-09T06:00:00.000000000",
          "2025-02-09T12:00:00.000000000",
          "2025-02-09T18:00:00.000000000",
          "2025-02-10T00:00:00.000000000",
          "2025-02-10T06:00:00.000000000",
          "2025-02-10T12:00:00.000000000",
          "2025-02-10T18:00:00.000000000",
          "2025-02-11T00:00:00.000000000",
          "2025-02-11T06:00:00.000000000",
          "2025-02-11T12:00:00.000000000",
          "2025-02-11T18:00:00.000000000",
          "2025-02-12T00:00:00.000000000",
          "2025-02-12T06:00:00.000000000",
          "2025-02-12T12:00:00.000000000",
          "2025-02-12T18:00:00.000000000",
          "2025-02-13T00:00:00.000000000",
          "2025-02-13T06:00:00.000000000",
          "2025-02-13T12:00:00.000000000",
          "2025-02-13T18:00:00.000000000",
          "2025-02-14T00:00:00.000000000",
          "2025-02-14T06:00:00.000000000",
          "2025-02-14T12:00:00.000000000",
          "2025-02-14T18:00:00.000000000",
          "2025-02-15T00:00:00.000000000",
          "2025-02-15T06:00:00.000000000",
          "2025-02-15T12:00:00.000000000",
          "2025-02-15T18:00:00.000000000",
          "2025-02-16T00:00:00.000000000",
          "2025-02-16T06:00:00.000000000",
          "2025-02-16T12:00:00.000000000",
          "2025-02-16T18:00:00.000000000",
          "2025-02-17T00:00:00.000000000",
          "2025-02-17T06:00:00.000000000",
          "2025-02-17T12:00:00.000000000",
          "2025-02-17T18:00:00.000000000",
          "2025-02-18T00:00:00.000000000",
          "2025-02-18T06:00:00.000000000",
          "2025-02-18T12:00:00.000000000",
          "2025-02-18T18:00:00.000000000",
          "2025-02-19T00:00:00.000000000",
          "2025-02-19T06:00:00.000000000",
          "2025-02-19T12:00:00.000000000",
          "2025-02-19T18:00:00.000000000",
          "2025-02-20T00:00:00.000000000",
          "2025-02-20T06:00:00.000000000",
          "2025-02-20T12:00:00.000000000",
          "2025-02-20T18:00:00.000000000",
          "2025-02-21T00:00:00.000000000",
          "2025-02-21T06:00:00.000000000",
          "2025-02-21T12:00:00.000000000",
          "2025-02-21T18:00:00.000000000",
          "2025-02-22T00:00:00.000000000",
          "2025-02-22T06:00:00.000000000",
          "2025-02-22T12:00:00.000000000",
          "2025-02-22T18:00:00.000000000",
          "2025-02-23T00:00:00.000000000",
          "2025-02-23T06:00:00.000000000",
          "2025-02-23T12:00:00.000000000",
          "2025-02-23T18:00:00.000000000",
          "2025-02-24T00:00:00.000000000",
          "2025-02-24T06:00:00.000000000",
          "2025-02-24T12:00:00.000000000",
          "2025-02-24T18:00:00.000000000",
          "2025-02-25T00:00:00.000000000",
          "2025-02-25T06:00:00.000000000",
          "2025-02-25T12:00:00.000000000",
          "2025-02-25T18:00:00.000000000",
          "2025-02-26T00:00:00.000000000",
          "2025-02-26T06:00:00.000000000",
          "2025-02-26T12:00:00.000000000",
          "2025-02-26T18:00:00.000000000",
          "2025-02-27T00:00:00.000000000",
          "2025-02-27T06:00:00.000000000",
          "2025-02-27T12:00:00.000000000",
          "2025-02-27T18:00:00.000000000",
          "2025-02-28T00:00:00.000000000",
          "2025-02-28T06:00:00.000000000",
          "2025-02-28T12:00:00.000000000",
          "2025-02-28T18:00:00.000000000",
          "2025-03-01T00:00:00.000000000",
          "2025-03-01T06:00:00.000000000",
          "2025-03-01T12:00:00.000000000",
          "2025-03-01T18:00:00.000000000",
          "2025-03-02T00:00:00.000000000",
          "2025-03-02T06:00:00.000000000",
          "2025-03-02T12:00:00.000000000",
          "2025-03-02T18:00:00.000000000",
          "2025-03-03T00:00:00.000000000",
          "2025-03-03T06:00:00.000000000",
          "2025-03-03T12:00:00.000000000",
          "2025-03-03T18:00:00.000000000",
          "2025-03-04T00:00:00.000000000",
          "2025-03-04T06:00:00.000000000",
          "2025-03-04T12:00:00.000000000",
          "2025-03-04T18:00:00.000000000",
          "2025-03-05T00:00:00.000000000",
          "2025-03-05T06:00:00.000000000",
          "2025-03-05T12:00:00.000000000",
          "2025-03-05T18:00:00.000000000",
          "2025-03-06T00:00:00.000000000",
          "2025-03-06T06:00:00.000000000",
          "2025-03-06T12:00:00.000000000",
          "2025-03-06T18:00:00.000000000",
          "2025-03-07T00:00:00.000000000",
          "2025-03-07T06:00:00.000000000",
          "2025-03-07T12:00:00.000000000",
          "2025-03-07T18:00:00.000000000",
          "2025-03-08T00:00:00.000000000",
          "2025-03-08T06:00:00.000000000",
          "2025-03-08T12:00:00.000000000",
          "2025-03-08T18:00:00.000000000",
          "2025-03-09T00:00:00.000000000",
          "2025-03-09T06:00:00.000000000",
          "2025-03-09T12:00:00.000000000",
          "2025-03-09T18:00:00.000000000",
          "2025-03-10T00:00:00.000000000",
          "2025-03-10T06:00:00.000000000",
          "2025-03-10T12:00:00.000000000",
          "2025-03-10T18:00:00.000000000",
          "2025-03-11T00:00:00.000000000",
          "2025-03-11T06:00:00.000000000",
          "2025-03-11T12:00:00.000000000",
          "2025-03-11T18:00:00.000000000",
          "2025-03-12T00:00:00.000000000",
          "2025-03-12T06:00:00.000000000",
          "2025-03-12T12:00:00.000000000",
          "2025-03-12T18:00:00.000000000",
          "2025-03-13T00:00:00.000000000",
          "2025-03-13T06:00:00.000000000",
          "2025-03-13T12:00:00.000000000",
          "2025-03-13T18:00:00.000000000",
          "2025-03-14T00:00:00.000000000",
          "2025-03-14T06:00:00.000000000",
          "2025-03-14T12:00:00.000000000",
          "2025-03-14T18:00:00.000000000",
          "2025-03-15T00:00:00.000000000",
          "2025-03-15T06:00:00.000000000",
          "2025-03-15T12:00:00.000000000",
          "2025-03-15T18:00:00.000000000",
          "2025-03-16T00:00:00.000000000",
          "2025-03-16T06:00:00.000000000",
          "2025-03-16T12:00:00.000000000",
          "2025-03-16T18:00:00.000000000",
          "2025-03-17T00:00:00.000000000",
          "2025-03-17T06:00:00.000000000",
          "2025-03-17T12:00:00.000000000",
          "2025-03-17T18:00:00.000000000",
          "2025-03-18T00:00:00.000000000",
          "2025-03-18T06:00:00.000000000",
          "2025-03-18T12:00:00.000000000",
          "2025-03-18T18:00:00.000000000",
          "2025-03-19T00:00:00.000000000",
          "2025-03-19T06:00:00.000000000",
          "2025-03-19T12:00:00.000000000",
          "2025-03-19T18:00:00.000000000",
          "2025-03-20T00:00:00.000000000",
          "2025-03-20T06:00:00.000000000",
          "2025-03-20T12:00:00.000000000",
          "2025-03-20T18:00:00.000000000",
          "2025-03-21T00:00:00.000000000",
          "2025-03-21T06:00:00.000000000",
          "2025-03-21T12:00:00.000000000",
          "2025-03-21T18:00:00.000000000",
          "2025-03-22T00:00:00.000000000",
          "2025-03-22T06:00:00.000000000",
          "2025-03-22T12:00:00.000000000",
          "2025-03-22T18:00:00.000000000",
          "2025-03-23T00:00:00.000000000",
          "2025-03-23T06:00:00.000000000",
          "2025-03-23T12:00:00.000000000",
          "2025-03-23T18:00:00.000000000",
          "2025-03-24T00:00:00.000000000",
          "2025-03-24T06:00:00.000000000",
          "2025-03-24T12:00:00.000000000",
          "2025-03-24T18:00:00.000000000",
          "2025-03-25T00:00:00.000000000",
          "2025-03-25T06:00:00.000000000",
          "2025-03-25T12:00:00.000000000",
          "2025-03-25T18:00:00.000000000",
          "2025-03-26T00:00:00.000000000",
          "2025-03-26T06:00:00.000000000",
          "2025-03-26T12:00:00.000000000",
          "2025-03-26T18:00:00.000000000",
          "2025-03-27T00:00:00.000000000",
          "2025-03-27T06:00:00.000000000",
          "2025-03-27T12:00:00.000000000",
          "2025-03-27T18:00:00.000000000",
          "2025-03-28T00:00:00.000000000",
          "2025-03-28T06:00:00.000000000",
          "2025-03-28T12:00:00.000000000",
          "2025-03-28T18:00:00.000000000",
          "2025-03-29T00:00:00.000000000",
          "2025-03-29T06:00:00.000000000",
          "2025-03-29T12:00:00.000000000",
          "2025-03-29T18:00:00.000000000",
          "2025-03-30T00:00:00.000000000",
          "2025-03-30T06:00:00.000000000",
          "2025-03-30T12:00:00.000000000",
          "2025-03-30T18:00:00.000000000",
          "2025-03-31T00:00:00.000000000",
          "2025-03-31T06:00:00.000000000",
          "2025-03-31T12:00:00.000000000",
          "2025-03-31T18:00:00.000000000",
          "2025-04-01T00:00:00.000000000",
          "2025-04-01T06:00:00.000000000"
         ],
         "xaxis": "x",
         "y": {
          "bdata": "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",
          "dtype": "f8"
         },
         "yaxis": "y"
        },
        {
         "hovertemplate": "variable=y_pred<br>date=%{x}<br>PM2.5=%{y}<extra></extra>",
         "legendgroup": "y_pred",
         "line": {
          "color": "#EF553B",
          "dash": "solid"
         },
         "marker": {
          "symbol": "circle"
         },
         "mode": "lines",
         "name": "y_pred",
         "orientation": "v",
         "showlegend": true,
         "type": "scatter",
         "x": [
          "2024-12-19T00:00:00.000000000",
          "2024-12-19T06:00:00.000000000",
          "2024-12-19T12:00:00.000000000",
          "2024-12-19T18:00:00.000000000",
          "2024-12-20T00:00:00.000000000",
          "2024-12-20T06:00:00.000000000",
          "2024-12-20T12:00:00.000000000",
          "2024-12-20T18:00:00.000000000",
          "2024-12-21T00:00:00.000000000",
          "2024-12-21T06:00:00.000000000",
          "2024-12-21T12:00:00.000000000",
          "2024-12-21T18:00:00.000000000",
          "2024-12-22T00:00:00.000000000",
          "2024-12-22T06:00:00.000000000",
          "2024-12-22T12:00:00.000000000",
          "2024-12-22T18:00:00.000000000",
          "2024-12-23T00:00:00.000000000",
          "2024-12-23T06:00:00.000000000",
          "2024-12-23T12:00:00.000000000",
          "2024-12-23T18:00:00.000000000",
          "2024-12-24T00:00:00.000000000",
          "2024-12-24T06:00:00.000000000",
          "2024-12-24T12:00:00.000000000",
          "2024-12-24T18:00:00.000000000",
          "2024-12-25T00:00:00.000000000",
          "2024-12-25T06:00:00.000000000",
          "2024-12-25T12:00:00.000000000",
          "2024-12-25T18:00:00.000000000",
          "2024-12-26T00:00:00.000000000",
          "2024-12-26T06:00:00.000000000",
          "2024-12-26T12:00:00.000000000",
          "2024-12-26T18:00:00.000000000",
          "2024-12-27T00:00:00.000000000",
          "2024-12-27T06:00:00.000000000",
          "2024-12-27T12:00:00.000000000",
          "2024-12-27T18:00:00.000000000",
          "2024-12-28T00:00:00.000000000",
          "2024-12-28T06:00:00.000000000",
          "2024-12-28T12:00:00.000000000",
          "2024-12-28T18:00:00.000000000",
          "2024-12-29T00:00:00.000000000",
          "2024-12-29T06:00:00.000000000",
          "2024-12-29T12:00:00.000000000",
          "2024-12-29T18:00:00.000000000",
          "2024-12-30T00:00:00.000000000",
          "2024-12-30T06:00:00.000000000",
          "2024-12-30T12:00:00.000000000",
          "2024-12-30T18:00:00.000000000",
          "2024-12-31T00:00:00.000000000",
          "2024-12-31T06:00:00.000000000",
          "2024-12-31T12:00:00.000000000",
          "2024-12-31T18:00:00.000000000",
          "2025-01-01T00:00:00.000000000",
          "2025-01-01T06:00:00.000000000",
          "2025-01-01T12:00:00.000000000",
          "2025-01-01T18:00:00.000000000",
          "2025-01-02T00:00:00.000000000",
          "2025-01-02T06:00:00.000000000",
          "2025-01-02T12:00:00.000000000",
          "2025-01-02T18:00:00.000000000",
          "2025-01-03T00:00:00.000000000",
          "2025-01-03T06:00:00.000000000",
          "2025-01-03T12:00:00.000000000",
          "2025-01-03T18:00:00.000000000",
          "2025-01-04T00:00:00.000000000",
          "2025-01-04T06:00:00.000000000",
          "2025-01-04T12:00:00.000000000",
          "2025-01-04T18:00:00.000000000",
          "2025-01-05T00:00:00.000000000",
          "2025-01-05T06:00:00.000000000",
          "2025-01-05T12:00:00.000000000",
          "2025-01-05T18:00:00.000000000",
          "2025-01-06T00:00:00.000000000",
          "2025-01-06T06:00:00.000000000",
          "2025-01-06T12:00:00.000000000",
          "2025-01-06T18:00:00.000000000",
          "2025-01-07T00:00:00.000000000",
          "2025-01-07T06:00:00.000000000",
          "2025-01-07T12:00:00.000000000",
          "2025-01-07T18:00:00.000000000",
          "2025-01-08T00:00:00.000000000",
          "2025-01-08T06:00:00.000000000",
          "2025-01-08T12:00:00.000000000",
          "2025-01-08T18:00:00.000000000",
          "2025-01-09T00:00:00.000000000",
          "2025-01-09T06:00:00.000000000",
          "2025-01-09T12:00:00.000000000",
          "2025-01-09T18:00:00.000000000",
          "2025-01-10T00:00:00.000000000",
          "2025-01-10T06:00:00.000000000",
          "2025-01-10T12:00:00.000000000",
          "2025-01-10T18:00:00.000000000",
          "2025-01-11T00:00:00.000000000",
          "2025-01-11T06:00:00.000000000",
          "2025-01-11T12:00:00.000000000",
          "2025-01-11T18:00:00.000000000",
          "2025-01-12T00:00:00.000000000",
          "2025-01-12T06:00:00.000000000",
          "2025-01-12T12:00:00.000000000",
          "2025-01-12T18:00:00.000000000",
          "2025-01-13T00:00:00.000000000",
          "2025-01-13T06:00:00.000000000",
          "2025-01-13T12:00:00.000000000",
          "2025-01-13T18:00:00.000000000",
          "2025-01-14T00:00:00.000000000",
          "2025-01-14T06:00:00.000000000",
          "2025-01-14T12:00:00.000000000",
          "2025-01-14T18:00:00.000000000",
          "2025-01-15T00:00:00.000000000",
          "2025-01-15T06:00:00.000000000",
          "2025-01-15T12:00:00.000000000",
          "2025-01-15T18:00:00.000000000",
          "2025-01-16T00:00:00.000000000",
          "2025-01-16T06:00:00.000000000",
          "2025-01-16T12:00:00.000000000",
          "2025-01-16T18:00:00.000000000",
          "2025-01-17T00:00:00.000000000",
          "2025-01-17T06:00:00.000000000",
          "2025-01-17T12:00:00.000000000",
          "2025-01-17T18:00:00.000000000",
          "2025-01-18T00:00:00.000000000",
          "2025-01-18T06:00:00.000000000",
          "2025-01-18T12:00:00.000000000",
          "2025-01-18T18:00:00.000000000",
          "2025-01-19T00:00:00.000000000",
          "2025-01-19T06:00:00.000000000",
          "2025-01-19T12:00:00.000000000",
          "2025-01-19T18:00:00.000000000",
          "2025-01-20T00:00:00.000000000",
          "2025-01-20T06:00:00.000000000",
          "2025-01-20T12:00:00.000000000",
          "2025-01-20T18:00:00.000000000",
          "2025-01-21T00:00:00.000000000",
          "2025-01-21T06:00:00.000000000",
          "2025-01-21T12:00:00.000000000",
          "2025-01-21T18:00:00.000000000",
          "2025-01-22T00:00:00.000000000",
          "2025-01-22T06:00:00.000000000",
          "2025-01-22T12:00:00.000000000",
          "2025-01-22T18:00:00.000000000",
          "2025-01-23T00:00:00.000000000",
          "2025-01-23T06:00:00.000000000",
          "2025-01-23T12:00:00.000000000",
          "2025-01-23T18:00:00.000000000",
          "2025-01-24T00:00:00.000000000",
          "2025-01-24T06:00:00.000000000",
          "2025-01-24T12:00:00.000000000",
          "2025-01-24T18:00:00.000000000",
          "2025-01-25T00:00:00.000000000",
          "2025-01-25T06:00:00.000000000",
          "2025-01-25T12:00:00.000000000",
          "2025-01-25T18:00:00.000000000",
          "2025-01-26T00:00:00.000000000",
          "2025-01-26T06:00:00.000000000",
          "2025-01-26T12:00:00.000000000",
          "2025-01-26T18:00:00.000000000",
          "2025-01-27T00:00:00.000000000",
          "2025-01-27T06:00:00.000000000",
          "2025-01-27T12:00:00.000000000",
          "2025-01-27T18:00:00.000000000",
          "2025-01-28T00:00:00.000000000",
          "2025-01-28T06:00:00.000000000",
          "2025-01-28T12:00:00.000000000",
          "2025-01-28T18:00:00.000000000",
          "2025-01-29T00:00:00.000000000",
          "2025-01-29T06:00:00.000000000",
          "2025-01-29T12:00:00.000000000",
          "2025-01-29T18:00:00.000000000",
          "2025-01-30T00:00:00.000000000",
          "2025-01-30T06:00:00.000000000",
          "2025-01-30T12:00:00.000000000",
          "2025-01-30T18:00:00.000000000",
          "2025-01-31T00:00:00.000000000",
          "2025-01-31T06:00:00.000000000",
          "2025-01-31T12:00:00.000000000",
          "2025-01-31T18:00:00.000000000",
          "2025-02-01T00:00:00.000000000",
          "2025-02-01T06:00:00.000000000",
          "2025-02-01T12:00:00.000000000",
          "2025-02-01T18:00:00.000000000",
          "2025-02-02T00:00:00.000000000",
          "2025-02-02T06:00:00.000000000",
          "2025-02-02T12:00:00.000000000",
          "2025-02-02T18:00:00.000000000",
          "2025-02-03T00:00:00.000000000",
          "2025-02-03T06:00:00.000000000",
          "2025-02-03T12:00:00.000000000",
          "2025-02-03T18:00:00.000000000",
          "2025-02-04T00:00:00.000000000",
          "2025-02-04T06:00:00.000000000",
          "2025-02-04T12:00:00.000000000",
          "2025-02-04T18:00:00.000000000",
          "2025-02-05T00:00:00.000000000",
          "2025-02-05T06:00:00.000000000",
          "2025-02-05T12:00:00.000000000",
          "2025-02-05T18:00:00.000000000",
          "2025-02-06T00:00:00.000000000",
          "2025-02-06T06:00:00.000000000",
          "2025-02-06T12:00:00.000000000",
          "2025-02-06T18:00:00.000000000",
          "2025-02-07T00:00:00.000000000",
          "2025-02-07T06:00:00.000000000",
          "2025-02-07T12:00:00.000000000",
          "2025-02-07T18:00:00.000000000",
          "2025-02-08T00:00:00.000000000",
          "2025-02-08T06:00:00.000000000",
          "2025-02-08T12:00:00.000000000",
          "2025-02-08T18:00:00.000000000",
          "2025-02-09T00:00:00.000000000",
          "2025-02-09T06:00:00.000000000",
          "2025-02-09T12:00:00.000000000",
          "2025-02-09T18:00:00.000000000",
          "2025-02-10T00:00:00.000000000",
          "2025-02-10T06:00:00.000000000",
          "2025-02-10T12:00:00.000000000",
          "2025-02-10T18:00:00.000000000",
          "2025-02-11T00:00:00.000000000",
          "2025-02-11T06:00:00.000000000",
          "2025-02-11T12:00:00.000000000",
          "2025-02-11T18:00:00.000000000",
          "2025-02-12T00:00:00.000000000",
          "2025-02-12T06:00:00.000000000",
          "2025-02-12T12:00:00.000000000",
          "2025-02-12T18:00:00.000000000",
          "2025-02-13T00:00:00.000000000",
          "2025-02-13T06:00:00.000000000",
          "2025-02-13T12:00:00.000000000",
          "2025-02-13T18:00:00.000000000",
          "2025-02-14T00:00:00.000000000",
          "2025-02-14T06:00:00.000000000",
          "2025-02-14T12:00:00.000000000",
          "2025-02-14T18:00:00.000000000",
          "2025-02-15T00:00:00.000000000",
          "2025-02-15T06:00:00.000000000",
          "2025-02-15T12:00:00.000000000",
          "2025-02-15T18:00:00.000000000",
          "2025-02-16T00:00:00.000000000",
          "2025-02-16T06:00:00.000000000",
          "2025-02-16T12:00:00.000000000",
          "2025-02-16T18:00:00.000000000",
          "2025-02-17T00:00:00.000000000",
          "2025-02-17T06:00:00.000000000",
          "2025-02-17T12:00:00.000000000",
          "2025-02-17T18:00:00.000000000",
          "2025-02-18T00:00:00.000000000",
          "2025-02-18T06:00:00.000000000",
          "2025-02-18T12:00:00.000000000",
          "2025-02-18T18:00:00.000000000",
          "2025-02-19T00:00:00.000000000",
          "2025-02-19T06:00:00.000000000",
          "2025-02-19T12:00:00.000000000",
          "2025-02-19T18:00:00.000000000",
          "2025-02-20T00:00:00.000000000",
          "2025-02-20T06:00:00.000000000",
          "2025-02-20T12:00:00.000000000",
          "2025-02-20T18:00:00.000000000",
          "2025-02-21T00:00:00.000000000",
          "2025-02-21T06:00:00.000000000",
          "2025-02-21T12:00:00.000000000",
          "2025-02-21T18:00:00.000000000",
          "2025-02-22T00:00:00.000000000",
          "2025-02-22T06:00:00.000000000",
          "2025-02-22T12:00:00.000000000",
          "2025-02-22T18:00:00.000000000",
          "2025-02-23T00:00:00.000000000",
          "2025-02-23T06:00:00.000000000",
          "2025-02-23T12:00:00.000000000",
          "2025-02-23T18:00:00.000000000",
          "2025-02-24T00:00:00.000000000",
          "2025-02-24T06:00:00.000000000",
          "2025-02-24T12:00:00.000000000",
          "2025-02-24T18:00:00.000000000",
          "2025-02-25T00:00:00.000000000",
          "2025-02-25T06:00:00.000000000",
          "2025-02-25T12:00:00.000000000",
          "2025-02-25T18:00:00.000000000",
          "2025-02-26T00:00:00.000000000",
          "2025-02-26T06:00:00.000000000",
          "2025-02-26T12:00:00.000000000",
          "2025-02-26T18:00:00.000000000",
          "2025-02-27T00:00:00.000000000",
          "2025-02-27T06:00:00.000000000",
          "2025-02-27T12:00:00.000000000",
          "2025-02-27T18:00:00.000000000",
          "2025-02-28T00:00:00.000000000",
          "2025-02-28T06:00:00.000000000",
          "2025-02-28T12:00:00.000000000",
          "2025-02-28T18:00:00.000000000",
          "2025-03-01T00:00:00.000000000",
          "2025-03-01T06:00:00.000000000",
          "2025-03-01T12:00:00.000000000",
          "2025-03-01T18:00:00.000000000",
          "2025-03-02T00:00:00.000000000",
          "2025-03-02T06:00:00.000000000",
          "2025-03-02T12:00:00.000000000",
          "2025-03-02T18:00:00.000000000",
          "2025-03-03T00:00:00.000000000",
          "2025-03-03T06:00:00.000000000",
          "2025-03-03T12:00:00.000000000",
          "2025-03-03T18:00:00.000000000",
          "2025-03-04T00:00:00.000000000",
          "2025-03-04T06:00:00.000000000",
          "2025-03-04T12:00:00.000000000",
          "2025-03-04T18:00:00.000000000",
          "2025-03-05T00:00:00.000000000",
          "2025-03-05T06:00:00.000000000",
          "2025-03-05T12:00:00.000000000",
          "2025-03-05T18:00:00.000000000",
          "2025-03-06T00:00:00.000000000",
          "2025-03-06T06:00:00.000000000",
          "2025-03-06T12:00:00.000000000",
          "2025-03-06T18:00:00.000000000",
          "2025-03-07T00:00:00.000000000",
          "2025-03-07T06:00:00.000000000",
          "2025-03-07T12:00:00.000000000",
          "2025-03-07T18:00:00.000000000",
          "2025-03-08T00:00:00.000000000",
          "2025-03-08T06:00:00.000000000",
          "2025-03-08T12:00:00.000000000",
          "2025-03-08T18:00:00.000000000",
          "2025-03-09T00:00:00.000000000",
          "2025-03-09T06:00:00.000000000",
          "2025-03-09T12:00:00.000000000",
          "2025-03-09T18:00:00.000000000",
          "2025-03-10T00:00:00.000000000",
          "2025-03-10T06:00:00.000000000",
          "2025-03-10T12:00:00.000000000",
          "2025-03-10T18:00:00.000000000",
          "2025-03-11T00:00:00.000000000",
          "2025-03-11T06:00:00.000000000",
          "2025-03-11T12:00:00.000000000",
          "2025-03-11T18:00:00.000000000",
          "2025-03-12T00:00:00.000000000",
          "2025-03-12T06:00:00.000000000",
          "2025-03-12T12:00:00.000000000",
          "2025-03-12T18:00:00.000000000",
          "2025-03-13T00:00:00.000000000",
          "2025-03-13T06:00:00.000000000",
          "2025-03-13T12:00:00.000000000",
          "2025-03-13T18:00:00.000000000",
          "2025-03-14T00:00:00.000000000",
          "2025-03-14T06:00:00.000000000",
          "2025-03-14T12:00:00.000000000",
          "2025-03-14T18:00:00.000000000",
          "2025-03-15T00:00:00.000000000",
          "2025-03-15T06:00:00.000000000",
          "2025-03-15T12:00:00.000000000",
          "2025-03-15T18:00:00.000000000",
          "2025-03-16T00:00:00.000000000",
          "2025-03-16T06:00:00.000000000",
          "2025-03-16T12:00:00.000000000",
          "2025-03-16T18:00:00.000000000",
          "2025-03-17T00:00:00.000000000",
          "2025-03-17T06:00:00.000000000",
          "2025-03-17T12:00:00.000000000",
          "2025-03-17T18:00:00.000000000",
          "2025-03-18T00:00:00.000000000",
          "2025-03-18T06:00:00.000000000",
          "2025-03-18T12:00:00.000000000",
          "2025-03-18T18:00:00.000000000",
          "2025-03-19T00:00:00.000000000",
          "2025-03-19T06:00:00.000000000",
          "2025-03-19T12:00:00.000000000",
          "2025-03-19T18:00:00.000000000",
          "2025-03-20T00:00:00.000000000",
          "2025-03-20T06:00:00.000000000",
          "2025-03-20T12:00:00.000000000",
          "2025-03-20T18:00:00.000000000",
          "2025-03-21T00:00:00.000000000",
          "2025-03-21T06:00:00.000000000",
          "2025-03-21T12:00:00.000000000",
          "2025-03-21T18:00:00.000000000",
          "2025-03-22T00:00:00.000000000",
          "2025-03-22T06:00:00.000000000",
          "2025-03-22T12:00:00.000000000",
          "2025-03-22T18:00:00.000000000",
          "2025-03-23T00:00:00.000000000",
          "2025-03-23T06:00:00.000000000",
          "2025-03-23T12:00:00.000000000",
          "2025-03-23T18:00:00.000000000",
          "2025-03-24T00:00:00.000000000",
          "2025-03-24T06:00:00.000000000",
          "2025-03-24T12:00:00.000000000",
          "2025-03-24T18:00:00.000000000",
          "2025-03-25T00:00:00.000000000",
          "2025-03-25T06:00:00.000000000",
          "2025-03-25T12:00:00.000000000",
          "2025-03-25T18:00:00.000000000",
          "2025-03-26T00:00:00.000000000",
          "2025-03-26T06:00:00.000000000",
          "2025-03-26T12:00:00.000000000",
          "2025-03-26T18:00:00.000000000",
          "2025-03-27T00:00:00.000000000",
          "2025-03-27T06:00:00.000000000",
          "2025-03-27T12:00:00.000000000",
          "2025-03-27T18:00:00.000000000",
          "2025-03-28T00:00:00.000000000",
          "2025-03-28T06:00:00.000000000",
          "2025-03-28T12:00:00.000000000",
          "2025-03-28T18:00:00.000000000",
          "2025-03-29T00:00:00.000000000",
          "2025-03-29T06:00:00.000000000",
          "2025-03-29T12:00:00.000000000",
          "2025-03-29T18:00:00.000000000",
          "2025-03-30T00:00:00.000000000",
          "2025-03-30T06:00:00.000000000",
          "2025-03-30T12:00:00.000000000",
          "2025-03-30T18:00:00.000000000",
          "2025-03-31T00:00:00.000000000",
          "2025-03-31T06:00:00.000000000",
          "2025-03-31T12:00:00.000000000",
          "2025-03-31T18:00:00.000000000",
          "2025-04-01T00:00:00.000000000",
          "2025-04-01T06:00:00.000000000"
         ],
         "xaxis": "x",
         "y": {
          "bdata": "I4hbnn2gSUC4NsPrHdVJQIFlXzmSjEpAnGCQUGYCS0DW1ga+V7lKQGCrrDSF+UpAZwQKQPJMS0AnlO9dCbJLQB0YQDQNGVJADNGBxP8/TUCmkeItwylHQEeraGQB80hAxSpD2zJeR0DhYbcajCZHQJDOIZzEfkdAYTtqL4xTTEAVbSC+1WZOQJME3VumnlFAojVIqTraVECpXRDHxktJQKKVskv5ZElAbAZ1eDkRSkBMOTV75AlKQO5coFruNU1AtCrCp2WeSkBnQv+AHPRJQJTYdWSbIUZAFicP1yLQSECUKJ4zPA1JQPA40U8bM0pAPG+X1JGfSkC48wt+4s1NQN56HaYuu01AzhpptZV3TkClW9AEsyxNQByuOS0QT1BAn33utV5HUEAemz2czVNQQHTRvnEiAlBAf3/a1G14UEBWVpb7Q2BPQPAxwwiOtU5Ad/8uwDShTEBUcdwKPtdNQGvlyGW3ckxAuIhgaS3KS0BAgo3+a1xKQHymc08SDktAyObElR1zSUB9OfXb9cdIQJw86i7OFEdA+uLiCQ+uR0D3cyLuKWRGQIzZlt+0qUVA1tqOZuNTREB8PxbiA1ZFQG3n/IU6OkVA5Y3hrAOjRUD0MFIMQG1FQKTeIZK57kVA3dldaWEbRUCw4VuRV7REQCBAXl166kNAooFkOYUvQUBrENQj8whFQHc7m5MMzUNAwQK+SKMAQkCBtpWbNrhDQCx/sdrkTENAjiJcsUGGQ0CMKYELhe9CQG36ZKXt6UJAn0FKcWo+QkDO2QUzHp5CQLvDRX4jd0JAjtUu3HAQQ0D4i7sY6nJDQN8AJVYCU0RAyMJJZ5gtREAvg7+QFaFFQGMfaQvIDkVAwBaFJtBERUC0YFrzz8JEQLi8iEAANkhAeBtxIRg7R0CNQYFhzddGQBzQNMM6qkVAQJ/AhBVeR0A39Yf1HFpHQLzLSfi+4EdA4UHY1yRQSEAsd3lGtAVIQMAR4yoMQFVA8rpwudpgUkDefKi3QK5PQPh81pOUoUpAouLAbslATEA9YU/D0RlPQFrjcVvdulBAl3RyAcuKUUBmXZjoURNTQP/LMyu9elZAhR1ueNM2WUCBblaxCWRLQH5ebdw5x0tAZJ407mAkU0CA/7FvtABWQJlcOgSs6UtAzEMb/aCPS0DowZekB4pLQCDmjKOmY0FAQtfTMYRgSUDukORhAExJQAo1o58lpUlAGi4vwIMsQEA6/PvhEPFJQFbkLHkB9khABJiJvhE/SUBKWkvx8ddBQMqoERTa2kRAXHjExWFoQ0AWZFRWbqNIQJN7lBbdSkZA4hFsATfwREBN7PERythIQN0mbZw+R0ZAubvpPJTgOUDDfJ0rBGJAQBpbowcsoUBAwU48u9vZQEDokoRmTwwzQBjz15iYPD1Ag7OiD0xWQEDyPP0E+PRCQF2EhfHcoz9A6J8oJB+uQ0BIocXH7GFDQDojzSLCd0NAUyWCZ4u7OkDGkw1ydYJCQD3PFDfSKURAde4IUXDRRkCFn+K/jIFEQAlMEQ9makdAtbFGtxS5RUCGnH1Zm5FEQD3o5bnx9jxAK1qz41LSRECXCCoDZ+tAQIzg3z3vFktAPbGPEOQRUECIHJYBzi1CQLKcPKrXbD1AVNHBrv6hQEA0JkXHIHg6QKCS27b4CkFAqc3WxnHXP0AyF/Z5/fBCQH9V8gntQjtA/h/WaXY7OkCE+/m16yhBQNHUJZf16EJATr/HEZIVQEC05vbBUyFCQL/M8wFuskRASvDIxiISRUBbQraKB6Y9QH48wIC3AURA056CQrZTREDKO14uKu1EQKpEMGdXa0FARMp2PfD8QkBOYTh8oNpFQHwn0jxODkdAllFD9OH9Q0AWPd32BcZEQJiDo2pxQkVAruIsMgmAREAMvGjWhp5AQB1JdbInoj5Axp54ne7rQkDsRHA6swZFQEDZEJFgtUNAF1m2ZstCREAOvaRZm5NFQPKOUPxw20VAT51VtmBCQ0AickT3BOVCQHKIVDQWG0RAZKPUxr9aREC6ni9/Q1VBQG+MRCWlTUNA+lamejKwREDVxyZVyXlFQIkrRlffpENA2uQYkL+KQUDryU2J/ERDQCh+u5gRDURAq+KgvWo+QkA1HSMCOPRDQCPH+q2msURAj0HQ8sADRUB4mGRO/YZCQMVGdxdpjT5AMv5T/nrUQECVxh3/bodBQNssKlGDkD9AsFUg17GfQEBqTcsNBGVBQGqaSDkpBkFAzShusNA5O0Ckh/7JxQk9QLzzCPOUuD9AO8Z8HMXrQEC3I1p+z18/QLFMQhJkZ0BAr4J3gtd/P0APHR8Pbws+QCbzy7AtcTdAOLFCnZ73PkBhZG5rIYxAQFRCWSXZt0FAk8JF9djxQECG2RblpHtAQN3h58f/skBAcaeASFy2QED36A2XAVE+QPySVaA3GEJA4/9Qri4/Q0DfaLXdgnREQBHdzTPX6UNAldcyhc3RREBtdJXs1LdEQIbH88MXl0RAGEZjQbVjQ0BDDvx/9z1EQGwgyLk6MkRAiIcsDEQjREARbB/TDZ9CQLwhu3F8RENAhVMkGAYaQ0BKYCwQWfFCQMwp2Hf37EFASkV32ZARQkC46KvqS5NBQFZyW9b8EEFAKYl2+0gDP0A83H1JkatAQGGAYKM0KkFA2liWe+WxQUDi337h5JRBQOpE97oZ80BAmEUGxZ3pP0AnVQXFCtE9QN79hBpwZTpApzsnzfQdPEDjE3N7FMY8QNhHQVLMgz1A4ReaDKf0PEC0NFsWiFs+QFMNI6guCT9AY8tlxXG2P0AE9E1+d+4/QH/jhAm28j9ApHAYVF16P0AadUWib/Y+QHaBxwSffT1AmWp0iVR1PUDxS2xjaOM8QLG9TpoFVzxAZGrxuPYlO0CjC1PnNAU7QNDd5RPedTpAkwT94AblOUCLVHUlT6I4QJhCVQwdYzpAmHBwrAicO0DrVtadJOg8QJQSeKRb2z1AWjbi/91/P0B07rXoSWhAQI3u7Pq2D0FAiw4wQiOnQUBCH7+YAnlCQGfmthhYJkNAHKicmPzVQ0BEfkkHpWhEQCrk4M+rNUVAL+AjNYjsRUAX9bU8tJ5GQOO9+uj6QkdAUEzKiKhVREButhdF8ZVBQIFzXq6ZeT1A1h3ZYyUEN0AwMBFRBqQ4QPIdLmFJqDlA5oJsrNPGOkB8EMqG6Q47QNh4PBI4kTpAtHSJTrjzOUA7ptATXFQ5QDOxfpEEPzlAjnU6dbhJOUCHUlrKtDI5QKkB1y77FzlAYHHWZRU7OEDr3AaDZyo4QLvHMyj9+zdA6QpeHjTON0A8UioT4OY3QCIVY9Xn5zdAeDBley7NN0AJFac/W7U3QClO0wjELDdADIUJWoMIN0Ae9VHzBNs2QGCh5ysjuzZADBFs0rmxNkAYQ44kwp82QBfYBwsChjZA+1PFLrpnNkC9pXcFyws2QOmOoSg85DVAB40+BXnJNUDTCGUU+4I1QH50KPfsbDVANIg8G39rNUBawxYiTlM1QHr2a5pVMjVAku/gdTfsNEDFj0WJ8dE0QArklDISrTRALDTxyuuGNEDMO+T2RmQ0QJJvjeQpSTRAVjQzGoQgNECSHGuu+fozQI49eLnhzjNA9+NjZIK3M0C0DEYuWY8zQDCFt3traDNAMk7aHfxCM0AHOf4W7h8zQP6w5hnw9TJAEPlLOhrdMkCDNR/LDqsyQHeNoYalkjJAcvVM/yJjMkDwsCptuUoyQHo7guDVLDJA7iU4aC7GMUCyG20SqNMxQDA9w5mqxzFAQSMGyF6eMUCotVdr6IAxQLA4bNViXTFAMH3itEUrMUAK1UxXDRYxQBpKlHuE9TBA6GfK/e7NMEC8DL1sUbAwQKaA9PdNgDBAF657uaBoMEAtVWbIhkMwQLJef9EBIjBASkSfFUT3L0Dyn8YTErYvQCWV60UYbS9ALZDBIT8xL0B+jbZGjuYuQDUl7MYXqy5AWFC6pD1hLkBjNDPlcRcuQDmE2Qt6zC1A9ztN7YF+LUAEz/pQSD0tQOBZuznNAy1AHUSIPkC8LECDqfYeG2QsQM/QBvk/GyxAnLDzMp/nK0DwLo5hoYkrQJR/NVyPTytA0ItG5VwYK0BHDOFJ5NQqQNomODp0mypAt9ekJdtZKkBRzaXkTQsqQJUmtu3LzylAH05wYE+EKUCsRlpqQkcpQD/DUT7j/ShASslO2AilKEDgVA8TTUooQAZ0AlwUGihA4NCAFDK+J0A8HswIvpEnQH8ThJueUCdAyHz0RS4PJ0BI/6dw2NMmQHDdFkJfjCZAWa8Rp509JkDuBuXwBOclQAKk1Q8xoSVA5TMWts1UJUBrE2dQaCglQLqwmb4m4iRAZomiUW91JEB45XHDdGckQIT5KlxXHCRASPdy3gKjI0DZXjyyVmQjQPbXVXmcICNA",
          "dtype": "f8"
         },
         "yaxis": "y"
        }
       ],
       "layout": {
        "legend": {
         "title": {
          "text": "variable"
         },
         "tracegroupgap": 0
        },
        "template": {
         "data": {
          "bar": [
           {
            "error_x": {
             "color": "#2a3f5f"
            },
            "error_y": {
             "color": "#2a3f5f"
            },
            "marker": {
             "line": {
              "color": "#E5ECF6",
              "width": 0.5
             },
             "pattern": {
              "fillmode": "overlay",
              "size": 10,
              "solidity": 0.2
             }
            },
            "type": "bar"
           }
          ],
          "barpolar": [
           {
            "marker": {
             "line": {
              "color": "#E5ECF6",
              "width": 0.5
             },
             "pattern": {
              "fillmode": "overlay",
              "size": 10,
              "solidity": 0.2
             }
            },
            "type": "barpolar"
           }
          ],
          "carpet": [
           {
            "aaxis": {
             "endlinecolor": "#2a3f5f",
             "gridcolor": "white",
             "linecolor": "white",
             "minorgridcolor": "white",
             "startlinecolor": "#2a3f5f"
            },
            "baxis": {
             "endlinecolor": "#2a3f5f",
             "gridcolor": "white",
             "linecolor": "white",
             "minorgridcolor": "white",
             "startlinecolor": "#2a3f5f"
            },
            "type": "carpet"
           }
          ],
          "choropleth": [
           {
            "colorbar": {
             "outlinewidth": 0,
             "ticks": ""
            },
            "type": "choropleth"
           }
          ],
          "contour": [
           {
            "colorbar": {
             "outlinewidth": 0,
             "ticks": ""
            },
            "colorscale": [
             [
              0,
              "#0d0887"
             ],
             [
              0.1111111111111111,
              "#46039f"
             ],
             [
              0.2222222222222222,
              "#7201a8"
             ],
             [
              0.3333333333333333,
              "#9c179e"
             ],
             [
              0.4444444444444444,
              "#bd3786"
             ],
             [
              0.5555555555555556,
              "#d8576b"
             ],
             [
              0.6666666666666666,
              "#ed7953"
             ],
             [
              0.7777777777777778,
              "#fb9f3a"
             ],
             [
              0.8888888888888888,
              "#fdca26"
             ],
             [
              1,
              "#f0f921"
             ]
            ],
            "type": "contour"
           }
          ],
          "contourcarpet": [
           {
            "colorbar": {
             "outlinewidth": 0,
             "ticks": ""
            },
            "type": "contourcarpet"
           }
          ],
          "heatmap": [
           {
            "colorbar": {
             "outlinewidth": 0,
             "ticks": ""
            },
            "colorscale": [
             [
              0,
              "#0d0887"
             ],
             [
              0.1111111111111111,
              "#46039f"
             ],
             [
              0.2222222222222222,
              "#7201a8"
             ],
             [
              0.3333333333333333,
              "#9c179e"
             ],
             [
              0.4444444444444444,
              "#bd3786"
             ],
             [
              0.5555555555555556,
              "#d8576b"
             ],
             [
              0.6666666666666666,
              "#ed7953"
             ],
             [
              0.7777777777777778,
              "#fb9f3a"
             ],
             [
              0.8888888888888888,
              "#fdca26"
             ],
             [
              1,
              "#f0f921"
             ]
            ],
            "type": "heatmap"
           }
          ],
          "histogram": [
           {
            "marker": {
             "pattern": {
              "fillmode": "overlay",
              "size": 10,
              "solidity": 0.2
             }
            },
            "type": "histogram"
           }
          ],
          "histogram2d": [
           {
            "colorbar": {
             "outlinewidth": 0,
             "ticks": ""
            },
            "colorscale": [
             [
              0,
              "#0d0887"
             ],
             [
              0.1111111111111111,
              "#46039f"
             ],
             [
              0.2222222222222222,
              "#7201a8"
             ],
             [
              0.3333333333333333,
              "#9c179e"
             ],
             [
              0.4444444444444444,
              "#bd3786"
             ],
             [
              0.5555555555555556,
              "#d8576b"
             ],
             [
              0.6666666666666666,
              "#ed7953"
             ],
             [
              0.7777777777777778,
              "#fb9f3a"
             ],
             [
              0.8888888888888888,
              "#fdca26"
             ],
             [
              1,
              "#f0f921"
             ]
            ],
            "type": "histogram2d"
           }
          ],
          "histogram2dcontour": [
           {
            "colorbar": {
             "outlinewidth": 0,
             "ticks": ""
            },
            "colorscale": [
             [
              0,
              "#0d0887"
             ],
             [
              0.1111111111111111,
              "#46039f"
             ],
             [
              0.2222222222222222,
              "#7201a8"
             ],
             [
              0.3333333333333333,
              "#9c179e"
             ],
             [
              0.4444444444444444,
              "#bd3786"
             ],
             [
              0.5555555555555556,
              "#d8576b"
             ],
             [
              0.6666666666666666,
              "#ed7953"
             ],
             [
              0.7777777777777778,
              "#fb9f3a"
             ],
             [
              0.8888888888888888,
              "#fdca26"
             ],
             [
              1,
              "#f0f921"
             ]
            ],
            "type": "histogram2dcontour"
           }
          ],
          "mesh3d": [
           {
            "colorbar": {
             "outlinewidth": 0,
             "ticks": ""
            },
            "type": "mesh3d"
           }
          ],
          "parcoords": [
           {
            "line": {
             "colorbar": {
              "outlinewidth": 0,
              "ticks": ""
             }
            },
            "type": "parcoords"
           }
          ],
          "pie": [
           {
            "automargin": true,
            "type": "pie"
           }
          ],
          "scatter": [
           {
            "fillpattern": {
             "fillmode": "overlay",
             "size": 10,
             "solidity": 0.2
            },
            "type": "scatter"
           }
          ],
          "scatter3d": [
           {
            "line": {
             "colorbar": {
              "outlinewidth": 0,
              "ticks": ""
             }
            },
            "marker": {
             "colorbar": {
              "outlinewidth": 0,
              "ticks": ""
             }
            },
            "type": "scatter3d"
           }
          ],
          "scattercarpet": [
           {
            "marker": {
             "colorbar": {
              "outlinewidth": 0,
              "ticks": ""
             }
            },
            "type": "scattercarpet"
           }
          ],
          "scattergeo": [
           {
            "marker": {
             "colorbar": {
              "outlinewidth": 0,
              "ticks": ""
             }
            },
            "type": "scattergeo"
           }
          ],
          "scattergl": [
           {
            "marker": {
             "colorbar": {
              "outlinewidth": 0,
              "ticks": ""
             }
            },
            "type": "scattergl"
           }
          ],
          "scattermap": [
           {
            "marker": {
             "colorbar": {
              "outlinewidth": 0,
              "ticks": ""
             }
            },
            "type": "scattermap"
           }
          ],
          "scattermapbox": [
           {
            "marker": {
             "colorbar": {
              "outlinewidth": 0,
              "ticks": ""
             }
            },
            "type": "scattermapbox"
           }
          ],
          "scatterpolar": [
           {
            "marker": {
             "colorbar": {
              "outlinewidth": 0,
              "ticks": ""
             }
            },
            "type": "scatterpolar"
           }
          ],
          "scatterpolargl": [
           {
            "marker": {
             "colorbar": {
              "outlinewidth": 0,
              "ticks": ""
             }
            },
            "type": "scatterpolargl"
           }
          ],
          "scatterternary": [
           {
            "marker": {
             "colorbar": {
              "outlinewidth": 0,
              "ticks": ""
             }
            },
            "type": "scatterternary"
           }
          ],
          "surface": [
           {
            "colorbar": {
             "outlinewidth": 0,
             "ticks": ""
            },
            "colorscale": [
             [
              0,
              "#0d0887"
             ],
             [
              0.1111111111111111,
              "#46039f"
             ],
             [
              0.2222222222222222,
              "#7201a8"
             ],
             [
              0.3333333333333333,
              "#9c179e"
             ],
             [
              0.4444444444444444,
              "#bd3786"
             ],
             [
              0.5555555555555556,
              "#d8576b"
             ],
             [
              0.6666666666666666,
              "#ed7953"
             ],
             [
              0.7777777777777778,
              "#fb9f3a"
             ],
             [
              0.8888888888888888,
              "#fdca26"
             ],
             [
              1,
              "#f0f921"
             ]
            ],
            "type": "surface"
           }
          ],
          "table": [
           {
            "cells": {
             "fill": {
              "color": "#EBF0F8"
             },
             "line": {
              "color": "white"
             }
            },
            "header": {
             "fill": {
              "color": "#C8D4E3"
             },
             "line": {
              "color": "white"
             }
            },
            "type": "table"
           }
          ]
         },
         "layout": {
          "annotationdefaults": {
           "arrowcolor": "#2a3f5f",
           "arrowhead": 0,
           "arrowwidth": 1
          },
          "autotypenumbers": "strict",
          "coloraxis": {
           "colorbar": {
            "outlinewidth": 0,
            "ticks": ""
           }
          },
          "colorscale": {
           "diverging": [
            [
             0,
             "#8e0152"
            ],
            [
             0.1,
             "#c51b7d"
            ],
            [
             0.2,
             "#de77ae"
            ],
            [
             0.3,
             "#f1b6da"
            ],
            [
             0.4,
             "#fde0ef"
            ],
            [
             0.5,
             "#f7f7f7"
            ],
            [
             0.6,
             "#e6f5d0"
            ],
            [
             0.7,
             "#b8e186"
            ],
            [
             0.8,
             "#7fbc41"
            ],
            [
             0.9,
             "#4d9221"
            ],
            [
             1,
             "#276419"
            ]
           ],
           "sequential": [
            [
             0,
             "#0d0887"
            ],
            [
             0.1111111111111111,
             "#46039f"
            ],
            [
             0.2222222222222222,
             "#7201a8"
            ],
            [
             0.3333333333333333,
             "#9c179e"
            ],
            [
             0.4444444444444444,
             "#bd3786"
            ],
            [
             0.5555555555555556,
             "#d8576b"
            ],
            [
             0.6666666666666666,
             "#ed7953"
            ],
            [
             0.7777777777777778,
             "#fb9f3a"
            ],
            [
             0.8888888888888888,
             "#fdca26"
            ],
            [
             1,
             "#f0f921"
            ]
           ],
           "sequentialminus": [
            [
             0,
             "#0d0887"
            ],
            [
             0.1111111111111111,
             "#46039f"
            ],
            [
             0.2222222222222222,
             "#7201a8"
            ],
            [
             0.3333333333333333,
             "#9c179e"
            ],
            [
             0.4444444444444444,
             "#bd3786"
            ],
            [
             0.5555555555555556,
             "#d8576b"
            ],
            [
             0.6666666666666666,
             "#ed7953"
            ],
            [
             0.7777777777777778,
             "#fb9f3a"
            ],
            [
             0.8888888888888888,
             "#fdca26"
            ],
            [
             1,
             "#f0f921"
            ]
           ]
          },
          "colorway": [
           "#636efa",
           "#EF553B",
           "#00cc96",
           "#ab63fa",
           "#FFA15A",
           "#19d3f3",
           "#FF6692",
           "#B6E880",
           "#FF97FF",
           "#FECB52"
          ],
          "font": {
           "color": "#2a3f5f"
          },
          "geo": {
           "bgcolor": "white",
           "lakecolor": "white",
           "landcolor": "#E5ECF6",
           "showlakes": true,
           "showland": true,
           "subunitcolor": "white"
          },
          "hoverlabel": {
           "align": "left"
          },
          "hovermode": "closest",
          "mapbox": {
           "style": "light"
          },
          "paper_bgcolor": "white",
          "plot_bgcolor": "#E5ECF6",
          "polar": {
           "angularaxis": {
            "gridcolor": "white",
            "linecolor": "white",
            "ticks": ""
           },
           "bgcolor": "#E5ECF6",
           "radialaxis": {
            "gridcolor": "white",
            "linecolor": "white",
            "ticks": ""
           }
          },
          "scene": {
           "xaxis": {
            "backgroundcolor": "#E5ECF6",
            "gridcolor": "white",
            "gridwidth": 2,
            "linecolor": "white",
            "showbackground": true,
            "ticks": "",
            "zerolinecolor": "white"
           },
           "yaxis": {
            "backgroundcolor": "#E5ECF6",
            "gridcolor": "white",
            "gridwidth": 2,
            "linecolor": "white",
            "showbackground": true,
            "ticks": "",
            "zerolinecolor": "white"
           },
           "zaxis": {
            "backgroundcolor": "#E5ECF6",
            "gridcolor": "white",
            "gridwidth": 2,
            "linecolor": "white",
            "showbackground": true,
            "ticks": "",
            "zerolinecolor": "white"
           }
          },
          "shapedefaults": {
           "line": {
            "color": "#2a3f5f"
           }
          },
          "ternary": {
           "aaxis": {
            "gridcolor": "white",
            "linecolor": "white",
            "ticks": ""
           },
           "baxis": {
            "gridcolor": "white",
            "linecolor": "white",
            "ticks": ""
           },
           "bgcolor": "#E5ECF6",
           "caxis": {
            "gridcolor": "white",
            "linecolor": "white",
            "ticks": ""
           }
          },
          "title": {
           "x": 0.05
          },
          "xaxis": {
           "automargin": true,
           "gridcolor": "white",
           "linecolor": "white",
           "ticks": "",
           "title": {
            "standoff": 15
           },
           "zerolinecolor": "white",
           "zerolinewidth": 2
          },
          "yaxis": {
           "automargin": true,
           "gridcolor": "white",
           "linecolor": "white",
           "ticks": "",
           "title": {
            "standoff": 15
           },
           "zerolinecolor": "white",
           "zerolinewidth": 2
          }
         }
        },
        "title": {
         "text": "Forecast vs Actual"
        },
        "xaxis": {
         "anchor": "y",
         "domain": [
          0,
          1
         ],
         "title": {
          "text": "date"
         }
        },
        "yaxis": {
         "anchor": "x",
         "domain": [
          0,
          1
         ],
         "title": {
          "text": "PM2.5"
         }
        }
       }
      },
      "image/png": "[encoded data removed]"
     },
     "metadata": {},
     "output_type": "display_data"
    }
   ],
   "source": [
    "# Evaluate model\n",
    "\n",
    "mse, mae = evaluate_forecast(test, wfv_df[\"y_pred\"])\n",
    "\n",
    "print(f\"MSE: {mse}\")\n",
    "print(f\"MAE: {mae}\")\n",
    "\n",
    "# plot Evaluation\n",
    "\n",
    "plot_forecast(test, wfv_df[\"y_pred\"])"
   ]
  },
  {
   "cell_type": "code",
   "execution_count": null,
   "id": "66322157-c9a6-4b28-a430-aaa10b2d5e1f",
   "metadata": {},
   "outputs": [],
   "source": []
  }
 ],
 "metadata": {
  "kernelspec": {
   "display_name": "Python 3 (ipykernel)",
   "language": "python",
   "name": "python3"
  },
  "language_info": {
   "codemirror_mode": {
    "name": "ipython",
    "version": 3
   },
   "file_extension": ".py",
   "mimetype": "text/x-python",
   "name": "python",
   "nbconvert_exporter": "python",
   "pygments_lexer": "ipython3",
   "version": "3.12.7"
  }
 },
 "nbformat": 4,
 "nbformat_minor": 5
}
